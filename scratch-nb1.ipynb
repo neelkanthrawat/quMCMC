{
 "cells": [
  {
   "cell_type": "code",
   "execution_count": 1,
   "metadata": {},
   "outputs": [],
   "source": [
    "## import essential modules \n",
    "import qumcmc \n",
    "from qumcmc.basic_utils import *\n",
    "from qumcmc.energy_models import IsingEnergyFunction\n",
    "\n",
    "from qumcmc.classical_mcmc_routines import *\n",
    "from qumcmc.quantum_mcmc_routines_qulacs import *     #for Qulacs Simulator backend\n",
    "# from qumcmc.quantum_mcmc_routines_qulacs import quantum_enhanced_mcmc   #for qiskit Aer's Simulator backend \n",
    "\n",
    "from qumcmc.trajectory_processing import *"
   ]
  },
  {
   "cell_type": "code",
   "execution_count": 2,
   "metadata": {},
   "outputs": [],
   "source": [
    "to_binary = lambda state_obtained, n_spins : f\"{state_obtained:0{n_spins}b}\""
   ]
  },
  {
   "cell_type": "code",
   "execution_count": 3,
   "metadata": {},
   "outputs": [],
   "source": [
    "# define the model\n",
    "np.random.seed(610358)# should always be in the same cell!  \n",
    "n_spins = 10\n",
    "\n",
    "## construct problem Hamiltonian ##\n",
    "shape_of_J=(n_spins,n_spins)\n",
    "\n",
    "## defining J matrix (mutual 1-1 interaction)\n",
    "# J =  np.round(np.random.choice([+1, 0, -1], size=(n_spins, n_spins)), decimals=2) \n",
    "J =  np.random.uniform(low= -2, high= 2, size= shape_of_J )\n",
    "\n",
    "J = 0.5 * (J + J.transpose() )\n",
    "J = np.round( J - np.diag(np.diag(J)) , decimals= 3)\n",
    "\n",
    "# defining h\n",
    "h = np.round(0.5 * np.random.randn(n_spins), decimals=2)\n",
    "#h = np.round(np.random.uniform(low= -1, high = 1, size= (n_spins)), decimals=2)\n",
    "\n",
    "# instantiate the model\n",
    "model = IsingEnergyFunction(J, h, name= 'my_model')\n"
   ]
  },
  {
   "cell_type": "code",
   "execution_count": 141,
   "metadata": {},
   "outputs": [
    {
     "name": "stdout",
     "output_type": "stream",
     "text": [
      "Running Exact Sampling | Model beta :  1.100209\n"
     ]
    },
    {
     "name": "stderr",
     "output_type": "stream",
     "text": [
      "running over all possible configurations: 100%|██████████| 1024/1024 [00:00<00:00, 2640.07it/s]"
     ]
    },
    {
     "name": "stdout",
     "output_type": "stream",
     "text": [
      "saving distribution to model ...\n"
     ]
    },
    {
     "name": "stderr",
     "output_type": "stream",
     "text": [
      "\n"
     ]
    }
   ],
   "source": [
    "## set current beta\n",
    "beta = 1.100209\n",
    "\n",
    "## run exact sampling over all possible configurations \n",
    "model.run_exact_sampling(beta)"
   ]
  },
  {
   "cell_type": "code",
   "execution_count": null,
   "metadata": {},
   "outputs": [],
   "source": []
  },
  {
   "attachments": {},
   "cell_type": "markdown",
   "metadata": {},
   "source": [
    "#### Qulacs Exps"
   ]
  },
  {
   "cell_type": "code",
   "execution_count": 176,
   "metadata": {},
   "outputs": [
    {
     "name": "stdout",
     "output_type": "stream",
     "text": [
      "qubit_count 2\n",
      "zero_prob_1 0.14831580678487433\n"
     ]
    }
   ],
   "source": [
    "from qulacs import QuantumState\n",
    "\n",
    "n = 2\n",
    "state = QuantumState(n)\n",
    "state.set_Haar_random_state(0)\n",
    "\n",
    "# Get quantum bit numbers\n",
    "qubit_count = state.get_qubit_count()\n",
    "print(\"qubit_count\", qubit_count)\n",
    "\n",
    "# Get the probability that the specified qubit will be measured as 0\n",
    "prob = state.get_zero_probability(1)\n",
    "print(\"zero_prob_1\", prob)\n"
   ]
  },
  {
   "cell_type": "code",
   "execution_count": 6,
   "metadata": {},
   "outputs": [
    {
     "data": {
      "text/plain": [
       "(0.2637259526321412, array([0.26372595, 0.28065001, 0.44726233, 0.80724259]))"
      ]
     },
     "execution_count": 6,
     "metadata": {},
     "output_type": "execute_result"
    }
   ],
   "source": [
    "np.absolute(state.get_amplitude(0)) , np.absolute( state.get_vector())"
   ]
  },
  {
   "cell_type": "code",
   "execution_count": 7,
   "metadata": {},
   "outputs": [
    {
     "data": {
      "text/plain": [
       "0.8516841932151257"
      ]
     },
     "execution_count": 7,
     "metadata": {},
     "output_type": "execute_result"
    }
   ],
   "source": [
    "1 - state.get_zero_probability(1)"
   ]
  },
  {
   "cell_type": "code",
   "execution_count": 8,
   "metadata": {},
   "outputs": [
    {
     "name": "stdout",
     "output_type": "stream",
     "text": [
      "marginal_prob 0.8516841932151257\n"
     ]
    }
   ],
   "source": [
    "\n",
    "# Get arbitrary marginal probabilities\n",
    "# Argument is an array of the same length as the number of qubits\n",
    "# Specify 0,1,2. 0,1 is the probability of the subscript measured at that value\n",
    "# 2 means that bit is peripheralized.\n",
    "# For example, calculation of the probability that the third is measured as 0 and the 0th is measured as 1:\n",
    "prob = state.get_marginal_probability([2,1])\n",
    "print(\"marginal_prob\", prob)\n"
   ]
  },
  {
   "cell_type": "code",
   "execution_count": 9,
   "metadata": {},
   "outputs": [
    {
     "name": "stdout",
     "output_type": "stream",
     "text": [
      "entropy 0.9865530516551664\n",
      "sqaured_norm 1.0\n",
      "sampling [3, 2, 2, 3, 2, 3, 2, 3, 2, 3]\n",
      "device cpu\n"
     ]
    }
   ],
   "source": [
    "\n",
    "# Get the entropy of the probability distribution when measured on the Z basis\n",
    "ent = state.get_entropy()\n",
    "print(\"entropy\", ent)\n",
    "\n",
    "# Get squared norm (<a|a>)\n",
    "# Because the operation maybe not Trace preserving, the norm of state does not necessarily to be 1.\n",
    "sq_norm = state.get_squared_norm()\n",
    "print(\"sqaured_norm\", sq_norm)\n",
    "\n",
    "# The number of measurements and sampling of all qubits Z-basis is given by the argument.\n",
    "# Get a list of integers converted from the resulting binaries.\n",
    "samples = state.sampling(10)\n",
    "print(\"sampling\", samples)\n",
    "\n",
    "# Get a character string indicating whether the state vector is on CPU or GPU\n",
    "dev_type = state.get_device_name()\n",
    "print(\"device\", dev_type)"
   ]
  },
  {
   "cell_type": "code",
   "execution_count": 177,
   "metadata": {},
   "outputs": [
    {
     "data": {
      "text/plain": [
       "['11', '10', '10', '11', '10', '11', '10', '11', '10', '11']"
      ]
     },
     "execution_count": 177,
     "metadata": {},
     "output_type": "execute_result"
    }
   ],
   "source": [
    "[to_binary(s,2) for s in samples]"
   ]
  },
  {
   "cell_type": "code",
   "execution_count": 183,
   "metadata": {},
   "outputs": [
    {
     "data": {
      "text/plain": [
       "'10'"
      ]
     },
     "execution_count": 183,
     "metadata": {},
     "output_type": "execute_result"
    }
   ],
   "source": [
    "f\"{state.sampling(1)[0]:0{2}b}\" "
   ]
  },
  {
   "attachments": {},
   "cell_type": "markdown",
   "metadata": {},
   "source": [
    "#### Prepare new data objects"
   ]
  },
  {
   "cell_type": "code",
   "execution_count": 110,
   "metadata": {},
   "outputs": [],
   "source": [
    "@dataclass\n",
    "class MCMCState:\n",
    "    \n",
    "    var: str\n",
    "    fixed: str\n",
    "    \n",
    "    accepted: bool = False\n",
    "    \n",
    "    def __post_init__(self):\n",
    "        self.bitstring = self.var + self.fixed\n",
    "        self.len_var = len(self.var)\n",
    "        self.len_fixed = len(self.fixed)\n",
    "        self.len = len(self.bitstring)\n",
    "    \n",
    "    def _update_var(self, new_state:str):\n",
    "        if len(new_state) == self.len_var:\n",
    "            self.var = new_state\n",
    "            self.bitstring = self.var + self.fixed\n",
    "        else : raise ValueError(\"Updated 'var' should be of len \"+str(self.len_var))\n",
    "    "
   ]
  },
  {
   "cell_type": "code",
   "execution_count": null,
   "metadata": {},
   "outputs": [],
   "source": []
  },
  {
   "attachments": {},
   "cell_type": "markdown",
   "metadata": {},
   "source": [
    "#### Modify `run_qc_quantum_step`"
   ]
  },
  {
   "cell_type": "code",
   "execution_count": 21,
   "metadata": {},
   "outputs": [],
   "source": [
    "d = MCMCState('10101', '110' , True)"
   ]
  },
  {
   "attachments": {},
   "cell_type": "markdown",
   "metadata": {},
   "source": [
    "#### Creating new class for Sampling"
   ]
  },
  {
   "cell_type": "code",
   "execution_count": 236,
   "metadata": {},
   "outputs": [],
   "source": [
    "from typing import Union\n",
    "\n",
    "@dataclass\n",
    "class RestrictedSampling:\n",
    "        \n",
    "        model : IsingEnergyFunction\n",
    "        # iterations : int = 10000\n",
    "        temperature : float = 1.00\n",
    "        initial_state : Optional[Union[ str, MCMCState]] = None\n",
    "        \n",
    "                \n",
    "        def __post_init__(self):\n",
    "                \n",
    "                if self.initial_state is None : \n",
    "                        self.initial_state = MCMCState(get_random_state(model.num_spins), accepted=True)\n",
    "                elif not isinstance(self.initial_state, MCMCState):\n",
    "                        self.initial_state = MCMCState(self.initial_state, accepted=True)\n",
    "                \n",
    "                self.current_state: MCMCState = self.initial_state\n",
    "                \n",
    "                self.mcmc_chain: MCMCChain = MCMCChain([self.current_state])\n",
    "\n",
    "                self.len_var = self.current_state.len_var; self.len_fixed = self.current_state.len_fixed \n",
    "        \n",
    "\n",
    "        def run_classical_mcmc(self, iterations):\n",
    "                \n",
    "                energy_s = model.get_energy(self.current_state.bitstring)\n",
    "                print('current state: ', self.current_state)\n",
    "                for _ in tqdm(range(0, iterations), desc= 'running MCMC steps ...'):\n",
    "                        # get sprime #\n",
    "                        s_prime = MCMCState(get_random_state(self.current_state.len_var  ), self.current_state.fixed)\n",
    "                        print('s_prime:', s_prime)\n",
    "                        \n",
    "                        # accept/reject s_prime\n",
    "                        energy_sprime = model.get_energy(s_prime.bitstring)   # to make this scalable, I think you need to calculate energy ratios.\n",
    "                        accepted = test_accept(\n",
    "                        energy_s, energy_sprime, temperature=self.temperature\n",
    "                        )\n",
    "                        if accepted:\n",
    "                                s_prime.accepted = accepted\n",
    "                                self.current_state = s_prime\n",
    "                                print('current state: ', self.current_state)\n",
    "                                energy_s = model.get_energy(self.current_state.bitstring)\n",
    "                        \n",
    "                        self.mcmc_chain.add_state(s_prime)\n",
    "\n",
    "                return self.mcmc_chain\n",
    "\n",
    "        def _get_quantum_proposition():\n",
    "                pass\n",
    "        def run_quantum_enhanced_mcmc(self, iterations):\n",
    "\n",
    "                energy_s = model.get_energy(self.current_state.bitstring)\n",
    "                print('current state: ', self.current_state)\n",
    "                qc_s = initialise_qc(n_spins= model.num_spins, bitstring= self.current_state.bitstring )\n",
    "                for _ in tqdm(range(0, iterations), desc='runnning quantum MCMC steps . ..' ):\n",
    "                        \n",
    "                        # get sprime #\n",
    "                        qc_s = initialise_qc(n_spins= model.num_spins, bitstring=self.current_state.bitstring)\n",
    "                        s_prime = run_qc_quantum_step(\n",
    "                        qc_initialised_to_s=qc_s, model=model\n",
    "                        )\n",
    "                        s_prime = MCMCState(s_prime[:self.len_var], s_prime[self.len_var:])\n",
    "\n",
    "\n",
    "                        # accept/reject s_prime\n",
    "                        energy_sprime = model.get_energy(s_prime.bitstring)\n",
    "                        accepted = test_accept(\n",
    "                        energy_s, energy_sprime, temperature=self.temperature\n",
    "                        )\n",
    "                        if accepted:\n",
    "                                s_prime.accepted = accepted\n",
    "                                self.current_state = s_prime\n",
    "                                print('current state: ', self.current_state)\n",
    "                                energy_s = model.get_energy(self.current_state.bitstring)\n",
    "                        \n",
    "                        self.mcmc_chain.add_state(s_prime)\n",
    "                                \n",
    "\n",
    "                return self.mcmc_chain \n",
    "                \n",
    "\n"
   ]
  },
  {
   "cell_type": "code",
   "execution_count": 225,
   "metadata": {},
   "outputs": [],
   "source": [
    "def run_qc_quantum_step(\n",
    "    qc_initialised_to_s: QuantumCircuit, model: IsingEnergyFunction, check_fixed: bool = True, max_checks: int = 100\n",
    ") -> str:\n",
    "\n",
    "    \"\"\"\n",
    "    Takes in a qc initialized to some state \"s\". After performing unitary evolution U=exp(-iHt)\n",
    "    , circuit is measured once. Function returns the bitstring s', the measured state .\n",
    "\n",
    "    ARGS:\n",
    "    ----\n",
    "    qc_initialised_to_s:\n",
    "    model:\n",
    "    \n",
    "    \"\"\"\n",
    "\n",
    "    h = model.get_h\n",
    "    J = model.get_J\n",
    "\n",
    "    # init_qc=initialise_qc(model.num_spins=model.num_spins, bitstring='1'*model.num_spins)\n",
    "    gamma = np.round(np.random.uniform(0.25, 0.6), decimals=2)\n",
    "    time = np.random.choice(list(range(2, 12)))  # earlier I had [2,20]\n",
    "    delta_time = 0.8 \n",
    "    num_trotter_steps = int(np.floor((time / delta_time)))\n",
    "    qc_evol_h1 = fn_qc_h1(model.num_spins, gamma, model.alpha, h, delta_time)\n",
    "    qc_evol_h2 = fn_qc_h2(J, model.alpha, gamma, delta_time=delta_time)\n",
    "    trotter_ckt = trottered_qc_for_transition(\n",
    "        model.num_spins, qc_evol_h1, qc_evol_h2, num_trotter_steps=num_trotter_steps\n",
    "    )\n",
    "    qc_for_mcmc = combine_2_qc(qc_initialised_to_s, trotter_ckt)# i can get rid of this!\n",
    "    # run the circuit ##\n",
    "    q_state=QuantumState(qubit_count=model.num_spins)\n",
    "    q_state.set_zero_state()\n",
    "    qc_for_mcmc.update_quantum_state(q_state)\n",
    "\n",
    "    if check_fixed :\n",
    "        ## repeats sampling untill right fixed state is found ##\n",
    "        right_sample = False; checks= 0\n",
    "        while not right_sample and checks < max_checks:\n",
    "            state_obtained= q_state.sampling(sampling_count= 1)[0] ; checks+= 1\n",
    "            if check_fixed_state( f\"{state_obtained:0{model.num_spins}b}\" ) : right_sample = True\n",
    "            \n",
    "    else :\n",
    "        state_obtained= q_state.sampling(sampling_count= 1)[0]\n",
    "\n",
    "    # state_obtained= [f\"{state:0{model.num_spins}b}\" for state in state_obtained]\n",
    "    return f\"{state_obtained:0{model.num_spins}b}\"\n"
   ]
  },
  {
   "cell_type": "code",
   "execution_count": 237,
   "metadata": {},
   "outputs": [],
   "source": [
    "qc_s = initialise_qc(n_spins= model.num_spins, bitstring= state.bitstring)"
   ]
  },
  {
   "cell_type": "code",
   "execution_count": 238,
   "metadata": {},
   "outputs": [],
   "source": [
    "check_fixed_state = lambda bitstr : bitstr[ -state.len_fixed: ] == state.fixed"
   ]
  },
  {
   "cell_type": "code",
   "execution_count": 239,
   "metadata": {},
   "outputs": [
    {
     "data": {
      "text/plain": [
       "'1010011110'"
      ]
     },
     "execution_count": 239,
     "metadata": {},
     "output_type": "execute_result"
    }
   ],
   "source": [
    "run_qc_quantum_step(qc_s, model)"
   ]
  },
  {
   "cell_type": "code",
   "execution_count": 240,
   "metadata": {},
   "outputs": [],
   "source": [
    "state = MCMCState('101001','1110', accepted= True)"
   ]
  },
  {
   "cell_type": "code",
   "execution_count": 241,
   "metadata": {},
   "outputs": [],
   "source": [
    "rs1 = RestrictedSampling(model, temperature= 1./beta, initial_state= state)"
   ]
  },
  {
   "cell_type": "code",
   "execution_count": 247,
   "metadata": {},
   "outputs": [],
   "source": [
    "smpld_dct = smp.get_accepted_dict(normalize=True)"
   ]
  },
  {
   "cell_type": "code",
   "execution_count": 248,
   "metadata": {},
   "outputs": [
    {
     "data": {
      "text/plain": [
       "Counter({'1010011110': 0.013157894736842105,\n",
       "         '0010111110': 0.2236842105263158,\n",
       "         '1010101110': 0.039473684210526314,\n",
       "         '1010111110': 0.13157894736842105,\n",
       "         '1110111110': 0.013157894736842105,\n",
       "         '0110111110': 0.5789473684210527})"
      ]
     },
     "execution_count": 248,
     "metadata": {},
     "output_type": "execute_result"
    }
   ],
   "source": [
    "smpld_dct"
   ]
  },
  {
   "cell_type": "code",
   "execution_count": 246,
   "metadata": {},
   "outputs": [
    {
     "name": "stdout",
     "output_type": "stream",
     "text": [
      "current state:  MCMCState(var='001011', fixed='1110', accepted=True)\n"
     ]
    },
    {
     "name": "stderr",
     "output_type": "stream",
     "text": [
      "runnning quantum MCMC steps . ..:   1%|          | 1/100 [00:00<00:13,  7.54it/s]"
     ]
    },
    {
     "name": "stdout",
     "output_type": "stream",
     "text": [
      "current state:  MCMCState(var='101011', fixed='1110', accepted=True)\n"
     ]
    },
    {
     "name": "stderr",
     "output_type": "stream",
     "text": [
      "runnning quantum MCMC steps . ..:   3%|▎         | 3/100 [00:00<00:08, 12.05it/s]"
     ]
    },
    {
     "name": "stdout",
     "output_type": "stream",
     "text": [
      "current state:  MCMCState(var='011011', fixed='1110', accepted=True)\n",
      "current state:  MCMCState(var='011011', fixed='1110', accepted=True)\n"
     ]
    },
    {
     "name": "stderr",
     "output_type": "stream",
     "text": [
      "runnning quantum MCMC steps . ..:  11%|█         | 11/100 [00:00<00:04, 18.82it/s]"
     ]
    },
    {
     "name": "stdout",
     "output_type": "stream",
     "text": [
      "current state:  MCMCState(var='011011', fixed='1110', accepted=True)\n"
     ]
    },
    {
     "name": "stderr",
     "output_type": "stream",
     "text": [
      "runnning quantum MCMC steps . ..:  20%|██        | 20/100 [00:01<00:03, 22.69it/s]"
     ]
    },
    {
     "name": "stdout",
     "output_type": "stream",
     "text": [
      "current state:  MCMCState(var='011011', fixed='1110', accepted=True)\n",
      "current state:  MCMCState(var='011011', fixed='1110', accepted=True)\n"
     ]
    },
    {
     "name": "stderr",
     "output_type": "stream",
     "text": [
      "runnning quantum MCMC steps . ..:  27%|██▋       | 27/100 [00:01<00:02, 24.37it/s]"
     ]
    },
    {
     "name": "stdout",
     "output_type": "stream",
     "text": [
      "current state:  MCMCState(var='011011', fixed='1110', accepted=True)\n",
      "current state:  MCMCState(var='011011', fixed='1110', accepted=True)\n",
      "current state:  MCMCState(var='001011', fixed='1110', accepted=True)\n"
     ]
    },
    {
     "name": "stderr",
     "output_type": "stream",
     "text": [
      "runnning quantum MCMC steps . ..:  30%|███       | 30/100 [00:01<00:03, 19.96it/s]"
     ]
    },
    {
     "name": "stdout",
     "output_type": "stream",
     "text": [
      "current state:  MCMCState(var='001011', fixed='1110', accepted=True)\n"
     ]
    },
    {
     "name": "stderr",
     "output_type": "stream",
     "text": [
      "runnning quantum MCMC steps . ..:  37%|███▋      | 37/100 [00:01<00:02, 23.52it/s]"
     ]
    },
    {
     "name": "stdout",
     "output_type": "stream",
     "text": [
      "current state:  MCMCState(var='011011', fixed='1110', accepted=True)\n"
     ]
    },
    {
     "name": "stderr",
     "output_type": "stream",
     "text": [
      "runnning quantum MCMC steps . ..:  43%|████▎     | 43/100 [00:02<00:02, 23.32it/s]"
     ]
    },
    {
     "name": "stdout",
     "output_type": "stream",
     "text": [
      "current state:  MCMCState(var='011011', fixed='1110', accepted=True)\n",
      "current state:  MCMCState(var='011011', fixed='1110', accepted=True)\n"
     ]
    },
    {
     "name": "stderr",
     "output_type": "stream",
     "text": [
      "runnning quantum MCMC steps . ..:  46%|████▌     | 46/100 [00:02<00:02, 19.95it/s]"
     ]
    },
    {
     "name": "stdout",
     "output_type": "stream",
     "text": [
      "current state:  MCMCState(var='011011', fixed='1110', accepted=True)\n",
      "current state:  MCMCState(var='011011', fixed='1110', accepted=True)\n",
      "current state:  MCMCState(var='011011', fixed='1110', accepted=True)\n",
      "current state:  MCMCState(var='101011', fixed='1110', accepted=True)\n",
      "current state:  MCMCState(var='001011', fixed='1110', accepted=True)\n"
     ]
    },
    {
     "name": "stderr",
     "output_type": "stream",
     "text": [
      "runnning quantum MCMC steps . ..:  52%|█████▏    | 52/100 [00:02<00:02, 22.00it/s]"
     ]
    },
    {
     "name": "stdout",
     "output_type": "stream",
     "text": [
      "current state:  MCMCState(var='001011', fixed='1110', accepted=True)\n",
      "current state:  MCMCState(var='001011', fixed='1110', accepted=True)\n",
      "current state:  MCMCState(var='001011', fixed='1110', accepted=True)\n",
      "current state:  MCMCState(var='011011', fixed='1110', accepted=True)\n"
     ]
    },
    {
     "name": "stderr",
     "output_type": "stream",
     "text": [
      "runnning quantum MCMC steps . ..:  64%|██████▍   | 64/100 [00:02<00:01, 24.67it/s]"
     ]
    },
    {
     "name": "stdout",
     "output_type": "stream",
     "text": [
      "current state:  MCMCState(var='101011', fixed='1110', accepted=True)\n",
      "current state:  MCMCState(var='001011', fixed='1110', accepted=True)\n"
     ]
    },
    {
     "name": "stderr",
     "output_type": "stream",
     "text": [
      "runnning quantum MCMC steps . ..:  70%|███████   | 70/100 [00:03<00:01, 23.50it/s]"
     ]
    },
    {
     "name": "stdout",
     "output_type": "stream",
     "text": [
      "current state:  MCMCState(var='011011', fixed='1110', accepted=True)\n",
      "current state:  MCMCState(var='001011', fixed='1110', accepted=True)\n"
     ]
    },
    {
     "name": "stderr",
     "output_type": "stream",
     "text": [
      "runnning quantum MCMC steps . ..:  80%|████████  | 80/100 [00:03<00:00, 23.37it/s]"
     ]
    },
    {
     "name": "stdout",
     "output_type": "stream",
     "text": [
      "current state:  MCMCState(var='011011', fixed='1110', accepted=True)\n"
     ]
    },
    {
     "name": "stderr",
     "output_type": "stream",
     "text": [
      "runnning quantum MCMC steps . ..:  86%|████████▌ | 86/100 [00:03<00:00, 20.88it/s]"
     ]
    },
    {
     "name": "stdout",
     "output_type": "stream",
     "text": [
      "current state:  MCMCState(var='011011', fixed='1110', accepted=True)\n",
      "current state:  MCMCState(var='011011', fixed='1110', accepted=True)\n",
      "current state:  MCMCState(var='011011', fixed='1110', accepted=True)\n"
     ]
    },
    {
     "name": "stderr",
     "output_type": "stream",
     "text": [
      "runnning quantum MCMC steps . ..:  89%|████████▉ | 89/100 [00:04<00:00, 19.93it/s]"
     ]
    },
    {
     "name": "stdout",
     "output_type": "stream",
     "text": [
      "current state:  MCMCState(var='101011', fixed='1110', accepted=True)\n",
      "current state:  MCMCState(var='101011', fixed='1110', accepted=True)\n"
     ]
    },
    {
     "name": "stderr",
     "output_type": "stream",
     "text": [
      "runnning quantum MCMC steps . ..:  95%|█████████▌| 95/100 [00:04<00:00, 20.59it/s]"
     ]
    },
    {
     "name": "stdout",
     "output_type": "stream",
     "text": [
      "current state:  MCMCState(var='101010', fixed='1110', accepted=True)\n",
      "current state:  MCMCState(var='011011', fixed='1110', accepted=True)\n",
      "current state:  MCMCState(var='011011', fixed='1110', accepted=True)\n"
     ]
    },
    {
     "name": "stderr",
     "output_type": "stream",
     "text": [
      "runnning quantum MCMC steps . ..: 100%|██████████| 100/100 [00:04<00:00, 21.49it/s]"
     ]
    },
    {
     "name": "stdout",
     "output_type": "stream",
     "text": [
      "current state:  MCMCState(var='011011', fixed='1110', accepted=True)\n"
     ]
    },
    {
     "name": "stderr",
     "output_type": "stream",
     "text": [
      "\n"
     ]
    }
   ],
   "source": [
    "smp = rs1.run_quantum_enhanced_mcmc(iterations= 100)"
   ]
  },
  {
   "cell_type": "code",
   "execution_count": 245,
   "metadata": {},
   "outputs": [
    {
     "data": {
      "text/plain": [
       "MCMCChain()"
      ]
     },
     "execution_count": 245,
     "metadata": {},
     "output_type": "execute_result"
    }
   ],
   "source": [
    "rs1.mcmc_chain"
   ]
  },
  {
   "cell_type": "code",
   "execution_count": 144,
   "metadata": {},
   "outputs": [
    {
     "name": "stdout",
     "output_type": "stream",
     "text": [
      "current state:  MCMCState(var='101001', fixed='1110', accepted=True)\n"
     ]
    },
    {
     "name": "stderr",
     "output_type": "stream",
     "text": [
      "running MCMC steps ...: 100%|██████████| 100/100 [00:01<00:00, 73.50it/s]"
     ]
    },
    {
     "name": "stdout",
     "output_type": "stream",
     "text": [
      "s_prime: MCMCState(var='010100', fixed='1110', accepted=False)\n",
      "s_prime: MCMCState(var='100111', fixed='1110', accepted=False)\n",
      "s_prime: MCMCState(var='000100', fixed='1110', accepted=False)\n",
      "s_prime: MCMCState(var='011001', fixed='1110', accepted=False)\n",
      "s_prime: MCMCState(var='110001', fixed='1110', accepted=False)\n",
      "s_prime: MCMCState(var='000000', fixed='1110', accepted=False)\n",
      "s_prime: MCMCState(var='110000', fixed='1110', accepted=False)\n",
      "s_prime: MCMCState(var='110110', fixed='1110', accepted=False)\n",
      "s_prime: MCMCState(var='101011', fixed='1110', accepted=False)\n",
      "current state:  MCMCState(var='101011', fixed='1110', accepted=True)\n",
      "s_prime: MCMCState(var='111100', fixed='1110', accepted=False)\n",
      "s_prime: MCMCState(var='100000', fixed='1110', accepted=False)\n",
      "s_prime: MCMCState(var='010000', fixed='1110', accepted=False)\n",
      "s_prime: MCMCState(var='110111', fixed='1110', accepted=False)\n",
      "s_prime: MCMCState(var='101000', fixed='1110', accepted=False)\n",
      "s_prime: MCMCState(var='111111', fixed='1110', accepted=False)\n",
      "s_prime: MCMCState(var='010111', fixed='1110', accepted=False)\n",
      "s_prime: MCMCState(var='111110', fixed='1110', accepted=False)\n",
      "s_prime: MCMCState(var='111001', fixed='1110', accepted=False)\n",
      "s_prime: MCMCState(var='101011', fixed='1110', accepted=False)\n",
      "current state:  MCMCState(var='101011', fixed='1110', accepted=True)\n",
      "s_prime: MCMCState(var='010101', fixed='1110', accepted=False)\n",
      "s_prime: MCMCState(var='101011', fixed='1110', accepted=False)\n",
      "current state:  MCMCState(var='101011', fixed='1110', accepted=True)\n",
      "s_prime: MCMCState(var='101000', fixed='1110', accepted=False)\n",
      "s_prime: MCMCState(var='100100', fixed='1110', accepted=False)\n",
      "s_prime: MCMCState(var='111000', fixed='1110', accepted=False)\n",
      "s_prime: MCMCState(var='110000', fixed='1110', accepted=False)\n",
      "s_prime: MCMCState(var='110000', fixed='1110', accepted=False)\n",
      "s_prime: MCMCState(var='011000', fixed='1110', accepted=False)\n",
      "s_prime: MCMCState(var='111111', fixed='1110', accepted=False)\n",
      "s_prime: MCMCState(var='000101', fixed='1110', accepted=False)\n",
      "s_prime: MCMCState(var='010011', fixed='1110', accepted=False)\n",
      "s_prime: MCMCState(var='010000', fixed='1110', accepted=False)\n",
      "s_prime: MCMCState(var='100000', fixed='1110', accepted=False)\n",
      "s_prime: MCMCState(var='101100', fixed='1110', accepted=False)\n",
      "s_prime: MCMCState(var='101001', fixed='1110', accepted=False)\n",
      "s_prime: MCMCState(var='000001', fixed='1110', accepted=False)\n",
      "s_prime: MCMCState(var='100101', fixed='1110', accepted=False)\n",
      "s_prime: MCMCState(var='010110', fixed='1110', accepted=False)\n",
      "s_prime: MCMCState(var='011011', fixed='1110', accepted=False)\n",
      "current state:  MCMCState(var='011011', fixed='1110', accepted=True)\n",
      "s_prime: MCMCState(var='001000', fixed='1110', accepted=False)\n",
      "s_prime: MCMCState(var='010111', fixed='1110', accepted=False)\n",
      "s_prime: MCMCState(var='110110', fixed='1110', accepted=False)\n",
      "s_prime: MCMCState(var='010001', fixed='1110', accepted=False)\n",
      "s_prime: MCMCState(var='110001', fixed='1110', accepted=False)\n",
      "s_prime: MCMCState(var='001111', fixed='1110', accepted=False)\n",
      "s_prime: MCMCState(var='100000', fixed='1110', accepted=False)\n",
      "s_prime: MCMCState(var='010111', fixed='1110', accepted=False)\n",
      "s_prime: MCMCState(var='011001', fixed='1110', accepted=False)\n",
      "s_prime: MCMCState(var='001100', fixed='1110', accepted=False)\n",
      "s_prime: MCMCState(var='110010', fixed='1110', accepted=False)\n",
      "s_prime: MCMCState(var='011100', fixed='1110', accepted=False)\n",
      "s_prime: MCMCState(var='000110', fixed='1110', accepted=False)\n",
      "s_prime: MCMCState(var='110001', fixed='1110', accepted=False)\n",
      "s_prime: MCMCState(var='111000', fixed='1110', accepted=False)\n",
      "s_prime: MCMCState(var='100001', fixed='1110', accepted=False)\n",
      "s_prime: MCMCState(var='010101', fixed='1110', accepted=False)\n",
      "s_prime: MCMCState(var='010110', fixed='1110', accepted=False)\n",
      "s_prime: MCMCState(var='010000', fixed='1110', accepted=False)\n",
      "s_prime: MCMCState(var='101001', fixed='1110', accepted=False)\n",
      "s_prime: MCMCState(var='101010', fixed='1110', accepted=False)\n",
      "s_prime: MCMCState(var='011000', fixed='1110', accepted=False)\n",
      "s_prime: MCMCState(var='111100', fixed='1110', accepted=False)\n",
      "s_prime: MCMCState(var='001110', fixed='1110', accepted=False)\n",
      "s_prime: MCMCState(var='011010', fixed='1110', accepted=False)\n",
      "s_prime: MCMCState(var='101100', fixed='1110', accepted=False)\n",
      "s_prime: MCMCState(var='000011', fixed='1110', accepted=False)\n",
      "s_prime: MCMCState(var='000110', fixed='1110', accepted=False)\n",
      "s_prime: MCMCState(var='000111', fixed='1110', accepted=False)\n",
      "s_prime: MCMCState(var='101000', fixed='1110', accepted=False)\n",
      "s_prime: MCMCState(var='001011', fixed='1110', accepted=False)\n",
      "current state:  MCMCState(var='001011', fixed='1110', accepted=True)\n",
      "s_prime: MCMCState(var='000010', fixed='1110', accepted=False)\n",
      "s_prime: MCMCState(var='001010', fixed='1110', accepted=False)\n",
      "s_prime: MCMCState(var='011111', fixed='1110', accepted=False)\n",
      "s_prime: MCMCState(var='000101', fixed='1110', accepted=False)\n",
      "s_prime: MCMCState(var='010110', fixed='1110', accepted=False)\n",
      "s_prime: MCMCState(var='100000', fixed='1110', accepted=False)\n",
      "s_prime: MCMCState(var='110011', fixed='1110', accepted=False)\n",
      "s_prime: MCMCState(var='010001', fixed='1110', accepted=False)\n",
      "s_prime: MCMCState(var='000111', fixed='1110', accepted=False)\n",
      "s_prime: MCMCState(var='011000', fixed='1110', accepted=False)\n",
      "s_prime: MCMCState(var='000000', fixed='1110', accepted=False)\n",
      "s_prime: MCMCState(var='010010', fixed='1110', accepted=False)\n",
      "s_prime: MCMCState(var='110101', fixed='1110', accepted=False)\n",
      "s_prime: MCMCState(var='001000', fixed='1110', accepted=False)\n",
      "s_prime: MCMCState(var='000100', fixed='1110', accepted=False)\n",
      "s_prime: MCMCState(var='100001', fixed='1110', accepted=False)\n",
      "s_prime: MCMCState(var='100001', fixed='1110', accepted=False)\n",
      "s_prime: MCMCState(var='100001', fixed='1110', accepted=False)\n",
      "s_prime: MCMCState(var='001100', fixed='1110', accepted=False)\n",
      "s_prime: MCMCState(var='101100', fixed='1110', accepted=False)\n",
      "s_prime: MCMCState(var='001110', fixed='1110', accepted=False)\n",
      "s_prime: MCMCState(var='000001', fixed='1110', accepted=False)\n",
      "s_prime: MCMCState(var='011111', fixed='1110', accepted=False)\n",
      "s_prime: MCMCState(var='001100', fixed='1110', accepted=False)\n",
      "s_prime: MCMCState(var='100001', fixed='1110', accepted=False)\n",
      "s_prime: MCMCState(var='001101', fixed='1110', accepted=False)\n",
      "s_prime: MCMCState(var='111001', fixed='1110', accepted=False)\n",
      "s_prime: MCMCState(var='011101', fixed='1110', accepted=False)\n",
      "s_prime: MCMCState(var='000010', fixed='1110', accepted=False)\n",
      "s_prime: MCMCState(var='000111', fixed='1110', accepted=False)\n",
      "s_prime: MCMCState(var='000010', fixed='1110', accepted=False)\n"
     ]
    },
    {
     "name": "stderr",
     "output_type": "stream",
     "text": [
      "\n"
     ]
    }
   ],
   "source": [
    "smp = rs1.run_classical_mcmc(iterations=100)"
   ]
  },
  {
   "cell_type": "code",
   "execution_count": null,
   "metadata": {},
   "outputs": [],
   "source": []
  }
 ],
 "metadata": {
  "kernelspec": {
   "display_name": "Python 3",
   "language": "python",
   "name": "python3"
  },
  "language_info": {
   "codemirror_mode": {
    "name": "ipython",
    "version": 3
   },
   "file_extension": ".py",
   "mimetype": "text/x-python",
   "name": "python",
   "nbconvert_exporter": "python",
   "pygments_lexer": "ipython3",
   "version": "3.10.6"
  },
  "orig_nbformat": 4,
  "vscode": {
   "interpreter": {
    "hash": "916dbcbb3f70747c44a77c7bcd40155683ae19c65e1c03b4aa3499c5328201f1"
   }
  }
 },
 "nbformat": 4,
 "nbformat_minor": 2
}
