{
 "cells": [
  {
   "attachments": {},
   "cell_type": "markdown",
   "metadata": {},
   "source": [
    "#### **Imports**"
   ]
  },
  {
   "cell_type": "code",
   "execution_count": 1,
   "metadata": {},
   "outputs": [],
   "source": [
    "## import essential modules \n",
    "import qumcmc \n",
    "from qumcmc.basic_utils import *\n",
    "# from qumcmc.energy_models import IsingEnergyFunction\n",
    "from qumcmc.energy_models import IsingEnergyFunction, Exact_Sampling\n",
    "\n",
    "from qumcmc.classical_mcmc_routines import classical_mcmc\n",
    "#from qumcmc.quantum_mcmc_routines_qulacs import quantum_enhanced_mcmc     #for Qulacs Simulator backend (** Faster )\n",
    "from qumcmc.quantum_mcmc_routines_qulacs_exact import quantum_mcmc_exact\n",
    "#  from qumcmc.quantum_mcmc_routines_qiskit import quantum_enhanced_mcmc   #for qiskit Aer's Simulator backend \n",
    "\n",
    "from qumcmc.trajectory_processing import calculate_running_js_divergence, calculate_running_kl_divergence, calculate_runnning_magnetisation, get_trajectory_statistics\n",
    "from scipy.linalg import expm\n",
    "from qulacs.gate import DenseMatrix, SparseMatrix\n",
    "from qulacs import QuantumState\n",
    "from qumcmc.quantum_mcmc_routines_qulacs import quantum_enhanced_mcmc\n"
   ]
  },
  {
   "cell_type": "code",
   "execution_count": 2,
   "metadata": {},
   "outputs": [],
   "source": [
    "import seaborn as sns\n",
    "sns.set()"
   ]
  },
  {
   "attachments": {},
   "cell_type": "markdown",
   "metadata": {},
   "source": [
    "#### **Define the Energy Model**"
   ]
  },
  {
   "cell_type": "code",
   "execution_count": 3,
   "metadata": {},
   "outputs": [],
   "source": [
    "### class to generate BAS dataset of arbitrary gridsize.\n",
    "from itertools import permutations, product\n",
    "class bas_dataset:\n",
    "    def __init__(self, grid_size:int):\n",
    "        self.grid_size=grid_size\n",
    "        all_combn=[''.join(p) for p in product('01',repeat=self.grid_size)]\n",
    "        all_combn.sort(key=lambda s: s.count('1'))\n",
    "        all_combn.pop(0);all_combn.pop(-1)\n",
    "        self.__all_combn=all_combn\n",
    "        self.bas_dict=self.bars_and_stripes_dataset()\n",
    "        self.dataset=self.bas_dict['stripes']+self.bas_dict['bars']\n",
    "    \n",
    "    def vertical_stripes(self):\n",
    "        vert_stripes=[j*self.grid_size for j in self.__all_combn]\n",
    "        return vert_stripes\n",
    "\n",
    "    def horizontal_bars(self):\n",
    "        hor_bars=[]\n",
    "        for l in self.__all_combn:\n",
    "            st=\"\"\n",
    "            for j in l:\n",
    "                st=st+j*self.grid_size\n",
    "            hor_bars.append(st)\n",
    "        return hor_bars\n",
    "\n",
    "    def bars_and_stripes_dataset(self):\n",
    "        bas_dict={'stripes':self.vertical_stripes(),\n",
    "            'bars':self.horizontal_bars()}\n",
    "        return bas_dict\n",
    "\n",
    "    ### create matrix of bitstring: meant for plotting\n",
    "    def bit_string_to_2d_matrix(self,bitstring, array_shape:int):\n",
    "        len_bs=len(bitstring)\n",
    "        list_bs_int=[eval(i) for i in list(bitstring)]\n",
    "        arr_bs=np.reshape(list_bs_int,(array_shape, array_shape))\n",
    "        return arr_bs\n",
    "\n",
    "    ### plot pixels\n",
    "    def draw_pixelplot(self,bitstring:str,array_shape:int):\n",
    "        im_array=self.bit_string_to_2d_matrix(bitstring,array_shape)\n",
    "        plt.title(f\"pixel plot for bitstring: {bitstring}\")\n",
    "        pixel_plot=plt.imshow(im_array,cmap='Greens',interpolation='nearest')\n",
    "        plt.colorbar(pixel_plot)\n",
    "        plt.show()"
   ]
  },
  {
   "cell_type": "code",
   "execution_count": 4,
   "metadata": {},
   "outputs": [],
   "source": [
    "def hebbing_learning(list_bas_state:list):\n",
    "    size=len(list_bas_state[0])\n",
    "    wts=0\n",
    "    for i in list_bas_state:\n",
    "        arr=np.array([-1 if elem == \"0\" else 1 for elem in i])\n",
    "        array=np.reshape(arr,(size,1));array_t=np.transpose(array)\n",
    "        wts+=array@array_t\n",
    "    wts=wts-len(list_bas_state)*np.identity(size)\n",
    "    return wts"
   ]
  },
  {
   "cell_type": "code",
   "execution_count": 5,
   "metadata": {},
   "outputs": [],
   "source": [
    "gridsize=3\n",
    "bas=bas_dataset(grid_size=gridsize)\n",
    "wt=hebbing_learning(bas.dataset)\n",
    "# np.shape(wt);wt"
   ]
  },
  {
   "cell_type": "code",
   "execution_count": 6,
   "metadata": {},
   "outputs": [
    {
     "data": {
      "text/plain": [
       "{'stripes': ['001001001',\n",
       "  '010010010',\n",
       "  '100100100',\n",
       "  '011011011',\n",
       "  '101101101',\n",
       "  '110110110'],\n",
       " 'bars': ['000000111',\n",
       "  '000111000',\n",
       "  '111000000',\n",
       "  '000111111',\n",
       "  '111000111',\n",
       "  '111111000']}"
      ]
     },
     "execution_count": 6,
     "metadata": {},
     "output_type": "execute_result"
    }
   ],
   "source": [
    "bas.bas_dict"
   ]
  },
  {
   "cell_type": "code",
   "execution_count": 7,
   "metadata": {},
   "outputs": [],
   "source": [
    "# define the model\n",
    "np.random.seed(610358)# should always be in the same cell!  ## best seed -> 610358\n",
    "n_spins = 10\n",
    "\n",
    "## construct problem Hamiltonian ##\n",
    "shape_of_J=(n_spins,n_spins)\n",
    "\n",
    "## defining J matrix (mutual 1-1 interaction)\n",
    "J =  np.round(np.random.choice([+1, 0, -1], size=(n_spins, n_spins)), decimals=2) \n",
    "J =  np.random.uniform(low= -2, high= 2, size= shape_of_J )\n",
    "J = 0.5 * (J + J.transpose() )\n",
    "J = np.round( J - np.diag(np.diag(J)) , decimals= 3)\n",
    "\n",
    "#evaluating J for BAS dataset\n",
    "#J=-1*wt#np.array([[0,0,0,4],[0,0,4,0],[0,4,0,0],[4,0,0,0]])\n",
    "# defining h\n",
    "#h = np.round(0.5 * np.random.randn(n_spins), decimals=2)\n",
    "h = np.round(np.random.uniform(low= -1, high = 1, size= (n_spins)), decimals=2)\n",
    "#h=np.zeros(np.shape(J)[0])\n",
    "# instantiate the model\n",
    "model = IsingEnergyFunction(J, h, name= 'my_model')\n",
    "#model=IsingEnergyFunction(J,h,name=f\"BAS data of gridsize {np.shape(J)[0]}\")"
   ]
  },
  {
   "cell_type": "code",
   "execution_count": 8,
   "metadata": {},
   "outputs": [],
   "source": [
    "#model.model_summary()"
   ]
  },
  {
   "cell_type": "code",
   "execution_count": 9,
   "metadata": {},
   "outputs": [],
   "source": [
    "## checking qulacs fn_qc_h1 term.\n",
    "# from qulacs.gate import Pauli,X\n",
    "# gate_x=X(2)\n",
    "# print(\"gate_x:\")\n",
    "# print(gate_x.get_matrix())\n",
    "# target_list=[2]\n",
    "# pauli_index=[1]\n",
    "# gate_2=Pauli(target_list,pauli_index)\n",
    "# print(\"gate_2\")\n",
    "# print(gate_2.get_matrix())\n",
    "# # these two are the same thing\n",
    "# multi_x_gate=Pauli([0,1],[2,1])\n",
    "# print(\"multi_x_gate\")\n",
    "# print(multi_x_gate.get_matrix())"
   ]
  },
  {
   "attachments": {},
   "cell_type": "markdown",
   "metadata": {},
   "source": [
    "#### **Exact Analysis**"
   ]
  },
  {
   "cell_type": "code",
   "execution_count": 10,
   "metadata": {},
   "outputs": [],
   "source": [
    "## set current beta\n",
    "beta = 1#1.100209\n",
    "\n",
    "## run exact sampling over all possible configurations \n",
    "exact_sampled_model = Exact_Sampling(model, beta)"
   ]
  },
  {
   "cell_type": "code",
   "execution_count": 11,
   "metadata": {},
   "outputs": [
    {
     "data": {
      "text/plain": [
       "(['000000111',\n",
       "  '000111000',\n",
       "  '000111111',\n",
       "  '001001001',\n",
       "  '010010010',\n",
       "  '011011011',\n",
       "  '100100100',\n",
       "  '101101101',\n",
       "  '110110110',\n",
       "  '111000000',\n",
       "  '111000111',\n",
       "  '111111000'],\n",
       " 12)"
      ]
     },
     "execution_count": 11,
     "metadata": {},
     "output_type": "execute_result"
    }
   ],
   "source": [
    "bas.dataset.sort()\n",
    "bas.dataset,len(bas.dataset)"
   ]
  },
  {
   "cell_type": "code",
   "execution_count": 12,
   "metadata": {},
   "outputs": [
    {
     "name": "stdout",
     "output_type": "stream",
     "text": [
      "=============================================\n",
      "     MODEL : my_model |  beta : 1\n",
      "=============================================\n",
      "Num Most Probable States : 2\n",
      "Entropy : 1.008421707878209\n",
      "---------------------------------------------\n"
     ]
    },
    {
     "data": {
      "image/png": "[encoded data removed]",
      "text/plain": [
       "<Figure size 432x288 with 1 Axes>"
      ]
     },
     "metadata": {
      "needs_background": "light"
     },
     "output_type": "display_data"
    }
   ],
   "source": [
    "## get the distribution from model\n",
    "bpd = exact_sampled_model.boltzmann_pd\n",
    "\n",
    "## exact sampling summary\n",
    "exact_sampled_model.sampling_summary()"
   ]
  },
  {
   "attachments": {},
   "cell_type": "markdown",
   "metadata": {},
   "source": [
    "#### **Run Classical MCMC**"
   ]
  },
  {
   "cell_type": "code",
   "execution_count": 13,
   "metadata": {},
   "outputs": [],
   "source": [
    "steps = 10\n",
    "cl_chain =classical_mcmc(\n",
    "    n_hops=steps,\n",
    "    model=model,\n",
    "    # return_last_n_states=10,\n",
    "    temperature=1/beta,\n",
    ")"
   ]
  },
  {
   "cell_type": "code",
   "execution_count": 14,
   "metadata": {},
   "outputs": [],
   "source": [
    "cl_statistic = get_trajectory_statistics(cl_chain, exact_sampled_model, verbose= False)"
   ]
  },
  {
   "attachments": {},
   "cell_type": "markdown",
   "metadata": {},
   "source": [
    "#### **Run Quantum Enhaned MCMC**"
   ]
  },
  {
   "cell_type": "code",
   "execution_count": 15,
   "metadata": {},
   "outputs": [],
   "source": [
    "from qumcmc.quantum_mcmc_routines_qulacs_exact import create_X_mixer_hamiltonian"
   ]
  },
  {
   "cell_type": "code",
   "execution_count": 16,
   "metadata": {},
   "outputs": [
    {
     "name": "stdout",
     "output_type": "stream",
     "text": [
      "type_mixer_hamiltonian: <class 'qulacs_core.Observable'>\n",
      "list_individual_terms:\n",
      "['X 0 ', 'X 1 ', 'X 2 ', 'X 3 ', 'X 4 ', 'X 5 ', 'X 6 ', 'X 7 ', 'X 8 ', 'X 9 ']\n"
     ]
    }
   ],
   "source": [
    "H_mix=create_X_mixer_hamiltonian(num_spins=n_spins,weight_individual_pauli=1)"
   ]
  },
  {
   "cell_type": "code",
   "execution_count": 17,
   "metadata": {},
   "outputs": [],
   "source": [
    "alpha=model.alpha\n",
    "h_prob=model.get_hamiltonian()"
   ]
  },
  {
   "cell_type": "code",
   "execution_count": 18,
   "metadata": {},
   "outputs": [],
   "source": [
    "gamma=0.2\n",
    "h_mcmc=(1-gamma)*alpha*h_prob.get_matrix().toarray()+gamma*H_mix.get_matrix().toarray()"
   ]
  },
  {
   "cell_type": "code",
   "execution_count": 19,
   "metadata": {},
   "outputs": [
    {
     "name": "stdout",
     "output_type": "stream",
     "text": [
      "unitary matrix is:\n",
      "[[-2.57768e-01+1.43190e-01j  3.05300e-03-7.48200e-03j\n",
      "  -1.05569e-01+3.94890e-02j ...  4.66000e-04-8.18000e-04j\n",
      "   9.39000e-04-8.26000e-04j -4.85000e-04+7.00000e-05j]\n",
      " [ 3.05300e-03-7.48200e-03j -3.27518e-01+2.60254e-01j\n",
      "   1.20180e-02+2.48690e-02j ...  1.50000e-04+6.40000e-05j\n",
      "  -8.00000e-06-7.32000e-04j -2.00000e-05-8.40000e-05j]\n",
      " [-1.05569e-01+3.94890e-02j  1.20180e-02+2.48690e-02j\n",
      "   1.56698e-01-1.90330e-02j ... -3.30000e-05+1.80000e-04j\n",
      "   5.76600e-03-1.82100e-03j -4.86000e-04+2.80000e-05j]\n",
      " ...\n",
      " [ 4.66000e-04-8.18000e-04j  1.50000e-04+6.40000e-05j\n",
      "  -3.30000e-05+1.80000e-04j ...  5.84394e-01-1.26636e-01j\n",
      "  -6.54400e-03+6.21700e-03j -1.43056e-01-2.65270e-02j]\n",
      " [ 9.39000e-04-8.26000e-04j -8.00000e-06-7.32000e-04j\n",
      "   5.76600e-03-1.82100e-03j ... -6.54400e-03+6.21700e-03j\n",
      "  -2.52811e-01+2.32060e-02j  2.61400e-03+4.61300e-03j]\n",
      " [-4.85000e-04+7.00000e-05j -2.00000e-05-8.40000e-05j\n",
      "  -4.86000e-04+2.80000e-05j ... -1.43056e-01-2.65270e-02j\n",
      "   2.61400e-03+4.61300e-03j -1.74072e-01+1.59292e-01j]]\n"
     ]
    }
   ],
   "source": [
    "current_q_state1=QuantumState(n_spins)\n",
    "current_q_state1.set_computational_basis(int('100101',2))\n",
    "# #\n",
    "# current_q_state2=QuantumState(n_spins)\n",
    "# current_q_state2.set_computational_basis(int('100101',2))\n",
    "\n",
    "# # case of dense matrix\n",
    "target_list=list(range(0,n_spins))\n",
    "unitary_mat=np.round(expm((0-1j)*h_mcmc*12),decimals=6)\n",
    "print(\"unitary matrix is:\")\n",
    "print(unitary_mat)\n",
    "# time_evol_gate_dense=DenseMatrix(target_list,matrix=unitary_mat)\n",
    "# time_evol_gate_dense.update_quantum_state(current_q_state1)\n",
    "\n",
    "# # case of sparse matrix\n",
    "# target_list=list(range(0,n_spins))\n",
    "# unitary_mat=np.round(expm((0-1j)*h_mcmc*12),decimals=6)\n",
    "# time_evol_gate_sparse=SparseMatrix(target_list,matrix=unitary_mat)\n",
    "# time_evol_gate_sparse.update_quantum_state(current_q_state2)"
   ]
  },
  {
   "cell_type": "code",
   "execution_count": 20,
   "metadata": {},
   "outputs": [
    {
     "name": "stderr",
     "output_type": "stream",
     "text": [
      "runnning quantum MCMC steps . ..:   0%|          | 0/10 [00:00<?, ?it/s]"
     ]
    },
    {
     "name": "stdout",
     "output_type": "stream",
     "text": [
      "starting with:  0001010111 with energy: -7.424999999999999\n"
     ]
    },
    {
     "name": "stderr",
     "output_type": "stream",
     "text": [
      "runnning quantum MCMC steps . ..: 100%|██████████| 10/10 [00:59<00:00,  5.94s/it]\n"
     ]
    }
   ],
   "source": [
    "steps = 10\n",
    "qamcmc_chain_1 =quantum_mcmc_exact(n_hops=steps,\n",
    "                                   model=model,                                   \n",
    "                                   H_mix=H_mix,\n",
    "                                   gamma_range=(0.2,0.6),\n",
    "                                   temperature=1/beta,\n",
    "                                   verbose=True\n",
    "                                   )"
   ]
  },
  {
   "cell_type": "code",
   "execution_count": 21,
   "metadata": {},
   "outputs": [],
   "source": [
    "# steps = 5000\n",
    "# qamcmc_chain_1 =quantum_enhanced_mcmc(\n",
    "#     n_hops=steps,\n",
    "#     model=model,\n",
    "#     temperature=1/beta\n",
    "# )"
   ]
  },
  {
   "cell_type": "code",
   "execution_count": 22,
   "metadata": {},
   "outputs": [
    {
     "name": "stderr",
     "output_type": "stream",
     "text": [
      "runnning quantum MCMC steps . ..:  90%|█████████ | 9/10 [00:00<00:00, 44.16it/s]"
     ]
    },
    {
     "name": "stdout",
     "output_type": "stream",
     "text": [
      "starting with:  1011110001 with energy: 1.8449999999999998\n"
     ]
    },
    {
     "name": "stderr",
     "output_type": "stream",
     "text": [
      "runnning quantum MCMC steps . ..: 100%|██████████| 10/10 [00:00<00:00, 43.13it/s]\n"
     ]
    }
   ],
   "source": [
    "steps =10\n",
    "qamcmc_chain_2 =quantum_enhanced_mcmc(\n",
    "    n_hops=steps,\n",
    "    model=model,\n",
    "    temperature=1/beta,\n",
    "    verbose=True\n",
    ")"
   ]
  },
  {
   "cell_type": "code",
   "execution_count": 23,
   "metadata": {},
   "outputs": [],
   "source": [
    "qumcm1_statistic = get_trajectory_statistics(qamcmc_chain_1, exact_sampled_model, verbose= False)\n",
    "qumcm2_statistic = get_trajectory_statistics(qamcmc_chain_2, exact_sampled_model, verbose= False)"
   ]
  },
  {
   "attachments": {},
   "cell_type": "markdown",
   "metadata": {},
   "source": [
    "#### **Sampled Distributions**"
   ]
  },
  {
   "cell_type": "code",
   "execution_count": 24,
   "metadata": {},
   "outputs": [
    {
     "data": {
      "image/png": "[encoded data removed]",
      "text/plain": [
       "<Figure size 1080x504 with 1 Axes>"
      ]
     },
     "metadata": {
      "needs_background": "light"
     },
     "output_type": "display_data"
    }
   ],
   "source": [
    "distributions_to_plot = [exact_sampled_model.boltzmann_pd, cl_chain.get_accepted_dict(normalize= True), \n",
    "                        qamcmc_chain_1.get_accepted_dict(normalize= True),qamcmc_chain_2.get_accepted_dict(normalize= True) ]\n",
    "plot_multiple_bargraphs(distributions_to_plot, ['Exact Distribution', 'Classical-Uniform', 'Quantum-Xi','Quantum-old'], list_normalise= [False, False, False,False], plot_first_few=15)"
   ]
  },
  {
   "attachments": {},
   "cell_type": "markdown",
   "metadata": {},
   "source": [
    "#### **Proposition Strategy Analysis**"
   ]
  },
  {
   "attachments": {},
   "cell_type": "markdown",
   "metadata": {},
   "source": [
    "Here we analyse the main adavnatge of the Quantum Enhanced MCMC routine, which is to propose transitions which are are more likely to be accepted when compared to usual classical proposition strategies. In the subsequent plots we compare statistics of all proposed transitions with respect to the *Acceptance-Probabilities* , *Energy-Difference*, and the *Hamming-Distance*."
   ]
  },
  {
   "attachments": {},
   "cell_type": "markdown",
   "metadata": {},
   "source": [
    "**Acceptance-Probabilities**\n"
   ]
  },
  {
   "cell_type": "code",
   "execution_count": 25,
   "metadata": {},
   "outputs": [
    {
     "data": {
      "image/png": "[encoded data removed]",
      "text/plain": [
       "<Figure size 720x720 with 1 Axes>"
      ]
     },
     "metadata": {
      "needs_background": "light"
     },
     "output_type": "display_data"
    }
   ],
   "source": [
    "plt.figure(figsize=(10,10))\n",
    "\n",
    "plt.hist(np.log10(cl_statistic['acceptance_prob']),label= 'classical uniform' ,alpha= 0.5, bins= 20)\n",
    "plt.hist(np.log10(qumcm1_statistic['acceptance_prob']),label= 'quantum enhanced Xi' , alpha= 0.5, bins= 20)\n",
    "plt.hist(np.log10(qumcm2_statistic['acceptance_prob']),label= 'quantum enhanced old' , alpha= 0.5, bins= 20)\n",
    "\n",
    "\n",
    "\n",
    "# plt.xscale(\"log\")\n",
    "\n",
    "plt.xlabel(\"Acceptance Probabilities | scale: log10\")\n",
    "# plt.ylabel(\"Hamming Distance\")\n",
    "plt.legend()\n",
    "plt.show()"
   ]
  },
  {
   "attachments": {},
   "cell_type": "markdown",
   "metadata": {},
   "source": [
    "The plot depicts that the *Acceptance-Probability* for the *quantum-enhanced* sampling is skewed towards unity, whereas for the *classical-uniform* sampling it is barely close to unity for most of th cases leading to a large rejection rate of the proposed moves."
   ]
  },
  {
   "attachments": {},
   "cell_type": "markdown",
   "metadata": {},
   "source": [
    "**Energy-Difference**"
   ]
  },
  {
   "cell_type": "code",
   "execution_count": 26,
   "metadata": {},
   "outputs": [
    {
     "data": {
      "image/png": "[encoded data removed]",
      "text/plain": [
       "<Figure size 720x720 with 1 Axes>"
      ]
     },
     "metadata": {
      "needs_background": "light"
     },
     "output_type": "display_data"
    }
   ],
   "source": [
    "plt.figure(figsize=(10,10))\n",
    "\n",
    "plt.hist(cl_statistic['energy'],label= 'classical uniform' ,alpha= 0.5, bins= 20)\n",
    "plt.hist(qumcm1_statistic['energy'],label= 'quantum enhanced Xi' , alpha= 0.5, bins= 20)\n",
    "plt.hist(qumcm2_statistic['energy'],label= 'quantum enhanced old' , alpha= 0.5, bins= 20)\n",
    "\n",
    "\n",
    "# plt.xscale(\"log\")\n",
    "\n",
    "plt.xlabel(\"Energy-Difference Statistics\")\n",
    "# plt.ylabel(\"Hamming Distance\")\n",
    "plt.legend()\n",
    "plt.show()"
   ]
  },
  {
   "attachments": {},
   "cell_type": "markdown",
   "metadata": {},
   "source": [
    "The plot shows that the *Energy-Difference* of the propose transitions is low for the case of *quantum-enhanced* transitions compared to the *classical-uniform* sampling, this also explains the trend in *Acceptance-Probability* as it is directly dependent on the former.\n"
   ]
  },
  {
   "attachments": {},
   "cell_type": "markdown",
   "metadata": {},
   "source": [
    "**Hamming-Distance**"
   ]
  },
  {
   "cell_type": "code",
   "execution_count": 27,
   "metadata": {},
   "outputs": [
    {
     "data": {
      "image/png": "[encoded data removed]",
      "text/plain": [
       "<Figure size 720x720 with 1 Axes>"
      ]
     },
     "metadata": {
      "needs_background": "light"
     },
     "output_type": "display_data"
    }
   ],
   "source": [
    "plt.figure(figsize=(10,10))\n",
    "\n",
    "plt.hist(cl_statistic['hamming'],label= 'classical uniform' ,alpha= 0.5, bins= 20)\n",
    "plt.hist(qumcm1_statistic['hamming'],label= 'quantum enhanced Xi' , alpha= 0.5, bins= 20)\n",
    "plt.hist(qumcm2_statistic['hamming'],label= 'quantum enhanced old' , alpha= 0.5, bins= 20)\n",
    "\n",
    "\n",
    "# plt.xscale(\"log\")\n",
    "\n",
    "plt.xlabel(\"Hamming-Distance Statistics\")\n",
    "# plt.ylabel(\"Hamming Distance\")\n",
    "plt.legend()\n",
    "plt.show()"
   ]
  },
  {
   "attachments": {},
   "cell_type": "markdown",
   "metadata": {},
   "source": [
    "#### **Convergence Analysis**"
   ]
  },
  {
   "attachments": {},
   "cell_type": "markdown",
   "metadata": {},
   "source": [
    "##### Magnetisation"
   ]
  },
  {
   "cell_type": "code",
   "execution_count": 28,
   "metadata": {},
   "outputs": [],
   "source": [
    "# magnetization_model = exact_sampled_model.get_observable_expectation(magnetization_of_state)\n",
    "# magnetization_c = calculate_runnning_magnetisation(cl_chain)\n",
    "# magnetization_q = calculate_runnning_magnetisation(qamcmc_chain)"
   ]
  },
  {
   "cell_type": "code",
   "execution_count": 29,
   "metadata": {},
   "outputs": [],
   "source": [
    "# plt.figure(figsize=(10,8))\n",
    "# plt.plot(magnetization_c, label= 'classical-uniform')\n",
    "# plt.plot(magnetization_q, label= 'quantum-enhanced')\n",
    "# plt.axhline(magnetization_model, label= 'original')\n",
    "# plt.xlabel(\"iterations\")\n",
    "# plt.ylabel(\"magnetisation\")\n",
    "# plt.legend()\n",
    "# plt.show()"
   ]
  },
  {
   "attachments": {},
   "cell_type": "markdown",
   "metadata": {},
   "source": [
    "##### KL Divergence"
   ]
  },
  {
   "cell_type": "code",
   "execution_count": 30,
   "metadata": {},
   "outputs": [],
   "source": [
    "kldiv_c = calculate_running_kl_divergence(exact_sampled_model.boltzmann_pd, cl_chain)\n",
    "kldiv_q1 = calculate_running_kl_divergence(exact_sampled_model.boltzmann_pd, qamcmc_chain_1)\n",
    "kldiv_q2 = calculate_running_kl_divergence(exact_sampled_model.boltzmann_pd, qamcmc_chain_2)"
   ]
  },
  {
   "cell_type": "code",
   "execution_count": 31,
   "metadata": {},
   "outputs": [
    {
     "data": {
      "image/png": "[encoded data removed]",
      "text/plain": [
       "<Figure size 720x576 with 1 Axes>"
      ]
     },
     "metadata": {
      "needs_background": "light"
     },
     "output_type": "display_data"
    }
   ],
   "source": [
    "plt.figure(figsize=(10,8))\n",
    "plt.plot(kldiv_c, label= 'classical-uniform')\n",
    "plt.plot(kldiv_q1, label= 'quantum-enhanced Xi')\n",
    "plt.plot(kldiv_q2, label= 'quantum-enhanced old')\n",
    "plt.xlabel(\"iterations \")\n",
    "plt.ylabel(\"KL divergence\")\n",
    "plt.yscale('log')\n",
    "plt.legend()\n",
    "plt.show()"
   ]
  },
  {
   "cell_type": "code",
   "execution_count": 32,
   "metadata": {},
   "outputs": [],
   "source": [
    "# from qulacs import PauliOperator\n",
    "# Pauli_string='Z 0 I 1'\n",
    "# pauli_check=PauliOperator(Pauli_string,coef=1)"
   ]
  },
  {
   "cell_type": "code",
   "execution_count": 33,
   "metadata": {},
   "outputs": [],
   "source": [
    "# pauli_check.get_pauli_id_list()"
   ]
  },
  {
   "cell_type": "code",
   "execution_count": 34,
   "metadata": {},
   "outputs": [],
   "source": [
    "# from qulacs.gate import merge,Identity,Z"
   ]
  },
  {
   "cell_type": "code",
   "execution_count": 35,
   "metadata": {},
   "outputs": [],
   "source": [
    "# gate_Z0_I1=merge([Z(2),Identity(1)])"
   ]
  },
  {
   "cell_type": "code",
   "execution_count": 36,
   "metadata": {},
   "outputs": [],
   "source": [
    "# gate_Z0_I1.get_matrix()"
   ]
  },
  {
   "cell_type": "code",
   "execution_count": 37,
   "metadata": {},
   "outputs": [],
   "source": [
    "# gate_Z0_I1.get_matrix()"
   ]
  },
  {
   "cell_type": "code",
   "execution_count": 38,
   "metadata": {},
   "outputs": [],
   "source": [
    "# Z(0).get_matrix(),Z(2).get_matrix()"
   ]
  },
  {
   "cell_type": "code",
   "execution_count": 39,
   "metadata": {},
   "outputs": [],
   "source": [
    "# # qulacs imports\n",
    "# from qulacs import QuantumState, QuantumCircuit\n",
    "# from qulacsvis import circuit_drawer\n",
    "# from scipy.linalg import expm\n",
    "# from qulacs.gate import DenseMatrix\n",
    "# from qulacs.gate import X, Y, Z  , Pauli, Identity, merge"
   ]
  },
  {
   "cell_type": "code",
   "execution_count": null,
   "metadata": {},
   "outputs": [],
   "source": []
  }
 ],
 "metadata": {
  "kernelspec": {
   "display_name": "base",
   "language": "python",
   "name": "python3"
  },
  "language_info": {
   "codemirror_mode": {
    "name": "ipython",
    "version": 3
   },
   "file_extension": ".py",
   "mimetype": "text/x-python",
   "name": "python",
   "nbconvert_exporter": "python",
   "pygments_lexer": "ipython3",
   "version": "3.8.8"
  }
 },
 "nbformat": 4,
 "nbformat_minor": 4
}
