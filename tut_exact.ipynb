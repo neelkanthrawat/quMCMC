{
 "cells": [
  {
   "attachments": {},
   "cell_type": "markdown",
   "metadata": {},
   "source": [
    "#### **Imports**"
   ]
  },
  {
   "cell_type": "code",
   "execution_count": null,
   "metadata": {},
   "outputs": [],
   "source": [
    "## import essential modules \n",
    "import qumcmc \n",
    "from qumcmc.basic_utils import *\n",
    "# from qumcmc.energy_models import IsingEnergyFunction\n",
    "from qumcmc.energy_models import IsingEnergyFunction, Exact_Sampling\n",
    "\n",
    "from qumcmc.classical_mcmc_routines import classical_mcmc\n",
    "#from qumcmc.quantum_mcmc_routines_qulacs import quantum_enhanced_mcmc     #for Qulacs Simulator backend (** Faster )\n",
    "from qumcmc.quantum_mcmc_routines_qulacs_exact import quantum_mcmc_exact\n",
    "#  from qumcmc.quantum_mcmc_routines_qiskit import quantum_enhanced_mcmc   #for qiskit Aer's Simulator backend \n",
    "\n",
    "from qumcmc.trajectory_processing import calculate_running_js_divergence, calculate_running_kl_divergence, calculate_runnning_magnetisation, get_trajectory_statistics\n",
    "from scipy.linalg import expm\n",
    "from qulacs.gate import DenseMatrix, SparseMatrix\n",
    "from qulacs import QuantumState\n",
    "from qumcmc.quantum_mcmc_routines_qulacs import quantum_enhanced_mcmc\n",
    "from qumcmc.quantum_mcmc_qulacs_2 import quantum_enhanced_mcmc_2\n"
   ]
  },
  {
   "cell_type": "code",
   "execution_count": null,
   "metadata": {},
   "outputs": [],
   "source": [
    "from qumcmc.quantum_mcmc_qulacs_2 import *"
   ]
  },
  {
   "cell_type": "code",
   "execution_count": null,
   "metadata": {},
   "outputs": [],
   "source": [
    "import seaborn as sns\n",
    "sns.set()"
   ]
  },
  {
   "attachments": {},
   "cell_type": "markdown",
   "metadata": {},
   "source": [
    "#### **Define the Energy Model**"
   ]
  },
  {
   "cell_type": "code",
   "execution_count": null,
   "metadata": {},
   "outputs": [],
   "source": [
    "### class to generate BAS dataset of arbitrary gridsize.\n",
    "from itertools import permutations, product\n",
    "class bas_dataset:\n",
    "    def __init__(self, grid_size:int):\n",
    "        self.grid_size=grid_size\n",
    "        all_combn=[''.join(p) for p in product('01',repeat=self.grid_size)]\n",
    "        all_combn.sort(key=lambda s: s.count('1'))\n",
    "        all_combn.pop(0);all_combn.pop(-1)\n",
    "        self.__all_combn=all_combn\n",
    "        self.bas_dict=self.bars_and_stripes_dataset()\n",
    "        self.dataset=self.bas_dict['stripes']+self.bas_dict['bars']\n",
    "    \n",
    "    def vertical_stripes(self):\n",
    "        vert_stripes=[j*self.grid_size for j in self.__all_combn]\n",
    "        return vert_stripes\n",
    "\n",
    "    def horizontal_bars(self):\n",
    "        hor_bars=[]\n",
    "        for l in self.__all_combn:\n",
    "            st=\"\"\n",
    "            for j in l:\n",
    "                st=st+j*self.grid_size\n",
    "            hor_bars.append(st)\n",
    "        return hor_bars\n",
    "\n",
    "    def bars_and_stripes_dataset(self):\n",
    "        bas_dict={'stripes':self.vertical_stripes(),\n",
    "            'bars':self.horizontal_bars()}\n",
    "        return bas_dict\n",
    "\n",
    "    ### create matrix of bitstring: meant for plotting\n",
    "    def bit_string_to_2d_matrix(self,bitstring, array_shape:int):\n",
    "        len_bs=len(bitstring)\n",
    "        list_bs_int=[eval(i) for i in list(bitstring)]\n",
    "        arr_bs=np.reshape(list_bs_int,(array_shape, array_shape))\n",
    "        return arr_bs\n",
    "\n",
    "    ### plot pixels\n",
    "    def draw_pixelplot(self,bitstring:str,array_shape:int):\n",
    "        im_array=self.bit_string_to_2d_matrix(bitstring,array_shape)\n",
    "        plt.title(f\"pixel plot for bitstring: {bitstring}\")\n",
    "        pixel_plot=plt.imshow(im_array,cmap='Greens',interpolation='nearest')\n",
    "        plt.colorbar(pixel_plot)\n",
    "        plt.show()"
   ]
  },
  {
   "cell_type": "code",
   "execution_count": null,
   "metadata": {},
   "outputs": [],
   "source": [
    "def hebbing_learning(list_bas_state:list):\n",
    "    size=len(list_bas_state[0])\n",
    "    wts=0\n",
    "    for i in list_bas_state:\n",
    "        arr=np.array([-1 if elem == \"0\" else 1 for elem in i])\n",
    "        array=np.reshape(arr,(size,1));array_t=np.transpose(array)\n",
    "        wts+=array@array_t\n",
    "    wts=wts-len(list_bas_state)*np.identity(size)\n",
    "    return wts"
   ]
  },
  {
   "cell_type": "code",
   "execution_count": null,
   "metadata": {},
   "outputs": [],
   "source": [
    "gridsize=3\n",
    "bas=bas_dataset(grid_size=gridsize)\n",
    "wt=hebbing_learning(bas.dataset)\n",
    "# np.shape(wt);wt"
   ]
  },
  {
   "cell_type": "code",
   "execution_count": null,
   "metadata": {},
   "outputs": [],
   "source": [
    "bas.bas_dict"
   ]
  },
  {
   "cell_type": "code",
   "execution_count": null,
   "metadata": {},
   "outputs": [],
   "source": [
    "# define the model # seed 4\n",
    "np.random.seed(4)#(610358)# should always be in the same cell!  ## best seed -> 610358\n",
    "n_spins = 10\n",
    "\n",
    "## construct problem Hamiltonian ##\n",
    "shape_of_J=(n_spins,n_spins)\n",
    "\n",
    "## defining J matrix (mutual 1-1 interaction)\n",
    "J =  np.round(np.random.choice([+1, 0, -1], size=(n_spins, n_spins)), decimals=2) \n",
    "J =  np.random.uniform(low= -2, high= 2, size= shape_of_J )\n",
    "J = 0.5 * (J + J.transpose() )\n",
    "J = np.round( J - np.diag(np.diag(J)) , decimals= 3)\n",
    "\n",
    "#evaluating J for BAS dataset\n",
    "#J=-1*wt#np.array([[0,0,0,4],[0,0,4,0],[0,4,0,0],[4,0,0,0]])\n",
    "# defining h\n",
    "#h = np.round(0.5 * np.random.randn(n_spins), decimals=2)\n",
    "h = np.round(np.random.uniform(low= -1, high = 1, size= (n_spins)), decimals=2)\n",
    "#h=np.zeros(np.shape(J)[0])\n",
    "# instantiate the model\n",
    "model = IsingEnergyFunction(J, h, name= 'my_model')\n",
    "#model=IsingEnergyFunction(J,h,name=f\"BAS data of gridsize {np.shape(J)[0]}\")"
   ]
  },
  {
   "attachments": {},
   "cell_type": "markdown",
   "metadata": {},
   "source": [
    "#### **Exact Analysis**"
   ]
  },
  {
   "cell_type": "code",
   "execution_count": null,
   "metadata": {},
   "outputs": [],
   "source": [
    "## set current beta\n",
    "beta = 1.0#1.100209\n",
    "\n",
    "## run exact sampling over all possible configurations \n",
    "exact_sampled_model = Exact_Sampling(model, beta)"
   ]
  },
  {
   "cell_type": "code",
   "execution_count": null,
   "metadata": {},
   "outputs": [],
   "source": [
    "# bas.dataset.sort()\n",
    "# bas.dataset,len(bas.dataset)"
   ]
  },
  {
   "cell_type": "code",
   "execution_count": null,
   "metadata": {},
   "outputs": [],
   "source": [
    "## get the distribution from model\n",
    "bpd = exact_sampled_model.boltzmann_pd\n",
    "\n",
    "## exact sampling summary\n",
    "exact_sampled_model.sampling_summary()"
   ]
  },
  {
   "attachments": {},
   "cell_type": "markdown",
   "metadata": {},
   "source": [
    "#### **Run Classical MCMC**"
   ]
  },
  {
   "cell_type": "code",
   "execution_count": null,
   "metadata": {},
   "outputs": [],
   "source": [
    "steps = 20000\n",
    "cl_chain =classical_mcmc(\n",
    "    n_hops=steps,\n",
    "    model=model,\n",
    "    temperature=1/beta,\n",
    ")"
   ]
  },
  {
   "cell_type": "code",
   "execution_count": null,
   "metadata": {},
   "outputs": [],
   "source": [
    "cl_statistic = get_trajectory_statistics(cl_chain, exact_sampled_model, verbose= False)"
   ]
  },
  {
   "attachments": {},
   "cell_type": "markdown",
   "metadata": {},
   "source": [
    "#### **Run Quantum Enhaned MCMC**"
   ]
  },
  {
   "cell_type": "code",
   "execution_count": null,
   "metadata": {},
   "outputs": [],
   "source": [
    "from qulacsvis import circuit_drawer\n",
    "import matplotlib.pyplot as plt"
   ]
  },
  {
   "cell_type": "code",
   "execution_count": null,
   "metadata": {},
   "outputs": [],
   "source": [
    "steps = 20000\n",
    "qamcmc_chain_1 =quantum_enhanced_mcmc_2(\n",
    "    n_hops=steps,\n",
    "    model=model,\n",
    "    temperature=1/beta,\n",
    "    verbose=False\n",
    ")"
   ]
  },
  {
   "cell_type": "code",
   "execution_count": null,
   "metadata": {},
   "outputs": [],
   "source": [
    "steps =20000\n",
    "qamcmc_chain_2 =quantum_enhanced_mcmc_2(\n",
    "    n_hops=steps,\n",
    "    model=model,\n",
    "    temperature=1/beta,\n",
    "    verbose=False,\n",
    "    gamma_range=(0.75,0.9)\n",
    ")"
   ]
  },
  {
   "cell_type": "code",
   "execution_count": null,
   "metadata": {},
   "outputs": [],
   "source": [
    "steps =20000\n",
    "qamcmc_chain_3 =quantum_enhanced_mcmc(\n",
    "    n_hops=steps,\n",
    "    model=model,\n",
    "    temperature=1/beta,\n",
    "    verbose=True\n",
    ")"
   ]
  },
  {
   "cell_type": "code",
   "execution_count": null,
   "metadata": {},
   "outputs": [],
   "source": [
    "qumcm1_statistic = get_trajectory_statistics(qamcmc_chain_1, exact_sampled_model, verbose= False)\n",
    "qumcm2_statistic = get_trajectory_statistics(qamcmc_chain_2, exact_sampled_model, verbose= False)\n",
    "qumcm3_statistic = get_trajectory_statistics(qamcmc_chain_3, exact_sampled_model, verbose= False)"
   ]
  },
  {
   "attachments": {},
   "cell_type": "markdown",
   "metadata": {},
   "source": [
    "#### **Sampled Distributions**"
   ]
  },
  {
   "cell_type": "code",
   "execution_count": null,
   "metadata": {},
   "outputs": [],
   "source": [
    "distributions_to_plot = [exact_sampled_model.boltzmann_pd, cl_chain.get_accepted_dict(normalize= True), \n",
    "                        qamcmc_chain_1.get_accepted_dict(normalize= True),qamcmc_chain_2.get_accepted_dict(normalize= True)\n",
    "                            ,qamcmc_chain_3.get_accepted_dict(normalize= True)]\n",
    "plot_multiple_bargraphs(distributions_to_plot, ['Exact Distribution', 'Classical-Uniform', 'Quantum-newer default gamma range = (0.2,0.6)',\n",
    "                                                'Quantum-newer new gamma range (0.75,0.9)',\n",
    "                                                'Quantum-older implementation'], \n",
    "                                                list_normalise= [False, False, False,False,False], \n",
    "                                                plot_first_few=15)"
   ]
  },
  {
   "attachments": {},
   "cell_type": "markdown",
   "metadata": {},
   "source": [
    "#### **Proposition Strategy Analysis**"
   ]
  },
  {
   "attachments": {},
   "cell_type": "markdown",
   "metadata": {},
   "source": [
    "Here we analyse the main adavnatge of the Quantum Enhanced MCMC routine, which is to propose transitions which are are more likely to be accepted when compared to usual classical proposition strategies. In the subsequent plots we compare statistics of all proposed transitions with respect to the *Acceptance-Probabilities* , *Energy-Difference*, and the *Hamming-Distance*."
   ]
  },
  {
   "attachments": {},
   "cell_type": "markdown",
   "metadata": {},
   "source": [
    "**Acceptance-Probabilities**\n"
   ]
  },
  {
   "cell_type": "code",
   "execution_count": null,
   "metadata": {},
   "outputs": [],
   "source": [
    "plt.figure(figsize=(10,10))\n",
    "\n",
    "plt.hist(np.log10(cl_statistic['acceptance_prob']),label= 'classical uniform' ,alpha= 0.5, bins= 20)\n",
    "plt.hist(np.log10(qumcm1_statistic['acceptance_prob']),label= 'quantum enhanced newer, default gamma range (0.2,0.6)' , alpha= 0.5, bins= 20)\n",
    "plt.hist(np.log10(qumcm2_statistic['acceptance_prob']),label= 'quantum enhanced newer, new gamma range (0.75,0.9)' , alpha= 0.5, bins= 20)\n",
    "plt.hist(np.log10(qumcm3_statistic['acceptance_prob']),label= 'quantum enhanced older implementation' , alpha= 0.5, bins= 20)\n",
    "\n",
    "\n",
    "# plt.xscale(\"log\")\n",
    "\n",
    "plt.xlabel(\"Acceptance Probabilities | scale: log10\")\n",
    "# plt.ylabel(\"Hamming Distance\")\n",
    "plt.legend()\n",
    "plt.show()"
   ]
  },
  {
   "attachments": {},
   "cell_type": "markdown",
   "metadata": {},
   "source": [
    "The plot depicts that the *Acceptance-Probability* for the *quantum-enhanced* sampling is skewed towards unity, whereas for the *classical-uniform* sampling it is barely close to unity for most of th cases leading to a large rejection rate of the proposed moves."
   ]
  },
  {
   "attachments": {},
   "cell_type": "markdown",
   "metadata": {},
   "source": [
    "**Energy-Difference**"
   ]
  },
  {
   "cell_type": "code",
   "execution_count": null,
   "metadata": {},
   "outputs": [],
   "source": [
    "plt.figure(figsize=(10,10))\n",
    "\n",
    "plt.hist(cl_statistic['energy'],label= 'classical uniform' ,alpha= 0.8, bins= 20)\n",
    "plt.hist(qumcm1_statistic['energy'],label= 'quantum enhanced new default gamma range (0.2,0.6)' , alpha= 0.8, bins= 20)\n",
    "plt.hist(qumcm2_statistic['energy'],label= 'quantum enhanced new large gamma (0.75,0.9)' , alpha= 0.8, bins= 20)\n",
    "plt.hist(qumcm3_statistic['energy'],label= 'quantum enhanced older implmentation' , alpha= 0.8, bins= 20)\n",
    "\n",
    "# plt.xscale(\"log\")\n",
    "\n",
    "plt.xlabel(\"Energy-Difference Statistics\")\n",
    "# plt.ylabel(\"Hamming Distance\")\n",
    "plt.legend()\n",
    "plt.show()"
   ]
  },
  {
   "attachments": {},
   "cell_type": "markdown",
   "metadata": {},
   "source": [
    "The plot shows that the *Energy-Difference* of the propose transitions is low for the case of *quantum-enhanced* transitions compared to the *classical-uniform* sampling, this also explains the trend in *Acceptance-Probability* as it is directly dependent on the former.\n"
   ]
  },
  {
   "attachments": {},
   "cell_type": "markdown",
   "metadata": {},
   "source": [
    "**Hamming-Distance**"
   ]
  },
  {
   "cell_type": "code",
   "execution_count": null,
   "metadata": {},
   "outputs": [],
   "source": [
    "plt.figure(figsize=(10,10))\n",
    "\n",
    "plt.hist(cl_statistic['hamming'],label= 'classical uniform' ,alpha= 0.8, bins= 20)\n",
    "plt.hist(qumcm1_statistic['hamming'],label= 'quantum enhanced newer implementation gamma range (0.2,0.6)' , alpha= 0.8, bins= 20)\n",
    "plt.hist(qumcm2_statistic['hamming'],label= 'quantum enhanced newer, gamma range: (0.75,0.9)' , alpha= 0.8, bins= 20)\n",
    "plt.hist(qumcm3_statistic['hamming'],label= 'quantum enhanced older implementation' , alpha= 0.8, bins= 20)\n",
    "\n",
    "# plt.xscale(\"log\")\n",
    "\n",
    "plt.xlabel(\"Hamming-Distance Statistics\")\n",
    "# plt.ylabel(\"Hamming Distance\")\n",
    "plt.legend()\n",
    "plt.show()"
   ]
  },
  {
   "attachments": {},
   "cell_type": "markdown",
   "metadata": {},
   "source": [
    "#### **Convergence Analysis**"
   ]
  },
  {
   "attachments": {},
   "cell_type": "markdown",
   "metadata": {},
   "source": [
    "##### Magnetisation"
   ]
  },
  {
   "cell_type": "code",
   "execution_count": null,
   "metadata": {},
   "outputs": [],
   "source": [
    "magnetization_model = exact_sampled_model.get_observable_expectation(magnetization_of_state)\n",
    "magnetization_c = calculate_runnning_magnetisation(cl_chain)\n",
    "magnetization_q1 = calculate_runnning_magnetisation(qamcmc_chain_1)\n",
    "magnetization_q2 = calculate_runnning_magnetisation(qamcmc_chain_2)\n",
    "magnetization_q3 = calculate_runnning_magnetisation(qamcmc_chain_3)"
   ]
  },
  {
   "cell_type": "code",
   "execution_count": null,
   "metadata": {},
   "outputs": [],
   "source": [
    "plt.figure(figsize=(10,8))\n",
    "plt.plot(magnetization_c, label= 'classical-uniform')\n",
    "plt.plot(magnetization_q1, label= 'quantum-newer gammarange=(0.2,0.6)')\n",
    "plt.plot(magnetization_q2, label= 'quantum-newer gammarange=(0.75,0.9)')\n",
    "plt.plot(magnetization_q3, label= 'quantum-older implementation gammarange=(0.2,0.6)')\n",
    "plt.axhline(magnetization_model, label= 'original',linestyle='--')\n",
    "plt.xlabel(\"iterations\")\n",
    "plt.ylabel(\"magnetisation\")\n",
    "plt.legend()\n",
    "plt.show()"
   ]
  },
  {
   "attachments": {},
   "cell_type": "markdown",
   "metadata": {},
   "source": [
    "##### KL Divergence"
   ]
  },
  {
   "cell_type": "code",
   "execution_count": null,
   "metadata": {},
   "outputs": [],
   "source": [
    "kldiv_c = calculate_running_kl_divergence(exact_sampled_model.boltzmann_pd, cl_chain)\n",
    "kldiv_q1 = calculate_running_kl_divergence(exact_sampled_model.boltzmann_pd, qamcmc_chain_1)\n",
    "kldiv_q2 = calculate_running_kl_divergence(exact_sampled_model.boltzmann_pd, qamcmc_chain_2)\n",
    "kldiv_q3 = calculate_running_kl_divergence(exact_sampled_model.boltzmann_pd, qamcmc_chain_3)"
   ]
  },
  {
   "cell_type": "code",
   "execution_count": null,
   "metadata": {},
   "outputs": [],
   "source": [
    "plt.figure(figsize=(10,8))\n",
    "plt.plot(kldiv_c, label= 'classical-uniform')\n",
    "plt.plot(kldiv_q1, label= 'quantum-enhanced newer implementation, old gmma range (0.2,0.6)')\n",
    "plt.plot(kldiv_q2, label= 'quantum-enhanced newer, new gamma range (0.75,0.9)')\n",
    "plt.plot(kldiv_q3, label= 'quantum-enhanced older implementation, gamma range (0.2,0.6)')\n",
    "plt.xlabel(\"iterations \")\n",
    "plt.ylabel(\"KL divergence\")\n",
    "plt.yscale('log')\n",
    "plt.legend()\n",
    "plt.show()"
   ]
  },
  {
   "attachments": {},
   "cell_type": "markdown",
   "metadata": {},
   "source": [
    "### discuss the following with Rajarsi"
   ]
  },
  {
   "cell_type": "code",
   "execution_count": null,
   "metadata": {},
   "outputs": [],
   "source": [
    "# from qulacs import Observable, PauliOperator"
   ]
  },
  {
   "cell_type": "code",
   "execution_count": null,
   "metadata": {},
   "outputs": [],
   "source": [
    "# #\n",
    "# def hamiltonian_for_mcmc_problem_half(model:IsingEnergyFunction,alpha,gamma):\n",
    "#     J=model.get_J; h=model.get_h; num_spins=model.num_spins\n",
    "#     hamiltonian_mcmc= Observable(num_spins)\n",
    "#     one_minus_gamma_times_alpha=(1-gamma)*alpha#one_minus_gamma_times_alpha\n",
    "#     for i in range(0,num_spins):\n",
    "#         pstr = 'Z ' + str(i)\n",
    "#         hamiltonian_mcmc.add_operator(PauliOperator(pstr, coef=  one_minus_gamma_times_alpha*h[i]))\n",
    "\n",
    "#         for j in range(0, i):\n",
    "#             pstr = 'Z ' + str(i) + ' ' + 'Z ' + str(j)\n",
    "#             hamiltonian_mcmc.add_operator(PauliOperator(pstr,\n",
    "#                                                             coef=one_minus_gamma_times_alpha* J[i,j]))\n",
    "\n",
    "#     return hamiltonian_mcmc\n"
   ]
  },
  {
   "cell_type": "code",
   "execution_count": null,
   "metadata": {},
   "outputs": [],
   "source": [
    "# def create_X_mixer_hamiltonian_2(hamiltonian_mcmc_in:Observable,num_spins:int,weight_individual_pauli:int,coef:list):\n",
    "#     num_sumterms=num_spins-weight_individual_pauli+1\n",
    "#     list_individual_terms=[(\"X %d \"*weight_individual_pauli) % tuple(range(i,i+weight_individual_pauli)) for i in range(0,num_sumterms)]\n",
    "#     #print(\"list_individual_terms:\")\n",
    "#     #print(list_individual_terms)\n",
    "#     for i in range(0,num_sumterms):\n",
    "#         hamiltonian_mcmc_in.add_operator(coef=coef[i],string=list_individual_terms[i])\n",
    "#     return hamiltonian_mcmc_in"
   ]
  },
  {
   "cell_type": "code",
   "execution_count": null,
   "metadata": {},
   "outputs": [],
   "source": [
    "# check_1=hamiltonian_for_mcmc_problem_half(model=model,alpha=model.alpha,gamma=gamma)\n",
    "# weight_individual_pauli=1\n",
    "# num_sumterms=n_spins-weight_individual_pauli+1\n",
    "# check_2=create_X_mixer_hamiltonian_2(check_1,n_spins,1,coef=[gamma]*num_sumterms)\n"
   ]
  },
  {
   "cell_type": "code",
   "execution_count": null,
   "metadata": {},
   "outputs": [],
   "source": [
    "# check_2.get_matrix().A"
   ]
  },
  {
   "attachments": {},
   "cell_type": "markdown",
   "metadata": {},
   "source": [
    "#### ..............................................................."
   ]
  },
  {
   "cell_type": "code",
   "execution_count": null,
   "metadata": {},
   "outputs": [],
   "source": [
    "# from qulacs import PauliOperator\n",
    "# Pauli_string='Z 0 I 1'\n",
    "# pauli_check=PauliOperator(Pauli_string,coef=1)"
   ]
  },
  {
   "cell_type": "code",
   "execution_count": null,
   "metadata": {},
   "outputs": [],
   "source": [
    "# pauli_check.get_pauli_id_list()"
   ]
  },
  {
   "cell_type": "code",
   "execution_count": null,
   "metadata": {},
   "outputs": [],
   "source": [
    "# from qulacs.gate import merge,Identity,Z"
   ]
  },
  {
   "cell_type": "code",
   "execution_count": null,
   "metadata": {},
   "outputs": [],
   "source": [
    "# gate_Z0_I1=merge([Z(2),Identity(1)])"
   ]
  },
  {
   "cell_type": "code",
   "execution_count": null,
   "metadata": {},
   "outputs": [],
   "source": [
    "# gate_Z0_I1.get_matrix()"
   ]
  },
  {
   "cell_type": "code",
   "execution_count": null,
   "metadata": {},
   "outputs": [],
   "source": [
    "# gate_Z0_I1.get_matrix()"
   ]
  },
  {
   "cell_type": "code",
   "execution_count": null,
   "metadata": {},
   "outputs": [],
   "source": [
    "# Z(0).get_matrix(),Z(2).get_matrix()"
   ]
  },
  {
   "cell_type": "code",
   "execution_count": null,
   "metadata": {},
   "outputs": [],
   "source": [
    "# # qulacs imports\n",
    "# from qulacs import QuantumState, QuantumCircuit\n",
    "# from qulacsvis import circuit_drawer\n",
    "# from scipy.linalg import expm\n",
    "# from qulacs.gate import DenseMatrix\n",
    "# from qulacs.gate import X, Y, Z  , Pauli, Identity, merge"
   ]
  },
  {
   "attachments": {},
   "cell_type": "markdown",
   "metadata": {},
   "source": [
    "# checking effect of changing gamma and delta_t"
   ]
  },
  {
   "cell_type": "code",
   "execution_count": null,
   "metadata": {},
   "outputs": [],
   "source": [
    "## import essential modules \n",
    "import qumcmc \n",
    "from qumcmc.basic_utils import *\n",
    "# from qumcmc.energy_models import IsingEnergyFunction\n",
    "from qumcmc.energy_models import IsingEnergyFunction, Exact_Sampling\n",
    "\n",
    "from qumcmc.classical_mcmc_routines import classical_mcmc\n",
    "#from qumcmc.quantum_mcmc_routines_qulacs import quantum_enhanced_mcmc     #for Qulacs Simulator backend (** Faster )\n",
    "from qumcmc.quantum_mcmc_routines_qulacs_exact import quantum_mcmc_exact\n",
    "#  from qumcmc.quantum_mcmc_routines_qiskit import quantum_enhanced_mcmc   #for qiskit Aer's Simulator backend \n",
    "\n",
    "from qumcmc.trajectory_processing import calculate_running_js_divergence, calculate_running_kl_divergence, calculate_runnning_magnetisation, get_trajectory_statistics\n",
    "from scipy.linalg import expm\n",
    "from qulacs.gate import DenseMatrix, SparseMatrix\n",
    "from qulacs import QuantumState\n",
    "from qumcmc.quantum_mcmc_routines_qulacs import quantum_enhanced_mcmc\n",
    "from qumcmc.quantum_mcmc_qulacs_2 import quantum_enhanced_mcmc_2\n",
    "\n",
    "import pickle"
   ]
  },
  {
   "cell_type": "code",
   "execution_count": null,
   "metadata": {},
   "outputs": [],
   "source": [
    "import sys \n",
    "sys.path.append('..')"
   ]
  },
  {
   "cell_type": "code",
   "execution_count": 12,
   "metadata": {},
   "outputs": [],
   "source": [
    "name = f'gamma_variation/num_spins_10_Gamma_var_num_spins_10_beta_1.5_seed_1.pkl'\n",
    "with open(name,'rb') as f:\n",
    "    dict_mcmc_chains_different_gamma_ranges=pickle.load(f)"
   ]
  },
  {
   "cell_type": "code",
   "execution_count": null,
   "metadata": {},
   "outputs": [],
   "source": [
    "# define the model # seed 4\n",
    "seed_val=4\n",
    "np.random.seed(seed_val)#(610358)# should always be in the same cell!  ## best seed -> 610358\n",
    "n_spins = 10\n",
    "\n",
    "## construct problem Hamiltonian ##\n",
    "shape_of_J=(n_spins,n_spins)\n",
    "\n",
    "## defining J matrix (mutual 1-1 interaction)\n",
    "J =  np.round(np.random.choice([+1, 0, -1], size=(n_spins, n_spins)), decimals=2) \n",
    "J =  np.random.uniform(low= -2, high= 2, size= shape_of_J )\n",
    "J = 0.5 * (J + J.transpose() )\n",
    "J = np.round( J - np.diag(np.diag(J)) , decimals= 3)\n",
    "\n",
    "#evaluating J for BAS dataset\n",
    "#J=-1*wt#np.array([[0,0,0,4],[0,0,4,0],[0,4,0,0],[4,0,0,0]])\n",
    "# defining h\n",
    "#h = np.round(0.5 * np.random.randn(n_spins), decimals=2)\n",
    "h = np.round(np.random.uniform(low= -1, high = 1, size= (n_spins)), decimals=2)\n",
    "#h=np.zeros(np.shape(J)[0])\n",
    "# instantiate the model\n",
    "model = IsingEnergyFunction(J, h, name= 'my_model')\n",
    "#model=IsingEnergyFunction(J,h,name=f\"BAS data of gridsize {np.shape(J)[0]}\")"
   ]
  },
  {
   "cell_type": "code",
   "execution_count": null,
   "metadata": {},
   "outputs": [],
   "source": [
    "def define_ising_model(n_spins:int,seed_val:int):\n",
    "    # define the model # seed 4\n",
    "    np.random.seed(seed_val)#(610358)# should always be in the same cell!  ## best seed -> 610358\n",
    "\n",
    "    ## construct problem Hamiltonian ##\n",
    "    shape_of_J=(n_spins,n_spins)\n",
    "\n",
    "    ## defining J matrix (mutual 1-1 interaction)\n",
    "    J =  np.round(np.random.choice([+1, 0, -1], size=(n_spins, n_spins)), decimals=2) \n",
    "    J =  np.random.uniform(low= -2, high= 2, size= shape_of_J )\n",
    "    J = 0.5 * (J + J.transpose() )\n",
    "    J = np.round( J - np.diag(np.diag(J)) , decimals= 3)\n",
    "\n",
    "    # defining h\n",
    "    h = np.round(np.random.uniform(low= -1, high = 1, size= (n_spins)), decimals=2)\n",
    "    # instantiate the model\n",
    "    model = IsingEnergyFunction(J, h, name= 'my_model')\n",
    "    return model\n"
   ]
  },
  {
   "cell_type": "code",
   "execution_count": null,
   "metadata": {},
   "outputs": [],
   "source": [
    "beta =1.5\n",
    "## run exact sampling over all possible configurations \n",
    "exact_sampled_model = Exact_Sampling(model, beta)\n",
    "## get the distribution from model\n",
    "bpd = exact_sampled_model.boltzmann_pd\n",
    "\n",
    "## exact sampling summary\n",
    "exact_sampled_model.sampling_summary()"
   ]
  },
  {
   "attachments": {},
   "cell_type": "markdown",
   "metadata": {},
   "source": [
    "### different ranges of gamma"
   ]
  },
  {
   "cell_type": "code",
   "execution_count": null,
   "metadata": {},
   "outputs": [],
   "source": [
    "# delta_t=0.8\n",
    "# list_range_gamma=[(0.01,0.1),(0.11,0.4),(0.41,0.7),(0.75,0.95)]#[(0.2,0.6),(0.65,0.95)]#[(0.01,0.1),(0.11,0.4),(0.41,0.7),(0.75,0.95)]\n",
    "# dict_mcmc_chains_different_gamma_ranges={}"
   ]
  },
  {
   "cell_type": "code",
   "execution_count": null,
   "metadata": {},
   "outputs": [],
   "source": [
    "# path='''D:\\\\Desktop\\\\QBM project with Manuel\\\\qumcmc_apr\\\\quMCMC\\\\gamma_variation\\\\num_spins_10'''\n",
    "# a='\\\\123'\n",
    "# path+a"
   ]
  },
  {
   "cell_type": "code",
   "execution_count": null,
   "metadata": {},
   "outputs": [],
   "source": [
    "n_spins=11; beta=1.5\n",
    "for seed_val in tqdm(range(1,10+1)):\n",
    "    model=define_ising_model(n_spins=n_spins,seed_val=seed_val)\n",
    "    ## run exact sampling over all possible configurations \n",
    "    exact_sampled_model = Exact_Sampling(model, beta)\n",
    "    ## get the distribution from model\n",
    "    bpd = exact_sampled_model.boltzmann_pd\n",
    "    delta_t=0.8\n",
    "    list_range_gamma=[(0.01,0.1),(0.11,0.4),(0.41,0.7),(0.75,0.95)]\n",
    "    dict_mcmc_chains_different_gamma_ranges={}\n",
    "    for i in range(0,len(list_range_gamma)):\n",
    "        steps=10000\n",
    "        temp_val=1/beta\n",
    "        qamcmc_chain=quantum_enhanced_mcmc_2(n_hops=steps,\n",
    "                                                model=model,\n",
    "                                                temperature=temp_val,\n",
    "                                                verbose= True,\n",
    "                                                delta_time=delta_t,\n",
    "                                                gamma_range=list_range_gamma[i]\n",
    "        )\n",
    "        dict_mcmc_chains_different_gamma_ranges[f\"gamma_range={list_range_gamma[i]}\"]=qamcmc_chain\n",
    "    # storing the data\n",
    "    path=f'''D:\\\\Desktop\\\\QBM project with Manuel\\\\qumcmc_apr\\\\quMCMC\\\\gamma_variation\\\\num_spins_{n_spins}'''\n",
    "    name=path+f'_Gamma_var_num_spins_{n_spins}_beta_{beta}_seed_{seed_val}.pkl'\n",
    "    with open(name,'wb') as f:\n",
    "        pickle.dump(dict_mcmc_chains_different_gamma_ranges,f)"
   ]
  },
  {
   "cell_type": "code",
   "execution_count": null,
   "metadata": {},
   "outputs": [],
   "source": [
    "################################## Plots for different gamma ranges\n",
    "# model for the loaded dataset\n",
    "seed_val=10; n_spins=8; beta=1.5\n",
    "model=define_ising_model(n_spins=n_spins,seed_val=seed_val)\n",
    "## run exact sampling over all possible configurations \n",
    "exact_sampled_model = Exact_Sampling(model, beta)\n",
    "## get the distribution from model\n",
    "bpd = exact_sampled_model.boltzmann_pd\n",
    "delta_t=0.8\n",
    "list_range_gamma=[(0.01,0.1),(0.11,0.4),(0.41,0.7),(0.75,0.95)]\n",
    "\n",
    "dict_mcmc_chains_different_gamma_ranges={}\n",
    "#name='Gamma_var_gamma_range_[(0.01, 0.1), (0.11, 0.4), (0.41, 0.7), (0.75, 0.95)]_delta_t_0.8_num_spins_10_seed_4_beta_1.5.pkl'\n",
    "name=f'D:\\\\Desktop\\\\QBM project with Manuel\\\\qumcmc_apr\\\\quMCMC\\\\gamma_variation\\\\num_spins_{n_spins}_Gamma_var_num_spins_{n_spins}_beta_{beta}_seed_{seed_val}.pkl'\n",
    "#name='num_spins_10_Gamma_var_num_spins_10_beta_1.5_seed_1.pkl'# surprisingly not working?\n",
    "with open(name,'rb') as f:\n",
    "    dict_mcmc_chains_different_gamma_ranges=pickle.load(f)\n",
    "\n",
    "\n",
    "###dict mcmc statistics\n",
    "dict_mcmc_statistics={}\n",
    "for i in range(0,len(list_range_gamma)):\n",
    "    print(f\"gamma range: {list_range_gamma[i]}\")\n",
    "    mcmc_chain=dict_mcmc_chains_different_gamma_ranges[f\"gamma_range={list_range_gamma[i]}\"]\n",
    "    statistics=get_trajectory_statistics(mcmc_chain,exact_sampled_model,verbose=False)\n",
    "    dict_mcmc_statistics[f\"gamma_range={list_range_gamma[i]}\"]=statistics\n",
    "#dict_mcmc_statistics.keys()\n",
    "\n",
    "#\n",
    "# ### acceptance probability plot\n",
    "plt.figure(figsize=(10,10))\n",
    "\n",
    "#plt.hist(np.log10(cl_statistic['acceptance_prob']),label= 'classical uniform' ,alpha= 0.8, bins= 20)\n",
    "for i in tqdm(range(0, len(list_range_gamma))):\n",
    "    mcmc_statistics=dict_mcmc_statistics[f\"gamma_range={list_range_gamma[i]}\"]\n",
    "    plt.hist(np.log10(mcmc_statistics[\"acceptance_prob\"]),\n",
    "         label= r'$\\gamma \\in$'+str(list_range_gamma[i]), \n",
    "         alpha= 0.4, bins= 50)\n",
    "# plt.xscale(\"log\")\n",
    "plt.xlabel(\"Acceptance Probabilities | scale: log10\")\n",
    "plt.title(f\"num_spins={n_spins}, number of iterations=10k\")\n",
    "plt.legend()\n",
    "plt.show()\n",
    "\n",
    "plt.figure(2,figsize=(10,12))\n",
    "for i in tqdm(range(0,len(list_range_gamma))):\n",
    "    mcmc_statistics=dict_mcmc_statistics[f\"gamma_range={list_range_gamma[i]}\"]\n",
    "    plt.subplot(2,2,i+1)\n",
    "    plt.hist(np.log10(mcmc_statistics[\"acceptance_prob\"]),\n",
    "         label= r'$\\gamma \\in$'+str(list_range_gamma[i]), \n",
    "         alpha= 0.6, bins= 50)\n",
    "    plt.legend()\n",
    "plt.xlabel(\"Acceptance Probabilities | scale: log10\")\n",
    "plt.suptitle(f\"Acceptance Probabilities num_spins={n_spins}, number of iterations=10k\")\n",
    "plt.show()\n",
    "\n",
    "#\n",
    "### hamming distance plot\n",
    "plt.figure(3,figsize=(8,8))\n",
    "for i in tqdm(range(0,len(list_range_gamma))):\n",
    "    mcmc_statistics=dict_mcmc_statistics[f'gamma_range={list_range_gamma[i]}']\n",
    "    list_hamming_dist_accepted=[mcmc_statistics['hamming'][k]['accepted']/mcmc_statistics['hamming'][k]['total'] \n",
    "                                if mcmc_statistics['hamming'][k]['total']!=0 else 0 for k in range(0,n_spins+1) ]\n",
    "    list_hamming_dist_rejected=[mcmc_statistics['hamming'][k]['rejected']/mcmc_statistics['hamming'][k]['total'] \n",
    "                                if mcmc_statistics['hamming'][k]['total']!=0 else 0 for k in range(0,n_spins+1) ]\n",
    "    #list_hamming_dist_total=[mcmc_statistics['hamming'][k]['total'] for k in range(0,n_spins+1)]\n",
    "    plt.subplot(2,2,i+1)\n",
    "    plt.stem(list(mcmc_statistics['hamming'].keys()),list_hamming_dist_accepted,'b',label=r'$\\frac{accepted}{proposed}$')\n",
    "    plt.stem(list(mcmc_statistics['hamming'].keys()),list_hamming_dist_rejected,'g',markerfmt=\"X\",label=r'$\\frac{rejected}{proposed}$')\n",
    "    #plt.stem(list(mcmc_statistics['hamming'].keys()),list_hamming_dist_total,'k',markerfmt=\"x\",label='no. of proposals')\n",
    "    plt.title(r'$\\gamma \\in $'+str(list_range_gamma[i]))\n",
    "    plt.yscale('log')\n",
    "plt.legend(bbox_to_anchor=(1.75,1.3),fontsize=20)\n",
    "plt.suptitle(f'Hamming distance plot: num spins={n_spins}, beta={beta}, no. of iterations={10}k')\n",
    "\n",
    "\n",
    "########################################"
   ]
  },
  {
   "cell_type": "code",
   "execution_count": null,
   "metadata": {},
   "outputs": [],
   "source": [
    "dict_mcmc_chains_different_gamma_ranges={}\n",
    "#name='Gamma_var_gamma_range_[(0.01, 0.1), (0.11, 0.4), (0.41, 0.7), (0.75, 0.95)]_delta_t_0.8_num_spins_10_seed_4_beta_1.5.pkl'\n",
    "name=f'D:\\\\Desktop\\\\QBM project with Manuel\\\\qumcmc_apr\\\\quMCMC\\\\gamma_variation\\\\num_spins_10_Gamma_var_num_spins_{n_spins}_beta_{beta}_seed_{seed_val}.pkl'\n",
    "#name='num_spins_10_Gamma_var_num_spins_10_beta_1.5_seed_1.pkl'# surprisingly not working?\n",
    "with open(name,'rb') as f:\n",
    "    dict_mcmc_chains_different_gamma_ranges=pickle.load(f)"
   ]
  },
  {
   "cell_type": "code",
   "execution_count": null,
   "metadata": {},
   "outputs": [],
   "source": [
    "# dict mcmc statistics\n",
    "dict_mcmc_statistics={}\n",
    "for i in range(0,len(list_range_gamma)):\n",
    "    print(f\"gamma range: {list_range_gamma[i]}\")\n",
    "    mcmc_chain=dict_mcmc_chains_different_gamma_ranges[f\"gamma_range={list_range_gamma[i]}\"]\n",
    "    statistics=get_trajectory_statistics(mcmc_chain,exact_sampled_model,verbose=False)\n",
    "    dict_mcmc_statistics[f\"gamma_range={list_range_gamma[i]}\"]=statistics\n",
    "dict_mcmc_statistics.keys()"
   ]
  },
  {
   "cell_type": "code",
   "execution_count": null,
   "metadata": {},
   "outputs": [],
   "source": [
    "# dict_mcmc_statistics['gamma_range=(0.01, 0.1)']['hamming']"
   ]
  },
  {
   "attachments": {},
   "cell_type": "markdown",
   "metadata": {},
   "source": [
    "confirm things regarding KL and skipping first few values"
   ]
  },
  {
   "cell_type": "code",
   "execution_count": null,
   "metadata": {},
   "outputs": [],
   "source": [
    "# dict mcmc statistics\n",
    "dict_KL={}\n",
    "for i in range(0,len(list_range_gamma)):\n",
    "    print(f\"gamma range: {list_range_gamma[i]}\")\n",
    "    mcmc_chain=dict_mcmc_chains_different_gamma_ranges[f\"gamma_range={list_range_gamma[i]}\"]\n",
    "    dict_KL[f\"gamma_range={list_range_gamma[i]}\"]=calculate_running_kl_divergence(\n",
    "            exact_sampled_model.boltzmann_pd,mcmc_chain\n",
    "        )"
   ]
  },
  {
   "attachments": {},
   "cell_type": "markdown",
   "metadata": {},
   "source": [
    "### 1. Acceptance probability plot"
   ]
  },
  {
   "cell_type": "code",
   "execution_count": null,
   "metadata": {},
   "outputs": [],
   "source": [
    "# ### acceptance probability plot\n",
    "plt.figure(figsize=(10,10))\n",
    "\n",
    "#plt.hist(np.log10(cl_statistic['acceptance_prob']),label= 'classical uniform' ,alpha= 0.8, bins= 20)\n",
    "for i in tqdm(range(0, len(list_range_gamma))):\n",
    "    mcmc_statistics=dict_mcmc_statistics[f\"gamma_range={list_range_gamma[i]}\"]\n",
    "    plt.hist(np.log10(mcmc_statistics[\"acceptance_prob\"]),\n",
    "         label= r'$\\gamma \\in$'+str(list_range_gamma[i]), \n",
    "         alpha= 0.4, bins= 50)\n",
    "# plt.xscale(\"log\")\n",
    "\n",
    "plt.xlabel(\"Acceptance Probabilities | scale: log10\")\n",
    "plt.title(f\"num_spins={n_spins}, number of iterations=10k\")\n",
    "plt.legend()\n",
    "plt.show()\n",
    "\n",
    "plt.figure(2,figsize=(10,12))\n",
    "for i in tqdm(range(0,len(list_range_gamma))):\n",
    "    mcmc_statistics=dict_mcmc_statistics[f\"gamma_range={list_range_gamma[i]}\"]\n",
    "    plt.subplot(2,2,i+1)\n",
    "    plt.hist(np.log10(mcmc_statistics[\"acceptance_prob\"]),\n",
    "         label= r'$\\gamma \\in$'+str(list_range_gamma[i]), \n",
    "         alpha= 0.6, bins= 50)\n",
    "    plt.legend()\n",
    "\n",
    "plt.xlabel(\"Acceptance Probabilities | scale: log10\")\n",
    "plt.suptitle(f\"Acceptance Probabilities num_spins={n_spins}, number of iterations=10k\")\n",
    "\n",
    "\n",
    "# plt.ylabel(\"Hamming Distance\")\n",
    "plt.show()"
   ]
  },
  {
   "attachments": {},
   "cell_type": "markdown",
   "metadata": {},
   "source": [
    "### 2. Hamming distance plot"
   ]
  },
  {
   "cell_type": "code",
   "execution_count": null,
   "metadata": {},
   "outputs": [],
   "source": [
    "# mcmc_statistics=dict_mcmc_statistics['gamma_range=(0.41, 0.7)']\n",
    "# list_hamming_dist_accepted=[mcmc_statistics['hamming'][k]['accepted'] for k in range(0,n_spins+1)]\n",
    "# list_hamming_dist_rejected=[mcmc_statistics['hamming'][k]['rejected'] for k in range(0,n_spins+1)]\n",
    "# list_hamming_dist_total=[mcmc_statistics['hamming'][k]['total'] for k in range(0,n_spins+1)]"
   ]
  },
  {
   "cell_type": "code",
   "execution_count": null,
   "metadata": {},
   "outputs": [],
   "source": [
    "plt.figure(3,figsize=(8,8))\n",
    "\n",
    "\n",
    "for i in tqdm(range(0,len(list_range_gamma))):\n",
    "\n",
    "    mcmc_statistics=dict_mcmc_statistics[f'gamma_range={list_range_gamma[i]}']\n",
    "    list_hamming_dist_accepted=[mcmc_statistics['hamming'][k]['accepted']/mcmc_statistics['hamming'][k]['total'] \n",
    "                                if mcmc_statistics['hamming'][k]['total']!=0 else 0 for k in range(0,n_spins+1) ]\n",
    "    list_hamming_dist_rejected=[mcmc_statistics['hamming'][k]['rejected']/mcmc_statistics['hamming'][k]['total'] \n",
    "                                if mcmc_statistics['hamming'][k]['total']!=0 else 0 for k in range(0,n_spins+1) ]\n",
    "    #list_hamming_dist_total=[mcmc_statistics['hamming'][k]['total'] for k in range(0,n_spins+1)]\n",
    "\n",
    "\n",
    "    plt.subplot(2,2,i+1)\n",
    "    plt.stem(list(mcmc_statistics['hamming'].keys()),list_hamming_dist_accepted,'b',label=r'$\\frac{accepted}{proposed}$')\n",
    "    plt.stem(list(mcmc_statistics['hamming'].keys()),list_hamming_dist_rejected,'g',markerfmt=\"X\",label=r'$\\frac{rejected}{proposed}$')\n",
    "    #plt.stem(list(mcmc_statistics['hamming'].keys()),list_hamming_dist_total,'k',markerfmt=\"x\",label='no. of proposals')\n",
    "    plt.title(r'$\\gamma \\in $'+str(list_range_gamma[i]))\n",
    "    plt.yscale('log')\n",
    "    # ax.set_xlabel(\"hamming distance\")\n",
    "    # ax.set_ylabel(\"number of samples\")\n",
    "    # ax.set_title(f\"num_spins={n_spins}, number of iterations=10k\")\n",
    "plt.legend(bbox_to_anchor=(1.75,1.3),fontsize=20)\n",
    "plt.suptitle(f'Hamming distance plot: num spins={n_spins}, beta={beta}, no. of iterations={10}k')"
   ]
  },
  {
   "attachments": {},
   "cell_type": "markdown",
   "metadata": {},
   "source": [
    "### 3. KL plot"
   ]
  },
  {
   "cell_type": "code",
   "execution_count": null,
   "metadata": {},
   "outputs": [],
   "source": [
    "# this function would be useful for plotting curves\n",
    "def plot_with_error_band(xval:list,y_list_of_list:list,label:str,\n",
    "                            std_dev_multiplicative_factor:int=1,\n",
    "                            alpha_for_plot:float=0.5):\n",
    "\n",
    "    curve_of_mean_value=np.mean(y_list_of_list,axis=0)\n",
    "    standard_dev_band=np.std(y_list_of_list,axis=0)\n",
    "    plt.plot(xval,curve_of_mean_value,\"-\",label=label)\n",
    "    plt.fill_between(xval,\n",
    "                        curve_of_mean_value-standard_dev_band* std_dev_multiplicative_factor,\n",
    "                        curve_of_mean_value+standard_dev_band* std_dev_multiplicative_factor,\n",
    "                        alpha=alpha_for_plot)"
   ]
  },
  {
   "cell_type": "code",
   "execution_count": null,
   "metadata": {},
   "outputs": [],
   "source": [
    "plt.figure(figsize=(10,8))\n",
    "\n",
    "for i in range(0,len(list_range_gamma)):\n",
    "    list_of_list_kl=[dict_KL[f\"gamma_range={list_range_gamma[i]}\"]\n",
    "                    ]\n",
    "    xval=list(range(0,len(list_of_list_kl[0])))\n",
    "    plot_with_error_band(xval,list_of_list_kl,label=r'$\\gamma \\in$'+str(list_range_gamma[i]))\n",
    "\n",
    "plt.xlabel(\"iterations\")\n",
    "plt.ylabel(\"KL divergence\")\n",
    "plt.yscale('log')\n",
    "plt.legend()\n",
    "plt.show()"
   ]
  },
  {
   "attachments": {},
   "cell_type": "markdown",
   "metadata": {},
   "source": [
    "### checking effect of different range of delta_t"
   ]
  },
  {
   "cell_type": "code",
   "execution_count": null,
   "metadata": {},
   "outputs": [],
   "source": [
    "# for i in tqdm(range(0, len(list_delta_t))):\n",
    "#     steps=10000\n",
    "#     qamcmc_chain=quantum_enhanced_mcmc_2(n_hops=steps,\n",
    "#                                          model=model,\n",
    "#                                          temperature=1/beta,\n",
    "#                                          verbose=False,\n",
    "#                                          delta_time=delta_t)#,\n",
    "#                                          #initial_state='0010011100')\n",
    "#     dict_delta_t[i]=qamcmc_chain"
   ]
  },
  {
   "cell_type": "code",
   "execution_count": null,
   "metadata": {},
   "outputs": [],
   "source": [
    "# name=f'delta_t_{delta_t}_num_spins_{n_spins}_seed_{seed_val}_beta_{beta}.pkl'"
   ]
  },
  {
   "cell_type": "code",
   "execution_count": null,
   "metadata": {},
   "outputs": [],
   "source": [
    "# with open(name,'wb') as f:\n",
    "#     pickle.dump(dict_delta_t,f)"
   ]
  },
  {
   "cell_type": "code",
   "execution_count": null,
   "metadata": {},
   "outputs": [],
   "source": [
    "# ### acceptance probability plot\n",
    "# plt.figure(figsize=(10,10))\n",
    "\n",
    "# #plt.hist(np.log10(cl_statistic['acceptance_prob']),label= 'classical uniform' ,alpha= 0.8, bins= 20)\n",
    "# for i in tqdm(range(0, len(list_delta_t))):\n",
    "#     mcmc_statistics=dict_mcmc_statistics[list_delta_t[i]]\n",
    "#     plt.hist(np.log10(mcmc_statistics[\"acceptance_prob\"]),\n",
    "#          label= r'$\\delta$ t='+str(list_delta_t[i]), \n",
    "#          alpha= 0.6, bins= 50)\n",
    "# # plt.xscale(\"log\")\n",
    "\n",
    "# plt.xlabel(\"Acceptance Probabilities | scale: log10\")\n",
    "# plt.title(\"num_spins=10, number of iterations=10k\")\n",
    "# # plt.ylabel(\"Hamming Distance\")\n",
    "# plt.legend()\n",
    "# plt.show()"
   ]
  },
  {
   "cell_type": "code",
   "execution_count": null,
   "metadata": {},
   "outputs": [],
   "source": [
    "# ###  energy difference\n",
    "# plt.figure(figsize=(10,10))\n",
    "\n",
    "# #plt.hist(np.log10(cl_statistic['acceptance_prob']),label= 'classical uniform' ,alpha= 0.8, bins= 20)\n",
    "# for i in tqdm(range(0, len(list_delta_t))):\n",
    "#     mcmc_statistics=dict_mcmc_statistics[list_delta_t[i]]\n",
    "#     plt.hist(mcmc_statistics['energy'],\n",
    "#          label= r'$\\delta$ t='+str(i), \n",
    "#          alpha= 0.6, bins= 50)\n",
    "# # plt.xscale(\"log\")\n",
    "\n",
    "# plt.xlabel(\"Energy-Difference Statistics\")\n",
    "# plt.title(\"num_spins=10, number of iterations=10k\")\n",
    "# # plt.ylabel(\"Hamming Distance\")\n",
    "# plt.legend()\n",
    "# plt.show()"
   ]
  },
  {
   "cell_type": "code",
   "execution_count": null,
   "metadata": {},
   "outputs": [],
   "source": [
    "# # hamming distance\n",
    "# plt.figure(figsize=(10,10))\n",
    "\n",
    "# #plt.hist(np.log10(cl_statistic['acceptance_prob']),label= 'classical uniform' ,alpha= 0.8, bins= 20)\n",
    "# for i in tqdm(range(0, len(list_delta_t))):\n",
    "#     mcmc_statistics=dict_mcmc_statistics[list_delta_t[i]]\n",
    "#     plt.hist(mcmc_statistics['hamming'],\n",
    "#          label= r'$\\delta$ t='+str(i), \n",
    "#          alpha= 0.6, bins= 50)\n",
    "# # plt.xscale(\"log\")\n",
    "\n",
    "# plt.xlabel(\"Hamming-distanc-Statistics\")\n",
    "# plt.title(\"num_spins=10, number of iterations=10k\")\n",
    "# # plt.ylabel(\"Hamming Distance\")\n",
    "# plt.legend()\n",
    "# plt.show()"
   ]
  },
  {
   "cell_type": "code",
   "execution_count": null,
   "metadata": {},
   "outputs": [],
   "source": [
    "# dict_magnetisation={}"
   ]
  },
  {
   "cell_type": "code",
   "execution_count": null,
   "metadata": {},
   "outputs": [],
   "source": [
    "# ### magnetisation analysis\n",
    "# magnetization_model = exact_sampled_model.get_observable_expectation(magnetization_of_state)\n",
    "\n",
    "# for i in tqdm(range(0, len(list_delta_t))):\n",
    "#     mcmc_chain=dict_delta_t[list_delta_t[i]]\n",
    "#     mag_quantum=calculate_runnning_magnetisation(mcmc_chain)\n",
    "#     dict_magnetisation[list_delta_t[i]]=mag_quantum"
   ]
  },
  {
   "cell_type": "code",
   "execution_count": null,
   "metadata": {},
   "outputs": [],
   "source": [
    "# # running magnetisation\n",
    "# plt.figure(figsize=(10,8))\n",
    "\n",
    "# for i in tqdm(range(0, len(list_delta_t))):\n",
    "#     mag=dict_magnetisation[list_delta_t[i]]\n",
    "#     plt.plot(mag, label=r'$\\delta$ t='+str(list_delta_t[i]))\n",
    "\n",
    "# plt.axhline(magnetization_model, label= 'original', linestyle='--')\n",
    "# plt.xlabel(\"iterations\")\n",
    "# plt.ylabel(\"magnetisation\")\n",
    "# plt.legend()\n",
    "# plt.show()"
   ]
  },
  {
   "cell_type": "code",
   "execution_count": null,
   "metadata": {},
   "outputs": [],
   "source": [
    "# ### KL Divergence\n",
    "# dict_kl={}"
   ]
  },
  {
   "cell_type": "code",
   "execution_count": null,
   "metadata": {},
   "outputs": [],
   "source": [
    "# ### kl divergence\n",
    "# for i in tqdm(range(0, len(list_delta_t))):\n",
    "#     mcmc_chain=dict_delta_t[list_delta_t[i]]\n",
    "#     kldiv=calculate_running_kl_divergence(exact_sampled_model.boltzmann_pd, mcmc_chain)\n",
    "#     dict_kl[list_delta_t[i]]=kldiv"
   ]
  },
  {
   "cell_type": "code",
   "execution_count": null,
   "metadata": {},
   "outputs": [],
   "source": [
    "# # KL\n",
    "# plt.figure(figsize=(10,8))\n",
    "\n",
    "# for i in tqdm(range(0, len(list_delta_t))):\n",
    "#     kl=dict_kl[list_delta_t[i]]\n",
    "#     plt.plot(kl, label=r'$\\delta$ t='+str(list_delta_t[i]))\n",
    "\n",
    "# plt.xlabel(\"iterations\")\n",
    "# plt.ylabel(\"KL divergence\")\n",
    "# plt.yscale('log')\n",
    "# plt.legend()\n",
    "# plt.show()"
   ]
  },
  {
   "cell_type": "code",
   "execution_count": null,
   "metadata": {},
   "outputs": [],
   "source": [
    "# import numpy as np\n",
    "# import matplotlib.pyplot as plt\n",
    "# import pickle"
   ]
  },
  {
   "cell_type": "code",
   "execution_count": null,
   "metadata": {},
   "outputs": [],
   "source": [
    "# this function would be useful for plotting curves\n",
    "# def plot_with_error_band(xval:list,y_list_of_list:list,label:str,\n",
    "#                             std_dev_multiplicative_factor:int=1,\n",
    "#                             alpha_for_plot:float=0.5):\n",
    "\n",
    "#     curve_of_mean_value=np.mean(y_list_of_list,axis=0)\n",
    "#     standard_dev_band=np.std(y_list_of_list,axis=0)\n",
    "#     plt.plot(xval,curve_of_mean_value,\"-\",label=label)\n",
    "#     plt.fill_between(xval,\n",
    "#                         curve_of_mean_value-standard_dev_band* std_dev_multiplicative_factor,\n",
    "#                         curve_of_mean_value+standard_dev_band* std_dev_multiplicative_factor,\n",
    "#                         alpha=alpha_for_plot)"
   ]
  },
  {
   "cell_type": "code",
   "execution_count": null,
   "metadata": {},
   "outputs": [],
   "source": [
    "# loading the data\n",
    "# delta_t_list=[0.1,0.4,0.8]; n_spins=9; seed_val=4; beta=2.0\n",
    "# load_dict_mcmc_chain_different_delta_t={}\n",
    "# for j in delta_t_list:\n",
    "#     name=f'delta_t_{j}_num_spins_{n_spins}_seed_{seed_val}_beta_{beta}.pkl'\n",
    "#     with open(name,'rb') as f:\n",
    "#         load_dict_mcmc_chain_different_delta_t[f'delta_t:{j}']=pickle.load(f)"
   ]
  },
  {
   "cell_type": "code",
   "execution_count": null,
   "metadata": {},
   "outputs": [],
   "source": [
    "# load_dict_mcmc_chain_different_delta_t.keys()"
   ]
  },
  {
   "cell_type": "code",
   "execution_count": null,
   "metadata": {},
   "outputs": [],
   "source": [
    "# get_all_statistics\n",
    "# dict_mcmc_statistics={}\n",
    "# for j in delta_t_list:\n",
    "#     for i in range(0,10):\n",
    "#         print(f\"delta_t:{j} and chain number = {i}\")\n",
    "#         mcmc_chain=load_dict_mcmc_chain_different_delta_t[f'delta_t:{j}'][i]\n",
    "#         dict_mcmc_statistics[f'delta_t:{j}_chain:{i}']= get_trajectory_statistics(mcmc_chain,\n",
    "#                                                                             exact_sampled_model,\n",
    "#                                                                             verbose=False)"
   ]
  },
  {
   "cell_type": "code",
   "execution_count": null,
   "metadata": {},
   "outputs": [],
   "source": [
    "# magnetisation plot\n"
   ]
  },
  {
   "cell_type": "code",
   "execution_count": null,
   "metadata": {},
   "outputs": [],
   "source": [
    "# # kl divergence plot\n",
    "# dict_kl_div={}\n",
    "# for j in delta_t_list:\n",
    "#     for i in range(0,10):\n",
    "#         print(f\"delta_t:{j} and chain number = {i}\")\n",
    "#         mcmc_chain=load_dict_mcmc_chain_different_delta_t[f'delta_t:{j}'][i]\n",
    "#         kldiv=calculate_running_kl_divergence(\n",
    "#             exact_sampled_model.boltzmann_pd,mcmc_chain\n",
    "#         )\n",
    "#         dict_kl_div[f'delta_t:{j}_chain:{i}']=kldiv"
   ]
  },
  {
   "cell_type": "code",
   "execution_count": null,
   "metadata": {},
   "outputs": [],
   "source": [
    "# KL\n",
    "# plt.figure(figsize=(10,8))\n",
    "\n",
    "# for j in delta_t_list:\n",
    "#     list_of_list_kl=[dict_kl_div[f'delta_t:{j}_chain:{i}']\n",
    "#                         for i in range(0,10)]\n",
    "#     xval=list(range(0,len(list_of_list_kl[0])))\n",
    "#     plot_with_error_band(xval,list_of_list_kl,label=r'$\\delta$ t='+str(j))\n",
    "\n",
    "# plt.xlabel(\"iterations\")\n",
    "# plt.ylabel(\"KL divergence\")\n",
    "# #plt.yscale('log')\n",
    "# plt.legend()\n",
    "# plt.show()"
   ]
  },
  {
   "cell_type": "code",
   "execution_count": null,
   "metadata": {},
   "outputs": [],
   "source": []
  }
 ],
 "metadata": {
  "kernelspec": {
   "display_name": "base",
   "language": "python",
   "name": "python3"
  },
  "language_info": {
   "codemirror_mode": {
    "name": "ipython",
    "version": 3
   },
   "file_extension": ".py",
   "mimetype": "text/x-python",
   "name": "python",
   "nbconvert_exporter": "python",
   "pygments_lexer": "ipython3",
   "version": "3.8.8"
  }
 },
 "nbformat": 4,
 "nbformat_minor": 4
}
