{
 "cells": [
  {
   "cell_type": "code",
   "execution_count": 1,
   "metadata": {},
   "outputs": [],
   "source": [
    "## import essential modules \n",
    "%load_ext autoreload\n",
    "%autoreload 2\n",
    "import numpy as np\n",
    "import matplotlib.pyplot as plt\n",
    "import qumcmc \n",
    "from qumcmc.energy_models import IsingEnergyFunction\n",
    "from qumcmc.classical_mcmc_routines import classical_mcmc\n",
    "# from qumcmc.quantum_mcmc_routines import quantum_enhanced_mcmc\n",
    "from qumcmc.basic_utils import plot_bargraph_desc_order, MCMCChain, MCMCState\n",
    "# from qumcmc.trajectory_processing import trajectory_processing"
   ]
  },
  {
   "cell_type": "code",
   "execution_count": 2,
   "metadata": {},
   "outputs": [],
   "source": [
    "from qumcmc.quantum_mcmc_qulacs_routines import quantum_enhanced_mcmc"
   ]
  },
  {
   "cell_type": "code",
   "execution_count": 18,
   "metadata": {},
   "outputs": [],
   "source": [
    "# define the model\n",
    "np.random.seed(6120358)# should always be in the same cell!  \n",
    "n_spins = 10\n",
    "\n",
    "## construct problem Hamiltonian ##\n",
    "shape_of_J=(n_spins,n_spins)\n",
    "\n",
    "## defining J matrix (mutual 1-1 interaction)\n",
    "# J =  np.round(np.random.choice([+1, 0, -1], size=(n_spins, n_spins)), decimals=2) \n",
    "J =  np.random.uniform(low= -2, high= 2, size= (n_spins, n_spins) )\n",
    "\n",
    "J = 0.5 * (J + J.transpose() )\n",
    "J = np.round( J - np.diag(np.diag(J)) , decimals= 3)\n",
    "\n",
    "# defining h\n",
    "h = np.round(0.01 * np.random.randn(n_spins), decimals=2)\n",
    "#h = np.round(np.random.uniform(low= -1, high = 1, size= (n_spins)), decimals=2)\n",
    "\n",
    "# instantiate the model\n",
    "model = IsingEnergyFunction(J, h, name= 'my_model')"
   ]
  },
  {
   "cell_type": "code",
   "execution_count": 4,
   "metadata": {},
   "outputs": [],
   "source": [
    "import snakeviz"
   ]
  },
  {
   "cell_type": "code",
   "execution_count": 19,
   "metadata": {},
   "outputs": [
    {
     "name": "stderr",
     "output_type": "stream",
     "text": [
      "running over all possible configurations: 100%|██████████| 1024/1024 [00:00<00:00, 16902.40it/s]"
     ]
    },
    {
     "name": "stdout",
     "output_type": "stream",
     "text": [
      "Running Exact Sampling | Model beta :  1.100209\n",
      "saving distribution to model ...\n"
     ]
    },
    {
     "name": "stderr",
     "output_type": "stream",
     "text": [
      "\n"
     ]
    }
   ],
   "source": [
    "## set current beta\n",
    "beta = 1.100209\n",
    "## run exact sampling over all possible configurations \n",
    "model.run_exact_sampling(beta)"
   ]
  },
  {
   "cell_type": "code",
   "execution_count": 20,
   "metadata": {},
   "outputs": [
    {
     "data": {
      "image/png": "[encoded data removed]",
      "text/plain": [
       "<Figure size 432x288 with 1 Axes>"
      ]
     },
     "metadata": {
      "needs_background": "light"
     },
     "output_type": "display_data"
    }
   ],
   "source": [
    "## get the distribution from model\n",
    "bpd = model.boltzmann_pd\n",
    "## plot the distribution\n",
    "plot_bargraph_desc_order(bpd, label= 'Boltzmann Dist.', plot_first_few= 15)"
   ]
  },
  {
   "attachments": {},
   "cell_type": "markdown",
   "metadata": {},
   "source": [
    "# run classical mcmc"
   ]
  },
  {
   "cell_type": "code",
   "execution_count": 21,
   "metadata": {},
   "outputs": [
    {
     "name": "stderr",
     "output_type": "stream",
     "text": [
      "running MCMC steps ...:   0%|          | 0/10000 [00:00<?, ?it/s]"
     ]
    },
    {
     "name": "stdout",
     "output_type": "stream",
     "text": [
      "starting with:  0001000100 with energy: 9.594\n"
     ]
    },
    {
     "name": "stderr",
     "output_type": "stream",
     "text": [
      "running MCMC steps ...: 100%|██████████| 10000/10000 [00:00<00:00, 10449.21it/s]\n"
     ]
    }
   ],
   "source": [
    "steps = 10000\n",
    "mcmc_chain =classical_mcmc(\n",
    "    n_hops=steps,\n",
    "    model=model,\n",
    "    # return_last_n_states=10,\n",
    "    temperature=1/beta,\n",
    ")"
   ]
  },
  {
   "cell_type": "code",
   "execution_count": 22,
   "metadata": {},
   "outputs": [
    {
     "data": {
      "image/png": "[encoded data removed]",
      "text/plain": [
       "<Figure size 432x288 with 1 Axes>"
      ]
     },
     "metadata": {
      "needs_background": "light"
     },
     "output_type": "display_data"
    }
   ],
   "source": [
    "plot_bargraph_desc_order(bpd, label= 'Boltzmann Dist.', plot_first_few= 15)\n",
    "plot_bargraph_desc_order(mcmc_chain.get_accepted_dict(), plot_first_few= -1, normalise_complete_data=True, label= 'Global MCMC', alpha=0.4)\n",
    "plt.legend()\n",
    "plt.show()"
   ]
  },
  {
   "attachments": {},
   "cell_type": "markdown",
   "metadata": {},
   "source": [
    "# Run quantum enhanced mcmc"
   ]
  },
  {
   "cell_type": "code",
   "execution_count": 23,
   "metadata": {},
   "outputs": [
    {
     "name": "stderr",
     "output_type": "stream",
     "text": [
      "runnning quantum MCMC steps . ..:   0%|          | 4/10000 [00:00<05:07, 32.50it/s]"
     ]
    },
    {
     "name": "stdout",
     "output_type": "stream",
     "text": [
      "starting with:  0001001001 with energy: 3.8040000000000016\n",
      "MCMCChain()\n"
     ]
    },
    {
     "name": "stderr",
     "output_type": "stream",
     "text": [
      "runnning quantum MCMC steps . ..: 100%|██████████| 10000/10000 [04:01<00:00, 41.43it/s]\n"
     ]
    }
   ],
   "source": [
    "steps = 10000\n",
    "qamcmc_chain =quantum_enhanced_mcmc(\n",
    "    n_hops=steps,\n",
    "    model=model,\n",
    "    temperature=1/beta,\n",
    ")"
   ]
  },
  {
   "cell_type": "code",
   "execution_count": 24,
   "metadata": {},
   "outputs": [
    {
     "data": {
      "image/png": "[encoded data removed]",
      "text/plain": [
       "<Figure size 432x288 with 1 Axes>"
      ]
     },
     "metadata": {
      "needs_background": "light"
     },
     "output_type": "display_data"
    }
   ],
   "source": [
    "plot_bargraph_desc_order(bpd, label= 'Boltzmann Dist.', plot_first_few= 15)\n",
    "plot_bargraph_desc_order(qamcmc_chain.get_accepted_dict(), plot_first_few= -1, normalise_complete_data=True, label= 'QuantumMCMC', alpha=0.4)\n",
    "plt.legend()\n",
    "plt.show()"
   ]
  },
  {
   "cell_type": "code",
   "execution_count": null,
   "metadata": {},
   "outputs": [],
   "source": [
    "qamcmc_chain.get_accepted_dict(),mcmc_chain.get_accepted_dict()"
   ]
  },
  {
   "attachments": {},
   "cell_type": "markdown",
   "metadata": {},
   "source": [
    "### KL divergence"
   ]
  },
  {
   "cell_type": "code",
   "execution_count": 26,
   "metadata": {},
   "outputs": [],
   "source": [
    "from tqdm import tqdm\n",
    "from qumcmc.prob_dist import js_divergence, kl_divergence"
   ]
  },
  {
   "cell_type": "code",
   "execution_count": 27,
   "metadata": {},
   "outputs": [],
   "source": [
    "def calculate_running_kl_divergence(actual_boltz_distn, mcmc_chain: MCMCChain, skip_steps: int = 1):\n",
    "    num_nhops = len(mcmc_chain.states)\n",
    "    \n",
    "    list_kl_after_each_step=[]\n",
    "\n",
    "    for step_num in tqdm(range(1, num_nhops, skip_steps)): ##pafloxy : starting at 100 instead of 0 , neglecting effect of intital states\n",
    "\n",
    "        temp_distn_model = mcmc_chain.get_accepted_dict(normalize=True, until_index=step_num)\n",
    "\n",
    "        kl_temp=kl_divergence(actual_boltz_distn,temp_distn_model)\n",
    "\n",
    "        list_kl_after_each_step.append(kl_temp)\n",
    "\n",
    "\n",
    "    return list_kl_after_each_step"
   ]
  },
  {
   "cell_type": "code",
   "execution_count": 28,
   "metadata": {},
   "outputs": [
    {
     "name": "stderr",
     "output_type": "stream",
     "text": [
      "100%|██████████| 1000/1000 [00:11<00:00, 87.60it/s]\n",
      "100%|██████████| 1000/1000 [00:10<00:00, 95.68it/s]\n"
     ]
    }
   ],
   "source": [
    "skip_steps = 10\n",
    "\n",
    "all_classical_kls = calculate_running_kl_divergence(model.boltzmann_pd, mcmc_chain, skip_steps=skip_steps)\n",
    "\n",
    "all_quantum_kls = calculate_running_kl_divergence(model.boltzmann_pd, qamcmc_chain, skip_steps=skip_steps)"
   ]
  },
  {
   "cell_type": "code",
   "execution_count": 29,
   "metadata": {},
   "outputs": [
    {
     "data": {
      "image/png": "[encoded data removed]",
      "text/plain": [
       "<Figure size 720x576 with 1 Axes>"
      ]
     },
     "metadata": {
      "needs_background": "light"
     },
     "output_type": "display_data"
    }
   ],
   "source": [
    "plt.figure(figsize=(10,8))\n",
    "plt.plot(all_classical_kls, label= 'classical')\n",
    "plt.plot(all_quantum_kls, label= 'quantum')\n",
    "plt.xlabel(f\"iterations x {skip_steps}\")\n",
    "plt.ylabel(\"JS divergence\")\n",
    "plt.yscale(\"log\")\n",
    "plt.legend()\n",
    "plt.show()"
   ]
  },
  {
   "cell_type": "code",
   "execution_count": null,
   "metadata": {},
   "outputs": [],
   "source": []
  }
 ],
 "metadata": {
  "kernelspec": {
   "display_name": "base",
   "language": "python",
   "name": "python3"
  },
  "language_info": {
   "codemirror_mode": {
    "name": "ipython",
    "version": 3
   },
   "file_extension": ".py",
   "mimetype": "text/x-python",
   "name": "python",
   "nbconvert_exporter": "python",
   "pygments_lexer": "ipython3",
   "version": "3.8.8"
  },
  "orig_nbformat": 4,
  "vscode": {
   "interpreter": {
    "hash": "184a4bfd18ed123440bfad7023e607e274d9f6c0bdada601c853a4367aa45839"
   }
  }
 },
 "nbformat": 4,
 "nbformat_minor": 2
}
