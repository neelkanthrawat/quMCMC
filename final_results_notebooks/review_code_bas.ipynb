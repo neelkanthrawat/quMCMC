{
 "cells": [
  {
   "cell_type": "code",
   "execution_count": 2,
   "metadata": {},
   "outputs": [
    {
     "data": {
      "text/plain": [
       "['d:\\\\Desktop\\\\QBM_project_repo\\\\quMCMC\\\\final_results_notebooks',\n",
       " 'd:\\\\anaconda_neel\\\\python38.zip',\n",
       " 'd:\\\\anaconda_neel\\\\DLLs',\n",
       " 'd:\\\\anaconda_neel\\\\lib',\n",
       " 'd:\\\\anaconda_neel',\n",
       " '',\n",
       " 'd:\\\\anaconda_neel\\\\lib\\\\site-packages',\n",
       " 'd:\\\\anaconda_neel\\\\lib\\\\site-packages\\\\locket-0.2.1-py3.8.egg',\n",
       " 'd:\\\\anaconda_neel\\\\lib\\\\site-packages\\\\win32',\n",
       " 'd:\\\\anaconda_neel\\\\lib\\\\site-packages\\\\win32\\\\lib',\n",
       " 'd:\\\\anaconda_neel\\\\lib\\\\site-packages\\\\Pythonwin',\n",
       " 'd:\\\\anaconda_neel\\\\lib\\\\site-packages\\\\IPython\\\\extensions',\n",
       " 'C:\\\\Users\\\\NEELKANTH RAWAT\\\\.ipython']"
      ]
     },
     "execution_count": 2,
     "metadata": {},
     "output_type": "execute_result"
    }
   ],
   "source": [
    "import sys\n",
    "sys.path"
   ]
  },
  {
   "cell_type": "code",
   "execution_count": 3,
   "metadata": {},
   "outputs": [],
   "source": [
    "sys.path.append(\"d:/Desktop/QBM_project_repo/quMCMC\") "
   ]
  },
  {
   "cell_type": "code",
   "execution_count": 4,
   "metadata": {},
   "outputs": [],
   "source": [
    "import qumcmc"
   ]
  },
  {
   "cell_type": "code",
   "execution_count": 5,
   "metadata": {},
   "outputs": [],
   "source": [
    "## import essential modules \n",
    "from qumcmc.basic_utils import *\n",
    "from qumcmc.energy_models import IsingEnergyFunction, Exact_Sampling\n",
    "\n",
    "from qumcmc.classical_mcmc_routines import classical_mcmc\n",
    "from qumcmc.quantum_mcmc_routines_qulacs import quantum_enhanced_mcmc     #for Qulacs Simulator backend (** Faster )\n",
    "from qumcmc.quantum_mcmc_qulacs_2 import quantum_enhanced_mcmc_2\n",
    "# from qumcmc.quantum_mcmc_routines_qiskit import quantum_enhanced_mcmc   #for qiskit Aer's Simulator backend \n",
    "\n",
    "from qumcmc.trajectory_processing import calculate_running_js_divergence, calculate_running_kl_divergence, calculate_runnning_magnetisation, get_trajectory_statistics\n",
    "from qumcmc.prob_dist import DiscreteProbabilityDistribution"
   ]
  },
  {
   "cell_type": "markdown",
   "metadata": {},
   "source": [
    "### Load the BAS dataset"
   ]
  },
  {
   "cell_type": "code",
   "execution_count": 6,
   "metadata": {},
   "outputs": [],
   "source": [
    "gridsize=3\n",
    "\n",
    "bas= bas_dataset(grid_size=gridsize)\n",
    "bas.dataset.sort()"
   ]
  },
  {
   "cell_type": "code",
   "execution_count": 7,
   "metadata": {},
   "outputs": [
    {
     "name": "stdout",
     "output_type": "stream",
     "text": [
      "=============================================\n",
      "     MODEL : ising model BAS 9X9 bars + stripes |  beta : 1.5\n",
      "=============================================\n",
      "Num Most Probable States : 12\n",
      "Entropy : 3.5849625001146053\n",
      "---------------------------------------------\n"
     ]
    },
    {
     "data": {
      "image/png": "[encoded data removed]",
      "text/plain": [
       "<Figure size 432x288 with 1 Axes>"
      ]
     },
     "metadata": {
      "needs_background": "light"
     },
     "output_type": "display_data"
    }
   ],
   "source": [
    "# consider only the bars dataset and create the weight matrix for them and create the ising model\n",
    "wt= hebbing_learning(bas.bas_dict[\"bars\"]+ bas.bas_dict[\"stripes\"])## added 2 datapoints from stripes dataset into it\n",
    "n_spins=gridsize*gridsize\n",
    "shape_of_J=(n_spins,n_spins)\n",
    "J=-1*wt\n",
    "h=np.zeros(n_spins)\n",
    "model=IsingEnergyFunction(J,h,name=f'ising model BAS {n_spins}X{n_spins} bars + stripes')\n",
    "\n",
    "# model.model_summary()\n",
    "beta=1.5\n",
    "## run exact sampling over all possible configurations \n",
    "exact_sampled_model = Exact_Sampling(model, beta)\n",
    "\n",
    "## get distribution from the model\n",
    "bpd_2= DiscreteProbabilityDistribution(exact_sampled_model.boltzmann_pd)\n",
    "exact_sampled_model.sampling_summary()\n"
   ]
  },
  {
   "cell_type": "markdown",
   "metadata": {},
   "source": [
    "### Now run 10 different chains for each case and save the data"
   ]
  },
  {
   "cell_type": "code",
   "execution_count": 8,
   "metadata": {},
   "outputs": [],
   "source": [
    "num_chains=10\n",
    "steps =10000 # 30000\n",
    "gamma_range=(0.4,0.6)\n",
    "\n",
    "initial_state=\"111000111\""
   ]
  },
  {
   "cell_type": "code",
   "execution_count": 9,
   "metadata": {},
   "outputs": [],
   "source": [
    "import pickle"
   ]
  },
  {
   "cell_type": "code",
   "execution_count": 13,
   "metadata": {},
   "outputs": [
    {
     "name": "stderr",
     "output_type": "stream",
     "text": [
      "runnning quantum MCMC steps . ..:   0%|          | 14/10000 [00:00<01:15, 132.23it/s]"
     ]
    },
    {
     "name": "stdout",
     "output_type": "stream",
     "text": [
      "chain number: 0\n",
      "starting with:  111000111 with energy: -48.0\n"
     ]
    },
    {
     "name": "stderr",
     "output_type": "stream",
     "text": [
      "runnning quantum MCMC steps . ..: 100%|██████████| 10000/10000 [01:19<00:00, 126.48it/s]\n",
      "runnning quantum MCMC steps . ..:   0%|          | 12/10000 [00:00<01:32, 108.54it/s]"
     ]
    },
    {
     "name": "stdout",
     "output_type": "stream",
     "text": [
      "chain number: 1\n",
      "starting with:  111000111 with energy: -48.0\n"
     ]
    },
    {
     "name": "stderr",
     "output_type": "stream",
     "text": [
      "runnning quantum MCMC steps . ..: 100%|██████████| 10000/10000 [01:24<00:00, 118.35it/s]\n",
      "runnning quantum MCMC steps . ..:   0%|          | 12/10000 [00:00<01:26, 115.49it/s]"
     ]
    },
    {
     "name": "stdout",
     "output_type": "stream",
     "text": [
      "chain number: 2\n",
      "starting with:  111000111 with energy: -48.0\n"
     ]
    },
    {
     "name": "stderr",
     "output_type": "stream",
     "text": [
      "runnning quantum MCMC steps . ..: 100%|██████████| 10000/10000 [01:29<00:00, 111.70it/s]\n",
      "runnning quantum MCMC steps . ..:   0%|          | 10/10000 [00:00<01:40, 99.14it/s]"
     ]
    },
    {
     "name": "stdout",
     "output_type": "stream",
     "text": [
      "chain number: 3\n",
      "starting with:  111000111 with energy: -48.0\n"
     ]
    },
    {
     "name": "stderr",
     "output_type": "stream",
     "text": [
      "runnning quantum MCMC steps . ..: 100%|██████████| 10000/10000 [01:41<00:00, 98.06it/s]\n",
      "runnning quantum MCMC steps . ..:   0%|          | 11/10000 [00:00<01:44, 95.66it/s]"
     ]
    },
    {
     "name": "stdout",
     "output_type": "stream",
     "text": [
      "chain number: 4\n",
      "starting with:  111000111 with energy: -48.0\n"
     ]
    },
    {
     "name": "stderr",
     "output_type": "stream",
     "text": [
      "runnning quantum MCMC steps . ..: 100%|██████████| 10000/10000 [01:43<00:00, 96.86it/s] \n",
      "runnning quantum MCMC steps . ..:   0%|          | 13/10000 [00:00<01:21, 122.62it/s]"
     ]
    },
    {
     "name": "stdout",
     "output_type": "stream",
     "text": [
      "chain number: 5\n",
      "starting with:  111000111 with energy: -48.0\n"
     ]
    },
    {
     "name": "stderr",
     "output_type": "stream",
     "text": [
      "runnning quantum MCMC steps . ..: 100%|██████████| 10000/10000 [01:45<00:00, 95.11it/s]\n",
      "runnning quantum MCMC steps . ..:   0%|          | 20/10000 [00:00<01:48, 91.87it/s]"
     ]
    },
    {
     "name": "stdout",
     "output_type": "stream",
     "text": [
      "chain number: 6\n",
      "starting with:  111000111 with energy: -48.0\n"
     ]
    },
    {
     "name": "stderr",
     "output_type": "stream",
     "text": [
      "runnning quantum MCMC steps . ..: 100%|██████████| 10000/10000 [01:36<00:00, 103.68it/s]\n",
      "runnning quantum MCMC steps . ..:   0%|          | 13/10000 [00:00<01:20, 124.66it/s]"
     ]
    },
    {
     "name": "stdout",
     "output_type": "stream",
     "text": [
      "chain number: 7\n",
      "starting with:  111000111 with energy: -48.0\n"
     ]
    },
    {
     "name": "stderr",
     "output_type": "stream",
     "text": [
      "runnning quantum MCMC steps . ..: 100%|██████████| 10000/10000 [01:30<00:00, 110.38it/s]\n",
      "runnning quantum MCMC steps . ..:   0%|          | 6/10000 [00:00<03:03, 54.55it/s]"
     ]
    },
    {
     "name": "stdout",
     "output_type": "stream",
     "text": [
      "chain number: 8\n",
      "starting with:  111000111 with energy: -48.0\n"
     ]
    },
    {
     "name": "stderr",
     "output_type": "stream",
     "text": [
      "runnning quantum MCMC steps . ..: 100%|██████████| 10000/10000 [01:46<00:00, 93.99it/s]\n",
      "runnning quantum MCMC steps . ..:   0%|          | 10/10000 [00:00<01:40, 99.07it/s]"
     ]
    },
    {
     "name": "stdout",
     "output_type": "stream",
     "text": [
      "chain number: 9\n",
      "starting with:  111000111 with energy: -48.0\n"
     ]
    },
    {
     "name": "stderr",
     "output_type": "stream",
     "text": [
      "runnning quantum MCMC steps . ..: 100%|██████████| 10000/10000 [01:43<00:00, 97.00it/s] \n"
     ]
    }
   ],
   "source": [
    "### case: random 1 (30k steps) for \"BAS_final_plots_Wt1.pkl\"\n",
    "bas_final_wt1=[]\n",
    "\n",
    "\n",
    "\n",
    "num_chains=10 # reducing the number of chains coz my laptop slowed down all of a sudden\n",
    "for i in range(0,num_chains):\n",
    "    print(f\"chain number: {i}\")\n",
    "    mcmc_1=quantum_enhanced_mcmc_2(n_hops=10000,\n",
    "                                            model=model,\n",
    "                                            initial_state= initial_state,\n",
    "                                            mixer= [[['random', 1]], []]# add something here,\n",
    "                                            ,gamma_range=(0.4,0.6) ,verbose=True)\n",
    "    bas_final_wt1.append(mcmc_1)\n",
    "\n",
    "### save the list\n",
    "with open('BAS_final_plots_Wt1_gamma_(0.4,0.6).pkl', 'wb') as f:\n",
    "    pickle.dump(bas_final_wt1, f)\n"
   ]
  },
  {
   "cell_type": "code",
   "execution_count": null,
   "metadata": {},
   "outputs": [],
   "source": [
    "### case random 1 (75%) + highly symmetric (25%)\n",
    "### speed of data collection reduced somehow?\n",
    "bas_custom_111=[]\n",
    "\n",
    "for i in range(0,num_chains):\n",
    "    print(f\"chain number: {i}\")\n",
    "    mcmc_2= quantum_enhanced_mcmc_2(n_hops=steps,\n",
    "                                    model=model,\n",
    "                                    initial_state=initial_state,\n",
    "                                    mixer=[[['random', 1], ['custom', [[0, 1, 2], [3, 4, 5], [6, 7, 8]]]], \n",
    "                                            [0.75, 0.25]],\n",
    "                                    gamma_range=gamma_range,\n",
    "                                    verbose=True)\n",
    "    bas_custom_111.append(mcmc_2)\n",
    "\n",
    "# ### save the list\n",
    "# with open('BAS_final_plots_wt1_75_symmetric_25.pkl', 'wb') as f:\n",
    "#     pickle.dump(bas_custom_1, f)"
   ]
  },
  {
   "cell_type": "code",
   "execution_count": 10,
   "metadata": {},
   "outputs": [
    {
     "name": "stderr",
     "output_type": "stream",
     "text": [
      "runnning quantum MCMC steps . ..:   0%|          | 6/30000 [00:00<08:20, 59.96it/s]"
     ]
    },
    {
     "name": "stdout",
     "output_type": "stream",
     "text": [
      "chain number: 0\n",
      "starting with:  111000111 with energy: -48.0\n"
     ]
    },
    {
     "name": "stderr",
     "output_type": "stream",
     "text": [
      "runnning quantum MCMC steps . ..: 100%|██████████| 30000/30000 [04:53<00:00, 102.25it/s]\n",
      "runnning quantum MCMC steps . ..:   0%|          | 14/30000 [00:00<04:13, 118.16it/s]"
     ]
    },
    {
     "name": "stdout",
     "output_type": "stream",
     "text": [
      "chain number: 1\n",
      "starting with:  111000111 with energy: -48.0\n"
     ]
    },
    {
     "name": "stderr",
     "output_type": "stream",
     "text": [
      "runnning quantum MCMC steps . ..: 100%|██████████| 30000/30000 [05:18<00:00, 94.33it/s] \n",
      "runnning quantum MCMC steps . ..:   0%|          | 14/30000 [00:00<03:37, 137.74it/s]"
     ]
    },
    {
     "name": "stdout",
     "output_type": "stream",
     "text": [
      "chain number: 2\n",
      "starting with:  111000111 with energy: -48.0\n"
     ]
    },
    {
     "name": "stderr",
     "output_type": "stream",
     "text": [
      "runnning quantum MCMC steps . ..: 100%|██████████| 30000/30000 [04:42<00:00, 106.26it/s]\n",
      "runnning quantum MCMC steps . ..:   0%|          | 11/30000 [00:00<04:59, 100.25it/s]"
     ]
    },
    {
     "name": "stdout",
     "output_type": "stream",
     "text": [
      "chain number: 3\n",
      "starting with:  111000111 with energy: -48.0\n"
     ]
    },
    {
     "name": "stderr",
     "output_type": "stream",
     "text": [
      "runnning quantum MCMC steps . ..: 100%|██████████| 30000/30000 [04:50<00:00, 103.30it/s]\n",
      "runnning quantum MCMC steps . ..:   0%|          | 9/30000 [00:00<05:48, 86.06it/s]"
     ]
    },
    {
     "name": "stdout",
     "output_type": "stream",
     "text": [
      "chain number: 4\n",
      "starting with:  111000111 with energy: -48.0\n"
     ]
    },
    {
     "name": "stderr",
     "output_type": "stream",
     "text": [
      "runnning quantum MCMC steps . ..: 100%|██████████| 30000/30000 [05:13<00:00, 95.69it/s] \n",
      "runnning quantum MCMC steps . ..:   0%|          | 11/30000 [00:00<05:13, 95.69it/s]"
     ]
    },
    {
     "name": "stdout",
     "output_type": "stream",
     "text": [
      "chain number: 5\n",
      "starting with:  111000111 with energy: -48.0\n"
     ]
    },
    {
     "name": "stderr",
     "output_type": "stream",
     "text": [
      "runnning quantum MCMC steps . ..: 100%|██████████| 30000/30000 [05:26<00:00, 91.96it/s] \n",
      "runnning quantum MCMC steps . ..:   0%|          | 14/30000 [00:00<04:07, 121.24it/s]"
     ]
    },
    {
     "name": "stdout",
     "output_type": "stream",
     "text": [
      "chain number: 6\n",
      "starting with:  111000111 with energy: -48.0\n"
     ]
    },
    {
     "name": "stderr",
     "output_type": "stream",
     "text": [
      "runnning quantum MCMC steps . ..: 100%|██████████| 30000/30000 [05:20<00:00, 93.71it/s] \n",
      "runnning quantum MCMC steps . ..:   0%|          | 9/30000 [00:00<05:38, 88.69it/s]"
     ]
    },
    {
     "name": "stdout",
     "output_type": "stream",
     "text": [
      "chain number: 7\n",
      "starting with:  111000111 with energy: -48.0\n"
     ]
    },
    {
     "name": "stderr",
     "output_type": "stream",
     "text": [
      "runnning quantum MCMC steps . ..: 100%|██████████| 30000/30000 [05:20<00:00, 93.59it/s] \n",
      "runnning quantum MCMC steps . ..:   0%|          | 9/30000 [00:00<05:41, 87.82it/s]"
     ]
    },
    {
     "name": "stdout",
     "output_type": "stream",
     "text": [
      "chain number: 8\n",
      "starting with:  111000111 with energy: -48.0\n"
     ]
    },
    {
     "name": "stderr",
     "output_type": "stream",
     "text": [
      "runnning quantum MCMC steps . ..: 100%|██████████| 30000/30000 [05:22<00:00, 93.17it/s] \n",
      "runnning quantum MCMC steps . ..:   0%|          | 10/30000 [00:00<05:09, 96.79it/s]"
     ]
    },
    {
     "name": "stdout",
     "output_type": "stream",
     "text": [
      "chain number: 9\n",
      "starting with:  111000111 with energy: -48.0\n"
     ]
    },
    {
     "name": "stderr",
     "output_type": "stream",
     "text": [
      "runnning quantum MCMC steps . ..: 100%|██████████| 30000/30000 [05:10<00:00, 96.49it/s] \n"
     ]
    }
   ],
   "source": [
    "### case random 1 (75%) + highly symmetric (25%)\n",
    "bas_custom_1=[]\n",
    "\n",
    "for i in range(0,num_chains):\n",
    "    print(f\"chain number: {i}\")\n",
    "    mcmc_2= quantum_enhanced_mcmc_2(n_hops=steps,\n",
    "                                    model=model,\n",
    "                                    initial_state=initial_state,\n",
    "                                    mixer=[[['random', 1], ['custom', [[0, 1, 2], [3, 4, 5], [6, 7, 8]]]], \n",
    "                                            [0.75, 0.25]],\n",
    "                                    gamma_range=gamma_range,\n",
    "                                    verbose=True)\n",
    "    bas_custom_1.append(mcmc_2)\n",
    "\n",
    "### save the list\n",
    "with open('BAS_final_plots_wt1_75_symmetric_25.pkl', 'wb') as f:\n",
    "    pickle.dump(bas_custom_1, f)\n",
    "    "
   ]
  },
  {
   "cell_type": "code",
   "execution_count": 11,
   "metadata": {},
   "outputs": [
    {
     "name": "stderr",
     "output_type": "stream",
     "text": [
      "runnning quantum MCMC steps . ..:   0%|          | 22/10000 [00:00<01:32, 107.38it/s]"
     ]
    },
    {
     "name": "stdout",
     "output_type": "stream",
     "text": [
      "chain number: 0\n",
      "starting with:  111000111 with energy: -48.0\n"
     ]
    },
    {
     "name": "stderr",
     "output_type": "stream",
     "text": [
      "runnning quantum MCMC steps . ..: 100%|██████████| 10000/10000 [01:29<00:00, 111.66it/s]\n",
      "runnning quantum MCMC steps . ..:   0%|          | 15/10000 [00:00<01:09, 144.39it/s]"
     ]
    },
    {
     "name": "stdout",
     "output_type": "stream",
     "text": [
      "chain number: 1\n",
      "starting with:  111000111 with energy: -48.0\n"
     ]
    },
    {
     "name": "stderr",
     "output_type": "stream",
     "text": [
      "runnning quantum MCMC steps . ..: 100%|██████████| 10000/10000 [01:26<00:00, 115.48it/s]\n",
      "runnning quantum MCMC steps . ..:   0%|          | 49/10000 [00:00<00:41, 241.66it/s]"
     ]
    },
    {
     "name": "stdout",
     "output_type": "stream",
     "text": [
      "chain number: 2\n",
      "starting with:  111000111 with energy: -48.0\n"
     ]
    },
    {
     "name": "stderr",
     "output_type": "stream",
     "text": [
      "runnning quantum MCMC steps . ..: 100%|██████████| 10000/10000 [01:23<00:00, 119.62it/s]\n",
      "runnning quantum MCMC steps . ..:   0%|          | 12/10000 [00:00<01:27, 114.18it/s]"
     ]
    },
    {
     "name": "stdout",
     "output_type": "stream",
     "text": [
      "chain number: 3\n",
      "starting with:  111000111 with energy: -48.0\n"
     ]
    },
    {
     "name": "stderr",
     "output_type": "stream",
     "text": [
      "runnning quantum MCMC steps . ..: 100%|██████████| 10000/10000 [01:25<00:00, 116.51it/s]\n",
      "runnning quantum MCMC steps . ..:   0%|          | 33/10000 [00:00<01:07, 147.29it/s]"
     ]
    },
    {
     "name": "stdout",
     "output_type": "stream",
     "text": [
      "chain number: 4\n",
      "starting with:  111000111 with energy: -48.0\n"
     ]
    },
    {
     "name": "stderr",
     "output_type": "stream",
     "text": [
      "runnning quantum MCMC steps . ..: 100%|██████████| 10000/10000 [01:29<00:00, 112.32it/s]\n",
      "runnning quantum MCMC steps . ..:   0%|          | 11/10000 [00:00<01:34, 105.39it/s]"
     ]
    },
    {
     "name": "stdout",
     "output_type": "stream",
     "text": [
      "chain number: 5\n",
      "starting with:  111000111 with energy: -48.0\n"
     ]
    },
    {
     "name": "stderr",
     "output_type": "stream",
     "text": [
      "runnning quantum MCMC steps . ..: 100%|██████████| 10000/10000 [01:24<00:00, 117.70it/s]\n",
      "runnning quantum MCMC steps . ..:   0%|          | 11/10000 [00:00<01:32, 108.28it/s]"
     ]
    },
    {
     "name": "stdout",
     "output_type": "stream",
     "text": [
      "chain number: 6\n",
      "starting with:  111000111 with energy: -48.0\n"
     ]
    },
    {
     "name": "stderr",
     "output_type": "stream",
     "text": [
      "runnning quantum MCMC steps . ..: 100%|██████████| 10000/10000 [01:24<00:00, 118.74it/s]\n",
      "runnning quantum MCMC steps . ..:   0%|          | 13/10000 [00:00<01:17, 129.33it/s]"
     ]
    },
    {
     "name": "stdout",
     "output_type": "stream",
     "text": [
      "chain number: 7\n",
      "starting with:  111000111 with energy: -48.0\n"
     ]
    },
    {
     "name": "stderr",
     "output_type": "stream",
     "text": [
      "runnning quantum MCMC steps . ..: 100%|██████████| 10000/10000 [01:21<00:00, 122.23it/s]\n",
      "runnning quantum MCMC steps . ..:   0%|          | 24/10000 [00:00<01:25, 116.64it/s]"
     ]
    },
    {
     "name": "stdout",
     "output_type": "stream",
     "text": [
      "chain number: 8\n",
      "starting with:  111000111 with energy: -48.0\n"
     ]
    },
    {
     "name": "stderr",
     "output_type": "stream",
     "text": [
      "runnning quantum MCMC steps . ..: 100%|██████████| 10000/10000 [01:23<00:00, 120.34it/s]\n",
      "runnning quantum MCMC steps . ..:   0%|          | 17/10000 [00:00<00:59, 168.66it/s]"
     ]
    },
    {
     "name": "stdout",
     "output_type": "stream",
     "text": [
      "chain number: 9\n",
      "starting with:  111000111 with energy: -48.0\n"
     ]
    },
    {
     "name": "stderr",
     "output_type": "stream",
     "text": [
      "runnning quantum MCMC steps . ..: 100%|██████████| 10000/10000 [01:23<00:00, 120.35it/s]\n",
      "runnning quantum MCMC steps . ..:   0%|          | 12/10000 [00:00<01:29, 111.30it/s]"
     ]
    },
    {
     "name": "stdout",
     "output_type": "stream",
     "text": [
      "chain number: 0\n",
      "starting with:  111000111 with energy: -48.0\n"
     ]
    },
    {
     "name": "stderr",
     "output_type": "stream",
     "text": [
      "runnning quantum MCMC steps . ..: 100%|██████████| 10000/10000 [01:19<00:00, 125.68it/s]\n",
      "runnning quantum MCMC steps . ..:   0%|          | 13/10000 [00:00<01:17, 129.58it/s]"
     ]
    },
    {
     "name": "stdout",
     "output_type": "stream",
     "text": [
      "chain number: 1\n",
      "starting with:  111000111 with energy: -48.0\n"
     ]
    },
    {
     "name": "stderr",
     "output_type": "stream",
     "text": [
      "runnning quantum MCMC steps . ..: 100%|██████████| 10000/10000 [01:19<00:00, 125.39it/s]\n",
      "runnning quantum MCMC steps . ..:   0%|          | 30/10000 [00:00<01:13, 136.12it/s]"
     ]
    },
    {
     "name": "stdout",
     "output_type": "stream",
     "text": [
      "chain number: 2\n",
      "starting with:  111000111 with energy: -48.0\n"
     ]
    },
    {
     "name": "stderr",
     "output_type": "stream",
     "text": [
      "runnning quantum MCMC steps . ..: 100%|██████████| 10000/10000 [01:21<00:00, 121.99it/s]\n",
      "runnning quantum MCMC steps . ..:   0%|          | 12/10000 [00:00<01:28, 112.59it/s]"
     ]
    },
    {
     "name": "stdout",
     "output_type": "stream",
     "text": [
      "chain number: 3\n",
      "starting with:  111000111 with energy: -48.0\n"
     ]
    },
    {
     "name": "stderr",
     "output_type": "stream",
     "text": [
      "runnning quantum MCMC steps . ..: 100%|██████████| 10000/10000 [01:22<00:00, 121.20it/s]\n",
      "runnning quantum MCMC steps . ..:   0%|          | 12/10000 [00:00<01:25, 116.69it/s]"
     ]
    },
    {
     "name": "stdout",
     "output_type": "stream",
     "text": [
      "chain number: 4\n",
      "starting with:  111000111 with energy: -48.0\n"
     ]
    },
    {
     "name": "stderr",
     "output_type": "stream",
     "text": [
      "runnning quantum MCMC steps . ..: 100%|██████████| 10000/10000 [01:21<00:00, 122.80it/s]\n",
      "runnning quantum MCMC steps . ..:   0%|          | 13/10000 [00:00<01:18, 126.78it/s]"
     ]
    },
    {
     "name": "stdout",
     "output_type": "stream",
     "text": [
      "chain number: 5\n",
      "starting with:  111000111 with energy: -48.0\n"
     ]
    },
    {
     "name": "stderr",
     "output_type": "stream",
     "text": [
      "runnning quantum MCMC steps . ..: 100%|██████████| 10000/10000 [01:21<00:00, 122.83it/s]\n",
      "runnning quantum MCMC steps . ..:   0%|          | 8/10000 [00:00<02:13, 74.66it/s]"
     ]
    },
    {
     "name": "stdout",
     "output_type": "stream",
     "text": [
      "chain number: 6\n",
      "starting with:  111000111 with energy: -48.0\n"
     ]
    },
    {
     "name": "stderr",
     "output_type": "stream",
     "text": [
      "runnning quantum MCMC steps . ..: 100%|██████████| 10000/10000 [01:21<00:00, 122.09it/s]\n",
      "runnning quantum MCMC steps . ..:   0%|          | 11/10000 [00:00<01:30, 109.94it/s]"
     ]
    },
    {
     "name": "stdout",
     "output_type": "stream",
     "text": [
      "chain number: 7\n",
      "starting with:  111000111 with energy: -48.0\n"
     ]
    },
    {
     "name": "stderr",
     "output_type": "stream",
     "text": [
      "runnning quantum MCMC steps . ..: 100%|██████████| 10000/10000 [01:21<00:00, 122.98it/s]\n",
      "runnning quantum MCMC steps . ..:   0%|          | 10/10000 [00:00<01:47, 92.84it/s]"
     ]
    },
    {
     "name": "stdout",
     "output_type": "stream",
     "text": [
      "chain number: 8\n",
      "starting with:  111000111 with energy: -48.0\n"
     ]
    },
    {
     "name": "stderr",
     "output_type": "stream",
     "text": [
      "runnning quantum MCMC steps . ..: 100%|██████████| 10000/10000 [01:21<00:00, 123.33it/s]\n",
      "runnning quantum MCMC steps . ..:   0%|          | 16/10000 [00:00<01:16, 129.85it/s]"
     ]
    },
    {
     "name": "stdout",
     "output_type": "stream",
     "text": [
      "chain number: 9\n",
      "starting with:  111000111 with energy: -48.0\n"
     ]
    },
    {
     "name": "stderr",
     "output_type": "stream",
     "text": [
      "runnning quantum MCMC steps . ..: 100%|██████████| 10000/10000 [01:20<00:00, 124.43it/s]\n"
     ]
    }
   ],
   "source": [
    "### GAMMA = (0.9,0.95)\n",
    "gamma_range=(0.9,0.95)\n",
    "initial_state=\"111000111\"\n",
    "steps=10000\n",
    "\n",
    "### case random 1 (75%) + highly symmetric (25%)\n",
    "bas_custom_1=[]\n",
    "\n",
    "for i in range(0,num_chains):\n",
    "    print(f\"chain number: {i}\")\n",
    "    mcmc_2= quantum_enhanced_mcmc_2(n_hops=steps,\n",
    "                                    model=model,\n",
    "                                    initial_state=initial_state,\n",
    "                                    mixer=[[['random', 1], ['custom', [[0, 1, 2], [3, 4, 5], [6, 7, 8]]]], \n",
    "                                            [0.75, 0.25]],\n",
    "                                    gamma_range=gamma_range,\n",
    "                                    verbose=True)\n",
    "    bas_custom_1.append(mcmc_2)\n",
    "\n",
    "### save the list\n",
    "with open('BAS_final_plots_wt1_75_symmetric_25_gamma_(0.9,0.95).pkl', 'wb') as f:\n",
    "    pickle.dump(bas_custom_1, f)\n",
    "\n",
    "    \n",
    "### case random 1 (25%) +  Highly symmetric (75%)\n",
    "### 10000 steps\n",
    "### gamma range= (0.9,0.95)\n",
    "bas_custom_2=[]\n",
    "\n",
    "for i in range(0,num_chains):\n",
    "    print(f\"chain number: {i}\")\n",
    "    mcmc_2= quantum_enhanced_mcmc_2(n_hops=steps,\n",
    "                                    model=model,\n",
    "                                    initial_state=initial_state,\n",
    "                                    mixer=[[['custom',[[2, 5, 8], [1, 4, 7], [0, 3, 6]] ], #stripes: [(X2,X5,X8),(X1,X4,X7),(X0,X3,X6)]\n",
    "                                            ['custom', [[0, 1, 2], [3, 4, 5], [6, 7, 8]]],\n",
    "                                            ['random', 1]\n",
    "                                            ],\n",
    "                                            [0.25,0.25,0.50]],\n",
    "                                    gamma_range=gamma_range,\n",
    "                                    verbose=True)\n",
    "    bas_custom_2.append(mcmc_2)\n",
    "\n",
    "    \n",
    "### save the list\n",
    "with open('BAS_final_plots_wt1_50_bars_and_stripes_symm_50_gamma_(0.9,0.95).pkl', 'wb') as f:\n",
    "    pickle.dump(bas_custom_2, f)"
   ]
  },
  {
   "cell_type": "markdown",
   "metadata": {},
   "source": [
    "### Trying the standarise the problem for the case of mixture of mixers"
   ]
  },
  {
   "cell_type": "code",
   "execution_count": 14,
   "metadata": {},
   "outputs": [],
   "source": [
    "num_chains=10\n",
    "steps =10000 # 30000\n",
    "gamma_range=[(0.9,0.95), (0.9,0.95), (0.4,0.6)]\n",
    "\n",
    "initial_state=\"111000111\"\n",
    "\n",
    "my_mixer = [[['custom',[[2, 5, 8], [1, 4, 7], [0, 3, 6]] ], #stripes: [(X2,X5,X8),(X1,X4,X7),(X0,X3,X6)]\n",
    "                                            ['custom', [[0, 1, 2], [3, 4, 5], [6, 7, 8]]],\n",
    "                                            ['random', 1]\n",
    "                                            ],\n",
    "                                            [0.15,0.15,0.7]]"
   ]
  },
  {
   "cell_type": "code",
   "execution_count": 15,
   "metadata": {},
   "outputs": [],
   "source": [
    "import pickle"
   ]
  },
  {
   "cell_type": "code",
   "execution_count": 16,
   "metadata": {},
   "outputs": [
    {
     "name": "stderr",
     "output_type": "stream",
     "text": [
      "runnning quantum MCMC steps . ..:   0%|          | 0/10000 [00:00<?, ?it/s]"
     ]
    },
    {
     "name": "stderr",
     "output_type": "stream",
     "text": [
      "runnning quantum MCMC steps . ..:   0%|          | 14/10000 [00:00<01:18, 127.51it/s]"
     ]
    },
    {
     "name": "stdout",
     "output_type": "stream",
     "text": [
      "starting with:  111000111 with energy: -48.0\n"
     ]
    },
    {
     "name": "stderr",
     "output_type": "stream",
     "text": [
      "runnning quantum MCMC steps . ..: 100%|██████████| 10000/10000 [01:23<00:00, 120.10it/s]\n",
      "runnning quantum MCMC steps . ..:   0%|          | 12/10000 [00:00<01:39, 100.34it/s]"
     ]
    },
    {
     "name": "stdout",
     "output_type": "stream",
     "text": [
      "starting with:  111000111 with energy: -48.0\n"
     ]
    },
    {
     "name": "stderr",
     "output_type": "stream",
     "text": [
      "runnning quantum MCMC steps . ..: 100%|██████████| 10000/10000 [01:23<00:00, 120.11it/s]\n",
      "runnning quantum MCMC steps . ..:   0%|          | 8/10000 [00:00<02:11, 75.97it/s]"
     ]
    },
    {
     "name": "stdout",
     "output_type": "stream",
     "text": [
      "starting with:  111000111 with energy: -48.0\n"
     ]
    },
    {
     "name": "stderr",
     "output_type": "stream",
     "text": [
      "runnning quantum MCMC steps . ..: 100%|██████████| 10000/10000 [01:23<00:00, 119.76it/s]\n",
      "runnning quantum MCMC steps . ..:   0%|          | 12/10000 [00:00<01:28, 112.45it/s]"
     ]
    },
    {
     "name": "stdout",
     "output_type": "stream",
     "text": [
      "starting with:  111000111 with energy: -48.0\n"
     ]
    },
    {
     "name": "stderr",
     "output_type": "stream",
     "text": [
      "runnning quantum MCMC steps . ..: 100%|██████████| 10000/10000 [01:22<00:00, 121.17it/s]\n",
      "runnning quantum MCMC steps . ..:   0%|          | 7/10000 [00:00<02:23, 69.49it/s]"
     ]
    },
    {
     "name": "stdout",
     "output_type": "stream",
     "text": [
      "starting with:  111000111 with energy: -48.0\n"
     ]
    },
    {
     "name": "stderr",
     "output_type": "stream",
     "text": [
      "runnning quantum MCMC steps . ..: 100%|██████████| 10000/10000 [01:23<00:00, 120.31it/s]\n",
      "runnning quantum MCMC steps . ..:   0%|          | 11/10000 [00:00<01:34, 105.90it/s]"
     ]
    },
    {
     "name": "stdout",
     "output_type": "stream",
     "text": [
      "starting with:  111000111 with energy: -48.0\n"
     ]
    },
    {
     "name": "stderr",
     "output_type": "stream",
     "text": [
      "runnning quantum MCMC steps . ..: 100%|██████████| 10000/10000 [01:22<00:00, 121.78it/s]\n",
      "runnning quantum MCMC steps . ..:   0%|          | 10/10000 [00:00<01:40, 99.10it/s]"
     ]
    },
    {
     "name": "stdout",
     "output_type": "stream",
     "text": [
      "starting with:  111000111 with energy: -48.0\n"
     ]
    },
    {
     "name": "stderr",
     "output_type": "stream",
     "text": [
      "runnning quantum MCMC steps . ..: 100%|██████████| 10000/10000 [01:23<00:00, 119.90it/s]\n",
      "runnning quantum MCMC steps . ..:   0%|          | 11/10000 [00:00<01:37, 102.73it/s]"
     ]
    },
    {
     "name": "stdout",
     "output_type": "stream",
     "text": [
      "starting with:  111000111 with energy: -48.0\n"
     ]
    },
    {
     "name": "stderr",
     "output_type": "stream",
     "text": [
      "runnning quantum MCMC steps . ..: 100%|██████████| 10000/10000 [01:23<00:00, 119.79it/s]\n",
      "runnning quantum MCMC steps . ..:   0%|          | 9/10000 [00:00<01:55, 86.31it/s]"
     ]
    },
    {
     "name": "stdout",
     "output_type": "stream",
     "text": [
      "starting with:  111000111 with energy: -48.0\n"
     ]
    },
    {
     "name": "stderr",
     "output_type": "stream",
     "text": [
      "runnning quantum MCMC steps . ..: 100%|██████████| 10000/10000 [01:28<00:00, 112.49it/s]\n",
      "runnning quantum MCMC steps . ..:   0%|          | 8/10000 [00:00<02:13, 74.58it/s]"
     ]
    },
    {
     "name": "stdout",
     "output_type": "stream",
     "text": [
      "starting with:  111000111 with energy: -48.0\n"
     ]
    },
    {
     "name": "stderr",
     "output_type": "stream",
     "text": [
      "runnning quantum MCMC steps . ..: 100%|██████████| 10000/10000 [01:24<00:00, 117.76it/s]\n"
     ]
    }
   ],
   "source": [
    "bas_std=[]\n",
    "for i in range(0, num_chains):  \n",
    "    mcmc_std = quantum_enhanced_mcmc_2(n_hops=steps,\n",
    "                                    model=model,\n",
    "                                    initial_state=initial_state,\n",
    "                                    mixer=my_mixer,\n",
    "                                    gamma_range=gamma_range,\n",
    "                                    verbose=True)\n",
    "    bas_std.append(mcmc_std)\n",
    "\n",
    "### save the list\n",
    "with open('BAS_final_plots_wt1_50_bars_and_stripes_symm_50_gamma_std.pkl', 'wb') as f:\n",
    "    pickle.dump(bas_std, f)"
   ]
  },
  {
   "cell_type": "code",
   "execution_count": 13,
   "metadata": {},
   "outputs": [
    {
     "name": "stderr",
     "output_type": "stream",
     "text": [
      "runnning quantum MCMC steps . ..:   0%|          | 12/10000 [00:00<01:27, 113.69it/s]"
     ]
    },
    {
     "name": "stdout",
     "output_type": "stream",
     "text": [
      "starting with:  111000111 with energy: -48.0\n"
     ]
    },
    {
     "name": "stderr",
     "output_type": "stream",
     "text": [
      "runnning quantum MCMC steps . ..: 100%|██████████| 10000/10000 [01:26<00:00, 115.74it/s]\n",
      "runnning quantum MCMC steps . ..:   0%|          | 11/10000 [00:00<01:31, 109.77it/s]"
     ]
    },
    {
     "name": "stdout",
     "output_type": "stream",
     "text": [
      "starting with:  111000111 with energy: -48.0\n"
     ]
    },
    {
     "name": "stderr",
     "output_type": "stream",
     "text": [
      "runnning quantum MCMC steps . ..: 100%|██████████| 10000/10000 [01:26<00:00, 115.59it/s]\n",
      "runnning quantum MCMC steps . ..:   0%|          | 9/10000 [00:00<02:06, 79.09it/s]"
     ]
    },
    {
     "name": "stdout",
     "output_type": "stream",
     "text": [
      "starting with:  111000111 with energy: -48.0\n"
     ]
    },
    {
     "name": "stderr",
     "output_type": "stream",
     "text": [
      "runnning quantum MCMC steps . ..: 100%|██████████| 10000/10000 [01:30<00:00, 110.03it/s]\n",
      "runnning quantum MCMC steps . ..:   0%|          | 13/10000 [00:00<01:22, 121.03it/s]"
     ]
    },
    {
     "name": "stdout",
     "output_type": "stream",
     "text": [
      "starting with:  111000111 with energy: -48.0\n"
     ]
    },
    {
     "name": "stderr",
     "output_type": "stream",
     "text": [
      "runnning quantum MCMC steps . ..: 100%|██████████| 10000/10000 [01:34<00:00, 106.20it/s]\n",
      "runnning quantum MCMC steps . ..:   0%|          | 12/10000 [00:00<01:37, 102.02it/s]"
     ]
    },
    {
     "name": "stdout",
     "output_type": "stream",
     "text": [
      "starting with:  111000111 with energy: -48.0\n"
     ]
    },
    {
     "name": "stderr",
     "output_type": "stream",
     "text": [
      "runnning quantum MCMC steps . ..: 100%|██████████| 10000/10000 [01:24<00:00, 117.72it/s]\n",
      "runnning quantum MCMC steps . ..:   0%|          | 13/10000 [00:00<01:30, 110.95it/s]"
     ]
    },
    {
     "name": "stdout",
     "output_type": "stream",
     "text": [
      "starting with:  111000111 with energy: -48.0\n"
     ]
    },
    {
     "name": "stderr",
     "output_type": "stream",
     "text": [
      "runnning quantum MCMC steps . ..: 100%|██████████| 10000/10000 [01:19<00:00, 125.43it/s]\n",
      "runnning quantum MCMC steps . ..:   0%|          | 15/10000 [00:00<01:17, 128.65it/s]"
     ]
    },
    {
     "name": "stdout",
     "output_type": "stream",
     "text": [
      "starting with:  111000111 with energy: -48.0\n"
     ]
    },
    {
     "name": "stderr",
     "output_type": "stream",
     "text": [
      "runnning quantum MCMC steps . ..: 100%|██████████| 10000/10000 [01:19<00:00, 125.90it/s]\n",
      "runnning quantum MCMC steps . ..:   0%|          | 11/10000 [00:00<01:31, 109.24it/s]"
     ]
    },
    {
     "name": "stdout",
     "output_type": "stream",
     "text": [
      "starting with:  111000111 with energy: -48.0\n"
     ]
    },
    {
     "name": "stderr",
     "output_type": "stream",
     "text": [
      "runnning quantum MCMC steps . ..: 100%|██████████| 10000/10000 [01:20<00:00, 124.41it/s]\n",
      "runnning quantum MCMC steps . ..:   0%|          | 13/10000 [00:00<01:34, 105.19it/s]"
     ]
    },
    {
     "name": "stdout",
     "output_type": "stream",
     "text": [
      "starting with:  111000111 with energy: -48.0\n"
     ]
    },
    {
     "name": "stderr",
     "output_type": "stream",
     "text": [
      "runnning quantum MCMC steps . ..: 100%|██████████| 10000/10000 [01:26<00:00, 115.72it/s]\n",
      "runnning quantum MCMC steps . ..:   0%|          | 10/10000 [00:00<01:45, 94.72it/s]"
     ]
    },
    {
     "name": "stdout",
     "output_type": "stream",
     "text": [
      "starting with:  111000111 with energy: -48.0\n"
     ]
    },
    {
     "name": "stderr",
     "output_type": "stream",
     "text": [
      "runnning quantum MCMC steps . ..: 100%|██████████| 10000/10000 [01:24<00:00, 118.63it/s]\n"
     ]
    }
   ],
   "source": [
    "num_chains=10\n",
    "steps =10000 # 30000\n",
    "gamma_range=[(0.9,0.95), (0.4,0.6)]\n",
    "\n",
    "initial_state=\"111000111\"\n",
    "\n",
    "my_mixer = [[['custom', [[0, 1, 2], [3, 4, 5], [6, 7, 8]]],### bars\n",
    "                                            ['random', 1]] ### for random proposal\n",
    "                                            ,\n",
    "                                            [0.30,0.70]### proposal probabilities\n",
    "                                            ]\n",
    "\n",
    "\n",
    "bas_std_2=[]\n",
    "for i in range(0, num_chains):  \n",
    "    mcmc_std2 = quantum_enhanced_mcmc_2(n_hops=steps,\n",
    "                                    model=model,\n",
    "                                    initial_state=initial_state,\n",
    "                                    mixer=my_mixer,\n",
    "                                    gamma_range=gamma_range,\n",
    "                                    verbose=True)\n",
    "    bas_std_2.append(mcmc_std2)\n",
    "\n",
    "### save the list\n",
    "with open('BAS_final_plots_wt1_70_bars_symm_30_gamma_std.pkl', 'wb') as f:\n",
    "    pickle.dump(bas_std_2, f)"
   ]
  },
  {
   "cell_type": "code",
   "execution_count": 15,
   "metadata": {},
   "outputs": [
    {
     "name": "stderr",
     "output_type": "stream",
     "text": [
      "runnning quantum MCMC steps . ..:   0%|          | 0/10000 [00:00<?, ?it/s]"
     ]
    },
    {
     "name": "stderr",
     "output_type": "stream",
     "text": [
      "runnning quantum MCMC steps . ..:   0%|          | 12/10000 [00:00<01:33, 107.22it/s]"
     ]
    },
    {
     "name": "stdout",
     "output_type": "stream",
     "text": [
      "chain number: 1\n",
      "starting with:  111000111 with energy: -48.0\n"
     ]
    },
    {
     "name": "stderr",
     "output_type": "stream",
     "text": [
      "runnning quantum MCMC steps . ..: 100%|██████████| 10000/10000 [01:27<00:00, 114.10it/s]\n",
      "runnning quantum MCMC steps . ..:   0%|          | 11/10000 [00:00<01:34, 105.87it/s]"
     ]
    },
    {
     "name": "stdout",
     "output_type": "stream",
     "text": [
      "chain number: 2\n",
      "starting with:  111000111 with energy: -48.0\n"
     ]
    },
    {
     "name": "stderr",
     "output_type": "stream",
     "text": [
      "runnning quantum MCMC steps . ..: 100%|██████████| 10000/10000 [01:22<00:00, 120.75it/s]\n",
      "runnning quantum MCMC steps . ..:   0%|          | 12/10000 [00:00<01:27, 114.08it/s]"
     ]
    },
    {
     "name": "stdout",
     "output_type": "stream",
     "text": [
      "chain number: 3\n",
      "starting with:  111000111 with energy: -48.0\n"
     ]
    },
    {
     "name": "stderr",
     "output_type": "stream",
     "text": [
      "runnning quantum MCMC steps . ..: 100%|██████████| 10000/10000 [01:24<00:00, 118.45it/s]\n",
      "runnning quantum MCMC steps . ..:   0%|          | 27/10000 [00:00<01:18, 126.38it/s]"
     ]
    },
    {
     "name": "stdout",
     "output_type": "stream",
     "text": [
      "chain number: 4\n",
      "starting with:  111000111 with energy: -48.0\n"
     ]
    },
    {
     "name": "stderr",
     "output_type": "stream",
     "text": [
      "runnning quantum MCMC steps . ..: 100%|██████████| 10000/10000 [01:21<00:00, 122.46it/s]\n",
      "runnning quantum MCMC steps . ..:   0%|          | 9/10000 [00:00<02:08, 77.73it/s]"
     ]
    },
    {
     "name": "stdout",
     "output_type": "stream",
     "text": [
      "chain number: 5\n",
      "starting with:  111000111 with energy: -48.0\n"
     ]
    },
    {
     "name": "stderr",
     "output_type": "stream",
     "text": [
      "runnning quantum MCMC steps . ..: 100%|██████████| 10000/10000 [01:22<00:00, 120.49it/s]\n",
      "runnning quantum MCMC steps . ..:   0%|          | 11/10000 [00:00<01:36, 103.27it/s]"
     ]
    },
    {
     "name": "stdout",
     "output_type": "stream",
     "text": [
      "chain number: 6\n",
      "starting with:  111000111 with energy: -48.0\n"
     ]
    },
    {
     "name": "stderr",
     "output_type": "stream",
     "text": [
      "runnning quantum MCMC steps . ..: 100%|██████████| 10000/10000 [01:22<00:00, 121.82it/s]\n",
      "runnning quantum MCMC steps . ..:   0%|          | 15/10000 [00:00<01:06, 149.72it/s]"
     ]
    },
    {
     "name": "stdout",
     "output_type": "stream",
     "text": [
      "chain number: 7\n",
      "starting with:  111000111 with energy: -48.0\n"
     ]
    },
    {
     "name": "stderr",
     "output_type": "stream",
     "text": [
      "runnning quantum MCMC steps . ..: 100%|██████████| 10000/10000 [01:22<00:00, 121.76it/s]\n",
      "runnning quantum MCMC steps . ..:   0%|          | 11/10000 [00:00<01:35, 104.10it/s]"
     ]
    },
    {
     "name": "stdout",
     "output_type": "stream",
     "text": [
      "chain number: 8\n",
      "starting with:  111000111 with energy: -48.0\n"
     ]
    },
    {
     "name": "stderr",
     "output_type": "stream",
     "text": [
      "runnning quantum MCMC steps . ..: 100%|██████████| 10000/10000 [01:30<00:00, 111.04it/s]\n",
      "runnning quantum MCMC steps . ..:   0%|          | 28/10000 [00:00<01:14, 133.49it/s]"
     ]
    },
    {
     "name": "stdout",
     "output_type": "stream",
     "text": [
      "chain number: 9\n",
      "starting with:  111000111 with energy: -48.0\n"
     ]
    },
    {
     "name": "stderr",
     "output_type": "stream",
     "text": [
      "runnning quantum MCMC steps . ..: 100%|██████████| 10000/10000 [01:34<00:00, 106.09it/s]\n",
      "runnning quantum MCMC steps . ..:   0%|          | 12/10000 [00:00<01:26, 115.34it/s]"
     ]
    },
    {
     "name": "stdout",
     "output_type": "stream",
     "text": [
      "chain number: 10\n",
      "starting with:  111000111 with energy: -48.0\n"
     ]
    },
    {
     "name": "stderr",
     "output_type": "stream",
     "text": [
      "runnning quantum MCMC steps . ..: 100%|██████████| 10000/10000 [01:27<00:00, 114.46it/s]\n"
     ]
    }
   ],
   "source": [
    "num_chains=10\n",
    "steps =10000 # 30000\n",
    "gamma_range=[(0.9,0.95), (0.4,0.6)]\n",
    "\n",
    "initial_state=\"111000111\"\n",
    "\n",
    "my_mixer = [[['custom', [[0, 1, 2], [3, 4, 5], [6, 7, 8]]],### bars\n",
    "                                            ['random', 1]] ### for random proposal\n",
    "                                            ,\n",
    "                                            [0.40,0.60]### proposal probabilities\n",
    "                                            ]\n",
    "\n",
    "\n",
    "bas_std_2=[]\n",
    "for i in range(0, num_chains):  \n",
    "    print(f\"chain number: {i+1}\")\n",
    "    mcmc_std2 = quantum_enhanced_mcmc_2(n_hops=steps,\n",
    "                                    model=model,\n",
    "                                    initial_state=initial_state,\n",
    "                                    mixer=my_mixer,\n",
    "                                    gamma_range=gamma_range,\n",
    "                                    verbose=True)\n",
    "    bas_std_2.append(mcmc_std2)\n",
    "\n",
    "### save the list\n",
    "with open('BAS_final_plots_wt1_60_bars_symm_40_gamma_std.pkl', 'wb') as f:\n",
    "    pickle.dump(bas_std_2, f)"
   ]
  },
  {
   "cell_type": "code",
   "execution_count": null,
   "metadata": {},
   "outputs": [],
   "source": []
  }
 ],
 "metadata": {
  "kernelspec": {
   "display_name": "base",
   "language": "python",
   "name": "python3"
  },
  "language_info": {
   "codemirror_mode": {
    "name": "ipython",
    "version": 3
   },
   "file_extension": ".py",
   "mimetype": "text/x-python",
   "name": "python",
   "nbconvert_exporter": "python",
   "pygments_lexer": "ipython3",
   "version": "3.8.8"
  }
 },
 "nbformat": 4,
 "nbformat_minor": 2
}
