{
 "cells": [
  {
   "cell_type": "code",
   "execution_count": 1,
   "metadata": {},
   "outputs": [
    {
     "data": {
      "text/plain": [
       "['d:\\\\Desktop\\\\QBM_project_repo\\\\quMCMC\\\\final_results_notebooks',\n",
       " 'd:\\\\anaconda_neel\\\\python38.zip',\n",
       " 'd:\\\\anaconda_neel\\\\DLLs',\n",
       " 'd:\\\\anaconda_neel\\\\lib',\n",
       " 'd:\\\\anaconda_neel',\n",
       " '',\n",
       " 'd:\\\\anaconda_neel\\\\lib\\\\site-packages',\n",
       " 'd:\\\\anaconda_neel\\\\lib\\\\site-packages\\\\locket-0.2.1-py3.8.egg',\n",
       " 'd:\\\\anaconda_neel\\\\lib\\\\site-packages\\\\win32',\n",
       " 'd:\\\\anaconda_neel\\\\lib\\\\site-packages\\\\win32\\\\lib',\n",
       " 'd:\\\\anaconda_neel\\\\lib\\\\site-packages\\\\Pythonwin',\n",
       " 'd:\\\\anaconda_neel\\\\lib\\\\site-packages\\\\IPython\\\\extensions',\n",
       " 'C:\\\\Users\\\\NEELKANTH RAWAT\\\\.ipython']"
      ]
     },
     "execution_count": 1,
     "metadata": {},
     "output_type": "execute_result"
    }
   ],
   "source": [
    "import sys\n",
    "sys.path"
   ]
  },
  {
   "cell_type": "code",
   "execution_count": 3,
   "metadata": {},
   "outputs": [],
   "source": [
    "sys.path.append(\"d:/Desktop/QBM_project_repo/quMCMC\") "
   ]
  },
  {
   "cell_type": "code",
   "execution_count": 4,
   "metadata": {},
   "outputs": [],
   "source": [
    "import qumcmc"
   ]
  },
  {
   "cell_type": "code",
   "execution_count": 5,
   "metadata": {},
   "outputs": [],
   "source": [
    "## import essential modules \n",
    "from qumcmc.basic_utils import *\n",
    "from qumcmc.energy_models import IsingEnergyFunction, Exact_Sampling\n",
    "\n",
    "from qumcmc.classical_mcmc_routines import classical_mcmc\n",
    "from qumcmc.quantum_mcmc_routines_qulacs import quantum_enhanced_mcmc     #for Qulacs Simulator backend (** Faster )\n",
    "from qumcmc.quantum_mcmc_qulacs_2 import quantum_enhanced_mcmc_2\n",
    "# from qumcmc.quantum_mcmc_routines_qiskit import quantum_enhanced_mcmc   #for qiskit Aer's Simulator backend \n",
    "\n",
    "from qumcmc.trajectory_processing import calculate_running_js_divergence, calculate_running_kl_divergence, calculate_runnning_magnetisation, get_trajectory_statistics\n",
    "from qumcmc.prob_dist import DiscreteProbabilityDistribution\n",
    "\n",
    "import pickle"
   ]
  },
  {
   "cell_type": "markdown",
   "metadata": {},
   "source": [
    "### Load BAS dataset"
   ]
  },
  {
   "cell_type": "code",
   "execution_count": 6,
   "metadata": {},
   "outputs": [],
   "source": [
    "gridsize=3\n",
    "\n",
    "bas= bas_dataset(grid_size=gridsize)\n",
    "bas.dataset.sort()"
   ]
  },
  {
   "cell_type": "code",
   "execution_count": 7,
   "metadata": {},
   "outputs": [
    {
     "name": "stdout",
     "output_type": "stream",
     "text": [
      "=============================================\n",
      "     MODEL : ising model 9X9 bars |  beta : 1.5\n",
      "=============================================\n",
      "Num Most Probable States : 6\n",
      "Entropy : 2.5849625007211547\n",
      "---------------------------------------------\n"
     ]
    },
    {
     "data": {
      "image/png": "[encoded data removed]",
      "text/plain": [
       "<Figure size 432x288 with 1 Axes>"
      ]
     },
     "metadata": {
      "needs_background": "light"
     },
     "output_type": "display_data"
    }
   ],
   "source": [
    "# consider only the bars dataset and create the weight matrix for them and create the ising model\n",
    "wt= hebbing_learning(bas.bas_dict[\"bars\"])## added 2 datapoints from stripes dataset into it\n",
    "n_spins=gridsize*gridsize\n",
    "shape_of_J=(n_spins,n_spins)\n",
    "J=-1*wt\n",
    "h=np.zeros(n_spins)\n",
    "model=IsingEnergyFunction(J,h,name=f'ising model {n_spins}X{n_spins} bars')\n",
    "\n",
    "# model.model_summary()\n",
    "beta=1.5\n",
    "## run exact sampling over all possible configurations \n",
    "exact_sampled_model = Exact_Sampling(model, beta)\n",
    "\n",
    "## get distribution from the model\n",
    "bpd_2= DiscreteProbabilityDistribution(exact_sampled_model.boltzmann_pd)\n",
    "exact_sampled_model.sampling_summary()"
   ]
  },
  {
   "cell_type": "markdown",
   "metadata": {},
   "source": [
    "### Now run 10 differet chains for each case and save the data"
   ]
  },
  {
   "cell_type": "code",
   "execution_count": 8,
   "metadata": {},
   "outputs": [],
   "source": [
    "num_chains=10\n",
    "steps =30000 # let's run small number of runs\n",
    "gamma_range=(0.4,0.6)\n",
    "\n",
    "initial_state=\"111000111\""
   ]
  },
  {
   "cell_type": "code",
   "execution_count": 9,
   "metadata": {},
   "outputs": [
    {
     "name": "stderr",
     "output_type": "stream",
     "text": [
      "runnning quantum MCMC steps . ..:   0%|          | 9/30000 [00:00<06:17, 79.44it/s]"
     ]
    },
    {
     "name": "stdout",
     "output_type": "stream",
     "text": [
      "chain number: 0\n",
      "starting with:  111000111 with energy: -72.0\n"
     ]
    },
    {
     "name": "stderr",
     "output_type": "stream",
     "text": [
      "runnning quantum MCMC steps . ..: 100%|██████████| 30000/30000 [05:17<00:00, 94.55it/s] \n",
      "runnning quantum MCMC steps . ..:   0%|          | 23/30000 [00:00<04:22, 114.11it/s]"
     ]
    },
    {
     "name": "stdout",
     "output_type": "stream",
     "text": [
      "chain number: 1\n",
      "starting with:  111000111 with energy: -72.0\n"
     ]
    },
    {
     "name": "stderr",
     "output_type": "stream",
     "text": [
      "runnning quantum MCMC steps . ..: 100%|██████████| 30000/30000 [05:24<00:00, 92.38it/s] \n",
      "runnning quantum MCMC steps . ..:   0%|          | 8/30000 [00:00<06:46, 73.69it/s]"
     ]
    },
    {
     "name": "stdout",
     "output_type": "stream",
     "text": [
      "chain number: 2\n",
      "starting with:  111000111 with energy: -72.0\n"
     ]
    },
    {
     "name": "stderr",
     "output_type": "stream",
     "text": [
      "runnning quantum MCMC steps . ..: 100%|██████████| 30000/30000 [04:58<00:00, 100.55it/s]\n",
      "runnning quantum MCMC steps . ..:   0%|          | 11/30000 [00:00<04:37, 108.11it/s]"
     ]
    },
    {
     "name": "stdout",
     "output_type": "stream",
     "text": [
      "chain number: 3\n",
      "starting with:  111000111 with energy: -72.0\n"
     ]
    },
    {
     "name": "stderr",
     "output_type": "stream",
     "text": [
      "runnning quantum MCMC steps . ..: 100%|██████████| 30000/30000 [04:40<00:00, 107.13it/s]\n",
      "runnning quantum MCMC steps . ..:   0%|          | 10/30000 [00:00<05:18, 94.25it/s]"
     ]
    },
    {
     "name": "stdout",
     "output_type": "stream",
     "text": [
      "chain number: 4\n",
      "starting with:  111000111 with energy: -72.0\n"
     ]
    },
    {
     "name": "stderr",
     "output_type": "stream",
     "text": [
      "runnning quantum MCMC steps . ..: 100%|██████████| 30000/30000 [04:38<00:00, 107.74it/s]\n",
      "runnning quantum MCMC steps . ..:   0%|          | 9/30000 [00:00<05:36, 89.21it/s]"
     ]
    },
    {
     "name": "stdout",
     "output_type": "stream",
     "text": [
      "chain number: 5\n",
      "starting with:  111000111 with energy: -72.0\n"
     ]
    },
    {
     "name": "stderr",
     "output_type": "stream",
     "text": [
      "runnning quantum MCMC steps . ..: 100%|██████████| 30000/30000 [04:39<00:00, 107.34it/s]\n",
      "runnning quantum MCMC steps . ..:   0%|          | 23/30000 [00:00<04:33, 109.69it/s]"
     ]
    },
    {
     "name": "stdout",
     "output_type": "stream",
     "text": [
      "chain number: 6\n",
      "starting with:  111000111 with energy: -72.0\n"
     ]
    },
    {
     "name": "stderr",
     "output_type": "stream",
     "text": [
      "runnning quantum MCMC steps . ..: 100%|██████████| 30000/30000 [04:53<00:00, 102.16it/s]\n",
      "runnning quantum MCMC steps . ..:   0%|          | 8/30000 [00:00<06:29, 77.02it/s]"
     ]
    },
    {
     "name": "stdout",
     "output_type": "stream",
     "text": [
      "chain number: 7\n",
      "starting with:  111000111 with energy: -72.0\n"
     ]
    },
    {
     "name": "stderr",
     "output_type": "stream",
     "text": [
      "runnning quantum MCMC steps . ..: 100%|██████████| 30000/30000 [05:13<00:00, 95.70it/s] \n",
      "runnning quantum MCMC steps . ..:   0%|          | 12/30000 [00:00<04:27, 112.11it/s]"
     ]
    },
    {
     "name": "stdout",
     "output_type": "stream",
     "text": [
      "chain number: 8\n",
      "starting with:  111000111 with energy: -72.0\n"
     ]
    },
    {
     "name": "stderr",
     "output_type": "stream",
     "text": [
      "runnning quantum MCMC steps . ..: 100%|██████████| 30000/30000 [04:46<00:00, 104.67it/s]\n",
      "runnning quantum MCMC steps . ..:   0%|          | 14/30000 [00:00<03:40, 135.92it/s]"
     ]
    },
    {
     "name": "stdout",
     "output_type": "stream",
     "text": [
      "chain number: 9\n",
      "starting with:  111000111 with energy: -72.0\n"
     ]
    },
    {
     "name": "stderr",
     "output_type": "stream",
     "text": [
      "runnning quantum MCMC steps . ..: 100%|██████████| 30000/30000 [05:06<00:00, 97.76it/s] \n"
     ]
    }
   ],
   "source": [
    "### case: random 1\n",
    "bas_final_wt1=[]\n",
    "\n",
    "for i in range(0,num_chains):\n",
    "    print(f\"chain number: {i}\")\n",
    "    mcmc_1=quantum_enhanced_mcmc_2(n_hops=steps,\n",
    "                                            model=model,\n",
    "                                            initial_state= initial_state,\n",
    "                                            mixer= [[['random', 1]], []]# add something here,\n",
    "                                            ,gamma_range=gamma_range ,verbose=True)\n",
    "    bas_final_wt1.append(mcmc_1)\n",
    "\n",
    "### save the list\n",
    "with open('Bars_final_plots_Wt1.pkl', 'wb') as f:\n",
    "    pickle.dump(bas_final_wt1, f)"
   ]
  },
  {
   "cell_type": "code",
   "execution_count": null,
   "metadata": {},
   "outputs": [],
   "source": []
  },
  {
   "cell_type": "code",
   "execution_count": 10,
   "metadata": {},
   "outputs": [
    {
     "name": "stderr",
     "output_type": "stream",
     "text": [
      "runnning quantum MCMC steps . ..:   0%|          | 10/30000 [00:00<05:10, 96.58it/s]"
     ]
    },
    {
     "name": "stdout",
     "output_type": "stream",
     "text": [
      "chain number: 0\n",
      "starting with:  111000111 with energy: -72.0\n"
     ]
    },
    {
     "name": "stderr",
     "output_type": "stream",
     "text": [
      "runnning quantum MCMC steps . ..: 100%|██████████| 30000/30000 [04:26<00:00, 112.65it/s]\n",
      "runnning quantum MCMC steps . ..:   0%|          | 8/30000 [00:00<06:47, 73.63it/s]"
     ]
    },
    {
     "name": "stdout",
     "output_type": "stream",
     "text": [
      "chain number: 1\n",
      "starting with:  111000111 with energy: -72.0\n"
     ]
    },
    {
     "name": "stderr",
     "output_type": "stream",
     "text": [
      "runnning quantum MCMC steps . ..: 100%|██████████| 30000/30000 [04:51<00:00, 102.93it/s]\n",
      "runnning quantum MCMC steps . ..:   0%|          | 9/30000 [00:00<05:58, 83.76it/s]"
     ]
    },
    {
     "name": "stdout",
     "output_type": "stream",
     "text": [
      "chain number: 2\n",
      "starting with:  111000111 with energy: -72.0\n"
     ]
    },
    {
     "name": "stderr",
     "output_type": "stream",
     "text": [
      "runnning quantum MCMC steps . ..: 100%|██████████| 30000/30000 [04:54<00:00, 101.94it/s]\n",
      "runnning quantum MCMC steps . ..:   0%|          | 2/30000 [00:00<25:06, 19.91it/s]"
     ]
    },
    {
     "name": "stdout",
     "output_type": "stream",
     "text": [
      "chain number: 3\n",
      "starting with:  111000111 with energy: -72.0\n"
     ]
    },
    {
     "name": "stderr",
     "output_type": "stream",
     "text": [
      "runnning quantum MCMC steps . ..: 100%|██████████| 30000/30000 [04:50<00:00, 103.11it/s]\n",
      "runnning quantum MCMC steps . ..:   0%|          | 10/30000 [00:00<05:41, 87.90it/s]"
     ]
    },
    {
     "name": "stdout",
     "output_type": "stream",
     "text": [
      "chain number: 4\n",
      "starting with:  111000111 with energy: -72.0\n"
     ]
    },
    {
     "name": "stderr",
     "output_type": "stream",
     "text": [
      "runnning quantum MCMC steps . ..: 100%|██████████| 30000/30000 [04:51<00:00, 102.93it/s]\n",
      "runnning quantum MCMC steps . ..:   0%|          | 15/30000 [00:00<03:41, 135.56it/s]"
     ]
    },
    {
     "name": "stdout",
     "output_type": "stream",
     "text": [
      "chain number: 5\n",
      "starting with:  111000111 with energy: -72.0\n"
     ]
    },
    {
     "name": "stderr",
     "output_type": "stream",
     "text": [
      "runnning quantum MCMC steps . ..: 100%|██████████| 30000/30000 [04:50<00:00, 103.37it/s]\n",
      "runnning quantum MCMC steps . ..:   0%|          | 12/30000 [00:00<04:28, 111.83it/s]"
     ]
    },
    {
     "name": "stdout",
     "output_type": "stream",
     "text": [
      "chain number: 6\n",
      "starting with:  111000111 with energy: -72.0\n"
     ]
    },
    {
     "name": "stderr",
     "output_type": "stream",
     "text": [
      "runnning quantum MCMC steps . ..: 100%|██████████| 30000/30000 [04:44<00:00, 105.36it/s]\n",
      "runnning quantum MCMC steps . ..:   0%|          | 9/30000 [00:00<06:27, 77.30it/s]"
     ]
    },
    {
     "name": "stdout",
     "output_type": "stream",
     "text": [
      "chain number: 7\n",
      "starting with:  111000111 with energy: -72.0\n"
     ]
    },
    {
     "name": "stderr",
     "output_type": "stream",
     "text": [
      "runnning quantum MCMC steps . ..: 100%|██████████| 30000/30000 [04:51<00:00, 103.01it/s]\n",
      "runnning quantum MCMC steps . ..:   0%|          | 10/30000 [00:00<05:01, 99.58it/s]"
     ]
    },
    {
     "name": "stdout",
     "output_type": "stream",
     "text": [
      "chain number: 8\n",
      "starting with:  111000111 with energy: -72.0\n"
     ]
    },
    {
     "name": "stderr",
     "output_type": "stream",
     "text": [
      "runnning quantum MCMC steps . ..: 100%|██████████| 30000/30000 [04:58<00:00, 100.64it/s]\n",
      "runnning quantum MCMC steps . ..:   0%|          | 12/30000 [00:00<04:51, 102.87it/s]"
     ]
    },
    {
     "name": "stdout",
     "output_type": "stream",
     "text": [
      "chain number: 9\n",
      "starting with:  111000111 with energy: -72.0\n"
     ]
    },
    {
     "name": "stderr",
     "output_type": "stream",
     "text": [
      "runnning quantum MCMC steps . ..: 100%|██████████| 30000/30000 [05:08<00:00, 97.09it/s] \n"
     ]
    }
   ],
   "source": [
    "### highly symmetric mixer\n",
    "bas_symmetric=[]\n",
    "\n",
    "for i in range(0,num_chains):\n",
    "    print(f\"chain number: {i}\")\n",
    "    mcmc_3= quantum_enhanced_mcmc_2(n_hops=steps,\n",
    "                                    model=model,\n",
    "                                    initial_state=initial_state,\n",
    "                                    mixer=[[['custom', [[0, 1, 2], [3, 4, 5], [6, 7, 8]]]], \n",
    "                                            []],\n",
    "                                    gamma_range=gamma_range,\n",
    "                                    verbose=True)\n",
    "    bas_symmetric.append(mcmc_3)\n",
    "\n",
    "### save the list\n",
    "with open('Bars_final_plots_symmetrix.pkl', 'wb') as f:\n",
    "    pickle.dump(bas_symmetric, f)\n"
   ]
  },
  {
   "cell_type": "code",
   "execution_count": 11,
   "metadata": {},
   "outputs": [
    {
     "name": "stderr",
     "output_type": "stream",
     "text": [
      "runnning quantum MCMC steps . ..:   0%|          | 4/30000 [00:00<14:58, 33.37it/s]"
     ]
    },
    {
     "name": "stdout",
     "output_type": "stream",
     "text": [
      "chain number: 0\n",
      "starting with:  111000111 with energy: -72.0\n"
     ]
    },
    {
     "name": "stderr",
     "output_type": "stream",
     "text": [
      "runnning quantum MCMC steps . ..: 100%|██████████| 30000/30000 [15:36<00:00, 32.04it/s]\n",
      "runnning quantum MCMC steps . ..:   0%|          | 4/30000 [00:00<18:11, 27.48it/s]"
     ]
    },
    {
     "name": "stdout",
     "output_type": "stream",
     "text": [
      "chain number: 1\n",
      "starting with:  111000111 with energy: -72.0\n"
     ]
    },
    {
     "name": "stderr",
     "output_type": "stream",
     "text": [
      "runnning quantum MCMC steps . ..: 100%|██████████| 30000/30000 [15:13<00:00, 32.85it/s]\n",
      "runnning quantum MCMC steps . ..:   0%|          | 7/30000 [00:00<09:29, 52.66it/s]"
     ]
    },
    {
     "name": "stdout",
     "output_type": "stream",
     "text": [
      "chain number: 2\n",
      "starting with:  111000111 with energy: -72.0\n"
     ]
    },
    {
     "name": "stderr",
     "output_type": "stream",
     "text": [
      "runnning quantum MCMC steps . ..: 100%|██████████| 30000/30000 [13:56<00:00, 35.88it/s]\n",
      "runnning quantum MCMC steps . ..:   0%|          | 5/30000 [00:00<13:04, 38.24it/s]"
     ]
    },
    {
     "name": "stdout",
     "output_type": "stream",
     "text": [
      "chain number: 3\n",
      "starting with:  111000111 with energy: -72.0\n"
     ]
    },
    {
     "name": "stderr",
     "output_type": "stream",
     "text": [
      "runnning quantum MCMC steps . ..: 100%|██████████| 30000/30000 [13:46<00:00, 36.28it/s] \n",
      "runnning quantum MCMC steps . ..:   0%|          | 10/30000 [00:00<15:05, 33.11it/s]"
     ]
    },
    {
     "name": "stdout",
     "output_type": "stream",
     "text": [
      "chain number: 4\n",
      "starting with:  111000111 with energy: -72.0\n"
     ]
    },
    {
     "name": "stderr",
     "output_type": "stream",
     "text": [
      "runnning quantum MCMC steps . ..: 100%|██████████| 30000/30000 [15:03<00:00, 33.20it/s]\n",
      "runnning quantum MCMC steps . ..:   0%|          | 4/30000 [00:00<14:41, 34.04it/s]"
     ]
    },
    {
     "name": "stdout",
     "output_type": "stream",
     "text": [
      "chain number: 5\n",
      "starting with:  111000111 with energy: -72.0\n"
     ]
    },
    {
     "name": "stderr",
     "output_type": "stream",
     "text": [
      "runnning quantum MCMC steps . ..: 100%|██████████| 30000/30000 [13:17<00:00, 37.63it/s]\n",
      "runnning quantum MCMC steps . ..:   0%|          | 5/30000 [00:00<11:35, 43.11it/s]"
     ]
    },
    {
     "name": "stdout",
     "output_type": "stream",
     "text": [
      "chain number: 6\n",
      "starting with:  111000111 with energy: -72.0\n"
     ]
    },
    {
     "name": "stderr",
     "output_type": "stream",
     "text": [
      "runnning quantum MCMC steps . ..: 100%|██████████| 30000/30000 [13:34<00:00, 36.84it/s]\n",
      "runnning quantum MCMC steps . ..:   0%|          | 4/30000 [00:00<14:19, 34.90it/s]"
     ]
    },
    {
     "name": "stdout",
     "output_type": "stream",
     "text": [
      "chain number: 7\n",
      "starting with:  111000111 with energy: -72.0\n"
     ]
    },
    {
     "name": "stderr",
     "output_type": "stream",
     "text": [
      "runnning quantum MCMC steps . ..: 100%|██████████| 30000/30000 [11:26<00:00, 43.69it/s]\n",
      "runnning quantum MCMC steps . ..:   0%|          | 5/30000 [00:00<12:54, 38.75it/s]"
     ]
    },
    {
     "name": "stdout",
     "output_type": "stream",
     "text": [
      "chain number: 8\n",
      "starting with:  111000111 with energy: -72.0\n"
     ]
    },
    {
     "name": "stderr",
     "output_type": "stream",
     "text": [
      "runnning quantum MCMC steps . ..: 100%|██████████| 30000/30000 [11:26<00:00, 43.73it/s]\n",
      "runnning quantum MCMC steps . ..:   0%|          | 6/30000 [00:00<09:43, 51.38it/s]"
     ]
    },
    {
     "name": "stdout",
     "output_type": "stream",
     "text": [
      "chain number: 9\n",
      "starting with:  111000111 with energy: -72.0\n"
     ]
    },
    {
     "name": "stderr",
     "output_type": "stream",
     "text": [
      "runnning quantum MCMC steps . ..: 100%|██████████| 30000/30000 [13:34<00:00, 36.83it/s] \n"
     ]
    }
   ],
   "source": [
    "### case wt3\n",
    "bas_wt3=[]\n",
    "\n",
    "for i in range(0,num_chains):\n",
    "    print(f\"chain number: {i}\")\n",
    "    mcmc_2= quantum_enhanced_mcmc_2(n_hops=steps,\n",
    "                                    model=model,\n",
    "                                    initial_state=initial_state,\n",
    "                                    mixer=[[['random', 3]], []],\n",
    "                                    gamma_range=gamma_range,\n",
    "                                    verbose=True)\n",
    "    bas_wt3.append(mcmc_2)\n",
    "\n",
    "### save the list\n",
    "with open('Bars_final_plots_Wt3.pkl', 'wb') as f:\n",
    "    pickle.dump(bas_wt3, f)"
   ]
  },
  {
   "cell_type": "code",
   "execution_count": null,
   "metadata": {},
   "outputs": [],
   "source": []
  }
 ],
 "metadata": {
  "kernelspec": {
   "display_name": "base",
   "language": "python",
   "name": "python3"
  },
  "language_info": {
   "codemirror_mode": {
    "name": "ipython",
    "version": 3
   },
   "file_extension": ".py",
   "mimetype": "text/x-python",
   "name": "python",
   "nbconvert_exporter": "python",
   "pygments_lexer": "ipython3",
   "version": "3.8.8"
  }
 },
 "nbformat": 4,
 "nbformat_minor": 2
}
