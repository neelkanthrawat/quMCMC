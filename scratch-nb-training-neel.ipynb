{
 "cells": [
  {
   "cell_type": "code",
   "execution_count": 1,
   "metadata": {},
   "outputs": [],
   "source": [
    "## import essential modules \n",
    "import qumcmc \n",
    "from qumcmc.basic_utils import *\n",
    "from qumcmc.energy_models import IsingEnergyFunction, Exact_Sampling\n",
    "\n",
    "from qumcmc.classical_mcmc_routines import *\n",
    "from qumcmc.quantum_mcmc_routines_qulacs import *     #for Qulacs Simulator backend\n",
    "# from qumcmc.quantum_mcmc_routines_qulacs import quantum_enhanced_mcmc   #for qiskit Aer's Simulator backend \n",
    "from typing import Union\n",
    "from qumcmc.trajectory_processing import *\n",
    "import seaborn as sns\n",
    "\n",
    "#\n",
    "import random"
   ]
  },
  {
   "cell_type": "code",
   "execution_count": 70,
   "metadata": {},
   "outputs": [],
   "source": [
    "res = random.sample(range(1, 50), 7)"
   ]
  },
  {
   "cell_type": "code",
   "execution_count": 47,
   "metadata": {},
   "outputs": [
    {
     "name": "stdout",
     "output_type": "stream",
     "text": [
      "=============================================\n",
      "            MODEL : my_model\n",
      "=============================================\n",
      "Non-zero Interactions (J) : 28 / 28\n",
      "Non-zero Bias (h) : 8 / 8\n",
      "---------------------------------------------\n",
      "Average Interaction Strength <|J|> :  0.46081249999999996\n",
      "Average Bias Strength <|h|>:  0.3175\n",
      "alpha :  0.7625841344570155\n",
      "---------------------------------------------\n"
     ]
    },
    {
     "data": {
      "image/png": "[encoded data removed]",
      "text/plain": [
       "<Figure size 1152x720 with 2 Axes>"
      ]
     },
     "metadata": {
      "needs_background": "light"
     },
     "output_type": "display_data"
    }
   ],
   "source": [
    "# define the model\n",
    "np.random.seed(2) ##l lucky-seed: 610358\n",
    "n_spins = 8\n",
    "\n",
    "## construct problem Hamiltonian ##\n",
    "shape_of_J=(n_spins,n_spins)\n",
    "\n",
    "## defining J matrix (mutual 1-1 interaction)\n",
    "# J =  np.round(np.random.choice([+1, 0, -1], size=(n_spins, n_spins)), decimals=2) \n",
    "J =  np.random.uniform(low= -2, high= 2, size= shape_of_J )\n",
    "\n",
    "J = 0.5 * (J + J.transpose() )\n",
    "J = np.round( J - np.diag(np.diag(J)) , decimals= 3)\n",
    "\n",
    "# defining h\n",
    "h = np.round(0.5 * np.random.randn(n_spins), decimals=2)\n",
    "#h = np.round(np.random.uniform(low= -1, high = 1, size= (n_spins)), decimals=2)\n",
    "\n",
    "# instantiate the model\n",
    "model = IsingEnergyFunction(J, h, name= 'my_model')\n",
    "\n",
    "model.model_summary()\n",
    "## set current beta\n",
    "beta = 2.5\n",
    "\n",
    "## run exact sampling over all possible configurations \n",
    "esm = Exact_Sampling(model, beta)\n",
    "# esm.run_exact_sampling(beta)"
   ]
  },
  {
   "cell_type": "code",
   "execution_count": 48,
   "metadata": {},
   "outputs": [
    {
     "name": "stdout",
     "output_type": "stream",
     "text": [
      "=============================================\n",
      "     MODEL : my_model |  beta : 2.5\n",
      "=============================================\n",
      "Num Most Probable States : 7\n",
      "Entropy : 2.3572969242675743\n",
      "---------------------------------------------\n"
     ]
    },
    {
     "data": {
      "image/png": "[encoded data removed]",
      "text/plain": [
       "<Figure size 432x288 with 1 Axes>"
      ]
     },
     "metadata": {
      "needs_background": "light"
     },
     "output_type": "display_data"
    }
   ],
   "source": [
    "esm.sampling_summary()"
   ]
  },
  {
   "cell_type": "code",
   "execution_count": 73,
   "metadata": {},
   "outputs": [],
   "source": [
    "# steps = 10000\n",
    "# cl_chain =classical_mcmc(\n",
    "#     n_hops=steps,\n",
    "#     model=model,\n",
    "#     temperature=1/beta,\n",
    "# )\n",
    "# steps = 1000\n",
    "# qamcmc_chain =quantum_enhanced_mcmc(\n",
    "#     n_hops=steps,\n",
    "#     model=model,\n",
    "#     temperature=1/beta,\n",
    "#     verbose = False\n",
    "# )"
   ]
  },
  {
   "cell_type": "code",
   "execution_count": 74,
   "metadata": {},
   "outputs": [],
   "source": [
    "# class IsingEnergyFunction:\n",
    "#     \"\"\" A class to build the Ising Energy Function from data  \n",
    "#     \"\"\"\n",
    "\n",
    "#     def __init__(self, J: np.array, h: np.array, name:str = None) -> None:\n",
    "#         \"\"\"\n",
    "#             ARGS:\n",
    "#             ----\n",
    "#             J: weight-matrix of the interactions between the spins \n",
    "#             h: local field to the spins \n",
    "\n",
    "#         \"\"\"\n",
    "#         self.J = J\n",
    "#         self.h = h\n",
    "#         # self.beta = beta\n",
    "#         self.num_spins = len(h)\n",
    "#         # self.exact_sampling_status = False\n",
    "#         self.alpha = np.sqrt(self.num_spins) / np.sqrt( sum([J[i][j]**2 for i in range(self.num_spins) for j in range(i)]) + sum([h[j]**2 for j in range(self.num_spins)])  )\n",
    "\n",
    "#         if name == None: \n",
    "#             self.name = 'JK_random'\n",
    "#         else : self.name = name \n",
    "    \n",
    "#     @property\n",
    "#     def get_J(self):\n",
    "#         return self.J\n",
    "    \n",
    "#     @property\n",
    "#     def get_h(self):\n",
    "#         return self.h\n",
    "\n",
    "#     # @property\n",
    "#     def model_summary(self, plot= True) :\n",
    "        \n",
    "#         print(\"=============================================\")\n",
    "#         print(\"            MODEL : \"+str(self.name) )\n",
    "#         print(\"=============================================\")\n",
    "        \n",
    "        \n",
    "#         print(\"Non-zero Interactions (J) : \"+ str( int(np.count_nonzero(self.J) /2)) + ' / '+str( int( 0.5 * self.num_spins * (self.num_spins - 1))) )\n",
    "#         print(\"Non-zero Bias (h) : \"+ str( int(np.count_nonzero(self.h) )) + ' / ' + str( self.num_spins ) )\n",
    "#         print(\"---------------------------------------------\")\n",
    "\n",
    "#         print(\"Average Interaction Strength <|J|> : \", np.mean(np.abs(self.J)))\n",
    "#         print(\"Average Bias Strength <|h|>: \", np.mean(np.abs(self.h)))\n",
    "#         print(\"alpha : \", self.alpha )\n",
    "    \n",
    "#         print(\"---------------------------------------------\")\n",
    "\n",
    "\n",
    "#         # sns.set()\n",
    "#         if plot:\n",
    "#             plt.figure(figsize=(16,10))\n",
    "#             sns.heatmap(self.J, square= True, annot= False, cbar= True)\n",
    "            \n",
    "\n",
    "#     def get_energy(self, state: Union[str, np.array]) -> float:\n",
    "#         \"\"\" Returns the energy of a given state\n",
    "\n",
    "#             ARGS:\n",
    "#             ----\n",
    "#             state : configuration of spins for which the energy is requrieed to be calculated.\n",
    "#                     NOTE:  if input is an numpy array then it should only consist of bipolar values -> {+1, -1}\n",
    "\n",
    "#         \"\"\"\n",
    "\n",
    "#         if isinstance(state, str):\n",
    "#             state = np.array([-1 if elem == \"0\" else 1 for elem in state])\n",
    "#             # state = np.array( [int(list(state)[i]) for i in range(len(state))])\n",
    "#             energy = 0.5 * np.dot(state.transpose(), self.J.dot(state)) + np.dot(\n",
    "#                 self.h.transpose(), state\n",
    "#             )\n",
    "#             return energy\n",
    "#         else:\n",
    "#             return 0.5 * np.dot(state.transpose(), self.J.dot(state)) + np.dot(\n",
    "#                 self.h.transpose(), state\n",
    "#             )\n",
    "\n",
    "\n",
    "#     def get_boltzmann_factor(\n",
    "#         self, state: Union[str, np.array], beta: float = 1.0\n",
    "#     ) -> float:\n",
    "\n",
    "#         \"\"\" Get un-normalised boltzmann probability of a given state \n",
    "\n",
    "#             ARGS:\n",
    "#             ----\n",
    "#             state : configuration of spins for which probability is to be calculated \n",
    "#             beta : inverse temperature (1/T) at which the probability is to be calculated.\n",
    "        \n",
    "#         \"\"\"\n",
    "#         return np.exp(-1 * beta * self.get_energy(state))\n",
    "    \n",
    "#     from typing import List\n",
    "#     def _update_J(self, new_param:float, index: Union[tuple, List]):\n",
    "\n",
    "#         assert len(index) == 2\n",
    "#         self.J[index[0], index[1]] = new_param\n",
    "#         self.J[index[1], index[0]] = new_param\n",
    "    \n",
    "#     def _update_h(self, new_param: float, index: int):\n",
    "\n",
    "#         self.h[index] = new_param\n",
    "\n",
    "# class DiscreteProbabilityDistribution(dict):\n",
    "#     \"\"\" A class for handling discrete probability distributions \"\"\"\n",
    "\n",
    "#     def __init__(self, distribution:dict) -> None :\n",
    "\n",
    "#         super().__init__(distribution) \n",
    "    \n",
    "#     def _normalise(self, print_normalisation:bool= False):\n",
    "#         \"\"\" Normalise the given disribution \n",
    "#             NOTE: works inplace \n",
    "#         \"\"\"\n",
    "        \n",
    "#         r_sum = np.sum(list(self.values()))\n",
    "#         if print_normalisation : print('Normalisation : ', r_sum)\n",
    "#         for k in list(self.keys()) :\n",
    "#             self[k] = self[k] / r_sum\n",
    "\n",
    "#     def value_sorted_dict(self, reverse=False):\n",
    "#         \"\"\" Sort the dictionary in ascending or descending(if reverse=True) order of values. \"\"\"\n",
    "#         sorted_dict = {\n",
    "#             k: v\n",
    "#             for k, v in sorted(self.items(), key=lambda item: item[1], reverse=reverse)\n",
    "#         }\n",
    "#         return sorted_dict\n",
    "\n",
    "#     def index_sorted_dict(self, reverse= False):\n",
    "#         \"\"\" Sort the dictionary in ascending or descending(if reverse=True) order of index. \"\"\"\n",
    "#         sorted_dict = {\n",
    "#             k: v\n",
    "#             for k, v in sorted(self.items(), key=lambda item: item[0], reverse=reverse)\n",
    "#         }\n",
    "#         return sorted_dict\n",
    "   \n",
    "#     def get_truncated_distribution(self, epsilon:float = 0.00001, inplace:bool = False):\n",
    "        \n",
    "#         return_dict = {}\n",
    "#         index_probable_elements = [ indx for indx, b in enumerate( np.array(list(self.values())) > epsilon ) if b ]\n",
    "#         states = list(self.keys())\n",
    "#         probs = list(self.values())\n",
    "\n",
    "#         for indx in index_probable_elements:\n",
    "#             return_dict[states[indx]] = probs[indx]\n",
    "        \n",
    "#         if not inplace:\n",
    "#             return DiscreteProbabilityDistribution(return_dict)\n",
    "#         else :\n",
    "#             self.__init__(return_dict)\n",
    "            \n",
    "#     def expectation(self, dict_observable_val_at_states: dict):\n",
    "#         \"\"\"\n",
    "#         new version:\n",
    "#         Returns average of any observable of interest\n",
    "\n",
    "#         Args:\n",
    "#         self= {state: probability}\n",
    "#         dict_observable_val_at_states={state (same as that of self): observable's value at that state}\n",
    "\n",
    "#         Returns:\n",
    "#         avg\n",
    "#         \"\"\"\n",
    "#         ##TODO: A faster implementation is possible by using numpy \n",
    "#         len_dict = len(self)\n",
    "#         temp_list = [\n",
    "#             self[j] * dict_observable_val_at_states[j]\n",
    "#             for j in (list(self.keys()))\n",
    "#         ]\n",
    "#         avg = np.sum(\n",
    "#             temp_list\n",
    "#         )  # earlier I had np.mean here , which is wrong (obviously! duh!)\n",
    "#         return avg\n",
    "\n",
    "#     def get_entropy(self):\n",
    "#         tmp = sorted(np.array(list(self.values())), reverse= True)\n",
    "#         entropy = 0\n",
    "#         for val in tmp :\n",
    "#             if val > 0.00001 :\n",
    "#                 entropy += -1 * val * np.log2(val)\n",
    "#             else: \n",
    "#                 return entropy\n",
    "    \n",
    "#     def get_observable_expectation(self, observable) -> float:\n",
    "#         \"\"\" Return expectation value of a classical observables\n",
    "\n",
    "#             ARGS :\n",
    "#             ----\n",
    "#             observable: Must be a function of the spin configuration which takes an 'np.array' / 'str' of binary elements as input argument and returns a 'float'\n",
    "#             beta: inverse temperature\n",
    "\n",
    "#         \"\"\"\n",
    "#         # all_configs = np.array(list(itertools.product([1, 0], repeat=self.num_spins)))\n",
    "#         # all_configs = [f\"{k:0{self.num_spins}b}\" for k in range(0, 2 ** (self.num_spins))]\n",
    "        \n",
    "\n",
    "#         return np.sum(\n",
    "#             [\n",
    "#                 self[config]\n",
    "#                 * observable(config)\n",
    "\n",
    "#                 for config in self.keys()\n",
    "#             ]\n",
    "#         )\n",
    "\n"
   ]
  },
  {
   "attachments": {},
   "cell_type": "markdown",
   "metadata": {},
   "source": [
    "#### HELPER FUNCTIONS"
   ]
  },
  {
   "cell_type": "code",
   "execution_count": 10,
   "metadata": {},
   "outputs": [],
   "source": [
    "int_to_binary = lambda state_obtained, n_spins : f\"{state_obtained:0{n_spins}b}\"\n",
    "binary_to_bipolar = lambda string : 2.0 * float(string) - 1.0\n",
    "\n",
    "def get_observable_expectation(observable: callable, mcmc_chain: MCMCChain, skip_init:int= 100) :\n",
    "\n",
    "    sample_observable = []\n",
    "    for s in mcmc_chain.accepted_states :\n",
    "\n",
    "        sample_observable.append(observable(s) )\n",
    "    \n",
    "    sample_observable = np.array(sample_observable)\n",
    "        \n",
    "    return sample_observable.mean(dtype= float)#, sample_observable.var(dtype= float)\n",
    "\n",
    "\n",
    "def correlation_spins(state: str, indices : Union[tuple, List] ):\n",
    "\n",
    "    assert len(indices) <= len(state)\n",
    "    \n",
    "    \n",
    "    prod = 1.0\n",
    "    for j in indices :\n",
    "        prod *= binary_to_bipolar(state[j])\n",
    "\n",
    "    return prod\n",
    "\n",
    "def cd_J(index, data_distribution:DiscreteProbabilityDistribution, mcmc_chain: MCMCChain):\n",
    "\n",
    "    assert len(index) == 2\n",
    "    observable = lambda s: correlation_spins(s, [index[0], index[1]])\n",
    "    r = data_distribution.get_observable_expectation(observable) - get_observable_expectation(observable, mcmc_chain, skip_init= 100)\n",
    "\n",
    "    return r\n",
    "\n",
    "def cd_h(index:int, data_distribution:DiscreteProbabilityDistribution, mcmc_chain: MCMCChain):\n",
    "\n",
    "    assert isinstance(index, int)\n",
    "    observable = lambda s: correlation_spins(s, [index])\n",
    "    r = data_distribution.get_observable_expectation(observable) - get_observable_expectation(observable, mcmc_chain, skip_init= 100)\n",
    "\n",
    "    return r"
   ]
  },
  {
   "attachments": {},
   "cell_type": "markdown",
   "metadata": {},
   "source": [
    "#### Class for Training"
   ]
  },
  {
   "cell_type": "code",
   "execution_count": 11,
   "metadata": {},
   "outputs": [],
   "source": [
    "from copy import deepcopy"
   ]
  },
  {
   "cell_type": "code",
   "execution_count": 131,
   "metadata": {},
   "outputs": [],
   "source": [
    "# @dataclass\n",
    "class cd_training():\n",
    "    ''' \n",
    "    model: initial model = (J init, h init) at some temp T\n",
    "    beta: 1/Temperature\n",
    "    data_dist: empirical data which we want to learn!\n",
    "    \n",
    "    '''\n",
    "\n",
    "    def __init__(self, model: IsingEnergyFunction, beta:float ,data_dist: DiscreteProbabilityDistribution) -> None:\n",
    "        self.model = deepcopy(model)\n",
    "        self.model_beta = beta\n",
    "        self.data_distribution = data_dist\n",
    "        self.training_history = {}\n",
    "        self.list_pair_of_indices=[[i,j] for i in range(1,self.model.num_spins) for j in range(i,self.model.num_spins) if j!=i]\n",
    "        \n",
    "\n",
    "    def cd_J(self, index, mcmc_chain: MCMCChain):\n",
    "\n",
    "        assert len(index) == 2\n",
    "        observable = lambda s: correlation_spins(s, [index[0], index[1]])\n",
    "        r = self.data_distribution.get_observable_expectation(observable) - get_observable_expectation(observable, mcmc_chain, skip_init= 100)\n",
    "\n",
    "        return r\n",
    "\n",
    "    def cd_h(self, index:int, mcmc_chain: MCMCChain):\n",
    "\n",
    "        assert isinstance(index, int)\n",
    "        observable = lambda s: correlation_spins(s, [index])\n",
    "        r = self.data_distribution.get_observable_expectation(observable) - get_observable_expectation(observable, mcmc_chain, skip_init= 100)\n",
    "\n",
    "        return r\n",
    "\n",
    "    # @setattr\n",
    "    # def data_distribution()\n",
    "    \n",
    "    def _train_on_mcmc_chain(self, lr:float= 0.01, \n",
    "    method = 'quantum-enhanced', \n",
    "    iterations: int = 100, # rename this iterations to something else\n",
    "    num_random_Jij: int=10,\n",
    "    mcmc_steps:int =1000 ):# we will try to increase mcmc steps. \n",
    "\n",
    "        if method == 'quantum-enhanced' :\n",
    "            self.mcmc_chain = quantum_enhanced_mcmc(\n",
    "            n_hops=mcmc_steps,\n",
    "            model=self.model,\n",
    "            temperature=1/self.model_beta,\n",
    "            verbose= False\n",
    "            )\n",
    "        elif method == 'classical-uniform' : \n",
    "            self.mcmc_chain = classical_mcmc(\n",
    "            n_hops=mcmc_steps,\n",
    "            model=self.model,\n",
    "            temperature=1/self.model_beta,\n",
    "            verbose= False\n",
    "            )\n",
    "        \n",
    "        ## random update strategy ##\n",
    "        ## just realised that even this is not a good thing! \n",
    "        assert iterations<=self.model.num_spins, f\"iterations should be <= num_spins (which is= {self.model.num_spins}) \"\n",
    "        assert num_random_Jij<=len(self.list_pair_of_indices), f\"num_random_Jij should be <=len(self.list_pair_of_indices) (which is= {len(self.list_pair_of_indices)})\"\n",
    "        \n",
    "        list_random_indices=random.sample(range(0,self.model.num_spins), iterations)\n",
    "        #list_pair_of_indices=[[i,j] for i in range(1,self.model.num_spins) for j in range(i,self.model.num_spins) if j!=i]\n",
    "        #list_pair_of_different_indices=random.sample(self.list_pair_of_indices,k=num_random_Jij)\n",
    "\n",
    "        list_pair_of_different_indices=[[list_random_indices[j],\n",
    "                    random.choice(list(range(0,list_random_indices[j]))+list(range(list_random_indices[j]+1,self.model.num_spins)))] \n",
    "                    for j in range(0,iterations)]\n",
    "        \n",
    "        # ## Update J\n",
    "        for k in range(len(list_pair_of_different_indices)):\n",
    "            indices_J=list_pair_of_different_indices[k]\n",
    "            updated_param_j=model.J[indices_J[0],indices_J[1]] - lr * self.cd_J(indices_J, self.mcmc_chain)\n",
    "            self.model._update_J(updated_param_j, indices_J)\n",
    "\n",
    "        for k in range(iterations):\n",
    "            #indices_J=list_pair_of_different_indices[k]\n",
    "            #updated_param_j = model.J[indices_J[0],indices_J[1]] - lr * self.cd_J(indices_J, self.mcmc_chain)\n",
    "\n",
    "            # update h\n",
    "            index_h=list_random_indices[k]\n",
    "            updated_param_h=model.h[index_h] - lr*self.cd_h(index_h,self.mcmc_chain)\n",
    "\n",
    "            #self.model._update_J(updated_param_j, indices_J)\n",
    "            self.model._update_h(updated_param_h, index_h)\n",
    "\n",
    "        # for _ in range(iterations):\n",
    "            \n",
    "        #     ## update J ##\n",
    "        #     index_J = [np.random.randint(0, self.model.num_spins), np.random.randint(0, self.model.num_spins)]\n",
    "\n",
    "        #     updated_param_j = model.J[index_J[0], index_J[1]] - lr * self.cd_J(index_J, self.mcmc_chain) \n",
    "        #     ## comment by neel: we need to update both Jij as well as Jji\n",
    "        #     # already updating J first.\n",
    "        #     #self.model._update_J(updated_param_j, index)\n",
    "\n",
    "        #     ## update h ##\n",
    "        #     index_h = np.random.randint(0, self.model.num_spins)\n",
    "\n",
    "        #     updated_param_h = model.h[index_h] - lr * self.cd_h(index_h, self.mcmc_chain) \n",
    "\n",
    "        #     self.model._update_J(updated_param_j, index_J)\n",
    "        #     self.model._update_h(updated_param_h, index_h)\n",
    "\n",
    "            \n",
    "\n",
    "    def train(self, lr:float= 0.01, method = 'quantum-enhanced', \n",
    "    epochs:int = 10, iterations: int = 100, num_random_Jij:int=5,\n",
    "    mcmc_steps:int = 500, show_kldiv:bool = True ):\n",
    "\n",
    "        ## random update strategy ##\n",
    "        kl_div = []\n",
    "        iterator = tqdm(range(epochs), desc= 'training epochs')\n",
    "        iterator.set_postfix({'method': method})\n",
    "        for epoch in iterator:\n",
    "\n",
    "            self._train_on_mcmc_chain(lr= lr , \n",
    "            method = method, iterations= iterations, num_random_Jij=num_random_Jij,\n",
    "            mcmc_steps= mcmc_steps )\n",
    "\n",
    "            if show_kldiv:\n",
    "\n",
    "                \n",
    "                kl_div.append(kl_divergence(  self.data_distribution,self.mcmc_chain.get_accepted_dict(normalize= True)  ))\n",
    "                iterator.set_postfix( { 'method ': method, 'kl div ' : kl_div[-1] })\n",
    "        \n",
    "        if show_kldiv : self.training_history['kl_div']= kl_div\n"
   ]
  },
  {
   "attachments": {},
   "cell_type": "markdown",
   "metadata": {},
   "source": [
    "#### TRIALS"
   ]
  },
  {
   "cell_type": "code",
   "execution_count": 46,
   "metadata": {},
   "outputs": [
    {
     "name": "stdout",
     "output_type": "stream",
     "text": [
      "=============================================\n",
      "     MODEL : param_model |  beta : 1.0\n",
      "=============================================\n",
      "Num Most Probable States : 4\n",
      "Entropy : 2.016575422384969\n",
      "---------------------------------------------\n"
     ]
    },
    {
     "data": {
      "image/png": "[encoded data removed]",
      "text/plain": [
       "<Figure size 432x288 with 1 Axes>"
      ]
     },
     "metadata": {
      "needs_background": "light"
     },
     "output_type": "display_data"
    }
   ],
   "source": [
    "## INITIALISE ANOTHER RANDOM MODEL ##\n",
    "\n",
    "np.random.seed(1)# should always be in the same cell!  \n",
    "n_spins = 8\n",
    "\n",
    "## construct problem Hamiltonian ##\n",
    "shape_of_J=(n_spins,n_spins)\n",
    "\n",
    "## defining J matrix (mutual 1-1 interaction)\n",
    "# J =  np.round(np.random.choice([+1, 0, -1], size=(n_spins, n_spins)), decimals=2) \n",
    "J =  np.random.uniform(low= -3, high= 3, size= shape_of_J )\n",
    "\n",
    "J = 0.5 * (J + J.transpose() )\n",
    "J = np.round( J - np.diag(np.diag(J)) , decimals= 3)\n",
    "\n",
    "# defining h\n",
    "h = np.round(0.4 * np.random.randn(n_spins), decimals=2)\n",
    "#h = np.round(np.random.uniform(low= -1, high = 1, size= (n_spins)), decimals=2)\n",
    "\n",
    "# instantiate the model\n",
    "beta_train = 1.0\n",
    "\n",
    "param_model = IsingEnergyFunction(J, h, name= 'param_model')\n",
    "param_model_esm = Exact_Sampling(param_model, beta= beta_train)\n",
    "\n",
    "param_model_esm.sampling_summary()"
   ]
  },
  {
   "cell_type": "code",
   "execution_count": 15,
   "metadata": {},
   "outputs": [
    {
     "data": {
      "text/plain": [
       "array([[ 0.   ,  0.145, -1.045,  1.898,  1.051, -0.026, -0.955, -2.507],\n",
       "       [ 0.145,  0.   ,  0.394, -0.189, -0.425, -1.743,  0.088,  1.857],\n",
       "       [-1.045,  0.394,  0.   , -1.355, -0.101,  1.823, -1.042,  0.219],\n",
       "       [ 1.898, -0.189, -1.355,  0.   ,  1.521, -0.486, -1.106,  0.561],\n",
       "       [ 1.051, -0.425, -0.101,  1.521,  0.   , -0.681,  0.621,  0.695],\n",
       "       [-0.026, -1.743,  1.823, -0.486, -0.681,  0.   , -0.192,  1.768],\n",
       "       [-0.955,  0.088, -1.042, -1.106,  0.621, -0.192,  0.   , -2.836],\n",
       "       [-2.507,  1.857,  0.219,  0.561,  0.695,  1.768, -2.836,  0.   ]])"
      ]
     },
     "execution_count": 15,
     "metadata": {},
     "output_type": "execute_result"
    }
   ],
   "source": [
    "param_model.get_J # before training"
   ]
  },
  {
   "cell_type": "code",
   "execution_count": 44,
   "metadata": {},
   "outputs": [
    {
     "name": "stdout",
     "output_type": "stream",
     "text": [
      "=============================================\n",
      "     MODEL : my_model |  beta : 2\n",
      "=============================================\n",
      "Num Most Probable States : 9\n",
      "Entropy : 2.6583738777945\n",
      "---------------------------------------------\n"
     ]
    },
    {
     "data": {
      "image/png": "[encoded data removed]",
      "text/plain": [
       "<Figure size 432x288 with 1 Axes>"
      ]
     },
     "metadata": {
      "needs_background": "light"
     },
     "output_type": "display_data"
    }
   ],
   "source": [
    "## COMPARE WITH THE DATA-DISTRIBUTION ##\n",
    "esm.sampling_summary()"
   ]
  },
  {
   "attachments": {},
   "cell_type": "markdown",
   "metadata": {},
   "source": [
    "#### TRAINING"
   ]
  },
  {
   "cell_type": "code",
   "execution_count": 67,
   "metadata": {},
   "outputs": [],
   "source": [
    "num_spins_prob=model.num_spins"
   ]
  },
  {
   "cell_type": "code",
   "execution_count": 123,
   "metadata": {},
   "outputs": [
    {
     "name": "stderr",
     "output_type": "stream",
     "text": [
      "training epochs: 100%|██████████| 20/20 [04:28<00:00, 13.42s/it, method =quantum-enhanced, kl div =0.665]\n"
     ]
    }
   ],
   "source": [
    "training_quantum = cd_training(param_model, beta_train, esm.boltzmann_pd)\n",
    "training_quantum.train(lr = 0.05 ,method = 'quantum-enhanced' , \n",
    "epochs= 20, iterations= num_spins_prob,num_random_Jij=num_spins_prob ,\n",
    "mcmc_steps= 1000 , show_kldiv= True)# when i in hi and i in Jij are same"
   ]
  },
  {
   "cell_type": "code",
   "execution_count": 124,
   "metadata": {},
   "outputs": [
    {
     "name": "stderr",
     "output_type": "stream",
     "text": [
      "training epochs: 100%|██████████| 40/40 [08:49<00:00, 13.23s/it, method =quantum-enhanced, kl div =0.451]\n"
     ]
    }
   ],
   "source": [
    "training_quantum = cd_training(param_model, beta_train, esm.boltzmann_pd)\n",
    "training_quantum.train(lr = 0.05 ,method = 'quantum-enhanced' , \n",
    "epochs= 40, iterations= num_spins_prob,num_random_Jij=num_spins_prob ,\n",
    "mcmc_steps= 1000 , show_kldiv= True)#when i in all hi and Jij which were tweaked is same!"
   ]
  },
  {
   "cell_type": "code",
   "execution_count": null,
   "metadata": {},
   "outputs": [],
   "source": [
    "# could also be the effect of learning rate I believe. let's see!"
   ]
  },
  {
   "cell_type": "code",
   "execution_count": 134,
   "metadata": {},
   "outputs": [
    {
     "name": "stderr",
     "output_type": "stream",
     "text": [
      "training epochs: 100%|██████████| 60/60 [13:35<00:00, 13.59s/it, method =quantum-enhanced, kl div =0.272]\n"
     ]
    }
   ],
   "source": [
    "training_quantum_11 = cd_training(param_model, beta_train, esm.boltzmann_pd)\n",
    "training_quantum_11.train(lr = 0.05 ,method = 'quantum-enhanced' , \n",
    "epochs= 60, iterations= num_spins_prob,num_random_Jij=num_spins_prob ,\n",
    "mcmc_steps= 1000 , show_kldiv= True)#when i in all hi and Jij which were tweaked is same!"
   ]
  },
  {
   "cell_type": "code",
   "execution_count": 127,
   "metadata": {},
   "outputs": [
    {
     "name": "stderr",
     "output_type": "stream",
     "text": [
      "training epochs: 100%|██████████| 40/40 [08:50<00:00, 13.25s/it, method =quantum-enhanced, kl div =2.23]\n"
     ]
    }
   ],
   "source": [
    "training_quantum2 = cd_training(param_model, beta_train, esm.boltzmann_pd)\n",
    "training_quantum2.train(lr = 0.05 ,method = 'quantum-enhanced' , \n",
    "epochs= 40, iterations= num_spins_prob,num_random_Jij=num_spins_prob ,\n",
    "mcmc_steps= 1000 , show_kldiv= True)# when i in all hi and Jij which were tweaked may or may not be the same!"
   ]
  },
  {
   "cell_type": "code",
   "execution_count": 129,
   "metadata": {},
   "outputs": [
    {
     "name": "stderr",
     "output_type": "stream",
     "text": [
      "training epochs: 100%|██████████| 40/40 [08:44<00:00, 13.11s/it, method =quantum-enhanced, kl div =2.27]\n"
     ]
    }
   ],
   "source": [
    "training_quantum3 = cd_training(param_model, beta_train, esm.boltzmann_pd)\n",
    "training_quantum3.train(lr = 0.05 ,method = 'quantum-enhanced' , \n",
    "epochs= 40, iterations= num_spins_prob,num_random_Jij=num_spins_prob*2 ,\n",
    "mcmc_steps= 1000 , show_kldiv= True)# when i in hi and Jij will be be the same!"
   ]
  },
  {
   "cell_type": "code",
   "execution_count": 114,
   "metadata": {},
   "outputs": [
    {
     "data": {
      "text/plain": [
       "array([[ 0.   ,  0.351, -1.748,  0.536,  0.314,  0.244, -1.578, -0.241],\n",
       "       [ 0.351,  0.   , -0.066,  1.739, -0.787,  1.879, -2.528, -0.548],\n",
       "       [-1.748, -0.066,  0.   , -2.151,  1.478,  0.746, -2.002,  0.845],\n",
       "       [ 0.536,  1.739, -2.151,  0.   , -1.544,  2.002, -0.668,  0.363],\n",
       "       [ 0.314, -0.787,  1.478, -1.544,  0.   , -0.186, -2.31 , -0.443],\n",
       "       [ 0.244,  1.879,  0.746,  2.002, -0.186,  0.   ,  0.522, -0.877],\n",
       "       [-1.578, -2.528, -2.002, -0.668, -2.31 ,  0.522,  0.   , -0.757],\n",
       "       [-0.241, -0.548,  0.845,  0.363, -0.443, -0.877, -0.757,  0.   ]])"
      ]
     },
     "execution_count": 114,
     "metadata": {},
     "output_type": "execute_result"
    }
   ],
   "source": [
    "param_model.get_J "
   ]
  },
  {
   "cell_type": "code",
   "execution_count": 115,
   "metadata": {},
   "outputs": [
    {
     "name": "stderr",
     "output_type": "stream",
     "text": [
      "training epochs: 100%|██████████| 50/50 [00:06<00:00,  7.27it/s, method =classical-uniform, kl div =2.3] \n"
     ]
    }
   ],
   "source": [
    "training_cl = cd_training(param_model, beta_train, esm.boltzmann_pd)\n",
    "training_cl.train(lr = 0.05 ,method = 'classical-uniform' , epochs= 50, iterations= num_spins_prob, num_random_Jij=5, mcmc_steps= 1500 , show_kldiv= True)"
   ]
  },
  {
   "cell_type": "code",
   "execution_count": 26,
   "metadata": {},
   "outputs": [
    {
     "data": {
      "text/plain": [
       "array([[ 0.   ,  0.145, -1.045,  1.898,  1.051, -0.026, -0.955, -2.507],\n",
       "       [ 0.145,  0.   ,  0.394, -0.189, -0.425, -1.743,  0.088,  1.857],\n",
       "       [-1.045,  0.394,  0.   , -1.355, -0.101,  1.823, -1.042,  0.219],\n",
       "       [ 1.898, -0.189, -1.355,  0.   ,  1.521, -0.486, -1.106,  0.561],\n",
       "       [ 1.051, -0.425, -0.101,  1.521,  0.   , -0.681,  0.621,  0.695],\n",
       "       [-0.026, -1.743,  1.823, -0.486, -0.681,  0.   , -0.192,  1.768],\n",
       "       [-0.955,  0.088, -1.042, -1.106,  0.621, -0.192,  0.   , -2.836],\n",
       "       [-2.507,  1.857,  0.219,  0.561,  0.695,  1.768, -2.836,  0.   ]])"
      ]
     },
     "execution_count": 26,
     "metadata": {},
     "output_type": "execute_result"
    }
   ],
   "source": [
    "param_model.get_J"
   ]
  },
  {
   "attachments": {},
   "cell_type": "markdown",
   "metadata": {},
   "source": [
    "##### Compare reconstructed model"
   ]
  },
  {
   "cell_type": "code",
   "execution_count": 135,
   "metadata": {},
   "outputs": [],
   "source": [
    "# classical reconstructed model\n",
    "cl_mcmc_chain_after_train=classical_mcmc(n_hops=1000,model=training_cl.model, temperature=1,verbose=False)\n",
    "cl_reconstructed_distn=cl_mcmc_chain_after_train.get_accepted_dict(normalize=True)\n",
    "#print(cl_reconstructed_distn)\n",
    "# quantum reconstructed model\n",
    "q_mcmc_chain_after_train=quantum_enhanced_mcmc(n_hops=1000, model=training_quantum_11.model,temperature=1,verbose=False)\n",
    "q_reconstructed_distn=q_mcmc_chain_after_train.get_accepted_dict(normalize=True)\n",
    "#print(q_reconstructed_distn)"
   ]
  },
  {
   "cell_type": "code",
   "execution_count": 31,
   "metadata": {},
   "outputs": [],
   "source": [
    "# classical_reconstructed_model_esm = Exact_Sampling(training_cl.model, beta= beta_train)\n",
    "# quantum_reconstructed_model_esm = Exact_Sampling(training_quantum.model, beta= beta_train)"
   ]
  },
  {
   "cell_type": "code",
   "execution_count": 139,
   "metadata": {},
   "outputs": [
    {
     "data": {
      "image/png": "[encoded data removed]",
      "text/plain": [
       "<Figure size 1080x504 with 1 Axes>"
      ]
     },
     "metadata": {
      "needs_background": "light"
     },
     "output_type": "display_data"
    }
   ],
   "source": [
    "plot_multiple_bargraphs([esm.boltzmann_pd, cl_reconstructed_distn, q_reconstructed_distn],\n",
    " ['data','classical', 'quantum'], list_normalise=[False,False,False], plot_first_few= 15)"
   ]
  },
  {
   "cell_type": "code",
   "execution_count": 43,
   "metadata": {},
   "outputs": [],
   "source": [
    "#plot_multiple_bargraphs([esm.boltzmann_pd, classical_reconstructed_model_esm.boltzmann_pd, quantum_reconstructed_model_esm.boltzmann_pd], ['data','classical', 'quantum'], list_normalise=[False,False,False], plot_first_few= 15)"
   ]
  },
  {
   "cell_type": "code",
   "execution_count": 92,
   "metadata": {},
   "outputs": [
    {
     "name": "stdout",
     "output_type": "stream",
     "text": [
      "=============================================\n",
      "     MODEL : param_model |  beta : 1.001\n",
      "=============================================\n",
      "Num Most Probable States : 9\n",
      "Entropy : 2.690821820517544\n",
      "---------------------------------------------\n"
     ]
    },
    {
     "data": {
      "image/png": "[encoded data removed]",
      "text/plain": [
       "<Figure size 432x288 with 1 Axes>"
      ]
     },
     "metadata": {
      "needs_background": "light"
     },
     "output_type": "display_data"
    }
   ],
   "source": [
    "classical_reconstructed_model_esm.sampling_summary()"
   ]
  },
  {
   "cell_type": "code",
   "execution_count": 93,
   "metadata": {},
   "outputs": [
    {
     "name": "stdout",
     "output_type": "stream",
     "text": [
      "=============================================\n",
      "     MODEL : param_model |  beta : 1.001\n",
      "=============================================\n",
      "Num Most Probable States : 9\n",
      "Entropy : 2.690821820517544\n",
      "---------------------------------------------\n"
     ]
    },
    {
     "data": {
      "image/png": "[encoded data removed]",
      "text/plain": [
       "<Figure size 432x288 with 1 Axes>"
      ]
     },
     "metadata": {
      "needs_background": "light"
     },
     "output_type": "display_data"
    }
   ],
   "source": [
    "quantum_reconstructed_model_esm.sampling_summary()"
   ]
  },
  {
   "cell_type": "code",
   "execution_count": 94,
   "metadata": {},
   "outputs": [
    {
     "ename": "NameError",
     "evalue": "name 'norma' is not defined",
     "output_type": "error",
     "traceback": [
      "\u001b[1;31m---------------------------------------------------------------------------\u001b[0m",
      "\u001b[1;31mNameError\u001b[0m                                 Traceback (most recent call last)",
      "\u001b[1;32m<ipython-input-94-f2e4513c6614>\u001b[0m in \u001b[0;36m<module>\u001b[1;34m\u001b[0m\n\u001b[1;32m----> 1\u001b[1;33m \u001b[0mtraining_quantum\u001b[0m\u001b[1;33m.\u001b[0m\u001b[0mmcmc_chain\u001b[0m\u001b[1;33m.\u001b[0m\u001b[0mget_accepted_dict\u001b[0m\u001b[1;33m(\u001b[0m\u001b[0mnorma\u001b[0m\u001b[1;33m)\u001b[0m\u001b[1;33m\u001b[0m\u001b[1;33m\u001b[0m\u001b[0m\n\u001b[0m",
      "\u001b[1;31mNameError\u001b[0m: name 'norma' is not defined"
     ]
    }
   ],
   "source": [
    "training_quantum.mcmc_chain.get_accepted_dict(norma)"
   ]
  },
  {
   "cell_type": "code",
   "execution_count": null,
   "metadata": {},
   "outputs": [],
   "source": []
  },
  {
   "cell_type": "code",
   "execution_count": null,
   "metadata": {},
   "outputs": [],
   "source": []
  },
  {
   "cell_type": "code",
   "execution_count": null,
   "metadata": {},
   "outputs": [],
   "source": []
  }
 ],
 "metadata": {
  "kernelspec": {
   "display_name": "base",
   "language": "python",
   "name": "python3"
  },
  "language_info": {
   "codemirror_mode": {
    "name": "ipython",
    "version": 3
   },
   "file_extension": ".py",
   "mimetype": "text/x-python",
   "name": "python",
   "nbconvert_exporter": "python",
   "pygments_lexer": "ipython3",
   "version": "3.8.8"
  },
  "orig_nbformat": 4,
  "vscode": {
   "interpreter": {
    "hash": "184a4bfd18ed123440bfad7023e607e274d9f6c0bdada601c853a4367aa45839"
   }
  }
 },
 "nbformat": 4,
 "nbformat_minor": 2
}
