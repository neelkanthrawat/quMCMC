{
 "cells": [
  {
   "cell_type": "code",
   "execution_count": 1,
   "metadata": {},
   "outputs": [],
   "source": [
    "## import essential modules \n",
    "import qumcmc \n",
    "from qumcmc.basic_utils import *\n",
    "# from qumcmc.energy_models import IsingEnergyFunction\n",
    "from qumcmc.energy_models import IsingEnergyFunction, Exact_Sampling, random_ising_model\n",
    "\n",
    "from qumcmc.classical_mcmc_routines import classical_mcmc\n",
    "#from qumcmc.quantum_mcmc_routines_qulacs import quantum_enhanced_mcmc     #for Qulacs Simulator backend (** Faster )\n",
    "from qumcmc.quantum_mcmc_routines_qulacs_exact import quantum_mcmc_exact\n",
    "#  from qumcmc.quantum_mcmc_routines_qiskit import quantum_enhanced_mcmc   #for qiskit Aer's Simulator backend \n",
    "\n",
    "from qumcmc.trajectory_processing import calculate_running_js_divergence, calculate_running_kl_divergence, calculate_runnning_magnetisation, get_trajectory_statistics\n",
    "from scipy.linalg import expm\n",
    "from qulacs.gate import DenseMatrix, SparseMatrix\n",
    "from qulacs import QuantumState\n",
    "from qumcmc.quantum_mcmc_routines_qulacs import quantum_enhanced_mcmc\n",
    "from qumcmc.quantum_mcmc_qulacs_2 import quantum_enhanced_mcmc_2\n",
    "\n",
    "import pickle\n",
    "\n",
    "import sys\n",
    "sys.path.insert(0, '..') ## insert parent directory in path to access 'parent/gamma_variation' subdirectory"
   ]
  },
  {
   "cell_type": "code",
   "execution_count": 87,
   "metadata": {},
   "outputs": [],
   "source": [
    "import seaborn as sns; sns.set()\n",
    "import numpy as np\n",
    "import pylab as plb"
   ]
  },
  {
   "cell_type": "code",
   "execution_count": 3,
   "metadata": {},
   "outputs": [],
   "source": [
    "# nspin =10;\n",
    "# DATA_n10 = {'nspin': nspin, 'experiment' : 'gamma-variation', 'mixer-type' : 'basic' ,\n",
    "#                  'description': ' convergence data for random ising models of size '+ str(nspin) + ' for different gamma ranges,  ',\n",
    "#                    'DATA': [] }\n",
    "# for seed in range(1,11):\n",
    "#     name= 'gamma_variation/num_spins_' + str(nspin) + '_Gamma_var_num_spins_' + str(nspin) + '_beta_1.5_seed_'+ str(seed) +'.pkl'\n",
    "#     with open(name,'rb') as f:   dict_mcmc_chains_different_gamma_ranges=pickle.load(f)\n",
    "#     dic = {'seed': seed, 'mcmc_chains' : dict_mcmc_chains_different_gamma_ranges}\n",
    "#     DATA_n10['DATA'].append(dic)\n",
    "# nspin =9;\n",
    "# DATA_n9 = {'nspin': nspin, 'experiment' : 'gamma-variation', 'mixer-type' : 'basic' ,\n",
    "#                  'description': ' convergence data for random ising models of size '+ str(nspin) + ' for different gamma ranges,  ',\n",
    "#                    'DATA': [] }\n",
    "# for seed in range(1,11):\n",
    "#     name= 'gamma_variation/num_spins_' + str(nspin) + '_Gamma_var_num_spins_' + str(nspin) + '_beta_1.5_seed_'+ str(seed) +'.pkl'\n",
    "#     with open(name,'rb') as f:   dict_mcmc_chains_different_gamma_ranges=pickle.load(f)\n",
    "#     dic = {'seed': seed, 'mcmc_chains' : dict_mcmc_chains_different_gamma_ranges}\n",
    "#     DATA_n9['DATA'].append(dic)\n",
    "# nspin =8;\n",
    "# DATA_n8 = {'nspin': nspin, 'experiment' : 'gamma-variation', 'mixer-type' : 'basic' ,\n",
    "#                  'description': ' convergence data for random ising models of size '+ str(nspin) + ' for different gamma ranges,  ',\n",
    "#                    'DATA': [] }\n",
    "# for seed in range(1,11):\n",
    "#     name= 'gamma_variation/num_spins_' + str(nspin) + '_Gamma_var_num_spins_' + str(nspin) + '_beta_1.5_seed_'+ str(seed) +'.pkl'\n",
    "#     with open(name,'rb') as f:   dict_mcmc_chains_different_gamma_ranges=pickle.load(f)\n",
    "#     dic = {'seed': seed, 'mcmc_chains' : dict_mcmc_chains_different_gamma_ranges}\n",
    "#     DATA_n8['DATA'].append(dic)\n",
    "# nspin =11;\n",
    "# DATA_n11 = {'nspin': nspin, 'experiment' : 'gamma-variation', 'mixer-type' : 'basic' ,\n",
    "#                  'description': ' convergence data for random ising models of size '+ str(nspin) + ' for different gamma ranges,  ',\n",
    "#                    'DATA': [] }\n",
    "# for seed in range(1,11):\n",
    "#     name= 'gamma_variation/num_spins_' + str(nspin) + '_Gamma_var_num_spins_' + str(nspin) + '_beta_1.5_seed_'+ str(seed) +'.pkl'\n",
    "#     with open(name,'rb') as f:   dict_mcmc_chains_different_gamma_ranges=pickle.load(f)\n",
    "#     dic = {'seed': seed, 'mcmc_chains' : dict_mcmc_chains_different_gamma_ranges}\n",
    "#     DATA_n11['DATA'].append(dic)\n",
    "\n",
    "# name = 'gamma_variation/DATA_n11.pkl'\n",
    "# with open(name, 'wb') as f:\n",
    "#     pickle.dump(DATA_n11, f)\n"
   ]
  },
  {
   "cell_type": "code",
   "execution_count": 88,
   "metadata": {},
   "outputs": [],
   "source": [
    "name = 'gamma_variation/DATA_n10.pkl'\n",
    "with open(name, 'rb') as f:\n",
    "    DATA_n10 = pickle.load(f)"
   ]
  },
  {
   "cell_type": "code",
   "execution_count": 89,
   "metadata": {},
   "outputs": [],
   "source": [
    "name = 'gamma_variation/DATA_n8.pkl'\n",
    "with open(name, 'rb') as f:\n",
    "    DATA_n8 = pickle.load(f)"
   ]
  },
  {
   "cell_type": "code",
   "execution_count": 90,
   "metadata": {},
   "outputs": [],
   "source": [
    "GAMMA_RANGES=[(0.01,0.1),(0.11,0.4),(0.41,0.7),(0.75,0.95)] ; BETA = 1.50\n",
    "def recast_data(dataset: dict, nspin: int, to_observe= {'acceptance_prob', 'hamming'}):\n",
    "\n",
    "    gamma_rangewise_data = {}\n",
    "    for gr in list(dataset['DATA'][0]['mcmc_chains'].keys()) :\n",
    "        gamma_rangewise_data[gr] = []\n",
    "        \n",
    "    for exp in dataset['DATA'] :\n",
    "\n",
    "        model = random_ising_model(n_spins= nspin, seed= exp['seed'])\n",
    "        exact_sampled_model = Exact_Sampling(model, BETA)\n",
    "\n",
    "        for key, value in exp['mcmc_chains'].items() :\n",
    "            gamma_rangewise_data[key].append(get_trajectory_statistics(value, exact_sampled_model, to_observe= to_observe))\n",
    "\n",
    "    gamma_rangewise_data_new = {}\n",
    "    for key in  gamma_rangewise_data.keys() :\n",
    "        \n",
    "        data = {i : { 'y_data': []} for i in to_observe}    \n",
    "        \n",
    "        for experiments in gamma_rangewise_data[key] :\n",
    "\n",
    "            bins_acceptance_prob = np.linspace(0,1,20)\n",
    "            y, bins_ = np.histogram(experiments['acceptance_prob'], bins_acceptance_prob) \n",
    "            data['acceptance_prob']['y_data'].append(y) \n",
    "\n",
    "            # y, bins = np.histogram(experiments['hamming'], np.linspace(0,nspin, nspin +1))\n",
    "            # data['hamming'].append(y)\n",
    "        \n",
    "        data['acceptance_prob']['bin_data'] = bins_acceptance_prob\n",
    "        \n",
    "        gamma_rangewise_data[key] = data\n",
    "        \n",
    "    return gamma_rangewise_data\n",
    "\n",
    "        \n",
    "        \n",
    "    "
   ]
  },
  {
   "cell_type": "code",
   "execution_count": 91,
   "metadata": {},
   "outputs": [
    {
     "data": {
      "image/png": "[encoded data removed]",
      "text/plain": [
       "<Figure size 640x480 with 1 Axes>"
      ]
     },
     "metadata": {},
     "output_type": "display_data"
    }
   ],
   "source": [
    "d = recast_data(DATA_n10, 10)\n",
    "df = pd.DataFrame(d['gamma_range=(0.01, 0.1)']['acceptance_prob']['y_data'])\n",
    "\n",
    "y,binEdges =  df.mean(), d['gamma_range=(0.01, 0.1)']['acceptance_prob']['bin_data']\n",
    "bincenters = 0.5*(binEdges[1:]+binEdges[:-1])\n",
    "menStd     = df.std()\n",
    "width      = 0.05\n",
    "\n",
    "plb.bar(bincenters, y, width=width, color='r', yerr=menStd)\n",
    "# plb.xscale('log')\n",
    "plb.show()"
   ]
  },
  {
   "cell_type": "code",
   "execution_count": 92,
   "metadata": {},
   "outputs": [
    {
     "data": {
      "image/png": "[encoded data removed]",
      "text/plain": [
       "<Figure size 640x480 with 1 Axes>"
      ]
     },
     "metadata": {},
     "output_type": "display_data"
    }
   ],
   "source": [
    "d = recast_data(DATA_n8, 8)\n",
    "df = pd.DataFrame(d['gamma_range=(0.01, 0.1)']['acceptance_prob']['y_data'])\n",
    "\n",
    "y,binEdges =  df.mean(), d['gamma_range=(0.01, 0.1)']['acceptance_prob']['bin_data']\n",
    "bincenters = 0.5*(binEdges[1:]+binEdges[:-1])\n",
    "menStd     = df.std()\n",
    "width      = 0.05\n",
    "\n",
    "plb.bar(bincenters, y, width=width, color='r', yerr=menStd)\n",
    "# plb.xscale('log')\n",
    "plb.show()"
   ]
  },
  {
   "cell_type": "code",
   "execution_count": 56,
   "metadata": {},
   "outputs": [
    {
     "name": "stdout",
     "output_type": "stream",
     "text": [
      "gamma range: (0.01, 0.1)\n"
     ]
    },
    {
     "ename": "ValueError",
     "evalue": "shapes (8,8) and (10,) not aligned: 8 (dim 1) != 10 (dim 0)",
     "output_type": "error",
     "traceback": [
      "\u001b[0;31m---------------------------------------------------------------------------\u001b[0m",
      "\u001b[0;31mValueError\u001b[0m                                Traceback (most recent call last)",
      "Cell \u001b[0;32mIn[56], line 6\u001b[0m\n\u001b[1;32m      4\u001b[0m     \u001b[39mprint\u001b[39m(\u001b[39mf\u001b[39m\u001b[39m\"\u001b[39m\u001b[39mgamma range: \u001b[39m\u001b[39m{\u001b[39;00mlist_range_gamma[i]\u001b[39m}\u001b[39;00m\u001b[39m\"\u001b[39m)\n\u001b[1;32m      5\u001b[0m     mcmc_chain\u001b[39m=\u001b[39mdict_mcmc_chains_different_gamma_ranges[\u001b[39mf\u001b[39m\u001b[39m\"\u001b[39m\u001b[39mgamma_range=\u001b[39m\u001b[39m{\u001b[39;00mlist_range_gamma[i]\u001b[39m}\u001b[39;00m\u001b[39m\"\u001b[39m]\n\u001b[0;32m----> 6\u001b[0m     statistics\u001b[39m=\u001b[39mget_trajectory_statistics(mcmc_chain,exact_sampled_model,verbose\u001b[39m=\u001b[39;49m\u001b[39mFalse\u001b[39;49;00m)\n\u001b[1;32m      7\u001b[0m     dict_mcmc_statistics[\u001b[39mf\u001b[39m\u001b[39m\"\u001b[39m\u001b[39mgamma_range=\u001b[39m\u001b[39m{\u001b[39;00mlist_range_gamma[i]\u001b[39m}\u001b[39;00m\u001b[39m\"\u001b[39m]\u001b[39m=\u001b[39mstatistics\n\u001b[1;32m      8\u001b[0m \u001b[39m#dict_mcmc_statistics.keys()\u001b[39;00m\n\u001b[1;32m      9\u001b[0m \n\u001b[1;32m     10\u001b[0m \u001b[39m#\u001b[39;00m\n\u001b[1;32m     11\u001b[0m \u001b[39m# ### acceptance probability plot\u001b[39;00m\n",
      "File \u001b[0;32m~/Documents/QBMS/quMCMC/qumcmc/trajectory_processing.py:188\u001b[0m, in \u001b[0;36mget_trajectory_statistics\u001b[0;34m(mcmc_chain, model, to_observe, verbose)\u001b[0m\n\u001b[1;32m    185\u001b[0m \u001b[39mif\u001b[39;00m verbose : \u001b[39mprint\u001b[39m(\u001b[39m'\u001b[39m\u001b[39mtrans: \u001b[39m\u001b[39m'\u001b[39m\u001b[39m+\u001b[39m \u001b[39mstr\u001b[39m(trajectory[current_state_index]\u001b[39m.\u001b[39mbitstring) \u001b[39m+\u001b[39m \u001b[39m'\u001b[39m\u001b[39m -> \u001b[39m\u001b[39m'\u001b[39m\u001b[39m+\u001b[39m \u001b[39mstr\u001b[39m(trajectory[proposed_state_index]\u001b[39m.\u001b[39mbitstring)\u001b[39m+\u001b[39m\u001b[39m\"\u001b[39m\u001b[39m status: \u001b[39m\u001b[39m\"\u001b[39m\u001b[39m+\u001b[39m\u001b[39mstr\u001b[39m(trajectory[proposed_state_index]\u001b[39m.\u001b[39maccepted)  )\n\u001b[1;32m    187\u001b[0m \u001b[39m# if 'acceptance_prob' in to_observe: acceptance_statistic.append( acceptance_prob(trajectory[current_state_index], trajectory[proposed_state_index] ) )\u001b[39;00m\n\u001b[0;32m--> 188\u001b[0m \u001b[39mif\u001b[39;00m \u001b[39m'\u001b[39m\u001b[39menergy\u001b[39m\u001b[39m'\u001b[39m \u001b[39min\u001b[39;00m to_observe: energy_statistic\u001b[39m.\u001b[39mappend( energy_diff(trajectory[current_state_index], trajectory[proposed_state_index] ) )\n\u001b[1;32m    189\u001b[0m \u001b[39m#if 'hamming' in to_observe: hamming_statistic.append( hamming_diff(trajectory[current_state_index], trajectory[proposed_state_index] ) )\u001b[39;00m\n\u001b[1;32m    192\u001b[0m \u001b[39mif\u001b[39;00m trajectory[proposed_state_index]\u001b[39m.\u001b[39maccepted :\n",
      "File \u001b[0;32m~/Documents/QBMS/quMCMC/qumcmc/trajectory_processing.py:176\u001b[0m, in \u001b[0;36mget_trajectory_statistics.<locals>.<lambda>\u001b[0;34m(si, sf)\u001b[0m\n\u001b[1;32m    174\u001b[0m \u001b[39m# acceptance_prob = lambda si, sf: min(1, model.get_boltzmann_factor(sf.bitstring) / model.get_boltzmann_factor(si.bitstring) )\u001b[39;00m\n\u001b[1;32m    175\u001b[0m hamming_diff \u001b[39m=\u001b[39m \u001b[39mlambda\u001b[39;00m si, sf: hamming_dist(si\u001b[39m.\u001b[39mbitstring, sf\u001b[39m.\u001b[39mbitstring)\n\u001b[0;32m--> 176\u001b[0m energy_diff \u001b[39m=\u001b[39m \u001b[39mlambda\u001b[39;00m si, sf: model\u001b[39m.\u001b[39;49mget_energy(sf\u001b[39m.\u001b[39;49mbitstring) \u001b[39m-\u001b[39m model\u001b[39m.\u001b[39mget_energy(si\u001b[39m.\u001b[39mbitstring)\n\u001b[1;32m    178\u001b[0m acceptance_statistic \u001b[39m=\u001b[39m [];hamming_statistic \u001b[39m=\u001b[39m [];energy_statistic \u001b[39m=\u001b[39m []\n\u001b[1;32m    180\u001b[0m current_state_index \u001b[39m=\u001b[39m \u001b[39m0\u001b[39m; proposed_state_index \u001b[39m=\u001b[39m current_state_index \u001b[39m+\u001b[39m \u001b[39m1\u001b[39m\n",
      "File \u001b[0;32m~/Documents/QBMS/quMCMC/qumcmc/energy_models.py:105\u001b[0m, in \u001b[0;36mIsingEnergyFunction.get_energy\u001b[0;34m(self, state)\u001b[0m\n\u001b[1;32m    103\u001b[0m     state \u001b[39m=\u001b[39m np\u001b[39m.\u001b[39marray([\u001b[39m-\u001b[39m\u001b[39m1\u001b[39m \u001b[39mif\u001b[39;00m elem \u001b[39m==\u001b[39m \u001b[39m\"\u001b[39m\u001b[39m0\u001b[39m\u001b[39m\"\u001b[39m \u001b[39melse\u001b[39;00m \u001b[39m1\u001b[39m \u001b[39mfor\u001b[39;00m elem \u001b[39min\u001b[39;00m state])\n\u001b[1;32m    104\u001b[0m     \u001b[39m# state = np.array( [int(list(state)[i]) for i in range(len(state))])\u001b[39;00m\n\u001b[0;32m--> 105\u001b[0m     energy \u001b[39m=\u001b[39m \u001b[39m0.5\u001b[39m \u001b[39m*\u001b[39m np\u001b[39m.\u001b[39mdot(state\u001b[39m.\u001b[39mtranspose(), \u001b[39mself\u001b[39;49m\u001b[39m.\u001b[39;49mJ\u001b[39m.\u001b[39;49mdot(state)) \u001b[39m+\u001b[39m np\u001b[39m.\u001b[39mdot(\n\u001b[1;32m    106\u001b[0m         \u001b[39mself\u001b[39m\u001b[39m.\u001b[39mh\u001b[39m.\u001b[39mtranspose(), state\n\u001b[1;32m    107\u001b[0m     )\n\u001b[1;32m    108\u001b[0m     \u001b[39mreturn\u001b[39;00m energy\n\u001b[1;32m    109\u001b[0m \u001b[39melse\u001b[39;00m:\n",
      "\u001b[0;31mValueError\u001b[0m: shapes (8,8) and (10,) not aligned: 8 (dim 1) != 10 (dim 0)"
     ]
    }
   ],
   "source": [
    "# ###dict mcmc statistics\n",
    "# dict_mcmc_statistics={}\n",
    "# for i in range(0,len(list_range_gamma)):\n",
    "#     print(f\"gamma range: {list_range_gamma[i]}\")\n",
    "#     mcmc_chain=dict_mcmc_chains_different_gamma_ranges[f\"gamma_range={list_range_gamma[i]}\"]\n",
    "#     statistics=get_trajectory_statistics(mcmc_chain,exact_sampled_model,verbose=False)\n",
    "#     dict_mcmc_statistics[f\"gamma_range={list_range_gamma[i]}\"]=statistics\n",
    "# #dict_mcmc_statistics.keys()\n",
    "\n",
    "# #\n",
    "# # ### acceptance probability plot\n",
    "# plt.figure(figsize=(10,10))\n",
    "\n",
    "# #plt.hist(np.log10(cl_statistic['acceptance_prob']),label= 'classical uniform' ,alpha= 0.8, bins= 20)\n",
    "# for i in tqdm(range(0, len(list_range_gamma))):\n",
    "#     mcmc_statistics=dict_mcmc_statistics[f\"gamma_range={list_range_gamma[i]}\"]\n",
    "#     plt.hist(np.log10(mcmc_statistics[\"acceptance_prob\"]),\n",
    "#          label= r'$\\gamma \\in$'+str(list_range_gamma[i]), \n",
    "#          alpha= 0.4, bins= 50)\n",
    "# # plt.xscale(\"log\")\n",
    "# plt.xlabel(\"Acceptance Probabilities | scale: log10\")\n",
    "# plt.title(f\"num_spins={n_spins}, number of iterations=10k\")\n",
    "# plt.legend()\n",
    "# plt.show()\n",
    "\n",
    "# plt.figure(2,figsize=(10,12))\n",
    "# for i in tqdm(range(0,len(list_range_gamma))):\n",
    "#     mcmc_statistics=dict_mcmc_statistics[f\"gamma_range={list_range_gamma[i]}\"]\n",
    "#     plt.subplot(2,2,i+1)\n",
    "#     plt.hist(np.log10(mcmc_statistics[\"acceptance_prob\"]),\n",
    "#          label= r'$\\gamma \\in$'+str(list_range_gamma[i]), \n",
    "#          alpha= 0.6, bins= 50)\n",
    "#     plt.legend()\n",
    "# plt.xlabel(\"Acceptance Probabilities | scale: log10\")\n",
    "# plt.suptitle(f\"Acceptance Probabilities num_spins={n_spins}, number of iterations=10k\")\n",
    "# plt.show()\n",
    "\n",
    "# #\n",
    "# ### hamming distance plot\n",
    "# plt.figure(3,figsize=(8,8))\n",
    "# for i in tqdm(range(0,len(list_range_gamma))):\n",
    "#     mcmc_statistics=dict_mcmc_statistics[f'gamma_range={list_range_gamma[i]}']\n",
    "#     list_hamming_dist_accepted=[mcmc_statistics['hamming'][k]['accepted']/mcmc_statistics['hamming'][k]['total'] \n",
    "#                                 if mcmc_statistics['hamming'][k]['total']!=0 else 0 for k in range(0,n_spins+1) ]\n",
    "#     list_hamming_dist_rejected=[mcmc_statistics['hamming'][k]['rejected']/mcmc_statistics['hamming'][k]['total'] \n",
    "#                                 if mcmc_statistics['hamming'][k]['total']!=0 else 0 for k in range(0,n_spins+1) ]\n",
    "#     #list_hamming_dist_total=[mcmc_statistics['hamming'][k]['total'] for k in range(0,n_spins+1)]\n",
    "#     plt.subplot(2,2,i+1)\n",
    "#     plt.stem(list(mcmc_statistics['hamming'].keys()),list_hamming_dist_accepted,'b',label=r'$\\frac{accepted}{proposed}$')\n",
    "#     plt.stem(list(mcmc_statistics['hamming'].keys()),list_hamming_dist_rejected,'g',markerfmt=\"X\",label=r'$\\frac{rejected}{proposed}$')\n",
    "#     #plt.stem(list(mcmc_statistics['hamming'].keys()),list_hamming_dist_total,'k',markerfmt=\"x\",label='no. of proposals')\n",
    "#     plt.title(r'$\\gamma \\in $'+str(list_range_gamma[i]))\n",
    "#     plt.yscale('log')\n",
    "# plt.legend(bbox_to_anchor=(1.75,1.3),fontsize=20)\n",
    "# plt.suptitle(f'Hamming distance plot: num spins={n_spins}, beta={beta}, no. of iterations={10}k')\n",
    "\n",
    "\n",
    "# ########################################"
   ]
  },
  {
   "cell_type": "code",
   "execution_count": null,
   "metadata": {},
   "outputs": [],
   "source": []
  }
 ],
 "metadata": {
  "kernelspec": {
   "display_name": "Python 3",
   "language": "python",
   "name": "python3"
  },
  "language_info": {
   "codemirror_mode": {
    "name": "ipython",
    "version": 3
   },
   "file_extension": ".py",
   "mimetype": "text/x-python",
   "name": "python",
   "nbconvert_exporter": "python",
   "pygments_lexer": "ipython3",
   "version": "3.10.6"
  },
  "orig_nbformat": 4
 },
 "nbformat": 4,
 "nbformat_minor": 2
}
