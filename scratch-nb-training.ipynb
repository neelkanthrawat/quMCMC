{
 "cells": [
  {
   "cell_type": "code",
   "execution_count": 1,
   "metadata": {},
   "outputs": [],
   "source": [
    "## import essential modules \n",
    "import qumcmc \n",
    "from qumcmc.basic_utils import *\n",
    "from qumcmc.energy_models import IsingEnergyFunction, Exact_Sampling\n",
    "\n",
    "from qumcmc.classical_mcmc_routines import *\n",
    "from qumcmc.quantum_mcmc_routines_qulacs import *     #for Qulacs Simulator backend\n",
    "# from qumcmc.quantum_mcmc_routines_qulacs import quantum_enhanced_mcmc   #for qiskit Aer's Simulator backend \n",
    "from typing import Union\n",
    "from qumcmc.trajectory_processing import *\n",
    "import seaborn as sns"
   ]
  },
  {
   "cell_type": "code",
   "execution_count": 20,
   "metadata": {},
   "outputs": [
    {
     "name": "stdout",
     "output_type": "stream",
     "text": [
      "=============================================\n",
      "            MODEL : my_model\n",
      "=============================================\n",
      "Non-zero Interactions (J) : 44 / 45\n",
      "Non-zero Bias (h) : 10 / 10\n",
      "---------------------------------------------\n",
      "Average Interaction Strength <|J|> :  0.57688\n",
      "Average Bias Strength <|h|>:  0.42000000000000004\n",
      "alpha :  0.5715083548984903\n",
      "---------------------------------------------\n"
     ]
    },
    {
     "data": {
      "image/png": "[encoded data removed]",
      "text/plain": [
       "<Figure size 1152x720 with 2 Axes>"
      ]
     },
     "metadata": {
      "needs_background": "light"
     },
     "output_type": "display_data"
    }
   ],
   "source": [
    "# define the model\n",
    "np.random.seed(206147358) ##l lucky-seed: 610358\n",
    "n_spins = 10\n",
    "\n",
    "## construct problem Hamiltonian ##\n",
    "shape_of_J=(n_spins,n_spins)\n",
    "\n",
    "## defining J matrix (mutual 1-1 interaction)\n",
    "# J =  np.round(np.random.choice([+1, 0, -1], size=(n_spins, n_spins)), decimals=2) \n",
    "J =  np.random.uniform(low= -2, high= 2, size= shape_of_J )\n",
    "\n",
    "J = 0.5 * (J + J.transpose() )\n",
    "J = np.round( J - np.diag(np.diag(J)) , decimals= 3)\n",
    "\n",
    "# defining h\n",
    "h = np.round(0.5 * np.random.randn(n_spins), decimals=2)\n",
    "#h = np.round(np.random.uniform(low= -1, high = 1, size= (n_spins)), decimals=2)\n",
    "\n",
    "# instantiate the model\n",
    "model = IsingEnergyFunction(J, h, name= 'my_model')\n",
    "\n",
    "model.model_summary()\n",
    "## set current beta\n",
    "beta = 1.100209\n",
    "\n",
    "## run exact sampling over all possible configurations \n",
    "esm = Exact_Sampling(model, beta)\n",
    "# esm.run_exact_sampling(beta)"
   ]
  },
  {
   "cell_type": "code",
   "execution_count": 21,
   "metadata": {},
   "outputs": [
    {
     "name": "stdout",
     "output_type": "stream",
     "text": [
      "=============================================\n",
      "     MODEL : my_model |  beta : 1.100209\n",
      "=============================================\n",
      "Num Most Probable States : 7\n",
      "Entropy : 1.760434056154687\n",
      "---------------------------------------------\n"
     ]
    },
    {
     "data": {
      "image/png": "[encoded data removed]",
      "text/plain": [
       "<Figure size 432x288 with 1 Axes>"
      ]
     },
     "metadata": {
      "needs_background": "light"
     },
     "output_type": "display_data"
    }
   ],
   "source": [
    "esm.sampling_summary()"
   ]
  },
  {
   "cell_type": "code",
   "execution_count": 22,
   "metadata": {},
   "outputs": [],
   "source": [
    "# steps = 10000\n",
    "# cl_chain =classical_mcmc(\n",
    "#     n_hops=steps,\n",
    "#     model=model,\n",
    "#     temperature=1/beta,\n",
    "# )\n",
    "# steps = 1000\n",
    "# qamcmc_chain =quantum_enhanced_mcmc(\n",
    "#     n_hops=steps,\n",
    "#     model=model,\n",
    "#     temperature=1/beta,\n",
    "#     verbose = False\n",
    "# )"
   ]
  },
  {
   "cell_type": "code",
   "execution_count": 23,
   "metadata": {},
   "outputs": [],
   "source": [
    "# class IsingEnergyFunction:\n",
    "#     \"\"\" A class to build the Ising Energy Function from data  \n",
    "#     \"\"\"\n",
    "\n",
    "#     def __init__(self, J: np.array, h: np.array, name:str = None) -> None:\n",
    "#         \"\"\"\n",
    "#             ARGS:\n",
    "#             ----\n",
    "#             J: weight-matrix of the interactions between the spins \n",
    "#             h: local field to the spins \n",
    "\n",
    "#         \"\"\"\n",
    "#         self.J = J\n",
    "#         self.h = h\n",
    "#         # self.beta = beta\n",
    "#         self.num_spins = len(h)\n",
    "#         # self.exact_sampling_status = False\n",
    "#         self.alpha = np.sqrt(self.num_spins) / np.sqrt( sum([J[i][j]**2 for i in range(self.num_spins) for j in range(i)]) + sum([h[j]**2 for j in range(self.num_spins)])  )\n",
    "\n",
    "#         if name == None: \n",
    "#             self.name = 'JK_random'\n",
    "#         else : self.name = name \n",
    "    \n",
    "#     @property\n",
    "#     def get_J(self):\n",
    "#         return self.J\n",
    "    \n",
    "#     @property\n",
    "#     def get_h(self):\n",
    "#         return self.h\n",
    "\n",
    "#     # @property\n",
    "#     def model_summary(self, plot= True) :\n",
    "        \n",
    "#         print(\"=============================================\")\n",
    "#         print(\"            MODEL : \"+str(self.name) )\n",
    "#         print(\"=============================================\")\n",
    "        \n",
    "        \n",
    "#         print(\"Non-zero Interactions (J) : \"+ str( int(np.count_nonzero(self.J) /2)) + ' / '+str( int( 0.5 * self.num_spins * (self.num_spins - 1))) )\n",
    "#         print(\"Non-zero Bias (h) : \"+ str( int(np.count_nonzero(self.h) )) + ' / ' + str( self.num_spins ) )\n",
    "#         print(\"---------------------------------------------\")\n",
    "\n",
    "#         print(\"Average Interaction Strength <|J|> : \", np.mean(np.abs(self.J)))\n",
    "#         print(\"Average Bias Strength <|h|>: \", np.mean(np.abs(self.h)))\n",
    "#         print(\"alpha : \", self.alpha )\n",
    "    \n",
    "#         print(\"---------------------------------------------\")\n",
    "\n",
    "\n",
    "#         # sns.set()\n",
    "#         if plot:\n",
    "#             plt.figure(figsize=(16,10))\n",
    "#             sns.heatmap(self.J, square= True, annot= False, cbar= True)\n",
    "            \n",
    "\n",
    "#     def get_energy(self, state: Union[str, np.array]) -> float:\n",
    "#         \"\"\" Returns the energy of a given state\n",
    "\n",
    "#             ARGS:\n",
    "#             ----\n",
    "#             state : configuration of spins for which the energy is requrieed to be calculated.\n",
    "#                     NOTE:  if input is an numpy array then it should only consist of bipolar values -> {+1, -1}\n",
    "\n",
    "#         \"\"\"\n",
    "\n",
    "#         if isinstance(state, str):\n",
    "#             state = np.array([-1 if elem == \"0\" else 1 for elem in state])\n",
    "#             # state = np.array( [int(list(state)[i]) for i in range(len(state))])\n",
    "#             energy = 0.5 * np.dot(state.transpose(), self.J.dot(state)) + np.dot(\n",
    "#                 self.h.transpose(), state\n",
    "#             )\n",
    "#             return energy\n",
    "#         else:\n",
    "#             return 0.5 * np.dot(state.transpose(), self.J.dot(state)) + np.dot(\n",
    "#                 self.h.transpose(), state\n",
    "#             )\n",
    "\n",
    "\n",
    "#     def get_boltzmann_factor(\n",
    "#         self, state: Union[str, np.array], beta: float = 1.0\n",
    "#     ) -> float:\n",
    "\n",
    "#         \"\"\" Get un-normalised boltzmann probability of a given state \n",
    "\n",
    "#             ARGS:\n",
    "#             ----\n",
    "#             state : configuration of spins for which probability is to be calculated \n",
    "#             beta : inverse temperature (1/T) at which the probability is to be calculated.\n",
    "        \n",
    "#         \"\"\"\n",
    "#         return np.exp(-1 * beta * self.get_energy(state))\n",
    "    \n",
    "#     from typing import List\n",
    "#     def _update_J(self, new_param:float, index: Union[tuple, List]):\n",
    "\n",
    "#         assert len(index) == 2\n",
    "#         self.J[index[0], index[1]] = new_param\n",
    "#         self.J[index[1], index[0]] = new_param\n",
    "    \n",
    "#     def _update_h(self, new_param: float, index: int):\n",
    "\n",
    "#         self.h[index] = new_param\n",
    "\n",
    "# class DiscreteProbabilityDistribution(dict):\n",
    "#     \"\"\" A class for handling discrete probability distributions \"\"\"\n",
    "\n",
    "#     def __init__(self, distribution:dict) -> None :\n",
    "\n",
    "#         super().__init__(distribution) \n",
    "    \n",
    "#     def _normalise(self, print_normalisation:bool= False):\n",
    "#         \"\"\" Normalise the given disribution \n",
    "#             NOTE: works inplace \n",
    "#         \"\"\"\n",
    "        \n",
    "#         r_sum = np.sum(list(self.values()))\n",
    "#         if print_normalisation : print('Normalisation : ', r_sum)\n",
    "#         for k in list(self.keys()) :\n",
    "#             self[k] = self[k] / r_sum\n",
    "\n",
    "#     def value_sorted_dict(self, reverse=False):\n",
    "#         \"\"\" Sort the dictionary in ascending or descending(if reverse=True) order of values. \"\"\"\n",
    "#         sorted_dict = {\n",
    "#             k: v\n",
    "#             for k, v in sorted(self.items(), key=lambda item: item[1], reverse=reverse)\n",
    "#         }\n",
    "#         return sorted_dict\n",
    "\n",
    "#     def index_sorted_dict(self, reverse= False):\n",
    "#         \"\"\" Sort the dictionary in ascending or descending(if reverse=True) order of index. \"\"\"\n",
    "#         sorted_dict = {\n",
    "#             k: v\n",
    "#             for k, v in sorted(self.items(), key=lambda item: item[0], reverse=reverse)\n",
    "#         }\n",
    "#         return sorted_dict\n",
    "   \n",
    "#     def get_truncated_distribution(self, epsilon:float = 0.00001, inplace:bool = False):\n",
    "        \n",
    "#         return_dict = {}\n",
    "#         index_probable_elements = [ indx for indx, b in enumerate( np.array(list(self.values())) > epsilon ) if b ]\n",
    "#         states = list(self.keys())\n",
    "#         probs = list(self.values())\n",
    "\n",
    "#         for indx in index_probable_elements:\n",
    "#             return_dict[states[indx]] = probs[indx]\n",
    "        \n",
    "#         if not inplace:\n",
    "#             return DiscreteProbabilityDistribution(return_dict)\n",
    "#         else :\n",
    "#             self.__init__(return_dict)\n",
    "            \n",
    "#     def expectation(self, dict_observable_val_at_states: dict):\n",
    "#         \"\"\"\n",
    "#         new version:\n",
    "#         Returns average of any observable of interest\n",
    "\n",
    "#         Args:\n",
    "#         self= {state: probability}\n",
    "#         dict_observable_val_at_states={state (same as that of self): observable's value at that state}\n",
    "\n",
    "#         Returns:\n",
    "#         avg\n",
    "#         \"\"\"\n",
    "#         ##TODO: A faster implementation is possible by using numpy \n",
    "#         len_dict = len(self)\n",
    "#         temp_list = [\n",
    "#             self[j] * dict_observable_val_at_states[j]\n",
    "#             for j in (list(self.keys()))\n",
    "#         ]\n",
    "#         avg = np.sum(\n",
    "#             temp_list\n",
    "#         )  # earlier I had np.mean here , which is wrong (obviously! duh!)\n",
    "#         return avg\n",
    "\n",
    "#     def get_entropy(self):\n",
    "#         tmp = sorted(np.array(list(self.values())), reverse= True)\n",
    "#         entropy = 0\n",
    "#         for val in tmp :\n",
    "#             if val > 0.00001 :\n",
    "#                 entropy += -1 * val * np.log2(val)\n",
    "#             else: \n",
    "#                 return entropy\n",
    "    \n",
    "#     def get_observable_expectation(self, observable) -> float:\n",
    "#         \"\"\" Return expectation value of a classical observables\n",
    "\n",
    "#             ARGS :\n",
    "#             ----\n",
    "#             observable: Must be a function of the spin configuration which takes an 'np.array' / 'str' of binary elements as input argument and returns a 'float'\n",
    "#             beta: inverse temperature\n",
    "\n",
    "#         \"\"\"\n",
    "#         # all_configs = np.array(list(itertools.product([1, 0], repeat=self.num_spins)))\n",
    "#         # all_configs = [f\"{k:0{self.num_spins}b}\" for k in range(0, 2 ** (self.num_spins))]\n",
    "        \n",
    "\n",
    "#         return np.sum(\n",
    "#             [\n",
    "#                 self[config]\n",
    "#                 * observable(config)\n",
    "\n",
    "#                 for config in self.keys()\n",
    "#             ]\n",
    "#         )\n",
    "\n"
   ]
  },
  {
   "attachments": {},
   "cell_type": "markdown",
   "metadata": {},
   "source": [
    "#### HELPER FUNCTIONS"
   ]
  },
  {
   "cell_type": "code",
   "execution_count": 24,
   "metadata": {},
   "outputs": [],
   "source": [
    "int_to_binary = lambda state_obtained, n_spins : f\"{state_obtained:0{n_spins}b}\"\n",
    "binary_to_bipolar = lambda string : 2.0 * float(string) - 1.0\n",
    "\n",
    "def get_observable_expectation(observable: callable, mcmc_chain: MCMCChain, skip_init:int= 100) :\n",
    "\n",
    "    sample_observable = []\n",
    "    for s in mcmc_chain.accepted_states :\n",
    "\n",
    "        sample_observable.append(observable(s) )\n",
    "    \n",
    "    sample_observable = np.array(sample_observable)\n",
    "        \n",
    "    return sample_observable.mean(dtype= float)#, sample_observable.var(dtype= float)\n",
    "\n",
    "\n",
    "def correlation_spins(state: str, indices : Union[tuple, List] ):\n",
    "\n",
    "    assert len(indices) <= len(state)\n",
    "    \n",
    "    \n",
    "    prod = 1.0\n",
    "    for _ in indices :\n",
    "        prod *= binary_to_bipolar(state[_])\n",
    "\n",
    "    return prod\n",
    "\n",
    "def cd_J(index, data_distribution:DiscreteProbabilityDistribution, mcmc_chain: MCMCChain):\n",
    "\n",
    "    assert len(index) == 2\n",
    "    observable = lambda s: correlation_spins(s, [index[0], index[1]])\n",
    "    r = data_distribution.get_observable_expectation(observable) - get_observable_expectation(observable, mcmc_chain, skip_init= 100)\n",
    "\n",
    "    return r\n",
    "\n",
    "def cd_h(index:int, data_distribution:DiscreteProbabilityDistribution, mcmc_chain: MCMCChain):\n",
    "\n",
    "    assert isinstance(index, int)\n",
    "    observable = lambda s: correlation_spins(s, [index])\n",
    "    r = data_distribution.get_observable_expectation(observable) - get_observable_expectation(observable, mcmc_chain, skip_init= 100)\n",
    "\n",
    "    return r"
   ]
  },
  {
   "attachments": {},
   "cell_type": "markdown",
   "metadata": {},
   "source": [
    "#### Class for Training"
   ]
  },
  {
   "cell_type": "code",
   "execution_count": 32,
   "metadata": {},
   "outputs": [],
   "source": [
    "# @dataclass\n",
    "class cd_training():\n",
    "\n",
    "    def __init__(self, model: IsingEnergyFunction, beta:float ,data_dist: DiscreteProbabilityDistribution) -> None:\n",
    "        self.model = model\n",
    "        self.model_beta = beta\n",
    "        self.data_distribution = data_dist\n",
    "        self.training_history = {}\n",
    "        pass\n",
    "\n",
    "    def cd_J(self, index, mcmc_chain: MCMCChain):\n",
    "\n",
    "        assert len(index) == 2\n",
    "        observable = lambda s: correlation_spins(s, [index[0], index[1]])\n",
    "        r = self.data_distribution.get_observable_expectation(observable) - get_observable_expectation(observable, mcmc_chain, skip_init= 100)\n",
    "\n",
    "        return r\n",
    "\n",
    "    def cd_h(self, index:int, mcmc_chain: MCMCChain):\n",
    "\n",
    "        assert isinstance(index, int)\n",
    "        observable = lambda s: correlation_spins(s, [index])\n",
    "        r = self.data_distribution.get_observable_expectation(observable) - get_observable_expectation(observable, mcmc_chain, skip_init= 100)\n",
    "\n",
    "        return r\n",
    "\n",
    "    # @setattr\n",
    "    # def data_distribution()\n",
    "    \n",
    "    def _train_on_mcmc_chain(self, lr:float= 0.01, method = 'quantum-enhanced', iterations: int = 100, mcmc_steps:int =1000 ):\n",
    "\n",
    "        if method == 'quantum-enhanced' :\n",
    "            mcmc_chain = quantum_enhanced_mcmc(\n",
    "            n_hops=mcmc_steps,\n",
    "            model=self.model,\n",
    "            temperature=1/self.model_beta,\n",
    "            verbose= False\n",
    "            )\n",
    "        elif method == 'classical-uniform' : \n",
    "            mcmc_chain = classical_mcmc(\n",
    "            n_hops=mcmc_steps,\n",
    "            model=self.model,\n",
    "            temperature=1/self.model_beta,\n",
    "            )\n",
    "        \n",
    "        ## random update strategy ##\n",
    "        for _ in range(iterations):\n",
    "            \n",
    "            ## update J ##\n",
    "            index = [np.random.randint(0, self.model.num_spins), np.random.randint(0, self.model.num_spins)]\n",
    "\n",
    "            updated_param_j = model.J[index[0], index[1]] + lr * self.cd_J(index, mcmc_chain) \n",
    "            \n",
    "            self.model._update_J(updated_param_j, index)\n",
    "\n",
    "            ## update h ##\n",
    "            index = np.random.randint(0, self.model.num_spins)\n",
    "\n",
    "            updated_param_h = model.h[index] + lr * self.cd_h(index, mcmc_chain) \n",
    "            \n",
    "            self.model._update_h(updated_param_h, index)\n",
    "\n",
    "            \n",
    "\n",
    "    def train(self, lr:float= 0.01, method = 'quantum-enhanced', epochs:int = 10, iterations: int = 100, mcmc_steps:int = 500, show_kldiv:bool = True ):\n",
    "\n",
    "        ## random update strategy ##\n",
    "        kl_div = []\n",
    "        iterator = tqdm(range(epochs), desc= 'training epochs'  )\n",
    "        iterator.set_postfix({'method': method})\n",
    "        for epoch in iterator:\n",
    "\n",
    "            self._train_on_mcmc_chain(lr= lr , method = method, iterations= iterations, mcmc_steps= mcmc_steps )\n",
    "\n",
    "            if show_kldiv:\n",
    "\n",
    "                es = Exact_Sampling(self.model, self.model_beta)\n",
    "                kl_div.append(kl_divergence(es.boltzmann_pd, self.data_distribution ))\n",
    "                iterator.set_postfix( { 'method ': method, 'kl div ' : kl_div[-1] })\n",
    "        \n",
    "        if show_kldiv : self.training_history['kl_div']= kl_div\n"
   ]
  },
  {
   "attachments": {},
   "cell_type": "markdown",
   "metadata": {},
   "source": [
    "#### TRIALS"
   ]
  },
  {
   "cell_type": "code",
   "execution_count": 33,
   "metadata": {},
   "outputs": [
    {
     "name": "stdout",
     "output_type": "stream",
     "text": [
      "=============================================\n",
      "     MODEL : param_model |  beta : 1.001\n",
      "=============================================\n",
      "Num Most Probable States : 5\n",
      "Entropy : 1.1690883662951779\n",
      "---------------------------------------------\n"
     ]
    },
    {
     "data": {
      "image/png": "[encoded data removed]",
      "text/plain": [
       "<Figure size 432x288 with 1 Axes>"
      ]
     },
     "metadata": {
      "needs_background": "light"
     },
     "output_type": "display_data"
    }
   ],
   "source": [
    "## INITIALISE ANOTHER RANDOM MODEL ##\n",
    "\n",
    "np.random.seed(10648)# should always be in the same cell!  \n",
    "n_spins = 10\n",
    "\n",
    "## construct problem Hamiltonian ##\n",
    "shape_of_J=(n_spins,n_spins)\n",
    "\n",
    "## defining J matrix (mutual 1-1 interaction)\n",
    "# J =  np.round(np.random.choice([+1, 0, -1], size=(n_spins, n_spins)), decimals=2) \n",
    "J =  np.random.uniform(low= -3, high= 3, size= shape_of_J )\n",
    "\n",
    "J = 0.5 * (J + J.transpose() )\n",
    "J = np.round( J - np.diag(np.diag(J)) , decimals= 3)\n",
    "\n",
    "# defining h\n",
    "h = np.round(0.4 * np.random.randn(n_spins), decimals=2)\n",
    "#h = np.round(np.random.uniform(low= -1, high = 1, size= (n_spins)), decimals=2)\n",
    "\n",
    "# instantiate the model\n",
    "beta_train = 1.001\n",
    "\n",
    "param_model = IsingEnergyFunction(J, h, name= 'param_model')\n",
    "param_model_esm = Exact_Sampling(param_model, beta= beta_train)\n",
    "\n",
    "param_model_esm.sampling_summary()"
   ]
  },
  {
   "cell_type": "code",
   "execution_count": 34,
   "metadata": {},
   "outputs": [
    {
     "name": "stdout",
     "output_type": "stream",
     "text": [
      "=============================================\n",
      "     MODEL : my_model |  beta : 1.100209\n",
      "=============================================\n",
      "Num Most Probable States : 7\n",
      "Entropy : 1.760434056154687\n",
      "---------------------------------------------\n"
     ]
    },
    {
     "data": {
      "image/png": "[encoded data removed]",
      "text/plain": [
       "<Figure size 432x288 with 1 Axes>"
      ]
     },
     "metadata": {
      "needs_background": "light"
     },
     "output_type": "display_data"
    }
   ],
   "source": [
    "## COMPARE WITH THE DATA-DISTRIBUTION ##\n",
    "esm.sampling_summary()"
   ]
  },
  {
   "attachments": {},
   "cell_type": "markdown",
   "metadata": {},
   "source": [
    "#### TRAINING"
   ]
  },
  {
   "cell_type": "code",
   "execution_count": 35,
   "metadata": {},
   "outputs": [
    {
     "name": "stderr",
     "output_type": "stream",
     "text": [
      "training epochs: 100%|██████████| 6/6 [00:17<00:00,  2.86s/it, method =quantum-enhanced, kl div =0.543]\n"
     ]
    }
   ],
   "source": [
    "training_quantum = cd_training(param_model, beta_train, esm.boltzmann_pd)\n",
    "training_quantum.train(lr = 0.06 ,method = 'quantum-enhanced' , epochs= 6, iterations= 100, mcmc_steps= 200 , show_kldiv= True)"
   ]
  },
  {
   "cell_type": "code",
   "execution_count": 36,
   "metadata": {},
   "outputs": [
    {
     "name": "stderr",
     "output_type": "stream",
     "text": [
      "training epochs: 100%|██████████| 6/6 [00:02<00:00,  2.40it/s, method =classical-uniform, kl div =0.709]\n"
     ]
    }
   ],
   "source": [
    "training_cl = cd_training(param_model, beta_train, esm.boltzmann_pd)\n",
    "training_cl.train(lr = 0.06 ,method = 'classical-uniform' , epochs= 6, iterations= 100, mcmc_steps= 200 , show_kldiv= True)"
   ]
  },
  {
   "attachments": {},
   "cell_type": "markdown",
   "metadata": {},
   "source": [
    "##### Compare reconstructed model"
   ]
  },
  {
   "cell_type": "code",
   "execution_count": 37,
   "metadata": {},
   "outputs": [],
   "source": [
    "classical_reconstructed_model_esm = Exact_Sampling(training_cl.model, beta= beta_train)\n",
    "quantum_reconstructed_model_esm = Exact_Sampling(training_quantum.model, beta= beta_train)"
   ]
  },
  {
   "cell_type": "code",
   "execution_count": 38,
   "metadata": {},
   "outputs": [
    {
     "data": {
      "image/png": "[encoded data removed]",
      "text/plain": [
       "<Figure size 1080x504 with 1 Axes>"
      ]
     },
     "metadata": {
      "needs_background": "light"
     },
     "output_type": "display_data"
    }
   ],
   "source": [
    "plot_multiple_bargraphs([esm.boltzmann_pd, classical_reconstructed_model_esm.boltzmann_pd, quantum_reconstructed_model_esm.boltzmann_pd], ['data','classical', 'quantum'], list_normalise=[False,False,False], plot_first_few= 15)"
   ]
  },
  {
   "cell_type": "code",
   "execution_count": null,
   "metadata": {},
   "outputs": [],
   "source": []
  },
  {
   "cell_type": "code",
   "execution_count": null,
   "metadata": {},
   "outputs": [],
   "source": []
  },
  {
   "cell_type": "code",
   "execution_count": null,
   "metadata": {},
   "outputs": [],
   "source": []
  },
  {
   "cell_type": "code",
   "execution_count": null,
   "metadata": {},
   "outputs": [],
   "source": []
  },
  {
   "cell_type": "code",
   "execution_count": null,
   "metadata": {},
   "outputs": [],
   "source": []
  },
  {
   "cell_type": "code",
   "execution_count": null,
   "metadata": {},
   "outputs": [],
   "source": []
  }
 ],
 "metadata": {
  "kernelspec": {
   "display_name": "Python 3",
   "language": "python",
   "name": "python3"
  },
  "language_info": {
   "codemirror_mode": {
    "name": "ipython",
    "version": 3
   },
   "file_extension": ".py",
   "mimetype": "text/x-python",
   "name": "python",
   "nbconvert_exporter": "python",
   "pygments_lexer": "ipython3",
   "version": "3.10.6"
  },
  "orig_nbformat": 4,
  "vscode": {
   "interpreter": {
    "hash": "916dbcbb3f70747c44a77c7bcd40155683ae19c65e1c03b4aa3499c5328201f1"
   }
  }
 },
 "nbformat": 4,
 "nbformat_minor": 2
}
