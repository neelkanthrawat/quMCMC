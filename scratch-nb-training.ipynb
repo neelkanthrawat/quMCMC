{
 "cells": [
  {
   "cell_type": "code",
   "execution_count": 1,
   "metadata": {},
   "outputs": [],
   "source": [
    "## import essential modules \n",
    "import qumcmc \n",
    "from qumcmc.basic_utils import *\n",
    "from qumcmc.energy_models import IsingEnergyFunction, Exact_Sampling\n",
    "\n",
    "from qumcmc.classical_mcmc_routines import *\n",
    "from qumcmc.quantum_mcmc_routines_qulacs import *     #for Qulacs Simulator backend\n",
    "# from qumcmc.quantum_mcmc_routines_qulacs import quantum_enhanced_mcmc   #for qiskit Aer's Simulator backend \n",
    "from typing import Union\n",
    "from qumcmc.trajectory_processing import *\n",
    "import seaborn as sns"
   ]
  },
  {
   "cell_type": "code",
   "execution_count": 2,
   "metadata": {},
   "outputs": [
    {
     "name": "stdout",
     "output_type": "stream",
     "text": [
      "=============================================\n",
      "            MODEL : my_model\n",
      "=============================================\n",
      "Non-zero Interactions (J) : 28 / 28\n",
      "Non-zero Bias (h) : 8 / 8\n",
      "---------------------------------------------\n",
      "Average Interaction Strength <|J|> :  0.6575625\n",
      "Average Bias Strength <|h|>:  0.29375\n",
      "alpha :  0.5999094654953647\n",
      "---------------------------------------------\n"
     ]
    },
    {
     "data": {
      "image/png": "[encoded data removed]",
      "text/plain": [
       "<Figure size 1152x720 with 2 Axes>"
      ]
     },
     "metadata": {
      "needs_background": "light"
     },
     "output_type": "display_data"
    }
   ],
   "source": [
    "# define the model\n",
    "np.random.seed(206147358) ##l lucky-seed: 610358\n",
    "n_spins = 8\n",
    "\n",
    "## construct problem Hamiltonian ##\n",
    "shape_of_J=(n_spins,n_spins)\n",
    "\n",
    "## defining J matrix (mutual 1-1 interaction)\n",
    "# J =  np.round(np.random.choice([+1, 0, -1], size=(n_spins, n_spins)), decimals=2) \n",
    "J =  np.random.uniform(low= -2, high= 2, size= shape_of_J )\n",
    "\n",
    "J = 0.5 * (J + J.transpose() )\n",
    "J = np.round( J - np.diag(np.diag(J)) , decimals= 3)\n",
    "\n",
    "# defining h\n",
    "h = np.round(0.5 * np.random.randn(n_spins), decimals=2)\n",
    "#h = np.round(np.random.uniform(low= -1, high = 1, size= (n_spins)), decimals=2)\n",
    "\n",
    "# instantiate the model\n",
    "model = IsingEnergyFunction(J, h, name= 'my_model')\n",
    "\n",
    "model.model_summary()\n",
    "## set current beta\n",
    "beta = 1.100209\n",
    "\n",
    "## run exact sampling over all possible configurations \n",
    "esm = Exact_Sampling(model, beta)\n",
    "# esm.run_exact_sampling(beta)"
   ]
  },
  {
   "cell_type": "code",
   "execution_count": 3,
   "metadata": {},
   "outputs": [
    {
     "name": "stdout",
     "output_type": "stream",
     "text": [
      "=============================================\n",
      "     MODEL : my_model |  beta : 1.100209\n",
      "=============================================\n",
      "Num Most Probable States : 9\n",
      "Entropy : 2.6081671598542435\n",
      "---------------------------------------------\n"
     ]
    },
    {
     "data": {
      "image/png": "[encoded data removed]",
      "text/plain": [
       "<Figure size 432x288 with 1 Axes>"
      ]
     },
     "metadata": {
      "needs_background": "light"
     },
     "output_type": "display_data"
    }
   ],
   "source": [
    "esm.sampling_summary()"
   ]
  },
  {
   "cell_type": "code",
   "execution_count": 4,
   "metadata": {},
   "outputs": [],
   "source": [
    "# steps = 10000\n",
    "# cl_chain =classical_mcmc(\n",
    "#     n_hops=steps,\n",
    "#     model=model,\n",
    "#     temperature=1/beta,\n",
    "# )\n",
    "# steps = 1000\n",
    "# qamcmc_chain =quantum_enhanced_mcmc(\n",
    "#     n_hops=steps,\n",
    "#     model=model,\n",
    "#     temperature=1/beta,\n",
    "#     verbose = False\n",
    "# )"
   ]
  },
  {
   "attachments": {},
   "cell_type": "markdown",
   "metadata": {},
   "source": [
    "#### HELPER FUNCTIONS"
   ]
  },
  {
   "cell_type": "code",
   "execution_count": 4,
   "metadata": {},
   "outputs": [],
   "source": [
    "int_to_binary = lambda state_obtained, n_spins : f\"{state_obtained:0{n_spins}b}\"\n",
    "binary_to_bipolar = lambda string : 2.0 * float(string) - 1.0\n",
    "\n",
    "def get_observable_expectation(observable: callable, mcmc_chain: MCMCChain, skip_init:int= 100) :\n",
    "\n",
    "    sample_observable = []\n",
    "    for s in mcmc_chain.accepted_states :\n",
    "\n",
    "        sample_observable.append(observable(s) )\n",
    "    \n",
    "    sample_observable = np.array(sample_observable)\n",
    "        \n",
    "    return sample_observable.mean(dtype= float)#, sample_observable.var(dtype= float)\n",
    "\n",
    "\n",
    "def correlation_spins(state: str, indices : Union[tuple, List] ):\n",
    "\n",
    "    assert len(indices) <= len(state)\n",
    "    \n",
    "    \n",
    "    prod = 1.0\n",
    "    for _ in indices :\n",
    "        prod *= binary_to_bipolar(state[_])\n",
    "\n",
    "    return prod\n",
    "\n",
    "def cd_J(index, data_distribution:DiscreteProbabilityDistribution, mcmc_chain: MCMCChain):\n",
    "\n",
    "    assert len(index) == 2\n",
    "    observable = lambda s: correlation_spins(s, [index[0], index[1]])\n",
    "    r = data_distribution.get_observable_expectation(observable) - get_observable_expectation(observable, mcmc_chain, skip_init= 100)\n",
    "\n",
    "    return r\n",
    "\n",
    "def cd_h(index:int, data_distribution:DiscreteProbabilityDistribution, mcmc_chain: MCMCChain):\n",
    "\n",
    "    assert isinstance(index, int)\n",
    "    observable = lambda s: correlation_spins(s, [index])\n",
    "    r = data_distribution.get_observable_expectation(observable) - get_observable_expectation(observable, mcmc_chain, skip_init= 100)\n",
    "\n",
    "    return r"
   ]
  },
  {
   "attachments": {},
   "cell_type": "markdown",
   "metadata": {},
   "source": [
    "#### Class for Training"
   ]
  },
  {
   "cell_type": "code",
   "execution_count": 12,
   "metadata": {},
   "outputs": [],
   "source": [
    "# @dataclass\n",
    "class cd_training():\n",
    "    ''' \n",
    "    model: initial model = (J init, h init) at some temp T\n",
    "    beta: 1/Temperature\n",
    "    data_dist: empirical data which we want to learn!\n",
    "    \n",
    "    '''\n",
    "\n",
    "    def __init__(self, model: IsingEnergyFunction, beta:float ,data_dist: DiscreteProbabilityDistribution) -> None:\n",
    "        self.model = model\n",
    "        self.model_beta = beta\n",
    "        self.data_distribution = data_dist\n",
    "        self.training_history = {}\n",
    "        pass\n",
    "\n",
    "    def cd_J(self, index, mcmc_chain: MCMCChain):\n",
    "\n",
    "        assert len(index) == 2\n",
    "        observable = lambda s: correlation_spins(s, [index[0], index[1]])\n",
    "        r = self.data_distribution.get_observable_expectation(observable) - get_observable_expectation(observable, mcmc_chain, skip_init= 100)\n",
    "\n",
    "        return r\n",
    "\n",
    "    def cd_h(self, index:int, mcmc_chain: MCMCChain):\n",
    "\n",
    "        assert isinstance(index, int)\n",
    "        observable = lambda s: correlation_spins(s, [index])\n",
    "        r = self.data_distribution.get_observable_expectation(observable) - get_observable_expectation(observable, mcmc_chain, skip_init= 100)\n",
    "\n",
    "        return r\n",
    "\n",
    "    # @setattr\n",
    "    # def data_distribution()\n",
    "    \n",
    "    def _train_on_mcmc_chain(self, lr:float= 0.01, \n",
    "    method = 'quantum-enhanced', \n",
    "    iterations: int = 100, \n",
    "    mcmc_steps:int =1000 ):# we will try to increase mcmc steps. \n",
    "\n",
    "        if method == 'quantum-enhanced' :\n",
    "            self.mcmc_chain = quantum_enhanced_mcmc(\n",
    "            n_hops=mcmc_steps,\n",
    "            model=self.model,\n",
    "            temperature=1/self.model_beta,\n",
    "            verbose= False\n",
    "            )\n",
    "        elif method == 'classical-uniform' : \n",
    "            self.mcmc_chain = classical_mcmc(\n",
    "            n_hops=mcmc_steps,\n",
    "            model=self.model,\n",
    "            temperature=1/self.model_beta,\n",
    "            verbose= False\n",
    "            )\n",
    "        \n",
    "        ## random update strategy ##\n",
    "        for _ in range(iterations):\n",
    "            \n",
    "            ## update J ##\n",
    "            index = [np.random.randint(0, self.model.num_spins), np.random.randint(0, self.model.num_spins)]\n",
    "\n",
    "            updated_param_j = model.J[index[0], index[1]] + lr * self.cd_J(index, self.mcmc_chain) \n",
    "            \n",
    "            self.model._update_J(updated_param_j, index)\n",
    "\n",
    "            ## update h ##\n",
    "            index = np.random.randint(0, self.model.num_spins)\n",
    "\n",
    "            updated_param_h = model.h[index] + lr * self.cd_h(index, self.mcmc_chain) \n",
    "            \n",
    "            self.model._update_h(updated_param_h, index)\n",
    "\n",
    "            \n",
    "\n",
    "    def train(self, lr:float= 0.01, method = 'quantum-enhanced', \n",
    "    epochs:int = 10, iterations: int = 100, \n",
    "    mcmc_steps:int = 500, show_kldiv:bool = True ):\n",
    "\n",
    "        ## random update strategy ##\n",
    "        kl_div = []\n",
    "        iterator = tqdm(range(epochs), desc= 'training epochs'  )\n",
    "        iterator.set_postfix({'method': method})\n",
    "        for epoch in iterator:\n",
    "\n",
    "            self._train_on_mcmc_chain(lr= lr , \n",
    "            method = method, iterations= iterations, \n",
    "            mcmc_steps= mcmc_steps )\n",
    "\n",
    "            if show_kldiv:\n",
    "\n",
    "                \n",
    "                kl_div.append(kl_divergence(  self.mcmc_chain.get_accepted_dict(normalize= True), self.data_distribution ))\n",
    "                iterator.set_postfix( { 'method ': method, 'kl div ' : kl_div[-1] })\n",
    "        \n",
    "        if show_kldiv : self.training_history['kl_div']= kl_div\n"
   ]
  },
  {
   "attachments": {},
   "cell_type": "markdown",
   "metadata": {},
   "source": [
    "#### TRIALS"
   ]
  },
  {
   "cell_type": "code",
   "execution_count": 13,
   "metadata": {},
   "outputs": [
    {
     "name": "stdout",
     "output_type": "stream",
     "text": [
      "=============================================\n",
      "     MODEL : param_model |  beta : 1.001\n",
      "=============================================\n",
      "Num Most Probable States : 8\n",
      "Entropy : 2.5922074618286293\n",
      "---------------------------------------------\n"
     ]
    },
    {
     "data": {
      "image/png": "[encoded data removed]",
      "text/plain": [
       "<Figure size 432x288 with 1 Axes>"
      ]
     },
     "metadata": {
      "needs_background": "light"
     },
     "output_type": "display_data"
    }
   ],
   "source": [
    "## INITIALISE ANOTHER RANDOM MODEL ##\n",
    "\n",
    "np.random.seed(3)# should always be in the same cell!  \n",
    "n_spins = 8\n",
    "\n",
    "## construct problem Hamiltonian ##\n",
    "shape_of_J=(n_spins,n_spins)\n",
    "\n",
    "## defining J matrix (mutual 1-1 interaction)\n",
    "# J =  np.round(np.random.choice([+1, 0, -1], size=(n_spins, n_spins)), decimals=2) \n",
    "J =  np.random.uniform(low= -3, high= 3, size= shape_of_J )\n",
    "\n",
    "J = 0.5 * (J + J.transpose() )\n",
    "J = np.round( J - np.diag(np.diag(J)) , decimals= 3)\n",
    "\n",
    "# defining h\n",
    "h = np.round(0.4 * np.random.randn(n_spins), decimals=2)\n",
    "#h = np.round(np.random.uniform(low= -1, high = 1, size= (n_spins)), decimals=2)\n",
    "\n",
    "# instantiate the model\n",
    "beta_train = 1.001\n",
    "\n",
    "param_model = IsingEnergyFunction(J, h, name= 'param_model')\n",
    "param_model_esm = Exact_Sampling(param_model, beta= beta_train)\n",
    "\n",
    "param_model_esm.sampling_summary()"
   ]
  },
  {
   "cell_type": "code",
   "execution_count": 14,
   "metadata": {},
   "outputs": [
    {
     "name": "stdout",
     "output_type": "stream",
     "text": [
      "=============================================\n",
      "     MODEL : my_model |  beta : 1.100209\n",
      "=============================================\n",
      "Num Most Probable States : 9\n",
      "Entropy : 2.6081671598542435\n",
      "---------------------------------------------\n"
     ]
    },
    {
     "data": {
      "image/png": "[encoded data removed]",
      "text/plain": [
       "<Figure size 432x288 with 1 Axes>"
      ]
     },
     "metadata": {
      "needs_background": "light"
     },
     "output_type": "display_data"
    }
   ],
   "source": [
    "## COMPARE WITH THE DATA-DISTRIBUTION ##\n",
    "esm.sampling_summary()"
   ]
  },
  {
   "attachments": {},
   "cell_type": "markdown",
   "metadata": {},
   "source": [
    "#### TRAINING"
   ]
  },
  {
   "cell_type": "code",
   "execution_count": 15,
   "metadata": {},
   "outputs": [
    {
     "name": "stderr",
     "output_type": "stream",
     "text": [
      "training epochs: 100%|██████████| 6/6 [01:32<00:00, 15.46s/it, method =quantum-enhanced, kl div =0.133]\n"
     ]
    }
   ],
   "source": [
    "training_quantum = cd_training(param_model, beta_train, esm.boltzmann_pd)\n",
    "training_quantum.train(lr = 0.01 ,method = 'quantum-enhanced' , epochs= 6, iterations= 100, mcmc_steps= 1000 , show_kldiv= True)"
   ]
  },
  {
   "cell_type": "code",
   "execution_count": 16,
   "metadata": {},
   "outputs": [
    {
     "name": "stderr",
     "output_type": "stream",
     "text": [
      "training epochs: 100%|██████████| 6/6 [00:02<00:00,  2.81it/s, method =classical-uniform, kl div =2.05]\n"
     ]
    }
   ],
   "source": [
    "training_cl = cd_training(param_model, beta_train, esm.boltzmann_pd)\n",
    "training_cl.train(lr = 0.06 ,method = 'classical-uniform' , epochs= 6, iterations= 100, mcmc_steps= 1000 , show_kldiv= True)"
   ]
  },
  {
   "attachments": {},
   "cell_type": "markdown",
   "metadata": {},
   "source": [
    "##### Compare reconstructed model"
   ]
  },
  {
   "cell_type": "code",
   "execution_count": 17,
   "metadata": {},
   "outputs": [],
   "source": [
    "classical_reconstructed_model_esm = Exact_Sampling(training_cl.model, beta= beta_train)\n",
    "quantum_reconstructed_model_esm = Exact_Sampling(training_quantum.model, beta= beta_train)"
   ]
  },
  {
   "cell_type": "code",
   "execution_count": 19,
   "metadata": {},
   "outputs": [
    {
     "data": {
      "image/png": "[encoded data removed]",
      "text/plain": [
       "<Figure size 1080x504 with 1 Axes>"
      ]
     },
     "metadata": {
      "needs_background": "light"
     },
     "output_type": "display_data"
    }
   ],
   "source": [
    "plot_multiple_bargraphs([esm.boltzmann_pd, classical_reconstructed_model_esm.boltzmann_pd, quantum_reconstructed_model_esm.boltzmann_pd], ['data','classical', 'quantum'], list_normalise=[False,False,False], plot_first_few= 15)"
   ]
  },
  {
   "cell_type": "code",
   "execution_count": 14,
   "metadata": {},
   "outputs": [
    {
     "name": "stdout",
     "output_type": "stream",
     "text": [
      "=============================================\n",
      "     MODEL : param_model |  beta : 1.001\n",
      "=============================================\n",
      "Num Most Probable States : 14\n",
      "Entropy : 3.973050365751494\n",
      "---------------------------------------------\n"
     ]
    },
    {
     "data": {
      "image/png": "[encoded data removed]",
      "text/plain": [
       "<Figure size 432x288 with 1 Axes>"
      ]
     },
     "metadata": {
      "needs_background": "light"
     },
     "output_type": "display_data"
    }
   ],
   "source": [
    "classical_reconstructed_model_esm.sampling_summary()"
   ]
  },
  {
   "cell_type": "code",
   "execution_count": 15,
   "metadata": {},
   "outputs": [
    {
     "name": "stdout",
     "output_type": "stream",
     "text": [
      "=============================================\n",
      "     MODEL : param_model |  beta : 1.001\n",
      "=============================================\n",
      "Num Most Probable States : 14\n",
      "Entropy : 3.973050365751494\n",
      "---------------------------------------------\n"
     ]
    },
    {
     "data": {
      "image/png": "[encoded data removed]",
      "text/plain": [
       "<Figure size 432x288 with 1 Axes>"
      ]
     },
     "metadata": {
      "needs_background": "light"
     },
     "output_type": "display_data"
    }
   ],
   "source": [
    "quantum_reconstructed_model_esm.sampling_summary()"
   ]
  },
  {
   "cell_type": "code",
   "execution_count": 16,
   "metadata": {},
   "outputs": [
    {
     "ename": "NameError",
     "evalue": "name 'norma' is not defined",
     "output_type": "error",
     "traceback": [
      "\u001b[0;31m---------------------------------------------------------------------------\u001b[0m",
      "\u001b[0;31mNameError\u001b[0m                                 Traceback (most recent call last)",
      "\u001b[1;32m/home/rajarsi/Documents/QBMS/qumcmc/scratch-nb-training.ipynb Cell 21\u001b[0m in \u001b[0;36m<cell line: 1>\u001b[0;34m()\u001b[0m\n\u001b[0;32m----> <a href='vscode-notebook-cell:/home/rajarsi/Documents/QBMS/qumcmc/scratch-nb-training.ipynb#X26sZmlsZQ%3D%3D?line=0'>1</a>\u001b[0m training_quantum\u001b[39m.\u001b[39mmcmc_chain\u001b[39m.\u001b[39mget_accepted_dict(norma)\n",
      "\u001b[0;31mNameError\u001b[0m: name 'norma' is not defined"
     ]
    }
   ],
   "source": [
    "training_quantum.mcmc_chain.get_accepted_dict(norma)"
   ]
  },
  {
   "cell_type": "code",
   "execution_count": null,
   "metadata": {},
   "outputs": [],
   "source": []
  },
  {
   "cell_type": "code",
   "execution_count": null,
   "metadata": {},
   "outputs": [],
   "source": []
  },
  {
   "cell_type": "code",
   "execution_count": null,
   "metadata": {},
   "outputs": [],
   "source": []
  }
 ],
 "metadata": {
  "kernelspec": {
   "display_name": "Python 3",
   "language": "python",
   "name": "python3"
  },
  "language_info": {
   "codemirror_mode": {
    "name": "ipython",
    "version": 3
   },
   "file_extension": ".py",
   "mimetype": "text/x-python",
   "name": "python",
   "nbconvert_exporter": "python",
   "pygments_lexer": "ipython3",
   "version": "3.10.6"
  },
  "orig_nbformat": 4,
  "vscode": {
   "interpreter": {
    "hash": "916dbcbb3f70747c44a77c7bcd40155683ae19c65e1c03b4aa3499c5328201f1"
   }
  }
 },
 "nbformat": 4,
 "nbformat_minor": 2
}
