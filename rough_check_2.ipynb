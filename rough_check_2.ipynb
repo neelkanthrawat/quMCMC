{
 "cells": [
  {
   "cell_type": "code",
   "execution_count": 1,
   "metadata": {},
   "outputs": [],
   "source": [
    "from qumcmc.quantum_mcmc_routines import *"
   ]
  },
  {
   "attachments": {},
   "cell_type": "markdown",
   "metadata": {},
   "source": [
    "# checking something"
   ]
  },
  {
   "cell_type": "code",
   "execution_count": 1,
   "metadata": {},
   "outputs": [],
   "source": [
    "import numpy as np"
   ]
  },
  {
   "cell_type": "code",
   "execution_count": 2,
   "metadata": {},
   "outputs": [],
   "source": [
    "from qulacs import Observable, QuantumCircuit, QuantumState\n",
    "from qulacs.gate import Y,CNOT,merge"
   ]
  },
  {
   "cell_type": "code",
   "execution_count": 3,
   "metadata": {},
   "outputs": [
    {
     "name": "stdout",
     "output_type": "stream",
     "text": [
      "2.795731998762427\n"
     ]
    }
   ],
   "source": [
    "state = QuantumState(3)\n",
    "state.set_Haar_random_state()\n",
    "\n",
    "circuit = QuantumCircuit(3)\n",
    "circuit.add_X_gate(0)\n",
    "merged_gate = merge(CNOT(0,1),Y(1))\n",
    "circuit.add_gate(merged_gate)\n",
    "circuit.add_RX_gate(1,0.5)\n",
    "circuit.update_quantum_state(state)\n",
    "\n",
    "observable = Observable(3)\n",
    "observable.add_operator(2.0, \"X 2 Y 1 Z 0\")\n",
    "observable.add_operator(-3.0, \"Z 2\")\n",
    "value = observable.get_expectation_value(state)\n",
    "print(value)"
   ]
  },
  {
   "cell_type": "code",
   "execution_count": 4,
   "metadata": {},
   "outputs": [
    {
     "name": "stdout",
     "output_type": "stream",
     "text": [
      "qubit_count 5\n",
      "zero_prob_1 0.4609952007715224\n",
      "marginal_prob 0.2489283770254509\n",
      "entropy 3.1090760541165414\n",
      "sqaured_norm 1.0\n",
      "sampling [31, 28, 22, 2, 6, 22, 3, 14, 24, 9]\n",
      "device cpu\n"
     ]
    }
   ],
   "source": [
    "n = 5\n",
    "state = QuantumState(n)\n",
    "state.set_Haar_random_state(0)\n",
    "\n",
    "# Get quantum bit numbers\n",
    "qubit_count = state.get_qubit_count()\n",
    "print(\"qubit_count\", qubit_count)\n",
    "\n",
    "# Get the probability that the specified qubit will be measured as 0\n",
    "prob = state.get_zero_probability(1)\n",
    "print(\"zero_prob_1\", prob)\n",
    "\n",
    "# Get arbitrary marginal probabilities\n",
    "# Argument is an array of the same length as the number of qubits\n",
    "# Specify 0,1,2. 0,1 is the probability of the subscript measured at that value\n",
    "# 2 means that bit is peripheralized.\n",
    "# For example, calculation of the probability that the third is measured as 0 and the 0th is measured as 1:\n",
    "prob = state.get_marginal_probability([1,2,2,0,2])\n",
    "print(\"marginal_prob\", prob)\n",
    "\n",
    "# Get the entropy of the probability distribution when measured on the Z basis\n",
    "ent = state.get_entropy()\n",
    "print(\"entropy\", ent)\n",
    "\n",
    "# Get squared norm (<a|a>)\n",
    "# Because the operation maybe not Trace preserving, the norm of state does not necessarily to be 1.\n",
    "sq_norm = state.get_squared_norm()\n",
    "print(\"sqaured_norm\", sq_norm)\n",
    "\n",
    "# The number of measurements and sampling of all qubits Z-basis is given by the argument.\n",
    "# Get a list of integers converted from the resulting binaries.\n",
    "samples = state.sampling(10)\n",
    "print(\"sampling\", samples)\n",
    "\n",
    "# Get a character string indicating whether the state vector is on CPU or GPU\n",
    "dev_type = state.get_device_name()\n",
    "print(\"device\", dev_type)"
   ]
  },
  {
   "cell_type": "code",
   "execution_count": null,
   "metadata": {},
   "outputs": [],
   "source": []
  },
  {
   "attachments": {},
   "cell_type": "markdown",
   "metadata": {},
   "source": [
    "### was checking sth"
   ]
  },
  {
   "cell_type": "code",
   "execution_count": 2,
   "metadata": {},
   "outputs": [
    {
     "name": "stdout",
     "output_type": "stream",
     "text": [
      "J after: [[ 0.    -0.88   0.93  -0.62 ]\n",
      " [-0.88   0.     0.35  -0.135]\n",
      " [ 0.93   0.35   0.     0.355]\n",
      " [-0.62  -0.135  0.355  0.   ]]\n",
      "h is: [ 0.08 -0.16  0.63  0.81]\n",
      "alpha:  1.0885895376867156\n"
     ]
    }
   ],
   "source": [
    "# define the model\n",
    "np.random.seed(6)# should always be in the same cell!  \n",
    "n_spins = 4\n",
    "\n",
    "## construct problem Hamiltonian ##\n",
    "shape_of_J=(n_spins,n_spins)\n",
    "\n",
    "# defining J matrix (mutual 1-1 interaction)\n",
    "J =  np.round(np.random.randn(n_spins,n_spins), decimals=2)#np.random.uniform(low= -1, high= 1, size= (n_spins, n_spins) )\n",
    "J = 0.5 * (J + J.transpose() )\n",
    "# print(\"J before:\"); print(J)\n",
    "J= J - np.diag(np.diag(J))\n",
    "\n",
    "# J=np.array([[0,1,0.5,-1],[1,0,0.3,0.5],[0.5,0.3,0,1],[-1,0.5,1,0]])\n",
    "print(\"J after:\", J)\n",
    "\n",
    "# defining h\n",
    "h = np.round(np.random.randn(n_spins), decimals=2)#np.random.uniform(low= -1, high = 1, size= (n_spins))\n",
    "# h=np.array([0.5]*n_spins)\n",
    "print(\"h is:\", h)\n",
    "\n",
    "# instantiate the model\n",
    "model = IsingEnergyFunction(J, h)\n",
    "# print(model.get_energy('0100'))\n",
    "alpha = np.sqrt(n_spins) / np.sqrt( sum([J[i][j]**2 for i in range(n_spins) for j in range(i)]) + sum([h[j]**2 for j in range(n_spins)])  )\n",
    "print(\"alpha: \", alpha)"
   ]
  },
  {
   "cell_type": "code",
   "execution_count": 3,
   "metadata": {},
   "outputs": [],
   "source": [
    "import time"
   ]
  },
  {
   "cell_type": "code",
   "execution_count": 4,
   "metadata": {},
   "outputs": [
    {
     "name": "stdout",
     "output_type": "stream",
     "text": [
      "starting with:  1011\n"
     ]
    },
    {
     "name": "stderr",
     "output_type": "stream",
     "text": [
      "running MCMC steps ...: 100%|██████████| 10/10 [00:00<00:00, 12660.14it/s]"
     ]
    },
    {
     "name": "stdout",
     "output_type": "stream",
     "text": [
      "titme taken: 0.006047725677490234\n",
      "['0011', '1100', '0101', '1110', '0101', '1010', '0011', '0001', '0110', '1001']\n",
      "['0011', '1100', '1100', '1100', '1100', '1100', '1100', '1100', '1100', '1100']\n"
     ]
    },
    {
     "name": "stderr",
     "output_type": "stream",
     "text": [
      "\n"
     ]
    }
   ],
   "source": [
    "begin=time.time()\n",
    "N_hops=10\n",
    "aa,bb,cc=classical_mcmc(\n",
    "    N_hops=N_hops,\n",
    "    num_spins=n_spins,\n",
    "    initial_state='1011',\n",
    "    num_elems=16,\n",
    "    model=model,\n",
    "    return_last_n_states=10,\n",
    "    return_additional_lists=True,\n",
    "    temp=0.4,\n",
    ")\n",
    "end=time.time()\n",
    "print(\"titme taken:\",(end-begin))\n",
    "print(bb); print(cc)"
   ]
  },
  {
   "cell_type": "code",
   "execution_count": 5,
   "metadata": {},
   "outputs": [
    {
     "name": "stdout",
     "output_type": "stream",
     "text": [
      "starting with:  1011\n"
     ]
    },
    {
     "name": "stderr",
     "output_type": "stream",
     "text": [
      "runnning quantum MCMC steps . ..: 100%|██████████| 10/10 [00:01<00:00,  9.22it/s]"
     ]
    },
    {
     "name": "stdout",
     "output_type": "stream",
     "text": [
      "titme taken: 1.0896823406219482\n"
     ]
    },
    {
     "name": "stderr",
     "output_type": "stream",
     "text": [
      "\n"
     ]
    }
   ],
   "source": [
    "begin=time.time()\n",
    "N_hops=10\n",
    "a,b,c=quantum_enhanced_mcmc(\n",
    "    N_hops=N_hops,\n",
    "    num_spins=n_spins,\n",
    "    initial_state='1011',\n",
    "    num_elems=16,\n",
    "    model=model,\n",
    "    alpha=alpha,\n",
    "    return_last_n_states=10,\n",
    "    return_additional_lists=True,\n",
    "    temp=0.4,\n",
    ")\n",
    "end=time.time()\n",
    "print(\"titme taken:\",(end-begin))"
   ]
  },
  {
   "cell_type": "code",
   "execution_count": 6,
   "metadata": {},
   "outputs": [
    {
     "name": "stdout",
     "output_type": "stream",
     "text": [
      "['1011', '1011', '1010', '1110', '1001', '1100', '1110', '0000', '0000', '0010']\n",
      "['1011', '1011', '1010', '1110', '1001', '1100', '1100', '1100', '1100', '0010']\n"
     ]
    }
   ],
   "source": [
    "print(b); print(c)"
   ]
  },
  {
   "cell_type": "code",
   "execution_count": 7,
   "metadata": {},
   "outputs": [],
   "source": [
    "def run_mcmc_different_chains(num_spins:int, \n",
    "N_hops:int,num_seperate_mcmc_chains:int ,model,temp:float, \n",
    "return_last_n_states:int, is_quantum_mcmc=False, alpha=None ):\n",
    "\n",
    "    num_elems=2**(num_spins)\n",
    "    dict_seperate_chains_states_distn_mcmc={}\n",
    "    dict_seperate_chains_sprime_mcmc={}\n",
    "    dict_seperate_chains_accepted_mcmc={}\n",
    "    poss_states=list(range(0,num_elems))\n",
    "    print(f\"Whether running quantum mcmc: {is_quantum_mcmc}\")\n",
    "    for chain_num in tqdm(range(0,num_seperate_mcmc_chains)):\n",
    "        init_state=np.random.choice(poss_states)\n",
    "        poss_states.remove(init_state)# to ensure that each mcmc chain starts with a different initial state\n",
    "        initial_state=f'{init_state:0{num_spins}b}'#f'{np.random.randint(0,num_elems):0{num_spins}b}'\n",
    "        if is_quantum_mcmc:\n",
    "            dict_states_mcmc, state_mcmc_after_trsn, state_mcmc_after_accept =quantum_enhanced_mcmc(N_hops, num_spins, \n",
    "                                                                                initial_state,\n",
    "                                                                                num_elems,model, \n",
    "                                                                                alpha,return_last_n_states=return_last_n_states,\n",
    "                                                                                return_additional_lists=True, \n",
    "                                                                                temp=temp)\n",
    "        else:\n",
    "            dict_states_mcmc, state_mcmc_after_trsn, state_mcmc_after_accept =classical_mcmc(N_hops, num_spins, \n",
    "                                                                                initial_state,\n",
    "                                                                                num_elems,model, \n",
    "                                                                                return_last_n_states=return_last_n_states,\n",
    "                                                                                return_additional_lists=True, \n",
    "                                                                                temp=temp)                                                                        \n",
    "        # sorting states in descending order of values(# occurences in mcmc chains)  for keys(states) \n",
    "        dict_states_mcmc_sorted_desc=value_sorted_dict(dict_states_mcmc, reverse=True)#dict_states_mcmc# this is where I might have to change things a little bit\n",
    "        #storing in a dict\n",
    "        dict_seperate_chains_states_distn_mcmc[chain_num]=dict_states_mcmc_sorted_desc\n",
    "        dict_seperate_chains_sprime_mcmc[chain_num]=state_mcmc_after_trsn\n",
    "        dict_seperate_chains_accepted_mcmc[chain_num]=state_mcmc_after_accept\n",
    "    return dict_seperate_chains_states_distn_mcmc, dict_seperate_chains_sprime_mcmc, dict_seperate_chains_accepted_mcmc\n"
   ]
  },
  {
   "cell_type": "code",
   "execution_count": 8,
   "metadata": {},
   "outputs": [],
   "source": [
    "from qumcmc.basic_utils import *\n",
    "\n",
    "class caln_from_samples:\n",
    "    '''  \n",
    "    A class to use list_of_samples for different caln. \n",
    "    \n",
    "    Method given here (but not limited to) can\n",
    "    be come in handy for calculations of interest.\n",
    "    '''\n",
    "    def __init__(self, list_of_samples_sampled:list, num_mcmc_steps:dict):\n",
    "        self.list_samples=list_of_samples_sampled\n",
    "        self.num_mcmc_steps=num_mcmc_steps\n",
    "        self.num_spins=len(list_of_samples_sampled[0])\n",
    "        # import states function from basic utils.py\n",
    "        self.all_poss_samples=states(num_spins=len(list_of_samples_sampled[0]))\n",
    "        self.dict_count=self.count_states_occurence(list_samples=self.list_samples)\n",
    "        self.dict_distn=self.empirical_distn(list_samples=self.list_samples)\n",
    "\n",
    "    def count_states_occurence(self,list_samples)->dict:\n",
    "        ''' \n",
    "        Function to get dict of occurence count of sample\n",
    "        '''\n",
    "        dict_count=dict(zip(self.all_poss_samples,[0]*(len(self.all_poss_samples))))\n",
    "        dict_count.update(dict(Counter(list_samples)))\n",
    "        return dict_count\n",
    "    \n",
    "    def empirical_distn(self, list_samples)->dict:\n",
    "        ''' \n",
    "        Function to get dict of empirical distn from list of samples M.Chain was in.\n",
    "        '''\n",
    "        dict_distn=dict(zip(self.all_poss_samples,[0]*(len(self.all_poss_samples))))\n",
    "        list_occurence_count=list(dict(Counter(list_samples)).values())\n",
    "        normalised_values=list((1./(len(list_samples)))*np.array(list_occurence_count))\n",
    "        dict_distn.update(dict( zip(list(dict_distn.keys()), normalised_values )))\n",
    "        return dict_distn\n",
    "\n",
    "    def running_avg_magnetization_as_list(self)->np.array:\n",
    "        \"\"\"\n",
    "        Function to calculate the running average magnetization for the given mcmc trajectory as list\n",
    "        \n",
    "        Args:\n",
    "        list_states_mcmc= List of state markov chain is in after each MCMC step\n",
    "        \n",
    "        Returns: array of running value of magnetization\n",
    "\n",
    "        \"\"\"\n",
    "        list_of_strings = self.list_samples\n",
    "        list_of_lists = (\n",
    "            np.array([list(int(s) for s in bitstring) for bitstring in list_of_strings]) * 2\n",
    "            - 1\n",
    "        )\n",
    "        return np.array(\n",
    "            [\n",
    "                np.mean(np.sum(list_of_lists, axis=1)[:ii])\n",
    "                for ii in range(1, len(self.list_samples) + 1)\n",
    "            ]\n",
    "        )\n",
    "    \n",
    "    def average_of_some_observable(self,dict_observable_val_at_states: dict):\n",
    "        return avg(dict_probabilities=self.dict_distn, dict_observable_val_at_states=dict_observable_val_at_states)"
   ]
  },
  {
   "cell_type": "code",
   "execution_count": 9,
   "metadata": {},
   "outputs": [],
   "source": [
    "from qumcmc.trajectory_processing import *\n",
    "check= trajectory_processing(c)"
   ]
  },
  {
   "cell_type": "code",
   "execution_count": 10,
   "metadata": {},
   "outputs": [
    {
     "data": {
      "text/plain": [
       "{'0000': 0,\n",
       " '0001': 0,\n",
       " '0010': 0.1,\n",
       " '0011': 0,\n",
       " '0100': 0,\n",
       " '0101': 0,\n",
       " '0110': 0,\n",
       " '0111': 0,\n",
       " '1000': 0,\n",
       " '1001': 0.1,\n",
       " '1010': 0.1,\n",
       " '1011': 0.2,\n",
       " '1100': 0.4,\n",
       " '1101': 0,\n",
       " '1110': 0.1,\n",
       " '1111': 0}"
      ]
     },
     "execution_count": 10,
     "metadata": {},
     "output_type": "execute_result"
    }
   ],
   "source": [
    "check.empirical_distn()"
   ]
  },
  {
   "cell_type": "markdown",
   "metadata": {},
   "source": [
    "# Everything below is what I added later on"
   ]
  },
  {
   "cell_type": "markdown",
   "metadata": {},
   "source": [
    "### We need to check how different initialisation affects rate at which markov chain approaches the stationary distribution"
   ]
  },
  {
   "attachments": {},
   "cell_type": "markdown",
   "metadata": {},
   "source": [
    "Some observations:\n",
    "1. Importing things from the basic_utils.py\n",
    "2. Run `exact sampling` should be renamed I feel! \n",
    "3. temp instead of beta. beta can be calculated inside itself. temp\n",
    "4. need to do some changes in running_js_divergence plot\n",
    "5. **IMPORTANT**: get rid of warnings in js divergence/kl divergence functions. I think that we have already taken care of the warnings it is showing!\n",
    "6. mistake in the axis of JS distance's plot!"
   ]
  },
  {
   "cell_type": "code",
   "execution_count": null,
   "metadata": {},
   "outputs": [],
   "source": [
    "#1->2->3#(1):  \n",
    "# Inside basic utils. "
   ]
  },
  {
   "cell_type": "code",
   "execution_count": 1,
   "metadata": {},
   "outputs": [],
   "source": [
    "import qumcmc \n",
    "from qumcmc.energy_models import IsingEnergyFunction\n",
    "from qumcmc.classical_mcmc_routines import *\n",
    "from qumcmc.quantum_mcmc_routines import *\n",
    "from qumcmc.basic_utils import *\n",
    "from qumcmc.trajectory_processing import *"
   ]
  },
  {
   "cell_type": "code",
   "execution_count": 2,
   "metadata": {},
   "outputs": [],
   "source": [
    "def run_mcmc_different_chains(num_spins:int, \n",
    "N_hops:int,num_seperate_mcmc_chains:int ,model,temp:float, initial_state:str, \n",
    "return_last_n_states:int,return_both=False, is_quantum_mcmc=False, alpha=None ):\n",
    "\n",
    "    num_elems=2**(num_spins)\n",
    "    dict_seperate_chains_states_distn_mcmc={}\n",
    "    dict_seperate_chains_sprime_mcmc={}\n",
    "    dict_seperate_chains_accepted_mcmc={}\n",
    "    poss_states=list(range(0,num_elems))\n",
    "    print(f\"Whether running quantum mcmc: {is_quantum_mcmc}\")\n",
    "    for chain_num in tqdm(range(0,num_seperate_mcmc_chains)):\n",
    "        # init_state=np.random.choice(poss_states)\n",
    "        # poss_states.remove(init_state)# to ensure that each mcmc chain starts with a different initial state\n",
    "        # initial_state=f'{init_state:0{num_spins}b}'#f'{np.random.randint(0,num_elems):0{num_spins}b}'\n",
    "        if is_quantum_mcmc:\n",
    "            dict_states_mcmc, state_mcmc_after_trsn, state_mcmc_after_accept =quantum_enhanced_mcmc(N_hops,model, \n",
    "                                                                                initial_state, \n",
    "                                                                                return_last_n_states=return_last_n_states,\n",
    "                                                                                return_additional_lists=True, temp=temp)\n",
    "        else:\n",
    "            dict_states_mcmc, state_mcmc_after_trsn, state_mcmc_after_accept =classical_mcmc(N_hops,model, \n",
    "                                                                                initial_state,                                                                                 \n",
    "                                                                                return_last_n_states=return_last_n_states,\n",
    "                                                                                return_additional_lists=True,temp=temp)                                                                        \n",
    "        # sorting states in descending order of values(# occurences in mcmc chains)  for keys(states) \n",
    "        dict_states_mcmc_sorted_desc=value_sorted_dict(dict_states_mcmc, reverse=True)#dict_states_mcmc# this is where I might have to change things a little bit\n",
    "        #storing in a dict\n",
    "        dict_seperate_chains_states_distn_mcmc[chain_num]=dict_states_mcmc_sorted_desc\n",
    "        dict_seperate_chains_sprime_mcmc[chain_num]=state_mcmc_after_trsn\n",
    "        dict_seperate_chains_accepted_mcmc[chain_num]=state_mcmc_after_accept\n",
    "    return dict_seperate_chains_states_distn_mcmc, dict_seperate_chains_sprime_mcmc, dict_seperate_chains_accepted_mcmc"
   ]
  },
  {
   "cell_type": "markdown",
   "metadata": {},
   "source": [
    "Define the energy model"
   ]
  },
  {
   "cell_type": "code",
   "execution_count": 3,
   "metadata": {},
   "outputs": [],
   "source": [
    "# define the model\n",
    "# define the model\n",
    "# define the model\n",
    "np.random.seed(6)# should always be in the same cell!  \n",
    "n_spins = 8\n",
    "\n",
    "## construct problem Hamiltonian ##\n",
    "shape_of_J=(n_spins,n_spins)\n",
    "\n",
    "## defining J matrix (mutual 1-1 interaction)\n",
    "# J =  np.round(np.random.choice([+1, 0, -1], size=(n_spins, n_spins)), decimals=2) \n",
    "J =  np.random.uniform(low= -2, high= 2, size= (n_spins, n_spins) )\n",
    "\n",
    "J = 0.5 * (J + J.transpose() )\n",
    "J = np.round( J - np.diag(np.diag(J)) , decimals= 3)\n",
    "\n",
    "# defining h\n",
    "h = np.round(0.01 * np.random.randn(n_spins), decimals=2)\n",
    "#h = np.round(np.random.uniform(low= -1, high = 1, size= (n_spins)), decimals=2)\n",
    "\n",
    "# instantiate the model\n",
    "model = IsingEnergyFunction(J, h, name= 'my_model')"
   ]
  },
  {
   "cell_type": "code",
   "execution_count": 4,
   "metadata": {},
   "outputs": [
    {
     "name": "stderr",
     "output_type": "stream",
     "text": [
      "running over all possible configurations: 100%|██████████| 256/256 [00:00<00:00, 11559.53it/s]"
     ]
    },
    {
     "name": "stdout",
     "output_type": "stream",
     "text": [
      "Running Exact Sampling | Model beta :  3.3333333333333335\n",
      "saving distribution to model ...\n"
     ]
    },
    {
     "name": "stderr",
     "output_type": "stream",
     "text": [
      "\n"
     ]
    },
    {
     "data": {
      "image/png": "[encoded data removed]",
      "text/plain": [
       "<Figure size 432x288 with 1 Axes>"
      ]
     },
     "metadata": {
      "needs_background": "light"
     },
     "output_type": "display_data"
    }
   ],
   "source": [
    "temp=0.3\n",
    "beta=1./temp\n",
    "model.run_exact_sampling(beta)# change name of this thing. It does not seem so good at the moment.\n",
    "## get the distribution from model\n",
    "bpd = model.boltzmann_pd\n",
    "## plot the distribution\n",
    "plot_bargraph_desc_order(bpd, label= 'Boltzmann Dist.', plot_first_few= 25)"
   ]
  },
  {
   "cell_type": "markdown",
   "metadata": {},
   "source": [
    "# Running  classical mcmc"
   ]
  },
  {
   "cell_type": "code",
   "execution_count": 22,
   "metadata": {},
   "outputs": [
    {
     "name": "stderr",
     "output_type": "stream",
     "text": [
      "  0%|          | 0/4 [00:00<?, ?it/s]"
     ]
    },
    {
     "name": "stdout",
     "output_type": "stream",
     "text": [
      "Whether running quantum mcmc: False\n",
      "starting with:  11000001\n"
     ]
    },
    {
     "name": "stderr",
     "output_type": "stream",
     "text": [
      "running MCMC steps ...: 100%|██████████| 10000/10000 [00:01<00:00, 5933.73it/s]\n",
      " 25%|██▌       | 1/4 [00:01<00:05,  1.70s/it]"
     ]
    },
    {
     "name": "stdout",
     "output_type": "stream",
     "text": [
      "starting with:  11000001\n"
     ]
    },
    {
     "name": "stderr",
     "output_type": "stream",
     "text": [
      "running MCMC steps ...: 100%|██████████| 10000/10000 [00:01<00:00, 9400.96it/s]\n",
      " 50%|█████     | 2/4 [00:02<00:02,  1.33s/it]"
     ]
    },
    {
     "name": "stdout",
     "output_type": "stream",
     "text": [
      "starting with:  11000001\n"
     ]
    },
    {
     "name": "stderr",
     "output_type": "stream",
     "text": [
      "running MCMC steps ...: 100%|██████████| 10000/10000 [00:01<00:00, 9525.38it/s]\n",
      " 75%|███████▌  | 3/4 [00:03<00:01,  1.21s/it]"
     ]
    },
    {
     "name": "stdout",
     "output_type": "stream",
     "text": [
      "starting with:  11000001\n"
     ]
    },
    {
     "name": "stderr",
     "output_type": "stream",
     "text": [
      "running MCMC steps ...: 100%|██████████| 10000/10000 [00:00<00:00, 10288.70it/s]\n",
      "100%|██████████| 4/4 [00:04<00:00,  1.21s/it]\n"
     ]
    }
   ],
   "source": [
    "# 10 seperate chains of classical mcmc for the given problem instance\n",
    "N_hops=10000;num_seperate_mcmc_chains=4; return_last_n_states=N_hops; initial_state='11000001'\n",
    "# later get rid of energy difference and hamming distance dicts.\n",
    "dict_seperate_chains_states_distn_mcmc, dict_seperate_chains_sprime_mcmc, dict_seperate_chains_accepted_mcmc=run_mcmc_different_chains(n_spins, \n",
    "N_hops, num_seperate_mcmc_chains,\n",
    "model, temp=temp,initial_state=initial_state ,return_last_n_states=return_last_n_states,\n",
    "return_both=True )"
   ]
  },
  {
   "cell_type": "code",
   "execution_count": 23,
   "metadata": {},
   "outputs": [
    {
     "name": "stderr",
     "output_type": "stream",
     "text": [
      "  0%|          | 0/99 [00:00<?, ?it/s]d:\\Desktop\\qumcmc_package_test\\qumcmc\\prob_dist.py:112: RuntimeWarning: divide by zero encountered in true_divide\n",
      "  return np.sum(np.where(p_arr>10**-6,p_arr*np.log2(p_arr/q_arr),0.))\n",
      "d:\\Desktop\\qumcmc_package_test\\qumcmc\\prob_dist.py:112: RuntimeWarning: invalid value encountered in true_divide\n",
      "  return np.sum(np.where(p_arr>10**-6,p_arr*np.log2(p_arr/q_arr),0.))\n",
      "d:\\Desktop\\qumcmc_package_test\\qumcmc\\prob_dist.py:112: RuntimeWarning: divide by zero encountered in log2\n",
      "  return np.sum(np.where(p_arr>10**-6,p_arr*np.log2(p_arr/q_arr),0.))\n",
      "d:\\Desktop\\qumcmc_package_test\\qumcmc\\prob_dist.py:112: RuntimeWarning: invalid value encountered in multiply\n",
      "  return np.sum(np.where(p_arr>10**-6,p_arr*np.log2(p_arr/q_arr),0.))\n",
      " 32%|███▏      | 32/99 [00:00<00:00, 312.15it/s]"
     ]
    },
    {
     "name": "stdout",
     "output_type": "stream",
     "text": [
      "i: 0\n"
     ]
    },
    {
     "name": "stderr",
     "output_type": "stream",
     "text": [
      "100%|██████████| 99/99 [00:00<00:00, 204.88it/s]\n",
      " 44%|████▍     | 44/99 [00:00<00:00, 213.70it/s]"
     ]
    },
    {
     "name": "stdout",
     "output_type": "stream",
     "text": [
      "i: 1\n"
     ]
    },
    {
     "name": "stderr",
     "output_type": "stream",
     "text": [
      "100%|██████████| 99/99 [00:00<00:00, 215.17it/s]\n",
      " 25%|██▌       | 25/99 [00:00<00:00, 249.68it/s]"
     ]
    },
    {
     "name": "stdout",
     "output_type": "stream",
     "text": [
      "i: 2\n"
     ]
    },
    {
     "name": "stderr",
     "output_type": "stream",
     "text": [
      "100%|██████████| 99/99 [00:00<00:00, 210.70it/s]\n",
      " 28%|██▊       | 28/99 [00:00<00:00, 261.68it/s]"
     ]
    },
    {
     "name": "stdout",
     "output_type": "stream",
     "text": [
      "i: 3\n"
     ]
    },
    {
     "name": "stderr",
     "output_type": "stream",
     "text": [
      "100%|██████████| 99/99 [00:00<00:00, 227.90it/s]\n"
     ]
    }
   ],
   "source": [
    "list_running_js=[]\n",
    "for i in range(0,num_seperate_mcmc_chains):# need to make this fast! it running very slowly rn\n",
    "  print(\"i:\",i)\n",
    "  chain_accepted_state=trajectory_processing(dict_seperate_chains_accepted_mcmc[i])\n",
    "  running_js=chain_accepted_state.running_js_divergence(model.boltzmann_pd)\n",
    "  list_running_js.append(running_js)"
   ]
  },
  {
   "cell_type": "code",
   "execution_count": 9,
   "metadata": {},
   "outputs": [],
   "source": [
    "def plot_mean_running_avg(list_of_list:list, label:str, start_x_from=0,stepsize:int=100):\n",
    "  mean_running_val=np.mean(list_of_list,axis=0)\n",
    "  std=np.std(list_of_list,axis=0)\n",
    "  #plt.fill_between(range(start_x_from,N_hops,step), mean_running_val+std/2, mean_running_val-std/2, alpha=0.1)\n",
    "  plt.plot(list(range(start_x_from,N_hops,stepsize)),mean_running_val,\"o-\",label=label, linewidth=2)"
   ]
  },
  {
   "cell_type": "code",
   "execution_count": 51,
   "metadata": {},
   "outputs": [
    {
     "ename": "TypeError",
     "evalue": "plot_mean_running_avg() missing 1 required positional argument: 'N_hops'",
     "output_type": "error",
     "traceback": [
      "\u001b[1;31m---------------------------------------------------------------------------\u001b[0m",
      "\u001b[1;31mTypeError\u001b[0m                                 Traceback (most recent call last)",
      "\u001b[1;32m<ipython-input-51-db41bcb847a9>\u001b[0m in \u001b[0;36m<module>\u001b[1;34m\u001b[0m\n\u001b[1;32m----> 1\u001b[1;33m \u001b[0mplot_mean_running_avg\u001b[0m\u001b[1;33m(\u001b[0m\u001b[0mnp\u001b[0m\u001b[1;33m.\u001b[0m\u001b[0msqrt\u001b[0m\u001b[1;33m(\u001b[0m\u001b[0mlist_running_js\u001b[0m\u001b[1;33m)\u001b[0m\u001b[1;33m,\u001b[0m\u001b[0mlabel\u001b[0m\u001b[1;33m=\u001b[0m\u001b[1;34m\"cl mcmc\"\u001b[0m\u001b[1;33m,\u001b[0m\u001b[0mstepsize\u001b[0m\u001b[1;33m=\u001b[0m\u001b[0mN_hops\u001b[0m\u001b[1;33m,\u001b[0m\u001b[0mstart_x_from\u001b[0m\u001b[1;33m=\u001b[0m\u001b[1;36m100\u001b[0m\u001b[1;33m)\u001b[0m\u001b[1;33m\u001b[0m\u001b[1;33m\u001b[0m\u001b[0m\n\u001b[0m\u001b[0;32m      2\u001b[0m \u001b[0mplt\u001b[0m\u001b[1;33m.\u001b[0m\u001b[0mxlabel\u001b[0m\u001b[1;33m(\u001b[0m\u001b[1;34m\"mcmc iter\"\u001b[0m\u001b[1;33m)\u001b[0m\u001b[1;33m;\u001b[0m\u001b[0mplt\u001b[0m\u001b[1;33m.\u001b[0m\u001b[0mylabel\u001b[0m\u001b[1;33m(\u001b[0m\u001b[1;34m\"JS Distance\"\u001b[0m\u001b[1;33m)\u001b[0m\u001b[1;33m;\u001b[0m\u001b[0mplt\u001b[0m\u001b[1;33m.\u001b[0m\u001b[0mlegend\u001b[0m\u001b[1;33m(\u001b[0m\u001b[1;33m)\u001b[0m\u001b[1;33m\u001b[0m\u001b[1;33m\u001b[0m\u001b[0m\n",
      "\u001b[1;31mTypeError\u001b[0m: plot_mean_running_avg() missing 1 required positional argument: 'N_hops'"
     ]
    }
   ],
   "source": [
    "plot_mean_running_avg(np.sqrt(list_running_js),label=\"cl mcmc\",start_x_from=100)\n",
    "plt.xlabel(\"mcmc iter\");plt.ylabel(\"JS Distance\");plt.legend()"
   ]
  },
  {
   "cell_type": "code",
   "execution_count": 54,
   "metadata": {},
   "outputs": [],
   "source": [
    "# steps = 20000\n",
    "# # change the naming convention here!\n",
    "# config_counts_c, proposed_states_c, accepted_states_c =classical_mcmc(\n",
    "#     N_hops=steps,\n",
    "#     model=model,\n",
    "#     initial_state='11000001',# low energy states\n",
    "#     return_last_n_states=20000,\n",
    "#     return_additional_lists=True,\n",
    "#     temp=1/beta,\n",
    "# )\n",
    "\n",
    "# # instatiate an object of class \"trajectory_processing\"\n",
    "# trajectory_c = trajectory_processing(accepted_states_c)"
   ]
  },
  {
   "cell_type": "markdown",
   "metadata": {},
   "source": [
    "# Running quantum mcmc"
   ]
  },
  {
   "cell_type": "code",
   "execution_count": 52,
   "metadata": {},
   "outputs": [
    {
     "name": "stderr",
     "output_type": "stream",
     "text": [
      "  0%|          | 0/6 [00:00<?, ?it/s]"
     ]
    },
    {
     "name": "stdout",
     "output_type": "stream",
     "text": [
      "Whether running quantum mcmc: True\n",
      "starting with:  11000001\n"
     ]
    },
    {
     "name": "stderr",
     "output_type": "stream",
     "text": [
      "runnning quantum MCMC steps . ..: 100%|██████████| 1500/1500 [05:55<00:00,  4.22it/s]\n",
      " 17%|█▋        | 1/6 [05:55<29:38, 355.74s/it]"
     ]
    },
    {
     "name": "stdout",
     "output_type": "stream",
     "text": [
      "starting with:  11000001\n"
     ]
    },
    {
     "name": "stderr",
     "output_type": "stream",
     "text": [
      "runnning quantum MCMC steps . ..: 100%|██████████| 1500/1500 [05:40<00:00,  4.40it/s]\n",
      " 33%|███▎      | 2/6 [11:36<23:08, 347.06s/it]"
     ]
    },
    {
     "name": "stdout",
     "output_type": "stream",
     "text": [
      "starting with:  11000001\n"
     ]
    },
    {
     "name": "stderr",
     "output_type": "stream",
     "text": [
      "runnning quantum MCMC steps . ..: 100%|██████████| 1500/1500 [05:47<00:00,  4.32it/s]\n",
      " 50%|█████     | 3/6 [17:23<17:21, 347.08s/it]"
     ]
    },
    {
     "name": "stdout",
     "output_type": "stream",
     "text": [
      "starting with:  11000001\n"
     ]
    },
    {
     "name": "stderr",
     "output_type": "stream",
     "text": [
      "runnning quantum MCMC steps . ..: 100%|██████████| 1500/1500 [05:50<00:00,  4.28it/s]\n",
      " 67%|██████▋   | 4/6 [23:14<11:36, 348.39s/it]"
     ]
    },
    {
     "name": "stdout",
     "output_type": "stream",
     "text": [
      "starting with:  11000001\n"
     ]
    },
    {
     "name": "stderr",
     "output_type": "stream",
     "text": [
      "runnning quantum MCMC steps . ..: 100%|██████████| 1500/1500 [05:54<00:00,  4.23it/s]\n",
      " 83%|████████▎ | 5/6 [29:08<05:50, 350.66s/it]"
     ]
    },
    {
     "name": "stdout",
     "output_type": "stream",
     "text": [
      "starting with:  11000001\n"
     ]
    },
    {
     "name": "stderr",
     "output_type": "stream",
     "text": [
      "runnning quantum MCMC steps . ..: 100%|██████████| 1500/1500 [05:46<00:00,  4.33it/s]\n",
      "100%|██████████| 6/6 [34:55<00:00, 349.24s/it]\n"
     ]
    }
   ],
   "source": [
    "# 10 seperate chains of quantum mcmc for the given problem instance\n",
    "N_hops_q=1500;num_seperate_mcmc_chains_q=6; return_last_n_states_q=N_hops_q\n",
    "dict_seperate_chains_states_distn_mcmc_q, dict_seperate_chains_sprime_mcmc_q, dict_seperate_chains_accepted_mcmc_q=run_mcmc_different_chains(n_spins, \n",
    "N_hops_q, num_seperate_mcmc_chains_q,\n",
    "model, temp=temp,initial_state=initial_state ,return_last_n_states=return_last_n_states_q,\n",
    "return_both=True,is_quantum_mcmc=True, alpha=model.alpha )"
   ]
  },
  {
   "cell_type": "code",
   "execution_count": 53,
   "metadata": {},
   "outputs": [
    {
     "name": "stderr",
     "output_type": "stream",
     "text": [
      "  0%|          | 0/14 [00:00<?, ?it/s]d:\\Desktop\\qumcmc_package_test\\qumcmc\\prob_dist.py:112: RuntimeWarning: divide by zero encountered in true_divide\n",
      "  return np.sum(np.where(p_arr>10**-6,p_arr*np.log2(p_arr/q_arr),0.))\n",
      "d:\\Desktop\\qumcmc_package_test\\qumcmc\\prob_dist.py:112: RuntimeWarning: invalid value encountered in true_divide\n",
      "  return np.sum(np.where(p_arr>10**-6,p_arr*np.log2(p_arr/q_arr),0.))\n",
      "d:\\Desktop\\qumcmc_package_test\\qumcmc\\prob_dist.py:112: RuntimeWarning: divide by zero encountered in log2\n",
      "  return np.sum(np.where(p_arr>10**-6,p_arr*np.log2(p_arr/q_arr),0.))\n",
      "d:\\Desktop\\qumcmc_package_test\\qumcmc\\prob_dist.py:112: RuntimeWarning: invalid value encountered in multiply\n",
      "  return np.sum(np.where(p_arr>10**-6,p_arr*np.log2(p_arr/q_arr),0.))\n",
      "100%|██████████| 14/14 [00:00<00:00, 361.06it/s]\n",
      "100%|██████████| 14/14 [00:00<00:00, 340.62it/s]\n",
      "100%|██████████| 14/14 [00:00<00:00, 291.61it/s]\n",
      "  0%|          | 0/14 [00:00<?, ?it/s]"
     ]
    },
    {
     "name": "stdout",
     "output_type": "stream",
     "text": [
      "i: 0\n",
      "i: 1\n",
      "i: 2\n",
      "i: 3\n"
     ]
    },
    {
     "name": "stderr",
     "output_type": "stream",
     "text": [
      "100%|██████████| 14/14 [00:00<00:00, 292.48it/s]\n",
      "100%|██████████| 14/14 [00:00<00:00, 256.95it/s]\n",
      "100%|██████████| 14/14 [00:00<00:00, 350.05it/s]"
     ]
    },
    {
     "name": "stdout",
     "output_type": "stream",
     "text": [
      "i: 4\n",
      "i: 5\n"
     ]
    },
    {
     "name": "stderr",
     "output_type": "stream",
     "text": [
      "\n"
     ]
    }
   ],
   "source": [
    "list_running_js_q=[]\n",
    "for i in range(0,num_seperate_mcmc_chains_q):# need to make this fast! it running very slowly rn\n",
    "  print(\"i:\",i)\n",
    "  chain_accepted_state_q=trajectory_processing(dict_seperate_chains_accepted_mcmc_q[i])\n",
    "  running_js_q=chain_accepted_state_q.running_js_divergence(model.boltzmann_pd)\n",
    "  list_running_js_q.append(running_js_q)"
   ]
  },
  {
   "cell_type": "code",
   "execution_count": 43,
   "metadata": {},
   "outputs": [],
   "source": [
    "def plot_mean_running_avg(list_of_list:list, label:str,N_hops, start_x_from=0,stepsize:int=100):\n",
    "  mean_running_val=np.mean(list_of_list,axis=0)\n",
    "  std=np.std(list_of_list,axis=0)\n",
    "  #plt.fill_between(range(start_x_from,N_hops,step), mean_running_val+std/2, mean_running_val-std/2, alpha=0.1)\n",
    "  plt.plot(list(range(start_x_from,N_hops,stepsize)),mean_running_val,\"-\",label=label, linewidth=2)"
   ]
  },
  {
   "cell_type": "code",
   "execution_count": 58,
   "metadata": {},
   "outputs": [
    {
     "data": {
      "text/plain": [
       "<matplotlib.legend.Legend at 0x22e433fd5b0>"
      ]
     },
     "execution_count": 58,
     "metadata": {},
     "output_type": "execute_result"
    },
    {
     "data": {
      "image/png": "[encoded data removed]",
      "text/plain": [
       "<Figure size 720x576 with 1 Axes>"
      ]
     },
     "metadata": {
      "needs_background": "light"
     },
     "output_type": "display_data"
    }
   ],
   "source": [
    "plt.figure(figsize=(10,8))\n",
    "plot_mean_running_avg(list_running_js_q,label=\"q mcmc\",N_hops=N_hops_q,start_x_from=100)\n",
    "plot_mean_running_avg(list_running_js[:4],label=\"cl mcmc\",N_hops=N_hops,start_x_from=100)\n",
    "plt.grid(axis=\"both\")\n",
    "plt.xlabel(\"mcmc iter\");plt.ylabel(\"JS Divergence\");plt.legend()"
   ]
  },
  {
   "cell_type": "code",
   "execution_count": 48,
   "metadata": {},
   "outputs": [
    {
     "data": {
      "text/plain": [
       "<matplotlib.legend.Legend at 0x22e43046f40>"
      ]
     },
     "execution_count": 48,
     "metadata": {},
     "output_type": "execute_result"
    },
    {
     "data": {
      "image/png": "[encoded data removed]",
      "text/plain": [
       "<Figure size 720x576 with 1 Axes>"
      ]
     },
     "metadata": {
      "needs_background": "light"
     },
     "output_type": "display_data"
    }
   ],
   "source": [
    "plt.figure(figsize=(10,8))\n",
    "plot_mean_running_avg(list_running_js_q,label=\"q mcmc\",N_hops=N_hops_q,start_x_from=100)\n",
    "plot_mean_running_avg(list_running_js[:4],label=\"cl mcmc\",N_hops=N_hops,start_x_from=100)\n",
    "plt.ylim(0,1); plt.grid(axis=\"both\")\n",
    "plt.xlabel(\"mcmc iter\");plt.ylabel(\"JS Divergence\");plt.legend()"
   ]
  },
  {
   "attachments": {},
   "cell_type": "markdown",
   "metadata": {},
   "source": [
    "### ignore whatever is below for the time being"
   ]
  },
  {
   "cell_type": "code",
   "execution_count": 55,
   "metadata": {},
   "outputs": [],
   "source": [
    "# steps = 8000\n",
    "# config_counts_q, proposed_states_q, accepted_states_q =quantum_enhanced_mcmc(\n",
    "#     N_hops=steps,\n",
    "#     model=model,\n",
    "#     initial_state='11000001',# low energy states\n",
    "#     return_last_n_states=8000,\n",
    "#     return_additional_lists=True,\n",
    "#     temp=1/beta,\n",
    "# )\n",
    "\n",
    "# trajectory_q = trajectory_processing(accepted_states_q)"
   ]
  },
  {
   "cell_type": "code",
   "execution_count": 16,
   "metadata": {},
   "outputs": [
    {
     "data": {
      "image/png": "[encoded data removed]",
      "text/plain": [
       "<Figure size 1080x504 with 1 Axes>"
      ]
     },
     "metadata": {
      "needs_background": "light"
     },
     "output_type": "display_data"
    }
   ],
   "source": [
    "dict_cl=trajectory_processing(accepted_states_c[100:]).empirical_distn()\n",
    "plot_multiple_bargraphs(list_of_dicts=[bpd,dict_cl],\n",
    "list_labels=[\"actual\",\"cl-uniform\"],\n",
    "list_normalise=[False,False],\n",
    "plot_first_few=30,\n",
    "sort_desc=True)"
   ]
  },
  {
   "cell_type": "code",
   "execution_count": 17,
   "metadata": {},
   "outputs": [],
   "source": [
    "dict_q=trajectory_processing(accepted_states_q[100:]).empirical_distn()"
   ]
  },
  {
   "cell_type": "code",
   "execution_count": 18,
   "metadata": {},
   "outputs": [
    {
     "data": {
      "image/png": "[encoded data removed]",
      "text/plain": [
       "<Figure size 1080x504 with 1 Axes>"
      ]
     },
     "metadata": {
      "needs_background": "light"
     },
     "output_type": "display_data"
    }
   ],
   "source": [
    "### plot bar graphs here\n",
    "plot_multiple_bargraphs(list_of_dicts=[bpd,dict_cl,dict_q],\n",
    "list_labels=[\"actual\",\"cl-uniform\",\"Q\"],\n",
    "list_normalise=[False,False,False],\n",
    "plot_first_few=30,\n",
    "sort_desc=True)"
   ]
  },
  {
   "cell_type": "markdown",
   "metadata": {},
   "source": [
    "## JS divergence comparison for both classical and quantum case"
   ]
  },
  {
   "cell_type": "code",
   "execution_count": 19,
   "metadata": {},
   "outputs": [
    {
     "name": "stderr",
     "output_type": "stream",
     "text": [
      "  0%|          | 0/199 [00:00<?, ?it/s]d:\\Desktop\\qumcmc_package_test\\qumcmc\\prob_dist.py:112: RuntimeWarning: divide by zero encountered in true_divide\n",
      "  return np.sum(np.where(p_arr>10**-6,p_arr*np.log2(p_arr/q_arr),0.))\n",
      "d:\\Desktop\\qumcmc_package_test\\qumcmc\\prob_dist.py:112: RuntimeWarning: invalid value encountered in true_divide\n",
      "  return np.sum(np.where(p_arr>10**-6,p_arr*np.log2(p_arr/q_arr),0.))\n",
      "d:\\Desktop\\qumcmc_package_test\\qumcmc\\prob_dist.py:112: RuntimeWarning: divide by zero encountered in log2\n",
      "  return np.sum(np.where(p_arr>10**-6,p_arr*np.log2(p_arr/q_arr),0.))\n",
      "d:\\Desktop\\qumcmc_package_test\\qumcmc\\prob_dist.py:112: RuntimeWarning: invalid value encountered in multiply\n",
      "  return np.sum(np.where(p_arr>10**-6,p_arr*np.log2(p_arr/q_arr),0.))\n",
      "100%|██████████| 199/199 [00:01<00:00, 166.59it/s]\n",
      "100%|██████████| 79/79 [00:00<00:00, 300.77it/s]\n"
     ]
    }
   ],
   "source": [
    "jsdiv_c=trajectory_c.running_js_divergence(model.boltzmann_pd)\n",
    "jsdiv_q=trajectory_q.running_js_divergence(model.boltzmann_pd)"
   ]
  },
  {
   "cell_type": "code",
   "execution_count": 21,
   "metadata": {},
   "outputs": [
    {
     "data": {
      "image/png": "[encoded data removed]",
      "text/plain": [
       "<Figure size 720x576 with 1 Axes>"
      ]
     },
     "metadata": {
      "needs_background": "light"
     },
     "output_type": "display_data"
    }
   ],
   "source": [
    "plt.figure(figsize=(10,8))\n",
    "plt.plot(np.sqrt(jsdiv_c[:8000]),\".:\" ,label= 'classical')\n",
    "plt.plot(np.sqrt(jsdiv_q),\"+-\" ,label= 'quantum')\n",
    "plt.xlabel(\"iterations x 20\")\n",
    "plt.ylabel(\"JS distance\")\n",
    "plt.legend()\n",
    "plt.show()"
   ]
  },
  {
   "cell_type": "code",
   "execution_count": 144,
   "metadata": {},
   "outputs": [
    {
     "data": {
      "image/png": "[encoded data removed]",
      "text/plain": [
       "<Figure size 720x576 with 1 Axes>"
      ]
     },
     "metadata": {},
     "output_type": "display_data"
    }
   ],
   "source": [
    "plt.figure(figsize=(10,8))\n",
    "plt.plot(np.sqrt(jsdiv_c),\".:\" ,label= 'classical')\n",
    "plt.plot(np.sqrt(jsdiv_q),\"+-\" ,label= 'quantum')\n",
    "plt.xlabel(\"iterations x 20\")\n",
    "plt.ylabel(\"JS distance\")\n",
    "plt.legend()\n",
    "plt.show()"
   ]
  },
  {
   "cell_type": "code",
   "execution_count": null,
   "metadata": {},
   "outputs": [],
   "source": []
  }
 ],
 "metadata": {
  "kernelspec": {
   "display_name": "Python 3.8.8 ('base')",
   "language": "python",
   "name": "python3"
  },
  "language_info": {
   "codemirror_mode": {
    "name": "ipython",
    "version": 3
   },
   "file_extension": ".py",
   "mimetype": "text/x-python",
   "name": "python",
   "nbconvert_exporter": "python",
   "pygments_lexer": "ipython3",
   "version": "3.8.8 (default, Apr 13 2021, 15:08:03) [MSC v.1916 64 bit (AMD64)]"
  },
  "orig_nbformat": 4,
  "vscode": {
   "interpreter": {
    "hash": "184a4bfd18ed123440bfad7023e607e274d9f6c0bdada601c853a4367aa45839"
   }
  }
 },
 "nbformat": 4,
 "nbformat_minor": 2
}
