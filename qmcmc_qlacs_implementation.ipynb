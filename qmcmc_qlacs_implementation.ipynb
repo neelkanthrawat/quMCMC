{
 "cells": [
  {
   "cell_type": "code",
   "execution_count": 1,
   "metadata": {},
   "outputs": [],
   "source": [
    "from qumcmc.basic_utils import *\n",
    "from qumcmc.prob_dist import *\n",
    "from qumcmc.energy_models import *\n",
    "from qumcmc.classical_mcmc_routines import *"
   ]
  },
  {
   "attachments": {},
   "cell_type": "markdown",
   "metadata": {},
   "source": [
    "### Quantum circuit construction"
   ]
  },
  {
   "cell_type": "code",
   "execution_count": 2,
   "metadata": {},
   "outputs": [],
   "source": [
    "from qulacs import QuantumState, QuantumCircuit\n",
    "from qulacsvis import circuit_drawer\n",
    "from scipy.linalg import expm\n",
    "from qulacs.gate import DenseMatrix\n",
    "from qulacs.gate import X, Y, Z  "
   ]
  },
  {
   "cell_type": "code",
   "execution_count": 44,
   "metadata": {},
   "outputs": [],
   "source": [
    "def initialise_qc(n_spins: int, bitstring: str) -> QuantumCircuit :\n",
    "    \"\"\"\n",
    "    Initialises a quantum circuit with n_spins number of qubits in a state defined by \"bitstring\"    \n",
    "    \"\"\"\n",
    "    qc_in=QuantumCircuit(qubit_count=n_spins)\n",
    "    len_str_in = len(bitstring)\n",
    "    assert len_str_in==qc_in.get_qubit_count(), \"len(bitstring) should be equal to number_of_qubits/spins\"\n",
    "\n",
    "    for i in range(0,len(bitstring)):\n",
    "        if bitstring[i]==\"1\":\n",
    "            qc_in.add_X_gate(len_str_in - 1 - i)\n",
    "    #circuit_drawer(qc_in,\"mpl\")\n",
    "    return qc_in"
   ]
  },
  {
   "cell_type": "code",
   "execution_count": 48,
   "metadata": {},
   "outputs": [],
   "source": [
    "def fn_qc_h1(num_spins: int, gamma, alpha, h:list, delta_time=0.8) -> QuantumCircuit :\n",
    "    \"\"\"\n",
    "    Create a Quantum Circuit for time-evolution under\n",
    "    hamiltonain H1 (described in the paper) \n",
    "\n",
    "    ARGS:\n",
    "    ----\n",
    "    num_spins: number of spins in the model\n",
    "    gamma: float\n",
    "    alpha: float\n",
    "    h: list of field at each site\n",
    "    delta_time: total evolution time time/num_trotter_steps\n",
    "    \"\"\"\n",
    "    a=gamma\n",
    "    #b_list=[-(1 - gamma) * alpha * hj for hj in h]\n",
    "    b_list=list( ((gamma-1)*(alpha))* np.array(h))\n",
    "    # need to change this part\n",
    "    # list_unitaries = [DenseMatrix(index=j,\n",
    "    #     matrix=np.round(expm(-1j*delta_time*(a*X(2).get_matrix()+b_list[j]*Z(2).get_matrix())))\n",
    "    #                     )\n",
    "    #     for j in range(0, num_spins)\n",
    "    # ]\n",
    "    # need to replace part\n",
    "\n",
    "    qc = QuantumCircuit(num_spins)\n",
    "    for j in range(0, num_spins):\n",
    "        #qc.append(list_unitaries[j], [num_spins - 1 - j])\n",
    "        unitary_gate=DenseMatrix(index=num_spins-1-j,\n",
    "                        matrix=np.round(expm(-1j*delta_time*(a*X(2).get_matrix()+b_list[j]*Z(2).get_matrix())),decimals=6)\n",
    "                        )\n",
    "        qc.add_gate(unitary_gate)\n",
    "    \n",
    "    #circuit_drawer(qc)\n",
    "    # print(\"qc is:\"); print(qc.draw())\n",
    "    return qc"
   ]
  },
  {
   "cell_type": "code",
   "execution_count": 56,
   "metadata": {},
   "outputs": [],
   "source": [
    "def fn_qc_h2(J:np.array, alpha:float, gamma:float, delta_time) -> QuantumCircuit :\n",
    "    \"\"\"\n",
    "    Create a Quantum Circuit for time-evolution under\n",
    "    hamiltonain H2 (described in the paper)\n",
    "\n",
    "    ARGS:\n",
    "    ----\n",
    "    J: interaction matrix, interaction between different spins\n",
    "    gamma: float\n",
    "    alpha: float\n",
    "    delta_time: (default=0.8, as suggested in the paper)total evolution time time/num_trotter_steps\n",
    "    \"\"\"\n",
    "    num_spins=np.shape(J)[0]\n",
    "    qc_for_evol_h2=QuantumCircuit(num_spins)\n",
    "    theta_list = [\n",
    "        -2 * J[j, j + 1] * (1 - gamma) * alpha * delta_time\n",
    "        for j in range(0, num_spins - 1)\n",
    "    ]# only near neighbour interaction based model! it seems.\n",
    "    # print(\"theta_list:\");print(theta_list)\n",
    "    #theta is:\n",
    "    pauli_z_index=[3,3]## Z tensor Z\n",
    "    for j in range(0,num_spins-1):\n",
    "        target_list=[num_spins-1-j,num_spins-1-(j+1)]#num_spins-1-j,num_spins-1-(j+1)\n",
    "        angle=-1*theta_list[j]# -1* because in qulacs rotn are exp(+i pauli_1 tensor pauli_2 )\n",
    "        qc_for_evol_h2.add_multi_Pauli_rotation_gate(index_list=target_list,pauli_ids=pauli_z_index,angle=angle)\n",
    "    \n",
    "    #circuit_drawer(qc_for_evol_h2)\n",
    "    return qc_for_evol_h2"
   ]
  },
  {
   "cell_type": "code",
   "execution_count": 32,
   "metadata": {},
   "outputs": [
    {
     "data": {
      "text/plain": [
       "array([0.97479411-0.22310636j, 0.        +0.j        ,\n",
       "       0.        +0.j        , 0.        +0.j        ])"
      ]
     },
     "execution_count": 32,
     "metadata": {},
     "output_type": "execute_result"
    }
   ],
   "source": [
    "check_rzz=QuantumCircuit(2)\n",
    "check_rzz.add_multi_Pauli_rotation_gate(index_list=[0,1],pauli_ids=[3,3],angle=-0.45)\n",
    "st=QuantumState(2)\n",
    "check_rzz.update_quantum_state(st)\n",
    "st.get_vector()"
   ]
  },
  {
   "cell_type": "code",
   "execution_count": 36,
   "metadata": {},
   "outputs": [],
   "source": [
    "def fn_qc_h2_new(J:np.array, alpha:float, gamma:float, delta_time) -> QuantumCircuit :\n",
    "    \"\"\"\n",
    "    # updated version.\n",
    "    Create a Quantum Circuit for time-evolution under\n",
    "    hamiltonain H2 (described in the paper)\n",
    "\n",
    "    ARGS:\n",
    "    ----\n",
    "    J: interaction matrix, interaction between different spins\n",
    "    gamma: float\n",
    "    alpha: float\n",
    "    delta_time: (default=0.8, as suggested in the paper)total evolution time time/num_trotter_steps\n",
    "    \"\"\"\n",
    "    num_spins=np.shape(J)[0]\n",
    "    qc_for_evol_h2=QuantumCircuit(num_spins)\n",
    "    # calculating theta_jk\n",
    "    upper_triag_without_diag=np.triu(J,k=1)\n",
    "    theta_array=(-2*(1-gamma)*alpha*delta_time)*upper_triag_without_diag\n",
    "    pauli_z_index=[3,3]## Z tensor Z\n",
    "    for j in range(0,num_spins-1):\n",
    "        for k in range(j+1,num_spins):\n",
    "            print(\"j,k is:\",(j,k))\n",
    "            target_list=[num_spins-1-j,num_spins-1-k]#num_spins-1-j,num_spins-1-(j+1)\n",
    "            angle=theta_array[j,k]\n",
    "            qc_for_evol_h2.add_multi_Pauli_rotation_gate(index_list=target_list,pauli_ids=pauli_z_index,angle=angle)\n",
    "    \n",
    "    #circuit_drawer(qc_for_evol_h2,\"mpl\")\n",
    "    return qc_for_evol_h2"
   ]
  },
  {
   "cell_type": "code",
   "execution_count": 14,
   "metadata": {},
   "outputs": [],
   "source": [
    "def trottered_qc_for_transition(num_spins: int, qc_h1: QuantumCircuit, qc_h2: QuantumCircuit, num_trotter_steps: int) -> QuantumCircuit:\n",
    "    \"\"\" Returns a trotter circuit (evolution_under_h2 X evolution_under_h1)^(r-1) (evolution under h1)\"\"\"\n",
    "    qc_combine=QuantumCircuit(num_spins)\n",
    "    for _ in range(0,num_trotter_steps-1):\n",
    "        qc_combine.merge_circuit(qc_h1)\n",
    "        qc_combine.merge_circuit(qc_h2)\n",
    "    qc_combine.merge_circuit(qc_h1)\n",
    "    return qc_combine"
   ]
  },
  {
   "cell_type": "code",
   "execution_count": 15,
   "metadata": {},
   "outputs": [],
   "source": [
    "def combine_2_qc(init_qc: QuantumCircuit, trottered_qc: QuantumCircuit) -> QuantumCircuit:\n",
    "    \"\"\" Function to combine 2 quantum ckts of compatible size.\n",
    "        In this project, it is used to combine initialised quantum ckt and quant ckt meant for time evolution\n",
    "    \"\"\"\n",
    "    num_spins=init_qc.get_qubit_count()\n",
    "    qc=QuantumCircuit(num_spins)\n",
    "    qc.merge_circuit(init_qc)\n",
    "    qc.merge_circuit(trottered_qc)\n",
    "    return qc"
   ]
  },
  {
   "cell_type": "code",
   "execution_count": 16,
   "metadata": {},
   "outputs": [],
   "source": [
    "######## classical loop acceptance state #####\n",
    "def classical_loop_accepting_state(\n",
    "    s_init: str, s_prime: str, energy_s: float, energy_sprime: float, temp=1\n",
    ") -> str:\n",
    "    \"\"\"\n",
    "    Accepts the state \"sprime\" with probability A ( i.e. min(1,exp(-(E(s')-E(s))/ temp) )\n",
    "    and s_init with probability 1-A.\n",
    "    \"\"\"\n",
    "    delta_energy = energy_sprime - energy_s  # E(s')-E(s)\n",
    "    exp_factor = np.exp(-delta_energy / temp)\n",
    "    acceptance = min(\n",
    "        1, exp_factor\n",
    "    )  # for both QC case as well as uniform random strategy, the transition matrix Pij is symmetric!\n",
    "    # coin_flip=np.random.choice([True, False], p=[acceptance, 1-acceptance])\n",
    "    new_state = s_init\n",
    "    if acceptance >= np.random.uniform(0, 1):\n",
    "        new_state = s_prime\n",
    "    return new_state"
   ]
  },
  {
   "cell_type": "code",
   "execution_count": 58,
   "metadata": {},
   "outputs": [],
   "source": [
    "################################################################################################\n",
    "##  QUANTUM MARKOV CHAIN CONSTRUCTION ##\n",
    "################################################################################################\n",
    "\n",
    "def run_qc_quantum_step(\n",
    "    qc_initialised_to_s: QuantumCircuit, model: IsingEnergyFunction, alpha, n_spins: int\n",
    ") -> str:\n",
    "\n",
    "    \"\"\"\n",
    "    Takes in a qc initialized to some state \"s\". After performing unitary evolution U=exp(-iHt)\n",
    "    , circuit is measured once. Function returns the bitstring s', the measured state .\n",
    "\n",
    "    ARGS:\n",
    "    ----\n",
    "    qc_initialised_to_s:\n",
    "    model:\n",
    "    alpha:\n",
    "    n_spins:\n",
    "    \n",
    "    \"\"\"\n",
    "\n",
    "    h = model.get_h# and not model.get_h() anymore\n",
    "    J = model.get_J# and not model.get_J() anymore\n",
    "\n",
    "    # init_qc=initialise_qc(n_spins=n_spins, bitstring='1'*n_spins)\n",
    "    np.random.seed(12)\n",
    "    gamma = np.round(np.random.uniform(0.25, 0.6), decimals=2)\n",
    "    time = np.random.choice(list(range(2, 12)))  # earlier I had [2,20]\n",
    "    delta_time = 0.8 \n",
    "    num_trotter_steps = int(np.floor((time / delta_time)))\n",
    "    # print(f\"gamma:{gamma}, time: {time}, delta_time: {delta_time}, num_trotter_steps:{num_trotter_steps}\")\n",
    "    # print(f\"num troter steps: {num_trotter_steps}\")\n",
    "    qc_evol_h1 = fn_qc_h1(n_spins, gamma, alpha, h, delta_time)\n",
    "    qc_evol_h2 = fn_qc_h2(J, alpha, gamma, delta_time=delta_time)\n",
    "    trotter_ckt = trottered_qc_for_transition(\n",
    "        n_spins, qc_evol_h1, qc_evol_h2, num_trotter_steps=num_trotter_steps\n",
    "    )\n",
    "    qc_for_mcmc = combine_2_qc(qc_initialised_to_s, trotter_ckt)# i can get rid of this!\n",
    "    #print(\"number of qubits in qc_for_mcmc:\",qc_for_mcmc.get_qubit_count())\n",
    "    # run the circuit\n",
    "    q_state=QuantumState(qubit_count=n_spins)\n",
    "    q_state.set_zero_state()\n",
    "    qc_for_mcmc.update_quantum_state(q_state)\n",
    "    # print(\"q_state vector after updation:\")\n",
    "    # print(np.round(q_state.get_vector(),decimals=4))\n",
    "    state_obtained=q_state.sampling(sampling_count=1)[0]\n",
    "    #print(\"samples:\");print(q_state.sampling(sampling_count=50))\n",
    "    #print(\"amplitude measurement:\");print(np.round(q_state.get_amplitude(comp_basis=17),decimals=4))\n",
    "    state_obtained_binary=f\"{state_obtained:0{n_spins}b}\"\n",
    "    return state_obtained_binary"
   ]
  },
  {
   "cell_type": "code",
   "execution_count": 52,
   "metadata": {},
   "outputs": [
    {
     "data": {
      "text/plain": [
       "0.47352304041476556"
      ]
     },
     "execution_count": 52,
     "metadata": {},
     "output_type": "execute_result"
    }
   ],
   "source": [
    "# define the model\n",
    "np.random.seed(0)# should always be in the same cell!  \n",
    "n_spins = 10\n",
    "\n",
    "## construct problem Hamiltonian ##\n",
    "shape_of_J=(n_spins,n_spins)\n",
    "\n",
    "## defining J matrix (mutual 1-1 interaction)\n",
    "# J =  np.round(np.random.choice([+1, 0, -1], size=(n_spins, n_spins)), decimals=2) \n",
    "J =  np.random.uniform(low= -2, high= 2, size= (n_spins, n_spins) )\n",
    "\n",
    "J = 0.5 * (J + J.transpose() )\n",
    "J = np.round( J - np.diag(np.diag(J)) , decimals= 3)\n",
    "\n",
    "# defining h\n",
    "h = np.round(0.01 * np.random.randn(n_spins), decimals=2)\n",
    "#h = np.round(np.random.uniform(low= -1, high = 1, size= (n_spins)), decimals=2)\n",
    "\n",
    "# instantiate the model\n",
    "model = IsingEnergyFunction(J, h, name= 'my_model')\n",
    "model.alpha"
   ]
  },
  {
   "cell_type": "code",
   "execution_count": 51,
   "metadata": {},
   "outputs": [
    {
     "name": "stdout",
     "output_type": "stream",
     "text": [
      "                   ___   \n",
      "                  |PR |  \n",
      "------------------|   |--\n",
      "                  |   |  \n",
      "           ___    |   |  \n",
      "          |PR |   |   |  \n",
      "----------|   |---|   |--\n",
      "          |   |   |___|  \n",
      "   ___    |   |          \n",
      "  |PR |   |   |          \n",
      "--|   |---|   |----------\n",
      "  |   |   |___|          \n",
      "  |   |                  \n",
      "  |   |                  \n",
      "--|   |------------------\n",
      "  |___|                  \n",
      "q_state vector after updation:\n",
      "[-0.0193+0.088j  -0.2215-0.1188j  0.3175-0.4512j -0.0218+0.0033j\n",
      " -0.049 +0.0397j  0.2576-0.0245j -0.0442+0.1857j -0.0466+0.j\n",
      " -0.0004-0.0018j  0.2101+0.0277j -0.1848+0.1468j  0.0121+0.0018j\n",
      "  0.0951+0.0584j -0.2041-0.4671j  0.2601+0.2539j  0.0397+0.0868j]\n"
     ]
    },
    {
     "data": {
      "text/plain": [
       "'0010'"
      ]
     },
     "execution_count": 51,
     "metadata": {},
     "output_type": "execute_result"
    }
   ],
   "source": [
    "qc_initialised_to_s=initialise_qc(n_spins=n_spins,bitstring=\"1101\")\n",
    "alpha=np.round(model.alpha,decimals=4)\n",
    "run_qc_quantum_step(\n",
    "    qc_initialised_to_s, model=model, alpha=alpha, n_spins=n_spins\n",
    ")"
   ]
  },
  {
   "cell_type": "code",
   "execution_count": 59,
   "metadata": {},
   "outputs": [
    {
     "name": "stdout",
     "output_type": "stream",
     "text": [
      "checking the statevector obtained:\n",
      "[ 0.91618 +0.022707j  0.      -0.22425j   0.007408-0.224148j\n",
      " -0.054875-0.000453j  0.003705-0.22424j  -0.054875+0.000453j\n",
      " -0.054865-0.00136j   0.      +0.013429j]\n"
     ]
    }
   ],
   "source": [
    "np.random.seed(12)# this part is correct :D\n",
    "## added by neel to check something\n",
    "gamma = np.round(np.random.uniform(0.25, 0.6), decimals=2)\n",
    "check_h1=fn_qc_h1(num_spins=n_spins,\n",
    "gamma=gamma,alpha=model.alpha,h=h,delta_time=0.8)\n",
    "\n",
    "check_state=QuantumState(n_spins)\n",
    "check_state.set_zero_state()\n",
    "check_h1.update_quantum_state(check_state)\n",
    "print(\"checking the statevector obtained:\")\n",
    "print(np.round(check_state.get_vector(),decimals=6))"
   ]
  },
  {
   "cell_type": "code",
   "execution_count": 42,
   "metadata": {},
   "outputs": [
    {
     "name": "stdout",
     "output_type": "stream",
     "text": [
      "theta_list:\n",
      "[-1.3341932552916034]\n",
      "angle is:\n",
      "1.3341932552916034\n",
      "   ___   \n",
      "  |PR |  \n",
      "--|   |--\n",
      "  |   |  \n",
      "  |   |  \n",
      "  |   |  \n",
      "--|   |--\n",
      "  |___|  \n",
      "checking the statevector obtained:\n",
      "[0.785621+0.618708j 0.      +0.j       0.      +0.j\n",
      " 0.      +0.j      ]\n"
     ]
    }
   ],
   "source": [
    "np.random.seed(1221)\n",
    "## added by neel to check something\n",
    "gamma = np.round(np.random.uniform(0.25, 0.6), decimals=2)\n",
    "check_h2=fn_qc_h2(J=J,alpha=model.alpha,gamma=gamma,delta_time=0.8)\n",
    "check_state=QuantumState(n_spins)\n",
    "check_state.set_zero_state()\n",
    "check_h2.update_quantum_state(check_state)\n",
    "print(\"checking the statevector obtained:\")\n",
    "print(np.round(check_state.get_vector(),decimals=6))"
   ]
  },
  {
   "cell_type": "code",
   "execution_count": 52,
   "metadata": {},
   "outputs": [
    {
     "name": "stdout",
     "output_type": "stream",
     "text": [
      "q_state vector after updation:\n",
      "[ 0.2182-0.0114j -0.143 -0.1307j  0.0218+0.0033j  0.1485+0.4675j\n",
      "  0.214 +0.12j    0.0032+0.1931j -0.1628-0.j     -0.0433+0.183j\n",
      "  0.2101+0.0277j -0.2393-0.0064j  0.1779-0.155j   0.1605+0.1687j\n",
      "  0.3266-0.3205j -0.1136+0.062j  -0.054 +0.0958j  0.2256-0.1141j]\n"
     ]
    },
    {
     "data": {
      "text/plain": [
       "'1100'"
      ]
     },
     "execution_count": 52,
     "metadata": {},
     "output_type": "execute_result"
    }
   ],
   "source": [
    "qc_initialised_to_s=initialise_qc(n_spins=n_spins,bitstring=\"1100\")\n",
    "alpha=np.round(model.alpha,decimals=4)\n",
    "run_qc_quantum_step(\n",
    "    qc_initialised_to_s, model=model, alpha=alpha, n_spins=n_spins\n",
    ")"
   ]
  },
  {
   "cell_type": "code",
   "execution_count": 54,
   "metadata": {},
   "outputs": [],
   "source": [
    "def quantum_enhanced_mcmc(\n",
    "    N_hops: int,\n",
    "    # num_spins: int,\n",
    "    # num_elems: int,\n",
    "    model: IsingEnergyFunction,\n",
    "    # alpha,\n",
    "    initial_state: Union[None, str] = None,\n",
    "    return_last_n_states=500,\n",
    "    return_additional_lists=False,\n",
    "    temp=1,\n",
    "):\n",
    "    \"\"\"\n",
    "    version 0.2\n",
    "    \n",
    "    ARGS:\n",
    "    ----\n",
    "    Nhops: Number of time you want to run mcmc\n",
    "    model:\n",
    "    return_last_n_states:\n",
    "    return_both:\n",
    "    temp:\n",
    "\n",
    "    RETURNS:\n",
    "    -------\n",
    "    Last 'return_last_n_states' elements of states so collected (default value=500). one can then deduce the distribution from it!\n",
    "    \n",
    "    \"\"\"\n",
    "    states_obt = []\n",
    "    all_configs = [f\"{k:0{model.num_spins}b}\" for k in range(0, 2 ** (model.num_spins))]\n",
    "    if initial_state == None : \n",
    "        initial_state = np.random.choice(all_configs)\n",
    "    print(\"starting with: \", initial_state)\n",
    "\n",
    "    ## initialise quantum circuit to current_state\n",
    "    qc_s = initialise_qc(n_spins= model.num_spins, bitstring=initial_state)\n",
    "    current_state = initial_state\n",
    "    states_obt.append(current_state)\n",
    "    ## intialise observables\n",
    "    list_after_transition = []\n",
    "    list_state_mchain_is_in = []\n",
    "    poss_states=states(num_spins=model.num_spins)\n",
    "\n",
    "    for i in tqdm(range(0, N_hops), desc='runnning quantum MCMC steps . ..' ):\n",
    "        # print(\"i: \", i)\n",
    "        # get sprime\n",
    "        s_prime = run_qc_quantum_step(\n",
    "            qc_initialised_to_s=qc_s, model=model, alpha=model.alpha, n_spins= model.num_spins\n",
    "        )\n",
    "        list_after_transition.append(s_prime)\n",
    "        # accept/reject s_prime\n",
    "        energy_s = model.get_energy(current_state)\n",
    "        #print('s,s_prime is:',(current_state,s_prime))\n",
    "        energy_sprime = model.get_energy(s_prime)\n",
    "        next_state = classical_loop_accepting_state(\n",
    "            current_state, s_prime, energy_s, energy_sprime, temp=temp\n",
    "        )\n",
    "        current_state = next_state\n",
    "        list_state_mchain_is_in.append(current_state)\n",
    "        states_obt.append(current_state)\n",
    "        ## reinitiate\n",
    "        qc_s = initialise_qc(n_spins= model.num_spins, bitstring=current_state)\n",
    "\n",
    "    # dict_count_return_last_n_states = Counter(\n",
    "    #     states[-return_last_n_states:]\n",
    "    # )  # dictionary of occurences for last \"return_last_n_states\" states\n",
    "    #\n",
    "    dict_count_return_last_n_states=dict(zip(poss_states,[0]*(len(poss_states))))\n",
    "    dict_count_return_last_n_states.update(dict(Counter(states_obt[-return_last_n_states:])))\n",
    "\n",
    "    if return_additional_lists:\n",
    "        to_return = (\n",
    "            dict_count_return_last_n_states,\n",
    "            list_after_transition,\n",
    "            list_state_mchain_is_in,\n",
    "        )\n",
    "    else:\n",
    "        to_return = dict_count_return_last_n_states\n",
    "\n",
    "    return to_return"
   ]
  },
  {
   "cell_type": "code",
   "execution_count": 59,
   "metadata": {},
   "outputs": [
    {
     "name": "stderr",
     "output_type": "stream",
     "text": [
      "runnning quantum MCMC steps . ..:   0%|          | 5/3000 [00:00<01:04, 46.14it/s]"
     ]
    },
    {
     "name": "stdout",
     "output_type": "stream",
     "text": [
      "starting with:  1101110111\n"
     ]
    },
    {
     "name": "stderr",
     "output_type": "stream",
     "text": [
      "runnning quantum MCMC steps . ..: 100%|██████████| 3000/3000 [00:46<00:00, 64.89it/s]\n"
     ]
    }
   ],
   "source": [
    "a,b,c=quantum_enhanced_mcmc(\n",
    "    N_hops=3000,\n",
    "    # num_spins: int,\n",
    "    # num_elems: int,\n",
    "    model=model,\n",
    "    # alpha,\n",
    "    initial_state='1101110111',\n",
    "    return_last_n_states=10,\n",
    "    return_additional_lists=True,\n",
    "    temp=1,\n",
    ")"
   ]
  },
  {
   "cell_type": "code",
   "execution_count": 80,
   "metadata": {},
   "outputs": [],
   "source": [
    "### for a small example, compare this thing with earlier qiskit's implementation."
   ]
  },
  {
   "attachments": {},
   "cell_type": "markdown",
   "metadata": {},
   "source": [
    "### Was checking something!"
   ]
  },
  {
   "cell_type": "code",
   "execution_count": 122,
   "metadata": {},
   "outputs": [
    {
     "name": "stdout",
     "output_type": "stream",
     "text": [
      "earlier:  [1.+0.j 0.+0.j 0.+0.j 0.+0.j]\n"
     ]
    },
    {
     "data": {
      "image/png": "[encoded data removed]",
      "text/plain": [
       "<Figure size 194.4x194.4 with 1 Axes>"
      ]
     },
     "metadata": {
      "needs_background": "light"
     },
     "output_type": "display_data"
    },
    {
     "name": "stdout",
     "output_type": "stream",
     "text": [
      "now: [0.+0.j 1.+0.j 0.+0.j 0.+0.j]\n"
     ]
    }
   ],
   "source": [
    "from qulacs import QuantumState\n",
    "\n",
    "n=2\n",
    "state=QuantumState(n)\n",
    "state.set_zero_state()\n",
    "print(\"earlier: \",state.get_vector())\n",
    "qc=QuantumCircuit(n)\n",
    "qc.add_X_gate(0)\n",
    "circuit_drawer(qc,\"mpl\")\n",
    "qc.update_quantum_state(state)\n",
    "print(\"now:\",state.get_vector())"
   ]
  },
  {
   "cell_type": "code",
   "execution_count": 123,
   "metadata": {},
   "outputs": [
    {
     "data": {
      "text/plain": [
       "{1: 10000}"
      ]
     },
     "execution_count": 123,
     "metadata": {},
     "output_type": "execute_result"
    }
   ],
   "source": [
    "unique,counts=np.unique(state.sampling(10000),return_counts=True)\n",
    "dict(zip(unique,counts))"
   ]
  },
  {
   "cell_type": "code",
   "execution_count": 141,
   "metadata": {},
   "outputs": [
    {
     "name": "stdout",
     "output_type": "stream",
     "text": [
      "state right now: [0.+0.j 1.+0.j 0.+0.j 0.+0.j]\n"
     ]
    },
    {
     "data": {
      "image/png": "[encoded data removed]",
      "text/plain": [
       "<Figure size 194.4x194.4 with 1 Axes>"
      ]
     },
     "metadata": {
      "needs_background": "light"
     },
     "output_type": "display_data"
    },
    {
     "name": "stdout",
     "output_type": "stream",
     "text": [
      "state_now: [0.+0.j 0.+0.j 0.+0.j 1.+0.j]\n"
     ]
    }
   ],
   "source": [
    "# same as qiskit indexing convention! goodness !!!!!\n",
    "from qulacs.gate import CNOT\n",
    "state_check=QuantumState(qubit_count=2)\n",
    "state_check.set_computational_basis(0b01)\n",
    "print(\"state right now:\",state_check.get_vector())\n",
    "qc=QuantumCircuit(2)\n",
    "qc.add_CNOT_gate(control=0,target=1)\n",
    "circuit_drawer(qc,\"mpl\")\n",
    "qc.update_quantum_state(state_check)\n",
    "print(\"state_now:\",state_check.get_vector())"
   ]
  },
  {
   "cell_type": "code",
   "execution_count": null,
   "metadata": {},
   "outputs": [],
   "source": []
  }
 ],
 "metadata": {
  "kernelspec": {
   "display_name": "base",
   "language": "python",
   "name": "python3"
  },
  "language_info": {
   "codemirror_mode": {
    "name": "ipython",
    "version": 3
   },
   "file_extension": ".py",
   "mimetype": "text/x-python",
   "name": "python",
   "nbconvert_exporter": "python",
   "pygments_lexer": "ipython3",
   "version": "3.8.8"
  },
  "orig_nbformat": 4,
  "vscode": {
   "interpreter": {
    "hash": "184a4bfd18ed123440bfad7023e607e274d9f6c0bdada601c853a4367aa45839"
   }
  }
 },
 "nbformat": 4,
 "nbformat_minor": 2
}
