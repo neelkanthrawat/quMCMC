{
 "cells": [
  {
   "cell_type": "code",
   "execution_count": 2,
   "metadata": {},
   "outputs": [],
   "source": [
    "## import essential modules \n",
    "import qumcmc \n",
    "from qumcmc.basic_utils import *\n",
    "from qumcmc.energy_models import IsingEnergyFunction, Exact_Sampling\n",
    "from qumcmc.prob_dist import kl_divergence, js_divergence\n",
    "\n",
    "from qumcmc.classical_mcmc_routines import *\n",
    "from qumcmc.quantum_mcmc_routines_qulacs import *     #for Qulacs Simulator backend\n",
    "# from qumcmc.quantum_mcmc_routines_qulacs import quantum_enhanced_mcmc   #for qiskit Aer's Simulator backend \n",
    "from typing import Union\n",
    "from qumcmc.trajectory_processing import *\n",
    "import seaborn as sns\n",
    "\n",
    "#\n",
    "import random"
   ]
  },
  {
   "cell_type": "code",
   "execution_count": 3,
   "metadata": {},
   "outputs": [],
   "source": [
    "\n",
    "def js_divergence(dict_p:dict,dict_q:dict, prelim_check=True):\n",
    "    ''' \n",
    "    Returns JS divergence JS(p||q);\n",
    "    \n",
    "    Args:\n",
    "    dict_p: distribution p ({random_variable: prob}),\n",
    "\n",
    "    dict_q: distribution q ({random_variable: prob}),\n",
    "\n",
    "    prelim_check: default 'True'. \n",
    "    If user is completely sure that \n",
    "    dict_p and dict_q have same keys and that both the distributionss are\n",
    "    normalised then user can set it to 'False'.\n",
    "    '''\n",
    "    if prelim_check:\n",
    "        #check for whether or not dict_p and dict_q have same keys\n",
    "        keys_p,keys_q=list(dict_p.keys()),list(dict_q.keys())\n",
    "        keys_p.sort();keys_q.sort()\n",
    "        if keys_p==keys_q: pass  #\"keys of both the dictionaries dont match!\"\n",
    "        else :\n",
    "            for key in set(dict_p.keys()).union(set(dict_q.keys())) :\n",
    "                if key not in dict_p.keys(): dict_p[key] = 0.0\n",
    "                if key not in dict_q.keys(): dict_q[key] = 0.0\n",
    "\n",
    "        # print('p: ', dict_p)\n",
    "        # print('q: ', dict_q)\n",
    "        # check for whether values add to 1.\n",
    "        eps=1e-6\n",
    "        sum_vals_p=np.sum(list(dict_p.values()))\n",
    "        assert np.abs(sum_vals_p-1.0)<=eps, \"sum of values of dict_p must be 1.\"\n",
    "        sum_vals_q=np.sum(list(dict_q.values()))\n",
    "        assert np.abs(sum_vals_q-1.0)<=eps, \"sum of values of dict_q must be 1.\"\n",
    "\n",
    "    #prep for caln\n",
    "    p=DiscreteProbabilityDistribution(dict_p).index_sorted_dict()\n",
    "    q=DiscreteProbabilityDistribution(dict_q).index_sorted_dict()\n",
    "    p_arr,q_arr=np.array(list(p.values())).reshape((len(p))), np.array(list(q.values())).reshape((len(q)))\n",
    "    val_m = np.round(0.5 * (p_arr + q_arr),decimals=8)\n",
    "    #print(\"val_m:\");print(val_m)\n",
    "    m=dict(zip(list(p.keys()),val_m))\n",
    "    \n",
    "    # print('m: ', m)\n",
    "    \n",
    "    #print(\"m:\");print(m)\n",
    "    return 0.5 * (kl_divergence(p, m, prelim_check=False) +  kl_divergence(q, m, prelim_check=False ))\n"
   ]
  },
  {
   "cell_type": "code",
   "execution_count": 4,
   "metadata": {},
   "outputs": [
    {
     "name": "stderr",
     "output_type": "stream",
     "text": [
      "/home/rajarsi/Documents/QBMS/qumcmc/qumcmc/prob_dist.py:151: RuntimeWarning: divide by zero encountered in true_divide\n",
      "  return np.sum(np.where(p_arr>10**-6,p_arr*np.log2(p_arr/q_arr),0.))\n",
      "/home/rajarsi/Documents/QBMS/qumcmc/qumcmc/prob_dist.py:151: RuntimeWarning: divide by zero encountered in log2\n",
      "  return np.sum(np.where(p_arr>10**-6,p_arr*np.log2(p_arr/q_arr),0.))\n",
      "/home/rajarsi/Documents/QBMS/qumcmc/qumcmc/prob_dist.py:151: RuntimeWarning: invalid value encountered in multiply\n",
      "  return np.sum(np.where(p_arr>10**-6,p_arr*np.log2(p_arr/q_arr),0.))\n"
     ]
    },
    {
     "data": {
      "text/plain": [
       "(inf, 1.0)"
      ]
     },
     "execution_count": 4,
     "metadata": {},
     "output_type": "execute_result"
    }
   ],
   "source": [
    "a = {'1':1.0}; b = {'1': 0.0, '0':1.0}\n",
    "\n",
    "kl_divergence(a,b), js_divergence(a,b)"
   ]
  },
  {
   "cell_type": "code",
   "execution_count": 5,
   "metadata": {},
   "outputs": [
    {
     "name": "stdout",
     "output_type": "stream",
     "text": [
      "=============================================\n",
      "            MODEL : my_model\n",
      "=============================================\n",
      "Non-zero Interactions (J) : 28 / 28\n",
      "Non-zero Bias (h) : 8 / 8\n",
      "---------------------------------------------\n",
      "Average Interaction Strength <|J|> :  0.46081249999999996\n",
      "Average Bias Strength <|h|>:  0.3175\n",
      "alpha :  0.7625841344570155\n",
      "---------------------------------------------\n"
     ]
    },
    {
     "data": {
      "image/png": "[encoded data removed]",
      "text/plain": [
       "<Figure size 1152x720 with 2 Axes>"
      ]
     },
     "metadata": {
      "needs_background": "light"
     },
     "output_type": "display_data"
    }
   ],
   "source": [
    "# define the model\n",
    "np.random.seed(2) ##l lucky-seed: 610358\n",
    "n_spins = 8\n",
    "\n",
    "## construct problem Hamiltonian ##\n",
    "shape_of_J=(n_spins,n_spins)\n",
    "\n",
    "## defining J matrix (mutual 1-1 interaction)\n",
    "# J =  np.round(np.random.choice([+1, 0, -1], size=(n_spins, n_spins)), decimals=2) \n",
    "J =  np.random.uniform(low= -2, high= 2, size= shape_of_J )\n",
    "\n",
    "J = 0.5 * (J + J.transpose() )\n",
    "J = np.round( J - np.diag(np.diag(J)) , decimals= 3)\n",
    "\n",
    "# defining h\n",
    "h = np.round(0.5 * np.random.randn(n_spins), decimals=2)\n",
    "#h = np.round(np.random.uniform(low= -1, high = 1, size= (n_spins)), decimals=2)\n",
    "\n",
    "# instantiate the model\n",
    "model = IsingEnergyFunction(J, h, name= 'my_model')\n",
    "\n",
    "model.model_summary()\n",
    "## set current beta\n",
    "beta = 2.5\n",
    "\n",
    "## run exact sampling over all possible configurations \n",
    "esm = Exact_Sampling(model, beta)\n",
    "# esm.run_exact_sampling(beta)"
   ]
  },
  {
   "cell_type": "code",
   "execution_count": 6,
   "metadata": {},
   "outputs": [
    {
     "name": "stdout",
     "output_type": "stream",
     "text": [
      "=============================================\n",
      "     MODEL : my_model |  beta : 2.5\n",
      "=============================================\n",
      "Num Most Probable States : 7\n",
      "Entropy : 2.3572969242675743\n",
      "---------------------------------------------\n"
     ]
    },
    {
     "data": {
      "image/png": "[encoded data removed]",
      "text/plain": [
       "<Figure size 432x288 with 1 Axes>"
      ]
     },
     "metadata": {
      "needs_background": "light"
     },
     "output_type": "display_data"
    }
   ],
   "source": [
    "esm.sampling_summary()"
   ]
  },
  {
   "attachments": {},
   "cell_type": "markdown",
   "metadata": {},
   "source": [
    "#### HELPER FUNCTIONS"
   ]
  },
  {
   "cell_type": "code",
   "execution_count": 7,
   "metadata": {},
   "outputs": [],
   "source": [
    "int_to_binary = lambda state_obtained, n_spins : f\"{state_obtained:0{n_spins}b}\"\n",
    "binary_to_bipolar = lambda string : 2.0 * float(string) - 1.0\n",
    "\n",
    "def get_observable_expectation(observable: callable, mcmc_chain: MCMCChain, skip_init:int= 100) :\n",
    "\n",
    "    sample_observable = []\n",
    "    for s in mcmc_chain.accepted_states :\n",
    "\n",
    "        sample_observable.append(observable(s) )\n",
    "    \n",
    "    sample_observable = np.array(sample_observable)\n",
    "        \n",
    "    return sample_observable.mean(dtype= float)#, sample_observable.var(dtype= float)\n",
    "\n",
    "\n",
    "def correlation_spins(state: str, indices : Union[tuple, List] ):\n",
    "\n",
    "    assert len(indices) <= len(state)\n",
    "    \n",
    "    \n",
    "    prod = 1.0\n",
    "    for j in indices :\n",
    "        prod *= binary_to_bipolar(state[j])\n",
    "\n",
    "    return prod\n",
    "\n",
    "def cd_J(index, data_distribution:DiscreteProbabilityDistribution, mcmc_chain: MCMCChain):\n",
    "\n",
    "    assert len(index) == 2\n",
    "    observable = lambda s: correlation_spins(s, [index[0], index[1]])\n",
    "    r = data_distribution.get_observable_expectation(observable) - get_observable_expectation(observable, mcmc_chain, skip_init= 100)\n",
    "\n",
    "    return r\n",
    "\n",
    "def cd_h(index:int, data_distribution:DiscreteProbabilityDistribution, mcmc_chain: MCMCChain):\n",
    "\n",
    "    assert isinstance(index, int)\n",
    "    observable = lambda s: correlation_spins(s, [index])\n",
    "    r = data_distribution.get_observable_expectation(observable) - get_observable_expectation(observable, mcmc_chain, skip_init= 100)\n",
    "\n",
    "    return r"
   ]
  },
  {
   "attachments": {},
   "cell_type": "markdown",
   "metadata": {},
   "source": [
    "#### Class for Training"
   ]
  },
  {
   "cell_type": "code",
   "execution_count": 8,
   "metadata": {},
   "outputs": [],
   "source": [
    "from copy import deepcopy\n",
    "# @dataclass\n",
    "class cd_training():\n",
    "    ''' \n",
    "    model: initial model = (J init, h init) at some temp T\n",
    "    beta: 1/Temperature\n",
    "    data_dist: empirical data which we want to learn!\n",
    "    \n",
    "    '''\n",
    "\n",
    "    def __init__(self, model: IsingEnergyFunction, beta:float ,data_dist: DiscreteProbabilityDistribution) -> None:\n",
    "        self.model = deepcopy(model)\n",
    "        self.model_beta = beta\n",
    "        self.data_distribution = data_dist\n",
    "        self.training_history = {}\n",
    "        self.list_pair_of_indices=[[i,j] for i in range(1,self.model.num_spins) for j in range(i,self.model.num_spins) if j!=i]\n",
    "        \n",
    "\n",
    "    def cd_J(self, index, mcmc_chain: MCMCChain):\n",
    "\n",
    "        assert len(index) == 2\n",
    "        observable = lambda s: correlation_spins(s, [index[0], index[1]])\n",
    "        r = self.data_distribution.get_observable_expectation(observable) - get_observable_expectation(observable, mcmc_chain, skip_init= 100)\n",
    "\n",
    "        return r\n",
    "\n",
    "    def cd_h(self, index:int, mcmc_chain: MCMCChain):\n",
    "\n",
    "        assert isinstance(index, int)\n",
    "        observable = lambda s: correlation_spins(s, [index])\n",
    "        r = self.data_distribution.get_observable_expectation(observable) - get_observable_expectation(observable, mcmc_chain, skip_init= 100)\n",
    "\n",
    "        return r\n",
    "\n",
    "    # @setattr\n",
    "    # def data_distribution()\n",
    "    \n",
    "    def _train_on_mcmc_chain(self, lr:float= 0.01, \n",
    "    method = 'quantum-enhanced', \n",
    "    iterations: int = 100, # rename this iterations to something else\n",
    "    num_random_Jij: int=10,\n",
    "    mcmc_steps:int =1000 ):# we will try to increase mcmc steps. \n",
    "\n",
    "        if method == 'quantum-enhanced' :\n",
    "            self.mcmc_chain = quantum_enhanced_mcmc(\n",
    "            n_hops=mcmc_steps,\n",
    "            model=self.model,\n",
    "            temperature=1/self.model_beta,\n",
    "            verbose= False\n",
    "            )\n",
    "        elif method == 'classical-uniform' : \n",
    "            self.mcmc_chain = classical_mcmc(\n",
    "            n_hops=mcmc_steps,\n",
    "            model=self.model,\n",
    "            temperature=1/self.model_beta,\n",
    "            verbose= False\n",
    "            )\n",
    "        \n",
    "        ## random update strategy ##\n",
    "        ## just realised that even this is not a good thing! \n",
    "        assert iterations<=self.model.num_spins, f\"iterations should be <= num_spins (which is= {self.model.num_spins}) \"\n",
    "        assert num_random_Jij<=len(self.list_pair_of_indices), f\"num_random_Jij should be <=len(self.list_pair_of_indices) (which is= {len(self.list_pair_of_indices)})\"\n",
    "        \n",
    "        list_random_indices=random.sample(range(0,self.model.num_spins), iterations)\n",
    "        #list_pair_of_indices=[[i,j] for i in range(1,self.model.num_spins) for j in range(i,self.model.num_spins) if j!=i]\n",
    "        #list_pair_of_different_indices=random.sample(self.list_pair_of_indices,k=num_random_Jij)\n",
    "\n",
    "        list_pair_of_different_indices=[[list_random_indices[j],\n",
    "                    random.choice(list(range(0,list_random_indices[j]))+list(range(list_random_indices[j]+1,self.model.num_spins)))] \n",
    "                    for j in range(0,iterations)]\n",
    "        \n",
    "        # ## Update J\n",
    "        for k in range(len(list_pair_of_different_indices)):\n",
    "            indices_J=list_pair_of_different_indices[k]\n",
    "            updated_param_j=model.J[indices_J[0],indices_J[1]] - lr * self.cd_J(indices_J, self.mcmc_chain)\n",
    "            self.model._update_J(updated_param_j, indices_J)\n",
    "\n",
    "        for k in range(iterations):\n",
    "            #indices_J=list_pair_of_different_indices[k]\n",
    "            #updated_param_j = model.J[indices_J[0],indices_J[1]] - lr * self.cd_J(indices_J, self.mcmc_chain)\n",
    "\n",
    "            # update h\n",
    "            index_h=list_random_indices[k]\n",
    "            updated_param_h=model.h[index_h] - lr*self.cd_h(index_h,self.mcmc_chain)\n",
    "\n",
    "            #self.model._update_J(updated_param_j, indices_J)\n",
    "            self.model._update_h(updated_param_h, index_h)\n",
    "\n",
    "            \n",
    "    def train(self, lr:float= 0.01, method = 'quantum-enhanced', \n",
    "    epochs:int = 10, schedule:str= 'linear', num_random_Jij:int=5,\n",
    "    show_kldiv:bool = True ):\n",
    "\n",
    "        ## random update strategy ##\n",
    "        kl_div = []; js_div= []\n",
    "        iterator = tqdm(range(epochs), desc= 'training epochs')\n",
    "        iterator.set_postfix({'method': method})\n",
    "\n",
    "        if schedule == 'linear': \n",
    "            mcmc_steps = np.linspace(100, 5000, epochs, dtype= int)\n",
    "            # params = self.model.num_spins * (self.model.num_spins + 1) / 2\n",
    "            iterations = np.linspace(int(self.model.num_spins/4), self.model.num_spins, epochs, dtype= int)\n",
    "            lr_c = np.linspace(lr, 10 * lr, epochs, dtype= float )\n",
    "\n",
    "        for epoch in iterator:\n",
    "\n",
    "            self._train_on_mcmc_chain(lr= lr_c[epoch] , \n",
    "            method = method, iterations= iterations[epoch], num_random_Jij=num_random_Jij,\n",
    "            mcmc_steps= mcmc_steps[epoch] )\n",
    "\n",
    "            if show_kldiv:\n",
    "\n",
    "                \n",
    "                kl_div.append(kl_divergence(  self.data_distribution,self.mcmc_chain.get_accepted_dict(normalize= True)  ))\n",
    "                js_div.append(js_divergence(  self.data_distribution,self.mcmc_chain.get_accepted_dict(normalize= True)  ))\n",
    "                iterator.set_postfix( { 'method ': method, 'js div ' : js_div[-1], 'mcmc-steps ': mcmc_steps[epoch] })\n",
    "                # iterator.se\n",
    "        \n",
    "        if show_kldiv :\n",
    "             self.training_history['kl_div']= kl_div\n",
    "             self.training_history['js_div']= js_div\n"
   ]
  },
  {
   "attachments": {},
   "cell_type": "markdown",
   "metadata": {},
   "source": [
    "#### TRIALS"
   ]
  },
  {
   "cell_type": "code",
   "execution_count": 9,
   "metadata": {},
   "outputs": [
    {
     "name": "stdout",
     "output_type": "stream",
     "text": [
      "=============================================\n",
      "     MODEL : param_model |  beta : 1.0\n",
      "=============================================\n",
      "Num Most Probable States : 4\n",
      "Entropy : 2.016575422384969\n",
      "---------------------------------------------\n"
     ]
    },
    {
     "data": {
      "image/png": "[encoded data removed]",
      "text/plain": [
       "<Figure size 432x288 with 1 Axes>"
      ]
     },
     "metadata": {
      "needs_background": "light"
     },
     "output_type": "display_data"
    }
   ],
   "source": [
    "## INITIALISE ANOTHER RANDOM MODEL ##\n",
    "\n",
    "np.random.seed(1)# should always be in the same cell!  \n",
    "n_spins = 8\n",
    "\n",
    "## construct problem Hamiltonian ##\n",
    "shape_of_J=(n_spins,n_spins)\n",
    "\n",
    "## defining J matrix (mutual 1-1 interaction)\n",
    "# J =  np.round(np.random.choice([+1, 0, -1], size=(n_spins, n_spins)), decimals=2) \n",
    "J =  np.random.uniform(low= -3, high= 3, size= shape_of_J )\n",
    "\n",
    "J = 0.5 * (J + J.transpose() )\n",
    "J = np.round( J - np.diag(np.diag(J)) , decimals= 3)\n",
    "\n",
    "# defining h\n",
    "h = np.round(0.4 * np.random.randn(n_spins), decimals=2)\n",
    "#h = np.round(np.random.uniform(low= -1, high = 1, size= (n_spins)), decimals=2)\n",
    "\n",
    "# instantiate the model\n",
    "beta_train = 1.0\n",
    "\n",
    "param_model = IsingEnergyFunction(J, h, name= 'param_model')\n",
    "param_model_esm = Exact_Sampling(param_model, beta= beta_train)\n",
    "\n",
    "param_model_esm.sampling_summary()"
   ]
  },
  {
   "cell_type": "code",
   "execution_count": 10,
   "metadata": {},
   "outputs": [
    {
     "name": "stdout",
     "output_type": "stream",
     "text": [
      "=============================================\n",
      "     MODEL : my_model |  beta : 2.5\n",
      "=============================================\n",
      "Num Most Probable States : 7\n",
      "Entropy : 2.3572969242675743\n",
      "---------------------------------------------\n"
     ]
    },
    {
     "data": {
      "image/png": "[encoded data removed]",
      "text/plain": [
       "<Figure size 432x288 with 1 Axes>"
      ]
     },
     "metadata": {
      "needs_background": "light"
     },
     "output_type": "display_data"
    }
   ],
   "source": [
    "## COMPARE WITH THE DATA-DISTRIBUTION ##\n",
    "esm.sampling_summary()"
   ]
  },
  {
   "attachments": {},
   "cell_type": "markdown",
   "metadata": {},
   "source": [
    "#### TRAINING"
   ]
  },
  {
   "cell_type": "code",
   "execution_count": 12,
   "metadata": {},
   "outputs": [
    {
     "name": "stderr",
     "output_type": "stream",
     "text": [
      "training epochs: 100%|██████████| 20/20 [08:27<00:00, 25.39s/it, method =quantum-enhanced, js div =0.191, mcmc-steps =5000]\n"
     ]
    }
   ],
   "source": [
    "training_quantum = cd_training(param_model, beta_train, esm.boltzmann_pd)\n",
    "training_quantum.train(lr = 0.01 ,method = 'quantum-enhanced' , \n",
    "epochs= 20, num_random_Jij=param_model.num_spins ,\n",
    "show_kldiv= True)# when i in hi and i in Jij are same"
   ]
  },
  {
   "cell_type": "code",
   "execution_count": 13,
   "metadata": {},
   "outputs": [
    {
     "data": {
      "text/plain": [
       "[<matplotlib.lines.Line2D at 0x7fbb7ca0df90>]"
      ]
     },
     "execution_count": 13,
     "metadata": {},
     "output_type": "execute_result"
    },
    {
     "data": {
      "image/png": "[encoded data removed]",
      "text/plain": [
       "<Figure size 432x288 with 1 Axes>"
      ]
     },
     "metadata": {
      "needs_background": "light"
     },
     "output_type": "display_data"
    }
   ],
   "source": [
    "plt.plot(training_quantum.training_history['js_div'])"
   ]
  },
  {
   "cell_type": "code",
   "execution_count": 14,
   "metadata": {},
   "outputs": [
    {
     "name": "stderr",
     "output_type": "stream",
     "text": [
      "training epochs: 100%|██████████| 20/20 [00:06<00:00,  3.28it/s, method =classical-uniform, js div =0.411, mcmc-steps =5000]\n"
     ]
    }
   ],
   "source": [
    "training_classical = cd_training(param_model, beta_train, esm.boltzmann_pd)\n",
    "training_classical.train(lr = 0.01 ,method = 'classical-uniform' , \n",
    "epochs= 20, num_random_Jij=param_model.num_spins ,\n",
    "show_kldiv= True)# "
   ]
  },
  {
   "cell_type": "code",
   "execution_count": 15,
   "metadata": {},
   "outputs": [
    {
     "data": {
      "text/plain": [
       "[<matplotlib.lines.Line2D at 0x7fbb7bdb0d30>]"
      ]
     },
     "execution_count": 15,
     "metadata": {},
     "output_type": "execute_result"
    },
    {
     "data": {
      "image/png": "[encoded data removed]",
      "text/plain": [
       "<Figure size 432x288 with 1 Axes>"
      ]
     },
     "metadata": {
      "needs_background": "light"
     },
     "output_type": "display_data"
    }
   ],
   "source": [
    "plt.plot(training_classical.training_history['js_div'])"
   ]
  },
  {
   "cell_type": "code",
   "execution_count": 17,
   "metadata": {},
   "outputs": [
    {
     "data": {
      "image/png": "[encoded data removed]",
      "text/plain": [
       "<Figure size 1080x504 with 1 Axes>"
      ]
     },
     "metadata": {
      "needs_background": "light"
     },
     "output_type": "display_data"
    }
   ],
   "source": [
    "# classical reconstructed model\n",
    "cl_mcmc_chain_after_train=classical_mcmc(n_hops=5000,model=training_classical.model, temperature=1,verbose=False)\n",
    "cl_reconstructed_distn=cl_mcmc_chain_after_train.get_accepted_dict(normalize=True)\n",
    "#print(cl_reconstructed_distn)\n",
    "# quantum reconstructed model\n",
    "q_mcmc_chain_after_train=quantum_enhanced_mcmc(n_hops=5000, model=training_quantum.model,temperature=1,verbose=False)\n",
    "q_reconstructed_distn=q_mcmc_chain_after_train.get_accepted_dict(normalize=True)\n",
    "#print(q_reconstructed_distn)\n",
    "\n",
    "plot_multiple_bargraphs([esm.boltzmann_pd, cl_reconstructed_distn, q_reconstructed_distn],\n",
    " ['data','classical', 'quantum'], list_normalise=[False,False,False], plot_first_few= 15)"
   ]
  },
  {
   "cell_type": "code",
   "execution_count": null,
   "metadata": {},
   "outputs": [],
   "source": []
  },
  {
   "cell_type": "code",
   "execution_count": null,
   "metadata": {},
   "outputs": [],
   "source": []
  },
  {
   "cell_type": "code",
   "execution_count": 13,
   "metadata": {},
   "outputs": [
    {
     "name": "stderr",
     "output_type": "stream",
     "text": [
      "training epochs: 100%|██████████| 40/40 [04:04<00:00,  6.12s/it, method =quantum-enhanced, kl div =0.606]\n"
     ]
    }
   ],
   "source": [
    "training_quantum = cd_training(param_model, beta_train, esm.boltzmann_pd)\n",
    "training_quantum.train(lr = 0.05 ,method = 'quantum-enhanced' , \n",
    "epochs= 40, iterations= num_spins_prob,num_random_Jij=num_spins_prob ,\n",
    "mcmc_steps= 1000 , show_kldiv= True)#when i in all hi and Jij which were tweaked is same!"
   ]
  },
  {
   "cell_type": "code",
   "execution_count": 55,
   "metadata": {},
   "outputs": [
    {
     "data": {
      "text/plain": [
       "[<matplotlib.lines.Line2D at 0x7fdcea4d5e40>]"
      ]
     },
     "execution_count": 55,
     "metadata": {},
     "output_type": "execute_result"
    },
    {
     "data": {
      "image/png": "[encoded data removed]",
      "text/plain": [
       "<Figure size 432x288 with 1 Axes>"
      ]
     },
     "metadata": {
      "needs_background": "light"
     },
     "output_type": "display_data"
    }
   ],
   "source": [
    "plt.plot(training_quantum.training_history['kl_div'])"
   ]
  },
  {
   "cell_type": "code",
   "execution_count": 14,
   "metadata": {},
   "outputs": [],
   "source": []
  },
  {
   "cell_type": "code",
   "execution_count": null,
   "metadata": {},
   "outputs": [],
   "source": []
  },
  {
   "cell_type": "code",
   "execution_count": 15,
   "metadata": {},
   "outputs": [
    {
     "name": "stderr",
     "output_type": "stream",
     "text": [
      "training epochs: 100%|██████████| 60/60 [06:23<00:00,  6.39s/it, method =quantum-enhanced, kl div =0.538]\n"
     ]
    }
   ],
   "source": [
    "training_quantum_11 = cd_training(param_model, beta_train, esm.boltzmann_pd)\n",
    "training_quantum_11.train(lr = 0.05 ,method = 'quantum-enhanced' , \n",
    "epochs= 60, iterations= num_spins_prob,num_random_Jij=num_spins_prob ,\n",
    "mcmc_steps= 1000 , show_kldiv= True)#when i in all hi and Jij which were tweaked is same!"
   ]
  },
  {
   "cell_type": "code",
   "execution_count": 16,
   "metadata": {},
   "outputs": [
    {
     "name": "stderr",
     "output_type": "stream",
     "text": [
      "training epochs: 100%|██████████| 40/40 [04:05<00:00,  6.15s/it, method =quantum-enhanced, kl div =0.234]\n"
     ]
    }
   ],
   "source": [
    "training_quantum2 = cd_training(param_model, beta_train, esm.boltzmann_pd)\n",
    "training_quantum2.train(lr = 0.05 ,method = 'quantum-enhanced' , \n",
    "epochs= 40, iterations= num_spins_prob,num_random_Jij=num_spins_prob ,\n",
    "mcmc_steps= 1000 , show_kldiv= True)# when i in all hi and Jij which were tweaked may or may not be the same!"
   ]
  },
  {
   "cell_type": "code",
   "execution_count": 17,
   "metadata": {},
   "outputs": [
    {
     "name": "stderr",
     "output_type": "stream",
     "text": [
      "training epochs: 100%|██████████| 40/40 [04:05<00:00,  6.14s/it, method =quantum-enhanced, kl div =0.546]\n"
     ]
    }
   ],
   "source": [
    "training_quantum3 = cd_training(param_model, beta_train, esm.boltzmann_pd)\n",
    "training_quantum3.train(lr = 0.05 ,method = 'quantum-enhanced' , \n",
    "epochs= 40, iterations= num_spins_prob,num_random_Jij=num_spins_prob*2 ,\n",
    "mcmc_steps= 1000 , show_kldiv= True)# when i in hi and Jij will be be the same!"
   ]
  },
  {
   "cell_type": "code",
   "execution_count": 18,
   "metadata": {},
   "outputs": [
    {
     "data": {
      "text/plain": [
       "array([[ 0.   ,  0.351, -1.748,  0.536,  0.314,  0.244, -1.578, -0.241],\n",
       "       [ 0.351,  0.   , -0.066,  1.739, -0.787,  1.879, -2.528, -0.548],\n",
       "       [-1.748, -0.066,  0.   , -2.151,  1.478,  0.746, -2.002,  0.845],\n",
       "       [ 0.536,  1.739, -2.151,  0.   , -1.544,  2.002, -0.668,  0.363],\n",
       "       [ 0.314, -0.787,  1.478, -1.544,  0.   , -0.186, -2.31 , -0.443],\n",
       "       [ 0.244,  1.879,  0.746,  2.002, -0.186,  0.   ,  0.522, -0.877],\n",
       "       [-1.578, -2.528, -2.002, -0.668, -2.31 ,  0.522,  0.   , -0.757],\n",
       "       [-0.241, -0.548,  0.845,  0.363, -0.443, -0.877, -0.757,  0.   ]])"
      ]
     },
     "execution_count": 18,
     "metadata": {},
     "output_type": "execute_result"
    }
   ],
   "source": [
    "param_model.get_J "
   ]
  },
  {
   "cell_type": "code",
   "execution_count": 19,
   "metadata": {},
   "outputs": [
    {
     "name": "stderr",
     "output_type": "stream",
     "text": [
      "training epochs: 100%|██████████| 50/50 [00:03<00:00, 12.80it/s, method =classical-uniform, kl div =1.61] \n"
     ]
    }
   ],
   "source": [
    "training_cl = cd_training(param_model, beta_train, esm.boltzmann_pd)\n",
    "training_cl.train(lr = 0.05 ,method = 'classical-uniform' , epochs= 50, iterations= num_spins_prob, num_random_Jij=5, mcmc_steps= 1500 , show_kldiv= True)"
   ]
  },
  {
   "cell_type": "code",
   "execution_count": 20,
   "metadata": {},
   "outputs": [
    {
     "data": {
      "text/plain": [
       "array([[ 0.   ,  0.351, -1.748,  0.536,  0.314,  0.244, -1.578, -0.241],\n",
       "       [ 0.351,  0.   , -0.066,  1.739, -0.787,  1.879, -2.528, -0.548],\n",
       "       [-1.748, -0.066,  0.   , -2.151,  1.478,  0.746, -2.002,  0.845],\n",
       "       [ 0.536,  1.739, -2.151,  0.   , -1.544,  2.002, -0.668,  0.363],\n",
       "       [ 0.314, -0.787,  1.478, -1.544,  0.   , -0.186, -2.31 , -0.443],\n",
       "       [ 0.244,  1.879,  0.746,  2.002, -0.186,  0.   ,  0.522, -0.877],\n",
       "       [-1.578, -2.528, -2.002, -0.668, -2.31 ,  0.522,  0.   , -0.757],\n",
       "       [-0.241, -0.548,  0.845,  0.363, -0.443, -0.877, -0.757,  0.   ]])"
      ]
     },
     "execution_count": 20,
     "metadata": {},
     "output_type": "execute_result"
    }
   ],
   "source": [
    "param_model.get_J"
   ]
  },
  {
   "attachments": {},
   "cell_type": "markdown",
   "metadata": {},
   "source": [
    "##### Compare reconstructed model"
   ]
  },
  {
   "cell_type": "code",
   "execution_count": null,
   "metadata": {},
   "outputs": [
    {
     "data": {
      "image/png": "[encoded data removed]",
      "text/plain": [
       "<Figure size 1080x504 with 1 Axes>"
      ]
     },
     "metadata": {
      "needs_background": "light"
     },
     "output_type": "display_data"
    }
   ],
   "source": [
    "# classical reconstructed model\n",
    "cl_mcmc_chain_after_train=classical_mcmc(n_hops=1000,model=training_classical.model, temperature=1,verbose=False)\n",
    "cl_reconstructed_distn=cl_mcmc_chain_after_train.get_accepted_dict(normalize=True)\n",
    "#print(cl_reconstructed_distn)\n",
    "# quantum reconstructed model\n",
    "q_mcmc_chain_after_train=quantum_enhanced_mcmc(n_hops=1000, model=training_quantum.model,temperature=1,verbose=False)\n",
    "q_reconstructed_distn=q_mcmc_chain_after_train.get_accepted_dict(normalize=True)\n",
    "#print(q_reconstructed_distn)\n",
    "\n",
    "plot_multiple_bargraphs([esm.boltzmann_pd, cl_reconstructed_distn, q_reconstructed_distn],\n",
    " ['data','classical', 'quantum'], list_normalise=[False,False,False], plot_first_few= 15)"
   ]
  },
  {
   "cell_type": "code",
   "execution_count": 24,
   "metadata": {},
   "outputs": [],
   "source": [
    "#plot_multiple_bargraphs([esm.boltzmann_pd, classical_reconstructed_model_esm.boltzmann_pd, quantum_reconstructed_model_esm.boltzmann_pd], ['data','classical', 'quantum'], list_normalise=[False,False,False], plot_first_few= 15)"
   ]
  },
  {
   "cell_type": "code",
   "execution_count": null,
   "metadata": {},
   "outputs": [
    {
     "name": "stdout",
     "output_type": "stream",
     "text": [
      "=============================================\n",
      "     MODEL : param_model |  beta : 1.001\n",
      "=============================================\n",
      "Num Most Probable States : 9\n",
      "Entropy : 2.690821820517544\n",
      "---------------------------------------------\n"
     ]
    },
    {
     "data": {
      "image/png": "[encoded data removed]",
      "text/plain": [
       "<Figure size 432x288 with 1 Axes>"
      ]
     },
     "metadata": {
      "needs_background": "light"
     },
     "output_type": "display_data"
    }
   ],
   "source": [
    "quantum_reconstructed_model_esm.sampling_summary()"
   ]
  },
  {
   "cell_type": "code",
   "execution_count": null,
   "metadata": {},
   "outputs": [],
   "source": []
  },
  {
   "cell_type": "code",
   "execution_count": null,
   "metadata": {},
   "outputs": [],
   "source": []
  },
  {
   "cell_type": "code",
   "execution_count": null,
   "metadata": {},
   "outputs": [],
   "source": []
  }
 ],
 "metadata": {
  "kernelspec": {
   "display_name": "base",
   "language": "python",
   "name": "python3"
  },
  "language_info": {
   "codemirror_mode": {
    "name": "ipython",
    "version": 3
   },
   "file_extension": ".py",
   "mimetype": "text/x-python",
   "name": "python",
   "nbconvert_exporter": "python",
   "pygments_lexer": "ipython3",
   "version": "3.8.8 (default, Apr 13 2021, 15:08:03) [MSC v.1916 64 bit (AMD64)]"
  },
  "orig_nbformat": 4,
  "vscode": {
   "interpreter": {
    "hash": "184a4bfd18ed123440bfad7023e607e274d9f6c0bdada601c853a4367aa45839"
   }
  }
 },
 "nbformat": 4,
 "nbformat_minor": 2
}
