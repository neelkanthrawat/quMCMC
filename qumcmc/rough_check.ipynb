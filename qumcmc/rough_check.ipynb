{
 "cells": [
  {
   "cell_type": "code",
   "execution_count": 1,
   "metadata": {},
   "outputs": [],
   "source": [
    "from quantum_mcmc_routines import *"
   ]
  },
  {
   "cell_type": "code",
   "execution_count": 13,
   "metadata": {},
   "outputs": [
    {
     "name": "stdout",
     "output_type": "stream",
     "text": [
      "J after: [[ 0.     0.13  -0.105 -0.695]\n",
      " [ 0.13   0.     0.745 -0.57 ]\n",
      " [-0.105  0.745  0.    -0.465]\n",
      " [-0.695 -0.57  -0.465  0.   ]]\n",
      "h is: [-0.17 -0.88  0.04  0.58]\n",
      "alpha:  1.206396381047913\n"
     ]
    }
   ],
   "source": [
    "# define the model\n",
    "np.random.seed(1)# should always be in the same cell!  \n",
    "n_spins = 4\n",
    "\n",
    "## construct problem Hamiltonian ##\n",
    "shape_of_J=(n_spins,n_spins)\n",
    "\n",
    "# defining J matrix (mutual 1-1 interaction)\n",
    "J =  np.round(np.random.randn(n_spins,n_spins), decimals=2)#np.random.uniform(low= -1, high= 1, size= (n_spins, n_spins) )\n",
    "J = 0.5 * (J + J.transpose() )\n",
    "# print(\"J before:\"); print(J)\n",
    "J= J - np.diag(np.diag(J))\n",
    "\n",
    "# J=np.array([[0,1,0.5,-1],[1,0,0.3,0.5],[0.5,0.3,0,1],[-1,0.5,1,0]])\n",
    "print(\"J after:\", J)\n",
    "\n",
    "# defining h\n",
    "h = np.round(np.random.randn(n_spins), decimals=2)#np.random.uniform(low= -1, high = 1, size= (n_spins))\n",
    "# h=np.array([0.5]*n_spins)\n",
    "print(\"h is:\", h)\n",
    "\n",
    "# instantiate the model\n",
    "model = IsingEnergyFunction(J, h)\n",
    "# print(model.get_energy('0100'))\n",
    "alpha = np.sqrt(n_spins) / np.sqrt( sum([J[i][j]**2 for i in range(n_spins) for j in range(i)]) + sum([h[j]**2 for j in range(n_spins)])  )\n",
    "print(\"alpha: \", alpha)"
   ]
  },
  {
   "cell_type": "code",
   "execution_count": 15,
   "metadata": {},
   "outputs": [
    {
     "name": "stderr",
     "output_type": "stream",
     "text": [
      "runnning quantum MCMC steps . ..:  10%|█         | 1/10 [00:00<00:00,  9.83it/s]"
     ]
    },
    {
     "name": "stdout",
     "output_type": "stream",
     "text": [
      "starting with:  1011\n"
     ]
    },
    {
     "name": "stderr",
     "output_type": "stream",
     "text": [
      "runnning quantum MCMC steps . ..: 100%|██████████| 10/10 [00:01<00:00,  7.49it/s]\n"
     ]
    }
   ],
   "source": [
    "a,b,c=quantum_enhanced_mcmc(\n",
    "    N_hops=10,\n",
    "    num_spins=4,\n",
    "    initial_state='1011',\n",
    "    num_elems=16,\n",
    "    model=model,\n",
    "    alpha=alpha,\n",
    "    return_last_n_states=10,\n",
    "    return_both=True,\n",
    "    temp=0.4,\n",
    ")"
   ]
  },
  {
   "cell_type": "code",
   "execution_count": 18,
   "metadata": {},
   "outputs": [
    {
     "name": "stdout",
     "output_type": "stream",
     "text": [
      "['1101', '1000', '1001', '1001', '0001', '1010', '0000', '0001', '0000', '1110']\n",
      "['1101', '1101', '1101', '1101', '1101', '1101', '1101', '1101', '0000', '0000']\n"
     ]
    }
   ],
   "source": [
    "print(b); print(c)"
   ]
  },
  {
   "cell_type": "code",
   "execution_count": null,
   "metadata": {},
   "outputs": [],
   "source": []
  }
 ],
 "metadata": {
  "kernelspec": {
   "display_name": "Python 3.8.8 ('base')",
   "language": "python",
   "name": "python3"
  },
  "language_info": {
   "codemirror_mode": {
    "name": "ipython",
    "version": 3
   },
   "file_extension": ".py",
   "mimetype": "text/x-python",
   "name": "python",
   "nbconvert_exporter": "python",
   "pygments_lexer": "ipython3",
   "version": "3.8.8"
  },
  "orig_nbformat": 4,
  "vscode": {
   "interpreter": {
    "hash": "184a4bfd18ed123440bfad7023e607e274d9f6c0bdada601c853a4367aa45839"
   }
  }
 },
 "nbformat": 4,
 "nbformat_minor": 2
}
