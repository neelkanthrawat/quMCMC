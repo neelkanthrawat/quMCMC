{
 "cells": [
  {
   "cell_type": "code",
   "execution_count": 1,
   "metadata": {},
   "outputs": [],
   "source": [
    "## import essential modules \n",
    "import qumcmc \n",
    "from qumcmc.basic_utils import *\n",
    "# from qumcmc.energy_models import IsingEnergyFunction\n",
    "from qumcmc.energy_models import IsingEnergyFunction, Exact_Sampling\n",
    "\n",
    "from qumcmc.classical_mcmc_routines import classical_mcmc\n",
    "#from qumcmc.quantum_mcmc_routines_qulacs import quantum_enhanced_mcmc     #for Qulacs Simulator backend (** Faster )\n",
    "from qumcmc.quantum_mcmc_routines_qulacs_exact import quantum_mcmc_exact\n",
    "#  from qumcmc.quantum_mcmc_routines_qiskit import quantum_enhanced_mcmc   #for qiskit Aer's Simulator backend \n",
    "\n",
    "from qumcmc.trajectory_processing import calculate_running_js_divergence, calculate_running_kl_divergence, calculate_runnning_magnetisation, get_trajectory_statistics\n",
    "from scipy.linalg import expm\n",
    "from qulacs.gate import DenseMatrix, SparseMatrix\n",
    "from qulacs import QuantumState\n",
    "from qumcmc.quantum_mcmc_routines_qulacs import quantum_enhanced_mcmc\n",
    "from qumcmc.quantum_mcmc_qulacs_2 import quantum_enhanced_mcmc_2\n",
    "from qumcmc.quantum_mcmc_routines_qulacs_exact import quantum_mcmc_exact\n",
    "import pickle"
   ]
  },
  {
   "cell_type": "code",
   "execution_count": 2,
   "metadata": {},
   "outputs": [],
   "source": [
    "### BAS dataset energy model\n",
    "### class to generate BAS dataset of arbitrary gridsize.\n",
    "from itertools import permutations, product\n",
    "class bas_dataset:\n",
    "    def __init__(self, grid_size:int):\n",
    "        self.grid_size=grid_size\n",
    "        all_combn=[''.join(p) for p in product('01',repeat=self.grid_size)]\n",
    "        all_combn.sort(key=lambda s: s.count('1'))\n",
    "        all_combn.pop(0);all_combn.pop(-1)\n",
    "        self.__all_combn=all_combn\n",
    "        self.bas_dict=self.bars_and_stripes_dataset()\n",
    "        self.dataset=self.bas_dict['stripes']+self.bas_dict['bars']\n",
    "    \n",
    "    def vertical_stripes(self):\n",
    "        vert_stripes=[j*self.grid_size for j in self.__all_combn]\n",
    "        return vert_stripes\n",
    "\n",
    "    def horizontal_bars(self):\n",
    "        hor_bars=[]\n",
    "        for l in self.__all_combn:\n",
    "            st=\"\"\n",
    "            for j in l:\n",
    "                st=st+j*self.grid_size\n",
    "            hor_bars.append(st)\n",
    "        return hor_bars\n",
    "\n",
    "    def bars_and_stripes_dataset(self):\n",
    "        bas_dict={'stripes':self.vertical_stripes(),\n",
    "            'bars':self.horizontal_bars()}\n",
    "        return bas_dict\n",
    "\n",
    "    ### create matrix of bitstring: meant for plotting\n",
    "    def bit_string_to_2d_matrix(self,bitstring, array_shape:int):\n",
    "        len_bs=len(bitstring)\n",
    "        list_bs_int=[eval(i) for i in list(bitstring)]\n",
    "        arr_bs=np.reshape(list_bs_int,(array_shape, array_shape))\n",
    "        return arr_bs\n",
    "\n",
    "    ### plot pixels\n",
    "    def draw_pixelplot(self,bitstring:str,array_shape:int):\n",
    "        im_array=self.bit_string_to_2d_matrix(bitstring,array_shape)\n",
    "        plt.title(f\"pixel plot for bitstring: {bitstring}\")\n",
    "        pixel_plot=plt.imshow(im_array,cmap='Greens',interpolation='nearest')\n",
    "        plt.colorbar(pixel_plot)\n",
    "        plt.show()"
   ]
  },
  {
   "cell_type": "code",
   "execution_count": 3,
   "metadata": {},
   "outputs": [],
   "source": [
    "# hebbing learning\n",
    "def hebbing_learning(list_bas_state:list):\n",
    "    size=len(list_bas_state[0])\n",
    "    wts=0\n",
    "    for i in list_bas_state:\n",
    "        arr=np.array([-1 if elem == \"0\" else 1 for elem in i])\n",
    "        array=np.reshape(arr,(size,1));array_t=np.transpose(array)\n",
    "        wts+=array@array_t\n",
    "    wts=wts-len(list_bas_state)*np.identity(size)\n",
    "    return wts"
   ]
  },
  {
   "cell_type": "code",
   "execution_count": 4,
   "metadata": {},
   "outputs": [],
   "source": [
    "def define_random_spin_ising_model(n_spins:int,seed_val:int):\n",
    "    # define the model # seed 4\n",
    "    np.random.seed(seed_val)#(610358)# should always be in the same cell!  ## best seed -> 610358\n",
    "\n",
    "    ## construct problem Hamiltonian ##\n",
    "    shape_of_J=(n_spins,n_spins)\n",
    "\n",
    "    ## defining J matrix (mutual 1-1 interaction)\n",
    "    J =  np.round(np.random.choice([+1, 0, -1], size=(n_spins, n_spins)), decimals=2) \n",
    "    J =  np.random.uniform(low= -2, high= 2, size= shape_of_J )\n",
    "    J = 0.5 * (J + J.transpose() )\n",
    "    J = np.round( J - np.diag(np.diag(J)) , decimals= 3)\n",
    "\n",
    "    # defining h\n",
    "    h = np.round(np.random.uniform(low= -1, high = 1, size= (n_spins)), decimals=2)\n",
    "    # instantiate the model\n",
    "    model = IsingEnergyFunction(J, h, name= 'my_model')\n",
    "    return model"
   ]
  },
  {
   "cell_type": "code",
   "execution_count": 5,
   "metadata": {},
   "outputs": [],
   "source": [
    "# \n",
    "gridsize=3\n",
    "bas=bas_dataset(grid_size=gridsize)\n",
    "bas.dataset.sort()\n",
    "# considering only stripes dataset\n",
    "wt=hebbing_learning(bas.bas_dict['bars'])\n",
    "\n",
    "# creating ising model for the bas stripes only dataset\n",
    "n_spins=gridsize*gridsize\n",
    "shape_of_J=(n_spins,n_spins)\n",
    "J=-1*wt\n",
    "h=np.zeros(n_spins)\n",
    "model=IsingEnergyFunction(J,h,name=f'ising model BAS {n_spins}X{n_spins} bars only')\n",
    "#model.model_summary()"
   ]
  },
  {
   "cell_type": "code",
   "execution_count": 8,
   "metadata": {},
   "outputs": [
    {
     "name": "stdout",
     "output_type": "stream",
     "text": [
      "=============================================\n",
      "            MODEL : my_model\n",
      "=============================================\n",
      "Non-zero Interactions (J) : 45 / 45\n",
      "Non-zero Bias (h) : 10 / 10\n",
      "---------------------------------------------\n",
      "Average Interaction Strength <|J|> :  0.6754600000000002\n",
      "Average Bias Strength <|h|>:  0.35\n",
      "alpha :  0.518519316996205\n",
      "---------------------------------------------\n"
     ]
    },
    {
     "data": {
      "image/png": "[encoded data removed]",
      "text/plain": [
       "<Figure size 1152x720 with 2 Axes>"
      ]
     },
     "metadata": {
      "needs_background": "light"
     },
     "output_type": "display_data"
    }
   ],
   "source": [
    "###\n",
    "model=define_random_spin_ising_model(n_spins=10,seed_val=1)\n",
    "#model.model_summary()"
   ]
  },
  {
   "cell_type": "code",
   "execution_count": 9,
   "metadata": {},
   "outputs": [
    {
     "name": "stdout",
     "output_type": "stream",
     "text": [
      "=============================================\n",
      "     MODEL : my_model |  beta : 1.5\n",
      "=============================================\n",
      "Num Most Probable States : 9\n",
      "Entropy : 2.534425964964983\n",
      "---------------------------------------------\n"
     ]
    },
    {
     "data": {
      "image/png": "[encoded data removed]",
      "text/plain": [
       "<Figure size 432x288 with 1 Axes>"
      ]
     },
     "metadata": {
      "needs_background": "light"
     },
     "output_type": "display_data"
    }
   ],
   "source": [
    "beta=1.5\n",
    "## run exact sampling over all possible configurations \n",
    "exact_sampled_model = Exact_Sampling(model, beta)\n",
    "\n",
    "## get distribution from the model\n",
    "bpd=exact_sampled_model.boltzmann_pd\n",
    "exact_sampled_model.sampling_summary()"
   ]
  },
  {
   "attachments": {},
   "cell_type": "markdown",
   "metadata": {},
   "source": [
    "### Run mcmc chains"
   ]
  },
  {
   "cell_type": "code",
   "execution_count": 8,
   "metadata": {},
   "outputs": [],
   "source": [
    "num_different_chains=10"
   ]
  },
  {
   "cell_type": "code",
   "execution_count": 9,
   "metadata": {},
   "outputs": [],
   "source": [
    "seed_val_list=list(range(1,num_different_chains+1))\n",
    "list_labels_bas=['cl','local','Q-MCMC:pauli_wt_1','Q-MCMC:pauli_wt_3']"
   ]
  },
  {
   "cell_type": "code",
   "execution_count": null,
   "metadata": {},
   "outputs": [],
   "source": [
    "init_val_keys=dict(zip(list_labels_bas,[0,0,0,0]))\n",
    "list_init_val_keys=[init_val_keys.copy() for i in range(1,num_different_chains+1)]\n",
    "dict_mcmc_bas_gridsize_3=dict(zip(seed_val_list,list_init_val_keys))\n",
    "print(dict_mcmc_bas_gridsize_3)"
   ]
  },
  {
   "cell_type": "code",
   "execution_count": null,
   "metadata": {},
   "outputs": [],
   "source": []
  },
  {
   "cell_type": "code",
   "execution_count": 75,
   "metadata": {},
   "outputs": [
    {
     "name": "stderr",
     "output_type": "stream",
     "text": [
      "runnning quantum MCMC steps . ..:   0%|          | 5/15000 [00:00<05:53, 42.39it/s]"
     ]
    },
    {
     "name": "stdout",
     "output_type": "stream",
     "text": [
      "starting with:  0111010001 with energy: 0.051000000000000156\n"
     ]
    },
    {
     "name": "stderr",
     "output_type": "stream",
     "text": [
      "runnning quantum MCMC steps . ..: 100%|██████████| 15000/15000 [03:16<00:00, 76.34it/s]\n",
      "runnning quantum MCMC steps . ..:   0%|          | 10/15000 [00:00<02:40, 93.69it/s]"
     ]
    },
    {
     "name": "stdout",
     "output_type": "stream",
     "text": [
      "starting with:  1001000110 with energy: -0.4249999999999998\n"
     ]
    },
    {
     "name": "stderr",
     "output_type": "stream",
     "text": [
      "runnning quantum MCMC steps . ..: 100%|██████████| 15000/15000 [03:08<00:00, 79.71it/s] \n",
      "runnning quantum MCMC steps . ..:   0%|          | 5/15000 [00:00<05:20, 46.72it/s]"
     ]
    },
    {
     "name": "stdout",
     "output_type": "stream",
     "text": [
      "starting with:  1010111000 with energy: -2.4669999999999996\n"
     ]
    },
    {
     "name": "stderr",
     "output_type": "stream",
     "text": [
      "runnning quantum MCMC steps . ..: 100%|██████████| 15000/15000 [03:09<00:00, 79.15it/s] \n",
      "runnning quantum MCMC steps . ..:   0%|          | 7/15000 [00:00<04:38, 53.87it/s]"
     ]
    },
    {
     "name": "stdout",
     "output_type": "stream",
     "text": [
      "starting with:  0001100111 with energy: -1.239\n"
     ]
    },
    {
     "name": "stderr",
     "output_type": "stream",
     "text": [
      "runnning quantum MCMC steps . ..: 100%|██████████| 15000/15000 [03:07<00:00, 79.89it/s] \n",
      "runnning quantum MCMC steps . ..:   0%|          | 2/15000 [00:00<12:47, 19.53it/s]"
     ]
    },
    {
     "name": "stdout",
     "output_type": "stream",
     "text": [
      "starting with:  1011100001 with energy: -4.569000000000001\n"
     ]
    },
    {
     "name": "stderr",
     "output_type": "stream",
     "text": [
      "runnning quantum MCMC steps . ..: 100%|██████████| 15000/15000 [03:06<00:00, 80.59it/s] \n",
      "runnning quantum MCMC steps . ..:   0%|          | 10/15000 [00:00<02:40, 93.68it/s]"
     ]
    },
    {
     "name": "stdout",
     "output_type": "stream",
     "text": [
      "starting with:  1001110101 with energy: -3.809\n"
     ]
    },
    {
     "name": "stderr",
     "output_type": "stream",
     "text": [
      "runnning quantum MCMC steps . ..: 100%|██████████| 15000/15000 [03:11<00:00, 78.27it/s] \n",
      "runnning quantum MCMC steps . ..:   0%|          | 10/15000 [00:00<02:56, 84.96it/s]"
     ]
    },
    {
     "name": "stdout",
     "output_type": "stream",
     "text": [
      "starting with:  1110111100 with energy: -4.7490000000000006\n"
     ]
    },
    {
     "name": "stderr",
     "output_type": "stream",
     "text": [
      "runnning quantum MCMC steps . ..: 100%|██████████| 15000/15000 [03:08<00:00, 79.76it/s]\n",
      "runnning quantum MCMC steps . ..:   0%|          | 9/15000 [00:00<03:08, 79.64it/s]"
     ]
    },
    {
     "name": "stdout",
     "output_type": "stream",
     "text": [
      "starting with:  0001010011 with energy: -1.782999999999999\n"
     ]
    },
    {
     "name": "stderr",
     "output_type": "stream",
     "text": [
      "runnning quantum MCMC steps . ..: 100%|██████████| 15000/15000 [03:08<00:00, 79.68it/s] \n",
      "runnning quantum MCMC steps . ..:   0%|          | 8/15000 [00:00<03:21, 74.49it/s]"
     ]
    },
    {
     "name": "stdout",
     "output_type": "stream",
     "text": [
      "starting with:  1000001001 with energy: -10.375\n"
     ]
    },
    {
     "name": "stderr",
     "output_type": "stream",
     "text": [
      "runnning quantum MCMC steps . ..: 100%|██████████| 15000/15000 [03:08<00:00, 79.77it/s]\n",
      "runnning quantum MCMC steps . ..:   0%|          | 5/15000 [00:00<05:10, 48.23it/s]"
     ]
    },
    {
     "name": "stdout",
     "output_type": "stream",
     "text": [
      "starting with:  0001010001 with energy: 0.9910000000000003\n"
     ]
    },
    {
     "name": "stderr",
     "output_type": "stream",
     "text": [
      "runnning quantum MCMC steps . ..: 100%|██████████| 15000/15000 [03:05<00:00, 80.95it/s] \n"
     ]
    }
   ],
   "source": [
    "### case of mismatched hamiltonian\n",
    "import random\n",
    "n_spins=10\n",
    "model=define_random_spin_ising_model(n_spins=n_spins,seed_val=1)# data for presentation.\n",
    "beta=1.5\n",
    "## run exact sampling over all possible configurations \n",
    "exact_sampled_model = Exact_Sampling(model, beta)\n",
    "\n",
    "## get distribution from the model\n",
    "bpd=exact_sampled_model.boltzmann_pd\n",
    "#exact_sampled_model.sampling_summary()\n",
    "\n",
    "\n",
    "random_indices=random.sample(range(0,7),k=5)\n",
    "J_pert=model.get_J\n",
    "for j in random_indices:\n",
    "    J_pert[j,j+1]=-1*J_pert[j,j+1]\n",
    "h_pert=model.get_h\n",
    "model_pert=IsingEnergyFunction(J_pert,h_pert,name=f'perturbed {n_spins}X{n_spins}')\n",
    "\n",
    "# run mcmc for perturbed case\n",
    "num_different_chains=10\n",
    "seed_val_list=list(range(1,num_different_chains+1))\n",
    "list_labels_bas=['Q-MCMC perturbed:pauli_wt_1']\n",
    "init_val_keys=dict(zip(list_labels_bas,[0]))\n",
    "list_init_val_keys=[init_val_keys.copy() for i in range(1,num_different_chains+1)]\n",
    "dict_perturbed=dict(zip(seed_val_list,list_init_val_keys))\n",
    "\n",
    "# quantum 1: single qubit pauli\n",
    "for seed_val in range(1,num_different_chains+1):\n",
    "    steps = 15000\n",
    "    #list_labels.append('QMCMC; pauli_wt-1; gamma range=(0.2,0.6)')\n",
    "    qamcmc_chain_1 =quantum_enhanced_mcmc_2(\n",
    "        n_hops=steps,\n",
    "        model=model_pert,\n",
    "        temperature=1/beta,\n",
    "        verbose=True,\n",
    "        name= 'Q-MCMC perturbed:pauli_wt_1',\n",
    "        gamma_range=(0.1,0.4)\n",
    "    )\n",
    "    #qumcm1_statistic = get_trajectory_statistics(qamcmc_chain_1, exact_sampled_model, verbose= False)\n",
    "    dict_perturbed[seed_val]['Q-MCMC perturbed:pauli_wt_1']=qamcmc_chain_1\n",
    "\n",
    "\n",
    "\n"
   ]
  },
  {
   "cell_type": "code",
   "execution_count": 83,
   "metadata": {},
   "outputs": [
    {
     "name": "stdout",
     "output_type": "stream",
     "text": [
      "{1: {'Q-MCMC perturbed:pauli_wt_1': 0, 'Q-MCMC:pauli_wt_1': MCMCChain()}, 2: {'Q-MCMC perturbed:pauli_wt_1': 0, 'Q-MCMC:pauli_wt_1': MCMCChain()}, 3: {'Q-MCMC perturbed:pauli_wt_1': 0, 'Q-MCMC:pauli_wt_1': MCMCChain()}, 4: {'Q-MCMC perturbed:pauli_wt_1': 0, 'Q-MCMC:pauli_wt_1': MCMCChain()}, 5: {'Q-MCMC perturbed:pauli_wt_1': 0, 'Q-MCMC:pauli_wt_1': MCMCChain()}, 6: {'Q-MCMC perturbed:pauli_wt_1': 0, 'Q-MCMC:pauli_wt_1': MCMCChain()}, 7: {'Q-MCMC perturbed:pauli_wt_1': 0, 'Q-MCMC:pauli_wt_1': MCMCChain()}, 8: {'Q-MCMC perturbed:pauli_wt_1': 0, 'Q-MCMC:pauli_wt_1': MCMCChain()}, 9: {'Q-MCMC perturbed:pauli_wt_1': 0, 'Q-MCMC:pauli_wt_1': MCMCChain()}, 10: {'Q-MCMC perturbed:pauli_wt_1': 0, 'Q-MCMC:pauli_wt_1': MCMCChain()}}\n"
     ]
    }
   ],
   "source": [
    "print(dict_perturbed)"
   ]
  },
  {
   "cell_type": "code",
   "execution_count": 84,
   "metadata": {},
   "outputs": [
    {
     "name": "stdout",
     "output_type": "stream",
     "text": [
      "{1: {'cl': MCMCChain(), 'local': MCMCChain(), 'Q-MCMC': MCMCChain(), 'Q-MCMC-pert': MCMCChain()}, 2: {'cl': MCMCChain(), 'local': MCMCChain(), 'Q-MCMC': MCMCChain(), 'Q-MCMC-pert': MCMCChain()}, 3: {'cl': MCMCChain(), 'local': MCMCChain(), 'Q-MCMC': MCMCChain(), 'Q-MCMC-pert': MCMCChain()}, 4: {'cl': MCMCChain(), 'local': MCMCChain(), 'Q-MCMC': MCMCChain(), 'Q-MCMC-pert': MCMCChain()}, 5: {'cl': MCMCChain(), 'local': MCMCChain(), 'Q-MCMC': MCMCChain(), 'Q-MCMC-pert': MCMCChain()}, 6: {'cl': MCMCChain(), 'local': MCMCChain(), 'Q-MCMC': MCMCChain(), 'Q-MCMC-pert': MCMCChain()}, 7: {'cl': MCMCChain(), 'local': MCMCChain(), 'Q-MCMC': MCMCChain(), 'Q-MCMC-pert': MCMCChain()}, 8: {'cl': MCMCChain(), 'local': MCMCChain(), 'Q-MCMC': MCMCChain(), 'Q-MCMC-pert': MCMCChain()}, 9: {'cl': MCMCChain(), 'local': MCMCChain(), 'Q-MCMC': MCMCChain(), 'Q-MCMC-pert': MCMCChain()}, 10: {'cl': MCMCChain(), 'local': MCMCChain(), 'Q-MCMC': MCMCChain(), 'Q-MCMC-pert': MCMCChain()}}\n"
     ]
    }
   ],
   "source": [
    "name='dict_ising_model_num_spins_10_beta_1.5_seed_1_with_pert.pkl'\n",
    "with open(name,'rb') as f:\n",
    "    dict_mcmc_bas_gridsize_3=pickle.load(f)\n",
    "print(dict_mcmc_bas_gridsize_3)"
   ]
  },
  {
   "cell_type": "code",
   "execution_count": 82,
   "metadata": {},
   "outputs": [],
   "source": [
    "# for i in range(1,11):\n",
    "#     dict_mcmc_bas_gridsize_3[i]['Q-MCMC-pert']=dict_perturbed[i]['Q-MCMC:pauli_wt_1']\n",
    "\n",
    "# dict_mcmc_bas_gridsize_3\n",
    "# done"
   ]
  },
  {
   "cell_type": "code",
   "execution_count": 13,
   "metadata": {},
   "outputs": [],
   "source": [
    "# list_labels=['cl',\n",
    "#                 'QMCMC; pauli_wt-1; gamma range=(0.1,0.4)',\n",
    "#                 'QMCMC; pauli_wt-2; gamma range=(0.1,0.4)','local']"
   ]
  },
  {
   "cell_type": "code",
   "execution_count": 12,
   "metadata": {},
   "outputs": [],
   "source": [
    "for seed_val in range(1,num_different_chains+1):\n",
    "    # classical uniform\n",
    "    steps=15000\n",
    "    #list_labels.append('classical uniform strategy')\n",
    "    cl_chain =classical_mcmc(\n",
    "        n_hops=steps,\n",
    "        model=model,\n",
    "        temperature=1/beta\n",
    "    )\n",
    "    cl_statistic = get_trajectory_statistics(cl_chain, exact_sampled_model, verbose= False)\n",
    "    dict_mcmc_bas_gridsize_3[seed_val]['cl']=cl_chain"
   ]
  },
  {
   "cell_type": "code",
   "execution_count": 45,
   "metadata": {},
   "outputs": [],
   "source": [
    "for seed_val in range(1,num_different_chains+1):\n",
    "    # classical local\n",
    "    steps=15000\n",
    "    #list_labels.append('classical uniform strategy')\n",
    "    cl_chain =classical_mcmc(\n",
    "        n_hops=steps,\n",
    "        model=model,\n",
    "        temperature=1/beta,\n",
    "        method='local'\n",
    "    )\n",
    "    cl_statistic = get_trajectory_statistics(cl_chain, exact_sampled_model, verbose= False)\n",
    "    dict_mcmc_bas_gridsize_3[seed_val]['local']=cl_chain"
   ]
  },
  {
   "cell_type": "code",
   "execution_count": 13,
   "metadata": {},
   "outputs": [
    {
     "name": "stderr",
     "output_type": "stream",
     "text": [
      "runnning quantum MCMC steps . ..:   0%|          | 13/15000 [00:00<02:08, 116.65it/s]"
     ]
    },
    {
     "name": "stdout",
     "output_type": "stream",
     "text": [
      "starting with:  111100010 with energy: -16.0\n"
     ]
    },
    {
     "name": "stderr",
     "output_type": "stream",
     "text": [
      "runnning quantum MCMC steps . ..: 100%|██████████| 15000/15000 [01:47<00:00, 139.75it/s]\n",
      "runnning quantum MCMC steps . ..:   0%|          | 14/15000 [00:00<01:54, 130.44it/s]"
     ]
    },
    {
     "name": "stdout",
     "output_type": "stream",
     "text": [
      "starting with:  111010010 with energy: -16.0\n"
     ]
    },
    {
     "name": "stderr",
     "output_type": "stream",
     "text": [
      "runnning quantum MCMC steps . ..: 100%|██████████| 15000/15000 [01:46<00:00, 140.21it/s]\n",
      "runnning quantum MCMC steps . ..:   0%|          | 16/15000 [00:00<01:42, 145.86it/s]"
     ]
    },
    {
     "name": "stdout",
     "output_type": "stream",
     "text": [
      "starting with:  011000111 with energy: -48.0\n"
     ]
    },
    {
     "name": "stderr",
     "output_type": "stream",
     "text": [
      "runnning quantum MCMC steps . ..: 100%|██████████| 15000/15000 [01:46<00:00, 140.92it/s]\n",
      "runnning quantum MCMC steps . ..:   0%|          | 14/15000 [00:00<01:48, 137.57it/s]"
     ]
    },
    {
     "name": "stdout",
     "output_type": "stream",
     "text": [
      "starting with:  100000110 with energy: -8.0\n"
     ]
    },
    {
     "name": "stderr",
     "output_type": "stream",
     "text": [
      "runnning quantum MCMC steps . ..: 100%|██████████| 15000/15000 [01:42<00:00, 146.81it/s]\n",
      "runnning quantum MCMC steps . ..:   0%|          | 15/15000 [00:00<01:41, 148.00it/s]"
     ]
    },
    {
     "name": "stdout",
     "output_type": "stream",
     "text": [
      "starting with:  001001011 with energy: 16.0\n"
     ]
    },
    {
     "name": "stderr",
     "output_type": "stream",
     "text": [
      "runnning quantum MCMC steps . ..: 100%|██████████| 15000/15000 [01:45<00:00, 142.53it/s]\n",
      "runnning quantum MCMC steps . ..:   0%|          | 16/15000 [00:00<01:34, 158.21it/s]"
     ]
    },
    {
     "name": "stdout",
     "output_type": "stream",
     "text": [
      "starting with:  101100101 with energy: 16.0\n"
     ]
    },
    {
     "name": "stderr",
     "output_type": "stream",
     "text": [
      "runnning quantum MCMC steps . ..: 100%|██████████| 15000/15000 [01:51<00:00, 134.15it/s]\n",
      "runnning quantum MCMC steps . ..:   0%|          | 18/15000 [00:00<01:23, 178.82it/s]"
     ]
    },
    {
     "name": "stdout",
     "output_type": "stream",
     "text": [
      "starting with:  101000111 with energy: -48.0\n"
     ]
    },
    {
     "name": "stderr",
     "output_type": "stream",
     "text": [
      "runnning quantum MCMC steps . ..: 100%|██████████| 15000/15000 [01:53<00:00, 132.60it/s]\n",
      "runnning quantum MCMC steps . ..:   0%|          | 14/15000 [00:00<01:53, 132.57it/s]"
     ]
    },
    {
     "name": "stdout",
     "output_type": "stream",
     "text": [
      "starting with:  100010001 with energy: 24.0\n"
     ]
    },
    {
     "name": "stderr",
     "output_type": "stream",
     "text": [
      "runnning quantum MCMC steps . ..: 100%|██████████| 15000/15000 [01:49<00:00, 136.60it/s]\n",
      "runnning quantum MCMC steps . ..:   0%|          | 14/15000 [00:00<01:58, 126.66it/s]"
     ]
    },
    {
     "name": "stdout",
     "output_type": "stream",
     "text": [
      "starting with:  110001001 with energy: 16.0\n"
     ]
    },
    {
     "name": "stderr",
     "output_type": "stream",
     "text": [
      "runnning quantum MCMC steps . ..: 100%|██████████| 15000/15000 [01:55<00:00, 129.33it/s]\n",
      "runnning quantum MCMC steps . ..:   0%|          | 15/15000 [00:00<01:40, 148.62it/s]"
     ]
    },
    {
     "name": "stdout",
     "output_type": "stream",
     "text": [
      "starting with:  011111101 with energy: 8.0\n"
     ]
    },
    {
     "name": "stderr",
     "output_type": "stream",
     "text": [
      "runnning quantum MCMC steps . ..: 100%|██████████| 15000/15000 [01:48<00:00, 138.78it/s]\n"
     ]
    }
   ],
   "source": [
    "# quantum 1: single qubit pauli\n",
    "for seed_val in range(1,num_different_chains+1):\n",
    "    steps = 15000\n",
    "    #list_labels.append('QMCMC; pauli_wt-1; gamma range=(0.2,0.6)')\n",
    "    qamcmc_chain_1 =quantum_enhanced_mcmc_2(\n",
    "        n_hops=steps,\n",
    "        model=model,\n",
    "        temperature=1/beta,\n",
    "        verbose=True,\n",
    "        name= 'Q-MCMC:pauli_wt_1',\n",
    "        gamma_range=(0.1,0.4)\n",
    "    )\n",
    "    qumcm1_statistic = get_trajectory_statistics(qamcmc_chain_1, exact_sampled_model, verbose= False)\n",
    "    dict_mcmc_bas_gridsize_3[seed_val]['Q-MCMC:pauli_wt_1']=qamcmc_chain_1"
   ]
  },
  {
   "cell_type": "code",
   "execution_count": 14,
   "metadata": {},
   "outputs": [
    {
     "name": "stderr",
     "output_type": "stream",
     "text": [
      "runnning quantum MCMC steps . ..:   0%|          | 0/15000 [00:00<?, ?it/s]"
     ]
    },
    {
     "name": "stdout",
     "output_type": "stream",
     "text": [
      "starting with:  101110100 with energy: 16.0\n"
     ]
    },
    {
     "name": "stderr",
     "output_type": "stream",
     "text": [
      "runnning quantum MCMC steps . ..: 100%|██████████| 15000/15000 [06:37<00:00, 37.77it/s]\n",
      "runnning quantum MCMC steps . ..:   0%|          | 4/15000 [00:00<06:33, 38.12it/s]"
     ]
    },
    {
     "name": "stdout",
     "output_type": "stream",
     "text": [
      "starting with:  101111100 with energy: -8.0\n"
     ]
    },
    {
     "name": "stderr",
     "output_type": "stream",
     "text": [
      "runnning quantum MCMC steps . ..: 100%|██████████| 15000/15000 [06:13<00:00, 40.17it/s]\n",
      "runnning quantum MCMC steps . ..:   0%|          | 5/15000 [00:00<05:35, 44.66it/s]"
     ]
    },
    {
     "name": "stdout",
     "output_type": "stream",
     "text": [
      "starting with:  110100000 with energy: -8.0\n"
     ]
    },
    {
     "name": "stderr",
     "output_type": "stream",
     "text": [
      "runnning quantum MCMC steps . ..: 100%|██████████| 15000/15000 [06:08<00:00, 40.68it/s]\n",
      "runnning quantum MCMC steps . ..:   0%|          | 4/15000 [00:00<07:18, 34.17it/s]"
     ]
    },
    {
     "name": "stdout",
     "output_type": "stream",
     "text": [
      "starting with:  101010111 with energy: -8.0\n"
     ]
    },
    {
     "name": "stderr",
     "output_type": "stream",
     "text": [
      "runnning quantum MCMC steps . ..: 100%|██████████| 15000/15000 [06:15<00:00, 39.92it/s]\n",
      "runnning quantum MCMC steps . ..:   0%|          | 4/15000 [00:00<06:29, 38.52it/s]"
     ]
    },
    {
     "name": "stdout",
     "output_type": "stream",
     "text": [
      "starting with:  111111101 with energy: 0.0\n"
     ]
    },
    {
     "name": "stderr",
     "output_type": "stream",
     "text": [
      "runnning quantum MCMC steps . ..: 100%|██████████| 15000/15000 [05:57<00:00, 41.97it/s]\n",
      "runnning quantum MCMC steps . ..:   0%|          | 4/15000 [00:00<06:56, 36.01it/s]"
     ]
    },
    {
     "name": "stdout",
     "output_type": "stream",
     "text": [
      "starting with:  101110111 with energy: 8.0\n"
     ]
    },
    {
     "name": "stderr",
     "output_type": "stream",
     "text": [
      "runnning quantum MCMC steps . ..: 100%|██████████| 15000/15000 [05:52<00:00, 42.53it/s]\n",
      "runnning quantum MCMC steps . ..:   0%|          | 8/15000 [00:00<06:33, 38.14it/s]"
     ]
    },
    {
     "name": "stdout",
     "output_type": "stream",
     "text": [
      "starting with:  000101011 with energy: -16.0\n"
     ]
    },
    {
     "name": "stderr",
     "output_type": "stream",
     "text": [
      "runnning quantum MCMC steps . ..: 100%|██████████| 15000/15000 [05:53<00:00, 42.42it/s]\n",
      "runnning quantum MCMC steps . ..:   0%|          | 5/15000 [00:00<05:17, 47.21it/s]"
     ]
    },
    {
     "name": "stdout",
     "output_type": "stream",
     "text": [
      "starting with:  010110001 with energy: 16.0\n"
     ]
    },
    {
     "name": "stderr",
     "output_type": "stream",
     "text": [
      "runnning quantum MCMC steps . ..: 100%|██████████| 15000/15000 [06:13<00:00, 40.15it/s]\n",
      "runnning quantum MCMC steps . ..:   0%|          | 6/15000 [00:00<04:53, 51.11it/s]"
     ]
    },
    {
     "name": "stdout",
     "output_type": "stream",
     "text": [
      "starting with:  101101010 with energy: 16.0\n"
     ]
    },
    {
     "name": "stderr",
     "output_type": "stream",
     "text": [
      "runnning quantum MCMC steps . ..: 100%|██████████| 15000/15000 [06:13<00:00, 40.20it/s]\n",
      "runnning quantum MCMC steps . ..:   0%|          | 5/15000 [00:00<06:02, 41.40it/s]"
     ]
    },
    {
     "name": "stdout",
     "output_type": "stream",
     "text": [
      "starting with:  010011100 with energy: 16.0\n"
     ]
    },
    {
     "name": "stderr",
     "output_type": "stream",
     "text": [
      "runnning quantum MCMC steps . ..: 100%|██████████| 15000/15000 [06:17<00:00, 39.75it/s]\n"
     ]
    }
   ],
   "source": [
    "for seed_val in range(1,num_different_chains+1):\n",
    "# quantum 2: \n",
    "    steps = 15000\n",
    "    #list_labels.append('QMCMC; pauli_wt-2; gamma range=(0.2,0.6)')\n",
    "    qamcmc_chain_2 =quantum_enhanced_mcmc_2(\n",
    "        n_hops=steps,\n",
    "        model=model,\n",
    "        temperature=1/beta,\n",
    "        verbose=True,\n",
    "        pauli_weight_x_mixer=3,\n",
    "        name='Q-MCMC:pauli_wt_3',\n",
    "        gamma_range=(0.1,0.4)\n",
    "    )\n",
    "    dict_mcmc_bas_gridsize_3[seed_val]['Q-MCMC:pauli_wt_3']=qamcmc_chain_2\n",
    "    qumcm2_statistic = get_trajectory_statistics(qamcmc_chain_2, exact_sampled_model, verbose= False)"
   ]
  },
  {
   "cell_type": "code",
   "execution_count": 15,
   "metadata": {},
   "outputs": [],
   "source": [
    "# name=f'''dict_simulations_BAS_bars_dataset_3x3.pkl'''\n",
    "#with open(name,'wb') as f:\n",
    "#         pickle.dump(dict_mcmc_bas_gridsize_3,f)"
   ]
  },
  {
   "cell_type": "code",
   "execution_count": 16,
   "metadata": {},
   "outputs": [],
   "source": []
  },
  {
   "attachments": {},
   "cell_type": "markdown",
   "metadata": {},
   "source": [
    "### plotting related"
   ]
  },
  {
   "cell_type": "code",
   "execution_count": 85,
   "metadata": {},
   "outputs": [],
   "source": [
    "# this function would be useful for plotting curves\n",
    "def plot_with_error_band(xval:list,y_list_of_list:list,label:str,\n",
    "                            std_dev_multiplicative_factor:int=1,\n",
    "                            alpha_for_plot:float=0.5):\n",
    "\n",
    "    curve_of_mean_value=np.mean(y_list_of_list,axis=0)\n",
    "    standard_dev_band=np.std(y_list_of_list,axis=0)\n",
    "    plt.plot(xval,curve_of_mean_value,\"-\",label=label)\n",
    "    plt.fill_between(xval,\n",
    "                        curve_of_mean_value-standard_dev_band* std_dev_multiplicative_factor,\n",
    "                        curve_of_mean_value+standard_dev_band* std_dev_multiplicative_factor,\n",
    "                        alpha=alpha_for_plot)"
   ]
  },
  {
   "cell_type": "code",
   "execution_count": 52,
   "metadata": {},
   "outputs": [],
   "source": [
    "#list_labels_bas=['cl']#['cl',  'Q-MCMC:pauli_wt_1', 'Q-MCMC:pauli_wt_3','local']"
   ]
  },
  {
   "cell_type": "code",
   "execution_count": 86,
   "metadata": {},
   "outputs": [
    {
     "name": "stdout",
     "output_type": "stream",
     "text": [
      "{'cl': MCMCChain(), 'local': MCMCChain(), 'Q-MCMC': MCMCChain(), 'Q-MCMC-pert': MCMCChain()}\n"
     ]
    }
   ],
   "source": [
    "print(dict_mcmc_bas_gridsize_3[1])"
   ]
  },
  {
   "cell_type": "code",
   "execution_count": 92,
   "metadata": {},
   "outputs": [
    {
     "name": "stderr",
     "output_type": "stream",
     "text": [
      "100%|██████████| 10/10 [00:53<00:00,  5.39s/it]\n"
     ]
    }
   ],
   "source": [
    "# KL divergence\n",
    "list_kl_cl_bas_gridsize_3=[]\n",
    "list_kl_qmcmc_pauli1_bas_gridsize_3=[]\n",
    "list_kl_qmcmc_pauli3_bas_gridsize_3=[]\n",
    "list_kl_local=[]\n",
    "list_kl_pert=[]\n",
    "for seed_val in tqdm(range(1,num_different_chains+1)):\n",
    "    cl_chain=dict_mcmc_bas_gridsize_3[seed_val]['cl']\n",
    "    local_chain=dict_mcmc_bas_gridsize_3[seed_val]['local']\n",
    "    qamcmc_chain_1=dict_mcmc_bas_gridsize_3[seed_val]['Q-MCMC']\n",
    "    #qamcmc_chain_2=dict_mcmc_bas_gridsize_3[seed_val]['Q-MCMC:pauli_wt_3']\n",
    "    q_pert=dict_mcmc_bas_gridsize_3[seed_val]['Q-MCMC-pert']\n",
    "    kldiv_c = calculate_running_kl_divergence(exact_sampled_model.boltzmann_pd, cl_chain)\n",
    "    kldiv_q1 = calculate_running_kl_divergence(exact_sampled_model.boltzmann_pd, qamcmc_chain_1)\n",
    "    #kldiv_q2 = calculate_running_kl_divergence(exact_sampled_model.boltzmann_pd, qamcmc_chain_2)\n",
    "    kldiv_local= calculate_running_kl_divergence(exact_sampled_model.boltzmann_pd, local_chain)\n",
    "    kl_pert=calculate_running_kl_divergence(exact_sampled_model.boltzmann_pd, q_pert)\n",
    "    #\n",
    "    list_kl_cl_bas_gridsize_3.append(kldiv_c)\n",
    "    list_kl_qmcmc_pauli1_bas_gridsize_3.append(kldiv_q1)\n",
    "    #list_kl_qmcmc_pauli3_bas_gridsize_3.append(kldiv_q2)\n",
    "    list_kl_local.append(kldiv_local)\n",
    "    list_kl_pert.append(kl_pert)"
   ]
  },
  {
   "cell_type": "code",
   "execution_count": 94,
   "metadata": {},
   "outputs": [
    {
     "data": {
      "image/png": "[encoded data removed]",
      "text/plain": [
       "<Figure size 864x576 with 1 Axes>"
      ]
     },
     "metadata": {
      "needs_background": "light"
     },
     "output_type": "display_data"
    }
   ],
   "source": [
    "x=list(range(0,15000+1))\n",
    "plt.figure(figsize=(12,8))\n",
    "plot_with_error_band(x,list_kl_cl_bas_gridsize_3,label='classical uniform')\n",
    "#plot_with_error_band(x,list_kl_local,label='local')\n",
    "plot_with_error_band(x,list_kl_qmcmc_pauli1_bas_gridsize_3,label='Q-MCMC:pauli_wt_1')\n",
    "#plot_with_error_band(x,list_kl_qmcmc_pauli3_bas_gridsize_3,label='Q-MCMC:pauli_wt_3')\n",
    "plot_with_error_band(x,list_kl_pert,label='Q-pert')\n",
    "plt.xlabel(\"iterations \")\n",
    "plt.ylabel(\"KL divergence\")\n",
    "plt.yscale('log')\n",
    "plt.legend()\n",
    "# plt.savefig(\"KL_BAS_3X3_bars_only.pdf\")\n",
    "# plt.savefig(\"KL_BAS_3X3_bars_only.jpeg\")\n",
    "plt.show()"
   ]
  },
  {
   "cell_type": "code",
   "execution_count": 96,
   "metadata": {},
   "outputs": [
    {
     "data": {
      "text/plain": [
       "{'cl': MCMCChain(),\n",
       " 'local': MCMCChain(),\n",
       " 'Q-MCMC': MCMCChain(),\n",
       " 'Q-MCMC-pert': MCMCChain()}"
      ]
     },
     "execution_count": 96,
     "metadata": {},
     "output_type": "execute_result"
    }
   ],
   "source": [
    "dict_mcmc_bas_gridsize_3[1]"
   ]
  },
  {
   "cell_type": "code",
   "execution_count": 97,
   "metadata": {},
   "outputs": [
    {
     "name": "stderr",
     "output_type": "stream",
     "text": [
      "  4%|▍         | 674/15000 [00:00<00:02, 6667.88it/s]"
     ]
    },
    {
     "name": "stderr",
     "output_type": "stream",
     "text": [
      "100%|██████████| 15000/15000 [00:24<00:00, 616.86it/s]\n",
      "100%|██████████| 15000/15000 [00:37<00:00, 399.28it/s]\n",
      "100%|██████████| 15000/15000 [00:30<00:00, 484.61it/s]\n",
      "100%|██████████| 15000/15000 [00:36<00:00, 410.86it/s]\n",
      "100%|██████████| 15000/15000 [00:23<00:00, 642.14it/s]\n",
      "100%|██████████| 15000/15000 [00:32<00:00, 456.19it/s]\n",
      "100%|██████████| 15000/15000 [00:28<00:00, 521.40it/s]\n",
      "100%|██████████| 15000/15000 [00:37<00:00, 396.84it/s]\n",
      "100%|██████████| 15000/15000 [00:23<00:00, 632.40it/s]\n",
      "100%|██████████| 15000/15000 [00:29<00:00, 507.76it/s]\n",
      "100%|██████████| 15000/15000 [00:25<00:00, 590.12it/s]\n",
      "100%|██████████| 15000/15000 [00:26<00:00, 569.57it/s]\n",
      "100%|██████████| 15000/15000 [00:24<00:00, 603.53it/s]\n",
      "100%|██████████| 15000/15000 [00:22<00:00, 675.13it/s]\n",
      "100%|██████████| 15000/15000 [00:21<00:00, 700.30it/s]\n",
      "100%|██████████| 15000/15000 [00:22<00:00, 663.32it/s]\n",
      "100%|██████████| 15000/15000 [00:20<00:00, 746.04it/s]\n",
      "100%|██████████| 15000/15000 [00:23<00:00, 644.23it/s]\n",
      "100%|██████████| 15000/15000 [00:21<00:00, 694.28it/s]\n",
      "100%|██████████| 15000/15000 [00:22<00:00, 666.03it/s]\n",
      "100%|██████████| 15000/15000 [00:21<00:00, 687.77it/s]\n",
      "100%|██████████| 15000/15000 [00:29<00:00, 510.98it/s]\n",
      "100%|██████████| 15000/15000 [00:24<00:00, 616.32it/s]\n",
      "100%|██████████| 15000/15000 [00:22<00:00, 666.54it/s]\n",
      "100%|██████████| 15000/15000 [00:20<00:00, 726.28it/s]\n",
      "100%|██████████| 15000/15000 [00:25<00:00, 577.60it/s]\n",
      "100%|██████████| 15000/15000 [00:23<00:00, 642.93it/s]\n",
      "100%|██████████| 15000/15000 [00:26<00:00, 559.52it/s]\n",
      "100%|██████████| 15000/15000 [00:22<00:00, 660.37it/s]\n",
      "100%|██████████| 15000/15000 [00:29<00:00, 505.33it/s]\n",
      "100%|██████████| 15000/15000 [00:24<00:00, 624.42it/s]\n",
      "100%|██████████| 15000/15000 [00:24<00:00, 612.43it/s]\n",
      "100%|██████████| 15000/15000 [00:21<00:00, 689.30it/s]\n",
      "100%|██████████| 15000/15000 [00:22<00:00, 670.97it/s]\n",
      "100%|██████████| 15000/15000 [00:24<00:00, 616.49it/s]\n",
      "100%|██████████| 15000/15000 [00:25<00:00, 592.45it/s]\n",
      "100%|██████████| 15000/15000 [00:21<00:00, 682.20it/s]\n",
      "100%|██████████| 15000/15000 [00:25<00:00, 585.03it/s]\n",
      "100%|██████████| 15000/15000 [00:22<00:00, 673.40it/s]\n",
      "100%|██████████| 15000/15000 [00:25<00:00, 599.16it/s]\n"
     ]
    }
   ],
   "source": [
    "list_mag_cl_bas_gridsize_3=[]\n",
    "list_mag_qmcmc_pauli1_bas_gridsize_3=[]\n",
    "list_mag_qmcmc_pauli3_bas_gridsize_3=[]\n",
    "list_mag_local=[]\n",
    "list_mag_pert=[]\n",
    "magnetization_model = exact_sampled_model.get_observable_expectation(magnetization_of_state)\n",
    "\n",
    "for seed_val in range(1,num_different_chains+1):\n",
    "    cl_chain=dict_mcmc_bas_gridsize_3[seed_val]['cl']\n",
    "    local_chain=dict_mcmc_bas_gridsize_3[seed_val]['local']\n",
    "    qamcmc_chain_1=dict_mcmc_bas_gridsize_3[seed_val]['Q-MCMC']\n",
    "    #qamcmc_chain_2=dict_mcmc_bas_gridsize_3[seed_val][list_labels_bas[3]]\n",
    "    q_pert=dict_mcmc_bas_gridsize_3[seed_val]['Q-MCMC-pert']\n",
    "    \n",
    "    mag_c = calculate_runnning_magnetisation(cl_chain)\n",
    "    mag_q1 = calculate_runnning_magnetisation(qamcmc_chain_1)\n",
    "    #mag_q2 = calculate_runnning_magnetisation(qamcmc_chain_2)\n",
    "    mag_local= calculate_runnning_magnetisation(local_chain)\n",
    "    mag_pert =  calculate_runnning_magnetisation(q_pert)\n",
    "    #\n",
    "    list_mag_cl_bas_gridsize_3.append(mag_c)\n",
    "    list_mag_qmcmc_pauli1_bas_gridsize_3.append(mag_q1)\n",
    "    #list_mag_qmcmc_pauli3_bas_gridsize_3.append(mag_q2)\n",
    "    list_mag_local.append(mag_local)\n",
    "    list_mag_pert.append(mag_pert)"
   ]
  },
  {
   "cell_type": "code",
   "execution_count": 109,
   "metadata": {},
   "outputs": [
    {
     "data": {
      "image/png": "[encoded data removed]",
      "text/plain": [
       "<Figure size 864x576 with 1 Axes>"
      ]
     },
     "metadata": {
      "needs_background": "light"
     },
     "output_type": "display_data"
    }
   ],
   "source": [
    "fig, ax1 = plt.subplots(figsize=(12,8))\n",
    "\n",
    "# These are in unitless percentages of the figure size. (0,0 is bottom left)\n",
    "left, bottom, width, height = [0.55, 0.2, 0.25, 0.25]\n",
    "#ax2 = fig.add_axes([left, bottom, width, height])\n",
    "\n",
    "x=list(range(0,15000))\n",
    "\n",
    "# ax1 figure\n",
    "mean_mag_cl=np.mean(list_mag_cl_bas_gridsize_3,axis=0);std_cl=np.std(list_mag_cl_bas_gridsize_3,axis=0)\n",
    "ax1.plot(x,mean_mag_cl,label='classical- uniform update')\n",
    "ax1.fill_between(x,mean_mag_cl-std_cl,mean_mag_cl+std_cl,alpha=0.45)\n",
    "\n",
    "mean_mag_local=np.mean(list_mag_local,axis=0)\n",
    "std_local=np.std(list_mag_local,axis=0)\n",
    "ax1.plot(x,mean_mag_local,label='local update strategy')\n",
    "ax1.fill_between(x,mean_mag_local-std_local,mean_mag_local+std_local,alpha=0.45)\n",
    "\n",
    "\n",
    "mean_mag_qmcmc1=np.mean(list_mag_qmcmc_pauli1_bas_gridsize_3,axis=0)\n",
    "std_q1=np.std(list_mag_qmcmc_pauli1_bas_gridsize_3,axis=0)\n",
    "ax1.plot(x,mean_mag_qmcmc1,label='Q-MCMC')#list_labels_bas[2])\n",
    "ax1.fill_between(x,mean_mag_qmcmc1-std_q1,mean_mag_qmcmc1+std_q1,alpha=0.45)\n",
    "\n",
    "mean_mag_pert=np.mean(list_mag_pert,axis=0)\n",
    "std_qpert=np.std(list_mag_pert,axis=0)\n",
    "ax1.plot(x,mean_mag_pert,label='Q-MCMC-pert')\n",
    "ax1.fill_between(x,mean_mag_pert-std_qpert,mean_mag_pert+std_qpert,alpha=0.45)\n",
    "\n",
    "# mean_mag_qmcmc2=np.mean(list_mag_qmcmc_pauli3_bas_gridsize_3,axis=0)\n",
    "# std_q2=np.std(list_mag_qmcmc_pauli3_bas_gridsize_3,axis=0)\n",
    "# ax1.plot(x,mean_mag_qmcmc2,label=list_labels_bas[3])\n",
    "# ax1.fill_between(x,mean_mag_qmcmc2-std_q2,mean_mag_qmcmc2+std_q2,alpha=0.5)\n",
    "\n",
    "\n",
    "\n",
    "ax1.axhline(magnetization_model, label= 'actual',linestyle='--')\n",
    "ax1.legend()\n",
    "ax1.set_xlabel(\"Iterations\")\n",
    "ax1.set_ylabel(\"Magnetisation\")\n",
    "\n",
    "\n",
    "# ax1.axhline(magnetization_model, label= 'actual',linestyle='--')\n",
    "# ax1.legend()\n",
    "# ax1.set_xlabel(\"Iterations\")\n",
    "# ax1.set_ylabel(\"Magnetisation\")\n",
    "\n",
    "#ax2 figure\n",
    "# ax2.plot(x,mean_mag_cl,label=list_labels_bas[0])\n",
    "# ax2.fill_between(x,mean_mag_cl-std_cl,mean_mag_cl+std_cl,alpha=0.5)\n",
    "# ax2.plot(x,mean_mag_cl,label='local')##\n",
    "# ax2.fill_between(x,mean_mag_local-std_local,mean_mag_cl+std_local,alpha=0.5)###\n",
    "# # ax2.plot(x,mean_mag_qmcmc1,label=list_labels_bas[1])\n",
    "# # ax2.fill_between(x,mean_mag_qmcmc1-std_q1,mean_mag_qmcmc1+std_q1,alpha=0.5)\n",
    "# ax2.plot(x,mean_mag_qmcmc2,label=list_labels_bas[2])\n",
    "# ax2.fill_between(x,mean_mag_qmcmc2-std_q2,mean_mag_qmcmc2+std_q2,alpha=0.5)\n",
    "# ax2.axhline(magnetization_model, label= 'actual',linestyle='--')\n",
    "# ax2.set_xlim([10000,14000])\n",
    "# ax2.set_ylim([2,0])\n",
    "# ax2.set_xlabel(\"Iterations\")\n",
    "# ax2.set_ylabel(\"Magnetisation\")\n",
    "\n",
    "fig.savefig(f\"Magnetisation_10_spins_for_presentation_with_pert.pdf\")# done\n",
    "#fig.savefig(f\"Magnetisation_BAS_{gridsize}_bars_only.jpeg\")\n",
    "plt.show()"
   ]
  },
  {
   "cell_type": "code",
   "execution_count": 110,
   "metadata": {},
   "outputs": [],
   "source": [
    "check=dict_mcmc_bas_gridsize_3[1]"
   ]
  },
  {
   "cell_type": "code",
   "execution_count": 111,
   "metadata": {},
   "outputs": [],
   "source": [
    "list_keys=list(dict_mcmc_bas_gridsize_3[1].keys())"
   ]
  },
  {
   "cell_type": "code",
   "execution_count": 115,
   "metadata": {},
   "outputs": [],
   "source": [
    "# plt.figure(figsize=(15,10))\n",
    "# labels=['classical- uniform update','local','Q-MCMC','Q-MCMC-pert']\n",
    "# for i in range(0,4):\n",
    "#     a=dict_mcmc_bas_gridsize_3[1][list_keys[i]]\n",
    "#     plt.subplot(2,2,i+1)\n",
    "#     xval=list(range(1000,2000))\n",
    "#     plt.plot(xval,a.markov_chain[1000:2000],label=labels[i])\n",
    "#     # plt.plot(a.markov_chain,label=labels[i])\n",
    "#     plt.legend()"
   ]
  },
  {
   "cell_type": "code",
   "execution_count": 21,
   "metadata": {},
   "outputs": [],
   "source": [
    "# magnetisation\n",
    "# magnetization_model = exact_sampled_model.get_observable_expectation(magnetization_of_state)\n",
    "# magnetization_c = calculate_runnning_magnetisation(cl_chain)\n",
    "# magnetization_q1 = calculate_runnning_magnetisation(qamcmc_chain_1)\n",
    "# magnetization_q2 = calculate_runnning_magnetisation(qamcmc_chain_2)\n",
    "\n",
    "# plt.figure(figsize=(10,8))\n",
    "# plt.plot(magnetization_c, label= list_labels[0])\n",
    "# plt.plot(magnetization_q1, label= list_labels[1])\n",
    "# plt.plot(magnetization_q2, label= list_labels[2])\n",
    "# plt.axhline(magnetization_model, label= 'original',linestyle='--')\n",
    "# plt.xlabel(\"iterations\")\n",
    "# plt.ylabel(\"magnetisation\")\n",
    "# plt.legend()\n",
    "# plt.show()"
   ]
  },
  {
   "cell_type": "code",
   "execution_count": 116,
   "metadata": {},
   "outputs": [
    {
     "data": {
      "text/plain": [
       "['cl', 'local', 'Q-MCMC', 'Q-MCMC-pert']"
      ]
     },
     "execution_count": 116,
     "metadata": {},
     "output_type": "execute_result"
    }
   ],
   "source": [
    "list_keys=list(dict_mcmc_bas_gridsize_3[1].keys())\n",
    "list_keys"
   ]
  },
  {
   "cell_type": "code",
   "execution_count": 120,
   "metadata": {},
   "outputs": [
    {
     "data": {
      "image/png": "[encoded data removed]",
      "text/plain": [
       "<Figure size 1440x1080 with 10 Axes>"
      ]
     },
     "metadata": {
      "needs_background": "light"
     },
     "output_type": "display_data"
    }
   ],
   "source": [
    "### plots\n",
    "\n",
    "# acceptance probability\n",
    "plt.figure(1,figsize=(20,15))\n",
    "for seed_val in range(1,num_different_chains+1):\n",
    "    cl_chain=dict_mcmc_bas_gridsize_3[seed_val][list_keys[0]]\n",
    "    local_chain=dict_mcmc_bas_gridsize_3[seed_val]['local']\n",
    "    qamcmc_chain_1=dict_mcmc_bas_gridsize_3[seed_val]['Q-MCMC']\n",
    "    q_pert=dict_mcmc_bas_gridsize_3[seed_val]['Q-MCMC-pert']\n",
    "    #qamcmc_chain_2=dict_mcmc_bas_gridsize_3[seed_val][list_labels_bas[3]]\n",
    "    \n",
    "    cl_statistics=get_trajectory_statistics(cl_chain,exact_sampled_model)\n",
    "    qumcm1_statistics=get_trajectory_statistics(qamcmc_chain_1,exact_sampled_model)\n",
    "    local_statistics=get_trajectory_statistics(local_chain,exact_sampled_model)\n",
    "    qpert_statistics=get_trajectory_statistics(q_pert,exact_sampled_model)\n",
    "    #qumcm2_statistic=get_trajectory_statistics(qamcmc_chain_2,exact_sampled_model)\n",
    "    \n",
    "    plt.subplot(5,2,seed_val)\n",
    "    plt.hist(np.log10(cl_statistics['acceptance_prob']),\n",
    "            label= 'uniform' ,alpha= 0.5, \n",
    "            bins= 50,density=True)\n",
    "    plt.hist(np.log10(local_statistics['acceptance_prob']),\n",
    "            label= 'local' ,alpha= 0.5, \n",
    "            bins= 50,density=True)\n",
    "    plt.hist(np.log10(qumcm1_statistics['acceptance_prob']),\n",
    "                label='Q-MCMC' , alpha= 0.5, bins= 50,density=True)\n",
    "    # plt.hist(np.log10(qumcm2_statistic['acceptance_prob']), label= list_labels_bas[3] , alpha= 0.5, bins= 40,density=True)\n",
    "    plt.hist(np.log10(qpert_statistics['acceptance_prob']), label= 'Q-MCMC-pert', alpha= 0.5, bins= 50,density=True)\n",
    "    if seed_val==9 or seed_val==10:\n",
    "        plt.xlabel(\"log(Acceptance Rate)\")\n",
    "    plt.legend()\n",
    "plt.savefig(\"Acceptance_rate_plot_10_spins_for_presentation_with_pert.pdf\")\n",
    "plt.savefig(\"Acceptance_rate_plot_for_presentation_with_pert.jpeg\")\n",
    "plt.show()\n",
    "\n",
    "# # energy plot\n",
    "    # plt.figure(2,figsize=(10,10))\n",
    "    # plt.hist(cl_statistic['energy'],label= list_labels[0] ,alpha= 0.8, bins= 20)\n",
    "    # plt.hist(qumcm1_statistic['energy'],\n",
    "    #             label=list_labels[1]  , alpha= 0.8, bins= 20)\n",
    "    # plt.hist(qumcm2_statistic['energy'],\n",
    "    #             label= list_labels[2] , alpha= 0.8, bins= 20)\n",
    "    # plt.xlabel(\"Energy-Difference Statistics\")\n",
    "    # plt.legend()\n",
    "    # plt.show()\n",
    "\n",
    "# # Hamming distance\n",
    "    #plt.figure(1,figsize=(10,10))\n",
    "    # plt.subplot(5,2,seed_val)\n",
    "    # plt.hist(cl_statistic['hamming'],label= list_labels_bas[0] ,alpha= 0.8, bins= 20)\n",
    "    # plt.hist(qumcm1_statistic['hamming'],\n",
    "    #             label= list_labels_bas[1] , alpha= 0.8, bins= 20)\n",
    "    # plt.hist(qumcm2_statistic['hamming'],\n",
    "    #             label= list_labels_bas[2] , alpha= 0.8, bins= 20)\n",
    "    # plt.xlabel(\"Hamming-Distance Statistics\")\n",
    "    # plt.legend()\n",
    "    # plt.show()"
   ]
  },
  {
   "cell_type": "code",
   "execution_count": 23,
   "metadata": {},
   "outputs": [],
   "source": [
    "# distributions_to_plot = [exact_sampled_model.boltzmann_pd, cl_chain.get_accepted_dict(normalize= True), \n",
    "#                         qamcmc_chain_1.get_accepted_dict(normalize= True),qamcmc_chain_2.get_accepted_dict(normalize= True)\n",
    "#                         ]\n",
    "# plot_multiple_bargraphs(distributions_to_plot, ['exact']+list_labels, \n",
    "#                                                 list_normalise= [False, False, False,False], \n",
    "#                                                 plot_first_few=15)"
   ]
  },
  {
   "cell_type": "code",
   "execution_count": null,
   "metadata": {},
   "outputs": [],
   "source": []
  }
 ],
 "metadata": {
  "kernelspec": {
   "display_name": "base",
   "language": "python",
   "name": "python3"
  },
  "language_info": {
   "codemirror_mode": {
    "name": "ipython",
    "version": 3
   },
   "file_extension": ".py",
   "mimetype": "text/x-python",
   "name": "python",
   "nbconvert_exporter": "python",
   "pygments_lexer": "ipython3",
   "version": "3.8.8"
  },
  "orig_nbformat": 4
 },
 "nbformat": 4,
 "nbformat_minor": 2
}
