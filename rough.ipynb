{
 "cells": [
  {
   "cell_type": "code",
   "execution_count": 3,
   "metadata": {},
   "outputs": [],
   "source": [
    "import numpy as np\n",
    "from collections import Counter"
   ]
  },
  {
   "cell_type": "code",
   "execution_count": 8,
   "metadata": {},
   "outputs": [],
   "source": [
    "from qulacs import QuantumState, QuantumCircuit\n",
    "from qulacsvis import circuit_drawer\n",
    "from scipy.linalg import expm\n",
    "from qulacs.gate import DenseMatrix\n",
    "from qulacs.gate import X, Y, Z  , Pauli, Identity, merge\n",
    "from itertools import combinations\n",
    "import random\n",
    "# to simulate time evolution\n",
    "from qulacs import Observable, PauliOperator, StateVector\n",
    "# to exponentiate\n",
    "from scipy.linalg import expm"
   ]
  },
  {
   "cell_type": "code",
   "execution_count": 13,
   "metadata": {},
   "outputs": [],
   "source": [
    "# function for U=exp(-iHt) (a unitary evolution)\n",
    "# H =(1-gamma)*alpha*H_{prob} + gamma * H_mix\n",
    "def time_evol_for_mcmc(num_spins:int, H_prob:np.array, H_mix:np.array, \n",
    "                        gamma:float, alpha:float,q_state:QuantumState, time_evol:float):\n",
    "    target_list=list(range(num_spins-1,0,-1))\n",
    "    H=(1-gamma)*alpha*H_prob + gamma * H_mix\n",
    "    unitary_mat= np.round(np.expm(-1j*H*time_evol),decimals=6)\n",
    "    unitary_time_evol_gate=DenseMatrix(target_list,matrix=unitary_mat)\n",
    "    # update the quantum state\n",
    "    unitary_time_evol_gate.update_quantum_state(q_state)\n",
    "    return q_state"
   ]
  },
  {
   "cell_type": "code",
   "execution_count": null,
   "metadata": {},
   "outputs": [],
   "source": []
  },
  {
   "cell_type": "code",
   "execution_count": 31,
   "metadata": {},
   "outputs": [
    {
     "data": {
      "text/plain": [
       "[1, 1, 1, 1, 1, 1, 1, 1, 1, 1]"
      ]
     },
     "execution_count": 31,
     "metadata": {},
     "output_type": "execute_result"
    }
   ],
   "source": [
    "a=QuantumState(2)\n",
    "a.set_computational_basis(0b01)# i might be required to change this in the original code\n",
    "a.sampling(sampling_count=10)\n"
   ]
  },
  {
   "cell_type": "code",
   "execution_count": null,
   "metadata": {},
   "outputs": [],
   "source": []
  }
 ],
 "metadata": {
  "kernelspec": {
   "display_name": "base",
   "language": "python",
   "name": "python3"
  },
  "language_info": {
   "codemirror_mode": {
    "name": "ipython",
    "version": 3
   },
   "file_extension": ".py",
   "mimetype": "text/x-python",
   "name": "python",
   "nbconvert_exporter": "python",
   "pygments_lexer": "ipython3",
   "version": "3.8.8"
  },
  "orig_nbformat": 4
 },
 "nbformat": 4,
 "nbformat_minor": 2
}
