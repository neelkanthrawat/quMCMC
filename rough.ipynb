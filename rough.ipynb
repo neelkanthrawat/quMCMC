{
 "cells": [
  {
   "cell_type": "code",
   "execution_count": 1,
   "metadata": {},
   "outputs": [],
   "source": [
    "import numpy as np\n",
    "from collections import Counter"
   ]
  },
  {
   "cell_type": "code",
   "execution_count": 2,
   "metadata": {},
   "outputs": [],
   "source": [
    "from qulacs import QuantumState, QuantumCircuit\n",
    "from qulacsvis import circuit_drawer\n",
    "from scipy.linalg import expm\n",
    "from qulacs.gate import DenseMatrix\n",
    "from qulacs.gate import X, Y, Z  , Pauli, Identity, merge\n",
    "from itertools import combinations\n",
    "import random\n",
    "# to simulate time evolution\n",
    "from qulacs import Observable, PauliOperator, StateVector\n",
    "# to exponentiate\n",
    "from scipy.linalg import expm"
   ]
  },
  {
   "cell_type": "code",
   "execution_count": 3,
   "metadata": {},
   "outputs": [],
   "source": [
    "# function for U=exp(-iHt) (a unitary evolution)\n",
    "# H =(1-gamma)*alpha*H_{prob} + gamma * H_mix\n",
    "def time_evol_for_mcmc(num_spins:int, H_prob:np.array, H_mix:np.array, \n",
    "                        gamma:float, alpha:float,q_state:QuantumState, time_evol:float):\n",
    "    target_list=list(range(num_spins-1,0,-1))\n",
    "    H=(1-gamma)*alpha*H_prob + gamma * H_mix\n",
    "    unitary_mat= np.round(np.expm(-1j*H*time_evol),decimals=6)\n",
    "    unitary_time_evol_gate=DenseMatrix(target_list,matrix=unitary_mat)\n",
    "    # update the quantum state\n",
    "    unitary_time_evol_gate.update_quantum_state(q_state)\n",
    "    return q_state"
   ]
  },
  {
   "cell_type": "code",
   "execution_count": null,
   "metadata": {},
   "outputs": [],
   "source": []
  },
  {
   "cell_type": "code",
   "execution_count": 4,
   "metadata": {},
   "outputs": [
    {
     "data": {
      "text/plain": [
       "[3, 3, 3, 3, 3, 3, 3, 3, 3, 3]"
      ]
     },
     "execution_count": 4,
     "metadata": {},
     "output_type": "execute_result"
    }
   ],
   "source": [
    "a=QuantumState(2)\n",
    "a.set_computational_basis(0b11)# i might be required to change this in the original code\n",
    "a.sampling(sampling_count=10)"
   ]
  },
  {
   "cell_type": "code",
   "execution_count": 5,
   "metadata": {},
   "outputs": [
    {
     "name": "stdout",
     "output_type": "stream",
     "text": [
      " *** Quantum State ***\n",
      " * Qubit Count : 2\n",
      " * Dimension   : 4\n",
      " * State vector : \n",
      "(0,0)\n",
      "(0,0)\n",
      "(1,0)\n",
      "(0,0)\n",
      "\n"
     ]
    },
    {
     "data": {
      "text/plain": [
       "[2, 2, 2, 2, 2, 2, 2, 2, 2, 2]"
      ]
     },
     "execution_count": 5,
     "metadata": {},
     "output_type": "execute_result"
    }
   ],
   "source": [
    "a.set_computational_basis(int('10',2))\n",
    "print(a)\n",
    "a.sampling(10)"
   ]
  },
  {
   "cell_type": "code",
   "execution_count": 33,
   "metadata": {},
   "outputs": [],
   "source": [
    "from qulacs import PauliOperator\n",
    "from qulacs.gate import Pauli\n",
    "\n",
    "from qumcmc.energy_models import IsingEnergyFunction"
   ]
  },
  {
   "cell_type": "code",
   "execution_count": 29,
   "metadata": {},
   "outputs": [
    {
     "ename": "TypeError",
     "evalue": "__init__(): incompatible constructor arguments. The following argument types are supported:\n    1. qulacs_core.PauliOperator(coef: complex)\n    2. qulacs_core.PauliOperator(pauli_string: str, coef: complex)\n\nInvoked with: [1]",
     "output_type": "error",
     "traceback": [
      "\u001b[0;31m---------------------------------------------------------------------------\u001b[0m",
      "\u001b[0;31mTypeError\u001b[0m                                 Traceback (most recent call last)",
      "Cell \u001b[0;32mIn[29], line 1\u001b[0m\n\u001b[0;32m----> 1\u001b[0m op \u001b[39m=\u001b[39m PauliOperator([\u001b[39m1\u001b[39;49m] )\n",
      "\u001b[0;31mTypeError\u001b[0m: __init__(): incompatible constructor arguments. The following argument types are supported:\n    1. qulacs_core.PauliOperator(coef: complex)\n    2. qulacs_core.PauliOperator(pauli_string: str, coef: complex)\n\nInvoked with: [1]"
     ]
    }
   ],
   "source": [
    "op = PauliOperator([1] )"
   ]
  },
  {
   "cell_type": "code",
   "execution_count": 19,
   "metadata": {},
   "outputs": [],
   "source": [
    "op.add_single_Pauli(3,1)"
   ]
  },
  {
   "cell_type": "code",
   "execution_count": 21,
   "metadata": {},
   "outputs": [
    {
     "data": {
      "text/plain": [
       "('X 3', [1])"
      ]
     },
     "execution_count": 21,
     "metadata": {},
     "output_type": "execute_result"
    }
   ],
   "source": [
    "op.get_pauli_string(), op.get_pauli_id_list()"
   ]
  },
  {
   "cell_type": "code",
   "execution_count": 25,
   "metadata": {},
   "outputs": [],
   "source": [
    "opr = Pauli([1,2,3,],[1,1,1])"
   ]
  },
  {
   "cell_type": "code",
   "execution_count": 30,
   "metadata": {},
   "outputs": [],
   "source": [
    "coef = 2.0\n",
    "Pauli_string = \"X 0 X 1 Y 2 Z 4\"\n",
    "pauli = PauliOperator ( Pauli_string , coef )\n"
   ]
  },
  {
   "cell_type": "code",
   "execution_count": 32,
   "metadata": {},
   "outputs": [
    {
     "data": {
      "text/plain": [
       "'X 0 X 1 Y 2 Z 4'"
      ]
     },
     "execution_count": 32,
     "metadata": {},
     "output_type": "execute_result"
    }
   ],
   "source": [
    "pauli.get_pauli_string()"
   ]
  },
  {
   "cell_type": "code",
   "execution_count": null,
   "metadata": {},
   "outputs": [],
   "source": [
    "def create_hamiltonian(data: IsingEnergyFunction):\n",
    "\n",
    "    J = data.get_J; h = data.get_h\n",
    "    "
   ]
  }
 ],
 "metadata": {
  "kernelspec": {
   "display_name": "base",
   "language": "python",
   "name": "python3"
  },
  "language_info": {
   "codemirror_mode": {
    "name": "ipython",
    "version": 3
   },
   "file_extension": ".py",
   "mimetype": "text/x-python",
   "name": "python",
   "nbconvert_exporter": "python",
   "pygments_lexer": "ipython3",
   "version": "3.10.6"
  },
  "orig_nbformat": 4
 },
 "nbformat": 4,
 "nbformat_minor": 2
}
