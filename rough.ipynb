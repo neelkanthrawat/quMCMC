{
 "cells": [
  {
   "cell_type": "code",
   "execution_count": 1,
   "metadata": {},
   "outputs": [],
   "source": [
    "import numpy as np\n",
    "from collections import Counter"
   ]
  },
  {
   "cell_type": "code",
   "execution_count": 2,
   "metadata": {},
   "outputs": [],
   "source": [
    "from qulacs import QuantumState, QuantumCircuit\n",
    "from qulacsvis import circuit_drawer\n",
    "from scipy.linalg import expm\n",
    "from qulacs.gate import DenseMatrix\n",
    "from qulacs.gate import X, Y, Z  , Pauli, Identity, merge\n",
    "from itertools import combinations\n",
    "import random\n",
    "# to simulate time evolution\n",
    "from qulacs import Observable, PauliOperator, StateVector\n",
    "# to exponentiate\n",
    "from scipy.linalg import expm\n",
    "\n",
    "#\n",
    "from qulacs.gate import Pauli\n",
    "from qumcmc.energy_models import IsingEnergyFunction"
   ]
  },
  {
   "cell_type": "code",
   "execution_count": 3,
   "metadata": {},
   "outputs": [],
   "source": [
    "# function for U=exp(-iHt) (a unitary evolution)\n",
    "# H =(1-gamma)*alpha*H_{prob} + gamma * H_mix\n",
    "def time_evol_for_mcmc(num_spins:int, H_prob:np.array, H_mix:np.array, \n",
    "                        gamma:float, alpha:float,q_state:QuantumState, time_evol:float):\n",
    "    target_list=list(range(num_spins-1,0,-1))\n",
    "    H=(1-gamma)*alpha*H_prob + gamma * H_mix\n",
    "    unitary_mat= np.round(np.expm(-1j*H*time_evol),decimals=6)\n",
    "    unitary_time_evol_gate=DenseMatrix(target_list,matrix=unitary_mat)\n",
    "    # update the quantum state\n",
    "    unitary_time_evol_gate.update_quantum_state(q_state)\n",
    "    return q_state"
   ]
  },
  {
   "cell_type": "code",
   "execution_count": null,
   "metadata": {},
   "outputs": [],
   "source": []
  },
  {
   "cell_type": "code",
   "execution_count": 4,
   "metadata": {},
   "outputs": [
    {
     "data": {
      "text/plain": [
       "[3, 3, 3, 3, 3, 3, 3, 3, 3, 3]"
      ]
     },
     "execution_count": 4,
     "metadata": {},
     "output_type": "execute_result"
    }
   ],
   "source": [
    "a=QuantumState(2)\n",
    "a.set_computational_basis(0b11)# i might be required to change this in the original code\n",
    "a.sampling(sampling_count=10)"
   ]
  },
  {
   "cell_type": "code",
   "execution_count": 5,
   "metadata": {},
   "outputs": [
    {
     "name": "stdout",
     "output_type": "stream",
     "text": [
      " *** Quantum State ***\n",
      " * Qubit Count : 2\n",
      " * Dimension   : 4\n",
      " * State vector : \n",
      "(0,0)\n",
      "(0,0)\n",
      "(1,0)\n",
      "(0,0)\n",
      "\n"
     ]
    },
    {
     "data": {
      "text/plain": [
       "[2, 2, 2, 2, 2, 2, 2, 2, 2, 2]"
      ]
     },
     "execution_count": 5,
     "metadata": {},
     "output_type": "execute_result"
    }
   ],
   "source": [
    "a.set_computational_basis(int('10',2))\n",
    "print(a)\n",
    "a.sampling(10)"
   ]
  },
  {
   "cell_type": "code",
   "execution_count": 33,
   "metadata": {},
   "outputs": [],
   "source": []
  },
  {
   "cell_type": "code",
   "execution_count": 29,
   "metadata": {},
   "outputs": [
    {
     "ename": "TypeError",
     "evalue": "__init__(): incompatible constructor arguments. The following argument types are supported:\n    1. qulacs_core.PauliOperator(coef: complex)\n    2. qulacs_core.PauliOperator(pauli_string: str, coef: complex)\n\nInvoked with: [1]",
     "output_type": "error",
     "traceback": [
      "\u001b[0;31m---------------------------------------------------------------------------\u001b[0m",
      "\u001b[0;31mTypeError\u001b[0m                                 Traceback (most recent call last)",
      "Cell \u001b[0;32mIn[29], line 1\u001b[0m\n\u001b[0;32m----> 1\u001b[0m op \u001b[39m=\u001b[39m PauliOperator([\u001b[39m1\u001b[39;49m] )\n",
      "\u001b[0;31mTypeError\u001b[0m: __init__(): incompatible constructor arguments. The following argument types are supported:\n    1. qulacs_core.PauliOperator(coef: complex)\n    2. qulacs_core.PauliOperator(pauli_string: str, coef: complex)\n\nInvoked with: [1]"
     ]
    }
   ],
   "source": [
    "op = PauliOperator([1] )"
   ]
  },
  {
   "cell_type": "code",
   "execution_count": 19,
   "metadata": {},
   "outputs": [],
   "source": [
    "op.add_single_Pauli(3,1)"
   ]
  },
  {
   "cell_type": "code",
   "execution_count": 21,
   "metadata": {},
   "outputs": [
    {
     "data": {
      "text/plain": [
       "('X 3', [1])"
      ]
     },
     "execution_count": 21,
     "metadata": {},
     "output_type": "execute_result"
    }
   ],
   "source": [
    "op.get_pauli_string(), op.get_pauli_id_list()"
   ]
  },
  {
   "cell_type": "code",
   "execution_count": 25,
   "metadata": {},
   "outputs": [],
   "source": [
    "opr = Pauli([1,2,3,],[1,1,1])"
   ]
  },
  {
   "cell_type": "code",
   "execution_count": 30,
   "metadata": {},
   "outputs": [],
   "source": [
    "coef = 2.0\n",
    "Pauli_string = \"X 0 X 1 Y 2 Z 4\"\n",
    "pauli = PauliOperator ( Pauli_string , coef )\n"
   ]
  },
  {
   "cell_type": "code",
   "execution_count": 32,
   "metadata": {},
   "outputs": [
    {
     "data": {
      "text/plain": [
       "'X 0 X 1 Y 2 Z 4'"
      ]
     },
     "execution_count": 32,
     "metadata": {},
     "output_type": "execute_result"
    }
   ],
   "source": [
    "pauli.get_pauli_string()"
   ]
  },
  {
   "cell_type": "code",
   "execution_count": null,
   "metadata": {},
   "outputs": [],
   "source": [
    "def create_hamiltonian(data: IsingEnergyFunction):\n",
    "\n",
    "    J = data.get_J; h = data.get_h\n",
    "    "
   ]
  },
  {
   "attachments": {},
   "cell_type": "markdown",
   "metadata": {},
   "source": [
    "### creating mixer hamiltonian"
   ]
  },
  {
   "cell_type": "code",
   "execution_count": 3,
   "metadata": {},
   "outputs": [
    {
     "data": {
      "text/plain": [
       "'X 0 X 1 X 2 '"
      ]
     },
     "execution_count": 3,
     "metadata": {},
     "output_type": "execute_result"
    }
   ],
   "source": [
    "txt= (\"X %d \"*3) % tuple(range(0,3))\n",
    "txt"
   ]
  },
  {
   "cell_type": "code",
   "execution_count": 5,
   "metadata": {},
   "outputs": [],
   "source": [
    "### creating the operator for H_mix:\n",
    "# H_mix= sum(X_{i}X_{j}...X_{k})\n",
    "def create_X_mixer_hamiltonian(num_spins:int,weight_individual_pauli:int):\n",
    "    mixer_hamiltonian=Observable(num_spins)\n",
    "    print(\"type_mixer_hamiltonian:\",type(mixer_hamiltonian))\n",
    "    num_sumterms=num_spins-weight_individual_pauli+1\n",
    "    list_individual_terms=[(\"X %d \"*weight_individual_pauli) % tuple(range(i,i+weight_individual_pauli)) for i in range(0,num_sumterms)]\n",
    "    print(\"list_individual_terms:\")\n",
    "    print(list_individual_terms)\n",
    "    for i in range(0,num_sumterms):\n",
    "        mixer_hamiltonian.add_operator(coef=1,string=list_individual_terms[i])\n",
    "    return mixer_hamiltonian"
   ]
  },
  {
   "cell_type": "code",
   "execution_count": 8,
   "metadata": {},
   "outputs": [
    {
     "name": "stdout",
     "output_type": "stream",
     "text": [
      "type_mixer_hamiltonian: <class 'qulacs_core.Observable'>\n",
      "list_individual_terms:\n",
      "['X 0 X 1 ', 'X 1 X 2 ']\n"
     ]
    },
    {
     "data": {
      "text/plain": [
       "array([[0.+0.j, 0.+0.j, 0.+0.j, 1.+0.j, 0.+0.j, 0.+0.j, 1.+0.j, 0.+0.j],\n",
       "       [0.+0.j, 0.+0.j, 1.+0.j, 0.+0.j, 0.+0.j, 0.+0.j, 0.+0.j, 1.+0.j],\n",
       "       [0.+0.j, 1.+0.j, 0.+0.j, 0.+0.j, 1.+0.j, 0.+0.j, 0.+0.j, 0.+0.j],\n",
       "       [1.+0.j, 0.+0.j, 0.+0.j, 0.+0.j, 0.+0.j, 1.+0.j, 0.+0.j, 0.+0.j],\n",
       "       [0.+0.j, 0.+0.j, 1.+0.j, 0.+0.j, 0.+0.j, 0.+0.j, 0.+0.j, 1.+0.j],\n",
       "       [0.+0.j, 0.+0.j, 0.+0.j, 1.+0.j, 0.+0.j, 0.+0.j, 1.+0.j, 0.+0.j],\n",
       "       [1.+0.j, 0.+0.j, 0.+0.j, 0.+0.j, 0.+0.j, 1.+0.j, 0.+0.j, 0.+0.j],\n",
       "       [0.+0.j, 1.+0.j, 0.+0.j, 0.+0.j, 1.+0.j, 0.+0.j, 0.+0.j, 0.+0.j]])"
      ]
     },
     "execution_count": 8,
     "metadata": {},
     "output_type": "execute_result"
    }
   ],
   "source": [
    "check_mix=create_X_mixer_hamiltonian(3,2)\n",
    "matrix_mixer=check_mix.get_matrix().toarray()\n",
    "matrix_mixer"
   ]
  },
  {
   "cell_type": "code",
   "execution_count": 4,
   "metadata": {},
   "outputs": [
    {
     "name": "stdout",
     "output_type": "stream",
     "text": [
      "type_mixer_hamiltonian: <class 'qulacs_core.Observable'>\n",
      "list_individual_terms:\n",
      "['X 0 X 1 ', 'X 1 X 2 ']\n",
      "type: <class 'scipy.sparse.csr.csr_matrix'>\n",
      "matrix mixer:\n",
      "[[0.+0.j 0.+0.j 0.+0.j 1.+0.j 0.+0.j 0.+0.j 1.+0.j 0.+0.j]\n",
      " [0.+0.j 0.+0.j 1.+0.j 0.+0.j 0.+0.j 0.+0.j 0.+0.j 1.+0.j]\n",
      " [0.+0.j 1.+0.j 0.+0.j 0.+0.j 1.+0.j 0.+0.j 0.+0.j 0.+0.j]\n",
      " [1.+0.j 0.+0.j 0.+0.j 0.+0.j 0.+0.j 1.+0.j 0.+0.j 0.+0.j]\n",
      " [0.+0.j 0.+0.j 1.+0.j 0.+0.j 0.+0.j 0.+0.j 0.+0.j 1.+0.j]\n",
      " [0.+0.j 0.+0.j 0.+0.j 1.+0.j 0.+0.j 0.+0.j 1.+0.j 0.+0.j]\n",
      " [1.+0.j 0.+0.j 0.+0.j 0.+0.j 0.+0.j 1.+0.j 0.+0.j 0.+0.j]\n",
      " [0.+0.j 1.+0.j 0.+0.j 0.+0.j 1.+0.j 0.+0.j 0.+0.j 0.+0.j]]\n"
     ]
    }
   ],
   "source": [
    "check_mix=create_X_mixer_hamiltonian(3,2)\n",
    "print(\"type:\",type(check_mix.get_matrix()))\n",
    "matrix_mixer=check_mix.get_matrix().toarray()\n",
    "print(\"matrix mixer:\")\n",
    "print(matrix_mixer)"
   ]
  },
  {
   "cell_type": "code",
   "execution_count": 13,
   "metadata": {},
   "outputs": [
    {
     "data": {
      "text/plain": [
       "array([[0.+0.j , 0.+0.j , 0.-0.5j, ..., 0.+0.j , 0.+0.j , 0.+0.j ],\n",
       "       [0.+0.j , 0.+0.j , 0.+0.j , ..., 0.+0.j , 0.+0.j , 0.+0.j ],\n",
       "       [0.+0.5j, 0.+0.j , 0.+0.j , ..., 0.+0.j , 0.+0.j , 0.+0.j ],\n",
       "       ...,\n",
       "       [0.+0.j , 0.+0.j , 0.+0.j , ..., 0.+0.j , 0.+0.j , 0.+0.5j],\n",
       "       [0.+0.j , 0.+0.j , 0.+0.j , ..., 0.+0.j , 0.+0.j , 0.+0.j ],\n",
       "       [0.+0.j , 0.+0.j , 0.+0.j , ..., 0.-0.5j, 0.+0.j , 0.+0.j ]])"
      ]
     },
     "execution_count": 13,
     "metadata": {},
     "output_type": "execute_result"
    }
   ],
   "source": [
    "coef = 2.0\n",
    "Pauli_string = \"X 0 X 1 Y 2 Z 4\"\n",
    "pauli = PauliOperator( Pauli_string , coef )\n",
    "\n",
    "# Create an observable acting on n qubits\n",
    "n = 5\n",
    "observable = Observable( n )\n",
    "# Add a Pauli operator to the observable\n",
    "observable.add_operator( pauli )\n",
    "# or directly add it with coef and str\n",
    "observable.add_operator(0.5 , \"Y 1 Z 4\")\n",
    "observable.get_matrix().A"
   ]
  },
  {
   "cell_type": "code",
   "execution_count": null,
   "metadata": {},
   "outputs": [],
   "source": []
  }
 ],
 "metadata": {
  "kernelspec": {
   "display_name": "base",
   "language": "python",
   "name": "python3"
  },
  "language_info": {
   "codemirror_mode": {
    "name": "ipython",
    "version": 3
   },
   "file_extension": ".py",
   "mimetype": "text/x-python",
   "name": "python",
   "nbconvert_exporter": "python",
   "pygments_lexer": "ipython3",
   "version": "3.8.8"
  },
  "orig_nbformat": 4
 },
 "nbformat": 4,
 "nbformat_minor": 2
}
